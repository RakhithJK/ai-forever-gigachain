{
 "cells": [
  {
   "attachments": {},
   "cell_type": "markdown",
   "id": "9e9b7651",
   "metadata": {},
   "source": [
    "# How to use a SmartLLMChain\n",
    "\n",
    "A SmartLLMChain is a form of self-critique chain that can help you if have particularly complex questions to answer. Instead of doing a single LLM pass, it instead performs these 3 steps:\n",
    "1. Ideation: Pass the user prompt n times through the LLM to get n output proposals (called \"ideas\"), where n is a parameter you can set \n",
    "2. Critique: The LLM critiques all ideas to find possible flaws and picks the best one \n",
    "3. Resolve: The LLM tries to improve upon the best idea (as chosen in the critique step) and outputs it. This is then the final output.\n",
    "\n",
    "SmartLLMChains are based on the SmartGPT workflow proposed in https://youtu.be/wVzuvf9D9BU.\n",
    "\n",
    "Note that SmartLLMChains\n",
    "- use more LLM passes (ie n+2 instead of just 1)\n",
    "- only work then the underlying LLM has the capability for reflection, which smaller models often don't\n",
    "- only work with underlying models that return exactly 1 output, not multiple\n",
    "\n",
    "This notebook demonstrates how to use a SmartLLMChain."
   ]
  },
  {
   "attachments": {},
   "cell_type": "markdown",
   "id": "714dede0",
   "metadata": {},
   "source": [
    "##### Same LLM for all steps"
   ]
  },
  {
   "cell_type": "code",
<<<<<<< HEAD
   "execution_count": 4,
=======
   "execution_count": 1,
   "id": "d3f7fb22",
   "metadata": {},
   "outputs": [],
   "source": [
    "import os\n",
    "\n",
    "os.environ[\"OPENAI_API_KEY\"] = \"...\""
   ]
  },
  {
   "cell_type": "code",
   "execution_count": 2,
>>>>>>> langchan/master
   "id": "10e5ece6",
   "metadata": {},
   "outputs": [],
   "source": [
    "from langchain.prompts import PromptTemplate\n",
<<<<<<< HEAD
    "from langchain_community.chat_models.gigachat import GigaChat\n",
    "from langchain_experimental.smart_llm import SmartLLMChain"
=======
    "from langchain_experimental.smart_llm import SmartLLMChain\n",
    "from langchain_openai import ChatOpenAI"
>>>>>>> langchan/master
   ]
  },
  {
   "attachments": {},
   "cell_type": "markdown",
   "id": "1780da51",
   "metadata": {},
   "source": [
<<<<<<< HEAD
    "В качестве примера взята задача из оригинальной публикации SmartGPT. Это пример из оригинального видео: (https://youtu.be/wVzuvf9D9BU?t=384). Замечено, что не смотря на то, что задача очень простая, LLM крайне плохо справляются с решением подобных задач.\n",
    "\n",
    "Как мы видим, большая часть изначальных решений неверная, но за счет решений и цепочки рассуждений, модели в итоге удаётся прийти к правильному ответу."
=======
    "As example question, we will use \"I have a 12 liter jug and a 6 liter jug. I want to measure 6 liters. How do I do it?\". This is an example from the original SmartGPT video (https://youtu.be/wVzuvf9D9BU?t=384). While this seems like a very easy question, LLMs struggle do these kinds of questions that involve numbers and physical reasoning.\n",
    "\n",
    "As we will see, all 3 initial ideas are completely wrong - even though we're using GPT4! Only when using self-reflection do we get a correct answer. "
>>>>>>> langchan/master
   ]
  },
  {
   "cell_type": "code",
<<<<<<< HEAD
   "execution_count": 42,
=======
   "execution_count": null,
>>>>>>> langchan/master
   "id": "054af6b1",
   "metadata": {},
   "outputs": [],
   "source": [
<<<<<<< HEAD
    "hard_question = \"\"\"У меня есть пустые канистры на 6 и 12 литров и кран с водой.\n",
    "Мне нужно, чтобы в большой канистре оказалось 6 литров жидкости.\n",
    "Как это сделать?\"\"\""
=======
    "hard_question = \"I have a 12 liter jug and a 6 liter jug. I want to measure 6 liters. How do I do it?\""
>>>>>>> langchan/master
   ]
  },
  {
   "attachments": {},
   "cell_type": "markdown",
   "id": "8049cecd",
   "metadata": {},
   "source": [
<<<<<<< HEAD
    "So, we first create an LLM"
=======
    "So, we first create an LLM and prompt template"
>>>>>>> langchan/master
   ]
  },
  {
   "cell_type": "code",
<<<<<<< HEAD
   "execution_count": 27,
=======
   "execution_count": 3,
>>>>>>> langchan/master
   "id": "811ea8e1",
   "metadata": {},
   "outputs": [],
   "source": [
<<<<<<< HEAD
    "llm = GigaChat(credentials=\"...\")"
=======
    "prompt = PromptTemplate.from_template(hard_question)\n",
    "llm = ChatOpenAI(temperature=0, model_name=\"gpt-4\")"
>>>>>>> langchan/master
   ]
  },
  {
   "attachments": {},
   "cell_type": "markdown",
   "id": "50b602e4",
   "metadata": {},
   "source": [
    "Now we can create a SmartLLMChain"
   ]
  },
  {
   "cell_type": "code",
<<<<<<< HEAD
   "execution_count": 43,
=======
   "execution_count": 4,
>>>>>>> langchan/master
   "id": "8cd49199",
   "metadata": {},
   "outputs": [],
   "source": [
<<<<<<< HEAD
    "prompt = PromptTemplate.from_template(hard_question)\n",
    "chain = SmartLLMChain(llm=llm, prompt=prompt, n_ideas=5, verbose=True)"
=======
    "chain = SmartLLMChain(llm=llm, prompt=prompt, n_ideas=3, verbose=True)"
>>>>>>> langchan/master
   ]
  },
  {
   "attachments": {},
   "cell_type": "markdown",
   "id": "6a72f276",
   "metadata": {},
   "source": [
    "Now we can use the SmartLLM as a drop-in replacement for our LLM. E.g.:"
   ]
  },
  {
   "cell_type": "code",
<<<<<<< HEAD
   "execution_count": 44,
=======
   "execution_count": 5,
>>>>>>> langchan/master
   "id": "074e5e75",
   "metadata": {},
   "outputs": [
    {
     "name": "stdout",
     "output_type": "stream",
     "text": [
      "\n",
      "\n",
      "\u001b[1m> Entering new SmartLLMChain chain...\u001b[0m\n",
      "Prompt after formatting:\n",
<<<<<<< HEAD
      "\u001b[32;1m\u001b[1;3mУ меня есть пустые канистры на 6 и 12 литров и кран с водой. Мне нужно, чтобы в большой канистре оказалось 6 литров жидкости. Как это сделать?\u001b[0m\n",
      "Idea 1:\n",
      "\u001b[36;1m\u001b[1;3mХорошо, давайте разберемся. У нас есть две канистры - одна на 6 литров, а другая на 12 литров. Наша цель - заполнить большую канистру на 12 литров 6 литрами жидкости. \n",
      "\n",
      "Шаг 1: Сначала мы должны заполнить большую канистру на 12 литров водой. Для этого мы открываем кран и начинаем наливать воду в канистру, пока она не заполнится до 12 литров.\n",
      "\n",
      "Шаг 2: Затем мы берем пустую канистру на 6 литров и начинаем переливать воду из большой канистры в маленькую. Мы продолжаем это делать, пока маленькая канистра не заполнится до 6 литров.\n",
      "\n",
      "Шаг 3: После того, как маленькая канистра заполнится до 6 литров, мы можем закрыть кран и оставить большую канистру пустой.\n",
      "\n",
      "Таким образом, мы достигли нашей цели - заполнили большую канистру на 12 литров 6 литрами жидкости.\u001b[0m\n",
      "Idea 2:\n",
      "\u001b[36;1m\u001b[1;3mДля начала, давайте определимся с тем, сколько воды нужно налить в маленькую канистру, чтобы в большой канистре оказалось 6 литров жидкости. \n",
      "\n",
      "Мы знаем, что общий объем двух канистр составляет 6 + 12 = 18 литров. \n",
      "\n",
      "Теперь нам нужно определить, сколько литров воды нужно налить в маленькую канистру, чтобы в большой канистре осталось 6 литров. \n",
      "\n",
      "Мы можем сделать это, вычитая объем большой канистры из общего объема двух канистр: 18 - 12 = 6 литров.\n",
      "\n",
      "Таким образом, чтобы в большой канистре оказалось 6 литров жидкости, нужно налить 6 литров воды в маленькую канистру.\u001b[0m\n",
      "Idea 3:\n",
      "\u001b[36;1m\u001b[1;3mХорошо, давайте разберемся. У нас есть две канистры - одна на 6 литров, а другая на 12 литров. Наша цель - заполнить большую канистру на 12 литров до 6 литров. \n",
      "\n",
      "Шаг 1: Начнем с пустой канистры на 12 литров.\n",
      "\n",
      "Шаг 2: Наполним канистру на 6 литров водой.\n",
      "\n",
      "Шаг 3: Перельем воду из канистры на 6 литров в канистру на 12 литров.\n",
      "\n",
      "Шаг 4: Повторим шаг 3, пока канистра на 12 литров не будет заполнена до 6 литров.\n",
      "\n",
      "Таким образом, мы достигли нашей цели - заполнили большую канистру на 12 литров до 6 литров.\u001b[0m\n",
      "Idea 4:\n",
      "\u001b[36;1m\u001b[1;3mДля начала, давайте определимся с тем, сколько воды нужно налить в маленькую канистру, чтобы в большой канистре оказалось 6 литров жидкости. \n",
      "\n",
      "Если у нас есть пустая большая канистра на 12 литров и пустая маленькая канистра на 6 литров, то мы можем использовать следующую формулу:\n",
      "\n",
      "Объем большой канистры + Объем маленькой канистры = Общий объем жидкости\n",
      "\n",
      "В данном случае, Общий объем жидкости равен 6 литрам.\n",
      "\n",
      "Теперь, чтобы получить 6 литров жидкости в большой канистре, мы должны налить в нее 6 литров воды. \n",
      "\n",
      "Однако, если мы нальем 6 литров воды в большую канистру, то в маленькой канистре останется 0 литров воды.\n",
      "\n",
      "Поэтому, чтобы в большой канистре оказалось 6 литров жидкости, нам нужно налить в маленькую канистру 6 литров воды, а затем перелить эту воду в большую канистру.\n",
      "\n",
      "Таким образом, чтобы в большой канистре оказалось 6 литров жидкости, нужно налить 6 литров воды в маленькую канистру, а затем перелить эту воду в большую канистру.\u001b[0m\n",
      "Idea 5:\n",
      "\u001b[36;1m\u001b[1;3mХорошо, давайте разберемся. У нас есть две канистры - одна на 6 литров, а другая на 12 литров. Наша цель - заполнить большую канистру на 12 литров до 6 литров. \n",
      "\n",
      "Первый шаг - мы должны заполнить маленькую канистру на 6 литров. Для этого мы можем использовать кран с водой. Просто откройте кран и наполните маленькую канистру до 6 литров.\n",
      "\n",
      "Второй шаг - мы должны перелить воду из маленькой канистры в большую канистру. Для этого мы можем использовать воронку или просто наклонить маленькую канистру и вылить воду в большую канистру.\n",
      "\n",
      "Третий шаг - мы должны убедиться, что большая канистра заполнена до 6 литров. Для этого мы можем использовать мерный стакан или просто проверить уровень воды в канистре.\n",
      "\n",
      "Таким образом, чтобы заполнить большую канистру на 12 литров до 6 литров, мы должны сначала заполнить маленькую канистру на 6 литров, а затем перелить воду из маленькой канистры в большую канистру до достижения нужного объема.\u001b[0m\n",
      "Критика:\n",
      "\u001b[33;1m\u001b[1;3mВариант 1:\n",
      "\n",
      "Недостатки:\n",
      "1. Не указано, как именно нужно заполнить большую канистру на 12 литров до 6 литров.\n",
      "2. Не учтено, что маленькая канистра на 6 литров может быть уже заполнена водой.\n",
      "\n",
      "Логические ошибки:\n",
      "1. Не указано, что нужно перелить воду из маленькой канистры в большую канистру.\n",
      "2. Не учтено, что общий объем двух канистр составляет 18 литров, а не 12 литров.\n",
      "\n",
      "Вариант 2:\n",
      "\n",
      "Недостатки:\n",
      "1. Не указано, как именно нужно заполнить большую канистру на 12 литров до 6 литров.\n",
      "2. Не учтено, что маленькая канистра на 6 литров может быть уже заполнена водой.\n",
      "\n",
      "Логические ошибки:\n",
      "1. Не указано, что нужно перелить воду из маленькой канистры в большую канистру.\n",
      "2. Не учтено, что общий объем двух канистр составляет 18 литров, а не 12 литров.\n",
      "\n",
      "Вариант 3:\n",
      "\n",
      "Недостатки:\n",
      "1. Не указано, как именно нужно заполнить большую канистру на 12 литров до 6 литров.\n",
      "2. Не учтено, что маленькая канистра на 6 литров может быть уже заполнена водой.\n",
      "\n",
      "Логические ошибки:\n",
      "1. Не указано, что нужно перелить воду из маленькой канистры в большую канистру.\n",
      "2. Не учтено, что общий объем двух канистр составляет 18 литров, а не 12 литров.\n",
      "\n",
      "Вариант 4:\n",
      "\n",
      "Недостатки:\n",
      "1. Не указано, как именно нужно заполнить большую канистру на 12 литров до 6 литров.\n",
      "2. Не учтено, что маленькая канистра на 6 литров может быть уже заполнена водой.\n",
      "\n",
      "Логические ошибки:\n",
      "1. Не указано, что нужно перелить воду из маленькой канистры в большую канистру.\n",
      "2. Не учтено, что общий объем двух канистр составляет 18 литров, а не 12 литров.\n",
      "\n",
      "Вариант 5:\n",
      "\n",
      "Недостатки:\n",
      "1. Не указано, как именно нужно заполнить большую канистру на 12 литров до 6 литров.\n",
      "2. Не учтено, что маленькая канистра на 6 литров может быть уже заполнена водой.\n",
      "\n",
      "Логические ошибки:\n",
      "1. Не указано, что нужно перелить воду из маленькой канистры в большую канистру.\n",
      "2. Не учтено, что общий объем двух канистр составляет 18 литров, а не 12 литров.\u001b[0m\n",
      "Решение:\n",
      "\u001b[32;1m\u001b[1;3mОтвет:\n",
      "\n",
      "Исследователь считает, что лучшим вариантом ответа является вариант 5. Он предлагает заполнить маленькую канистру на 6 литров водой, а затем перелить эту воду в большую канистру на 12 литров. Таким образом, в большой канистре окажется 6 литров жидкости.\n",
      "\n",
      "Улучшенный ответ:\n",
      "\n",
      "Для того чтобы заполнить большую канистру на 12 литров до 6 литров, нужно сначала заполнить маленькую канистру на 6 литров водой. Затем, используя воронку или другой подходящий инструмент, перелить воду из маленькой канистры в большую канистру до достижения нужного объема.\n",
      "\n",
      "Полный ответ:\n",
      "\n",
      "Для того чтобы заполнить большую канистру на 12 литров до 6 литров, нужно сначала заполнить маленькую канистру на 6 литров водой. Затем, используя воронку или другой подходящий инструмент, перелить воду из маленькой канистры в большую канистру до достижения нужного объема.\u001b[0m\n",
=======
      "\u001b[32;1m\u001b[1;3mI have a 12 liter jug and a 6 liter jug. I want to measure 6 liters. How do I do it?\u001b[0m\n",
      "Idea 1:\n",
      "\u001b[36;1m\u001b[1;3m1. Fill the 6-liter jug completely.\n",
      "2. Pour the water from the 6-liter jug into the 12-liter jug.\n",
      "3. Fill the 6-liter jug again.\n",
      "4. Carefully pour the water from the 6-liter jug into the 12-liter jug until the 12-liter jug is full.\n",
      "5. The amount of water left in the 6-liter jug will be exactly 6 liters.\u001b[0m\n",
      "Idea 2:\n",
      "\u001b[36;1m\u001b[1;3m1. Fill the 6-liter jug completely.\n",
      "2. Pour the water from the 6-liter jug into the 12-liter jug.\n",
      "3. Fill the 6-liter jug again.\n",
      "4. Carefully pour the water from the 6-liter jug into the 12-liter jug until the 12-liter jug is full.\n",
      "5. Since the 12-liter jug is now full, there will be 2 liters of water left in the 6-liter jug.\n",
      "6. Empty the 12-liter jug.\n",
      "7. Pour the 2 liters of water from the 6-liter jug into the 12-liter jug.\n",
      "8. Fill the 6-liter jug completely again.\n",
      "9. Pour the water from the 6-liter jug into the 12-liter jug, which already has 2 liters in it.\n",
      "10. Now, the 12-liter jug will have exactly 6 liters of water (2 liters from before + 4 liters from the 6-liter jug).\u001b[0m\n",
      "Idea 3:\n",
      "\u001b[36;1m\u001b[1;3m1. Fill the 6-liter jug completely.\n",
      "2. Pour the water from the 6-liter jug into the 12-liter jug.\n",
      "3. Fill the 6-liter jug again.\n",
      "4. Carefully pour the water from the 6-liter jug into the 12-liter jug until the 12-liter jug is full.\n",
      "5. The amount of water left in the 6-liter jug will be exactly 6 liters.\u001b[0m\n",
      "Critique:\n",
      "\u001b[33;1m\u001b[1;3mIdea 1:\n",
      "1. Fill the 6-liter jug completely. (No flaw)\n",
      "2. Pour the water from the 6-liter jug into the 12-liter jug. (No flaw)\n",
      "3. Fill the 6-liter jug again. (No flaw)\n",
      "4. Carefully pour the water from the 6-liter jug into the 12-liter jug until the 12-liter jug is full. (Flaw: The 12-liter jug will never be full in this step, as it can hold 12 liters and we are only pouring 6 liters into it.)\n",
      "5. The amount of water left in the 6-liter jug will be exactly 6 liters. (Flaw: This statement is incorrect, as there will be no water left in the 6-liter jug after pouring it into the 12-liter jug.)\n",
      "\n",
      "Idea 2:\n",
      "1. Fill the 6-liter jug completely. (No flaw)\n",
      "2. Pour the water from the 6-liter jug into the 12-liter jug. (No flaw)\n",
      "3. Fill the 6-liter jug again. (No flaw)\n",
      "4. Carefully pour the water from the 6-liter jug into the 12-liter jug until the 12-liter jug is full. (Flaw: The 12-liter jug will never be full in this step, as it can hold 12 liters and we are only pouring 6 liters into it.)\n",
      "5. Since the 12-liter jug is now full, there will be 2 liters of water left in the 6-liter jug. (Flaw: This statement is incorrect, as the 12-liter jug will not be full and there will be no water left in the 6-liter jug.)\n",
      "6. Empty the 12-liter jug. (No flaw)\n",
      "7. Pour the 2 liters of water from the 6-liter jug into the 12-liter jug. (Flaw: This step is based on the incorrect assumption that there are 2 liters of water left in the 6-liter jug.)\n",
      "8. Fill the 6-liter jug completely again. (No flaw)\n",
      "9. Pour the water from the 6-liter jug into the 12-liter jug, which already has 2 liters in it. (Flaw: This step is based on the incorrect assumption that there are 2 liters of water in the 12-liter jug.)\n",
      "10. Now, the 12-liter jug will have exactly 6 liters of water (2 liters from before + 4 liters from the 6-liter jug). (Flaw: This conclusion is based on the incorrect assumptions made in the previous steps.)\n",
      "\n",
      "Idea 3:\n",
      "1. Fill the 6-liter jug completely. (No flaw)\n",
      "2. Pour the water from the 6-liter jug into the 12-liter jug. (No flaw)\n",
      "3. Fill the 6-liter jug again. (No flaw)\n",
      "4. Carefully pour the water from the 6-liter jug into the 12-liter jug until the 12-liter jug is full. (Flaw: The 12-liter jug will never be full in this step, as it can hold 12 liters and we are only pouring 6 liters into it.)\n",
      "5. The amount of water left in the 6-liter jug will be exactly 6 liters. (Flaw: This statement is incorrect, as there will be no water left in the 6-liter jug after pouring it into the 12-liter jug.)\u001b[0m\n",
      "Resolution:\n",
      "\u001b[32;1m\u001b[1;3m1. Fill the 12-liter jug completely.\n",
      "2. Pour the water from the 12-liter jug into the 6-liter jug until the 6-liter jug is full.\n",
      "3. The amount of water left in the 12-liter jug will be exactly 6 liters.\u001b[0m\n",
>>>>>>> langchan/master
      "\n",
      "\u001b[1m> Finished chain.\u001b[0m\n"
     ]
    },
    {
     "data": {
      "text/plain": [
<<<<<<< HEAD
       "{'resolution': 'Ответ:\\n\\nИсследователь считает, что лучшим вариантом ответа является вариант 5. Он предлагает заполнить маленькую канистру на 6 литров водой, а затем перелить эту воду в большую канистру на 12 литров. Таким образом, в большой канистре окажется 6 литров жидкости.\\n\\nУлучшенный ответ:\\n\\nДля того чтобы заполнить большую канистру на 12 литров до 6 литров, нужно сначала заполнить маленькую канистру на 6 литров водой. Затем, используя воронку или другой подходящий инструмент, перелить воду из маленькой канистры в большую канистру до достижения нужного объема.\\n\\nПолный ответ:\\n\\nДля того чтобы заполнить большую канистру на 12 литров до 6 литров, нужно сначала заполнить маленькую канистру на 6 литров водой. Затем, используя воронку или другой подходящий инструмент, перелить воду из маленькой канистры в большую канистру до достижения нужного объема.'}"
      ]
     },
     "execution_count": 44,
=======
       "'1. Fill the 12-liter jug completely.\\n2. Pour the water from the 12-liter jug into the 6-liter jug until the 6-liter jug is full.\\n3. The amount of water left in the 12-liter jug will be exactly 6 liters.'"
      ]
     },
     "execution_count": 5,
>>>>>>> langchan/master
     "metadata": {},
     "output_type": "execute_result"
    }
   ],
   "source": [
    "chain.invoke({})"
   ]
  },
  {
   "attachments": {},
   "cell_type": "markdown",
   "id": "bbfebea1",
   "metadata": {},
   "source": [
    "##### Different LLM for different steps"
   ]
  },
  {
   "attachments": {},
   "cell_type": "markdown",
   "id": "5be6ec08",
   "metadata": {},
   "source": [
    "You can also use different LLMs for the different steps by passing `ideation_llm`, `critique_llm` and `resolve_llm`. You might want to do this to use a more creative (i.e., high-temperature) model for ideation and a more strict (i.e., low-temperature) model for critique and resolution."
   ]
  },
  {
   "cell_type": "code",
   "execution_count": 8,
   "id": "9c33fa19",
   "metadata": {},
   "outputs": [],
   "source": [
    "chain = SmartLLMChain(\n",
<<<<<<< HEAD
    "    ideation_llm=GigaChat(temperature=0.9, credentials=\"...\"),\n",
    "    llm=GigaChat(\n",
    "        temperature=0, credentials=\"...\"\n",
=======
    "    ideation_llm=ChatOpenAI(temperature=0.9, model_name=\"gpt-4\"),\n",
    "    llm=ChatOpenAI(\n",
    "        temperature=0, model_name=\"gpt-4\"\n",
>>>>>>> langchan/master
    "    ),  # will be used for critique and resolution as no specific llms are given\n",
    "    prompt=prompt,\n",
    "    n_ideas=3,\n",
    "    verbose=True,\n",
    ")"
   ]
  },
  {
   "cell_type": "code",
   "execution_count": null,
   "id": "886c1cc1",
   "metadata": {},
   "outputs": [],
   "source": []
  }
 ],
 "metadata": {
  "kernelspec": {
   "display_name": "Python 3 (ipykernel)",
   "language": "python",
   "name": "python3"
  },
  "language_info": {
   "codemirror_mode": {
    "name": "ipython",
    "version": 3
   },
   "file_extension": ".py",
   "mimetype": "text/x-python",
   "name": "python",
   "nbconvert_exporter": "python",
   "pygments_lexer": "ipython3",
<<<<<<< HEAD
   "version": "3.11.6"
=======
   "version": "3.9.1"
>>>>>>> langchan/master
  }
 },
 "nbformat": 4,
 "nbformat_minor": 5
}
