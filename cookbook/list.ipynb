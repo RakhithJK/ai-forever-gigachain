{
 "cells": [
  {
   "cell_type": "markdown",
   "id": "07311335",
   "metadata": {},
   "source": [
    "# Обработка значений, разделенных запятой\n",
    "\n",
    "В разделе показано как обрабатывать разделенные запятой списки значений с помощью парсера `CommaSeparatedListOutputParser`.\n",
    "\n",
    "Для начала обновите библиотеку и импортируйте необходимые компоненты:"
   ]
  },
  {
   "cell_type": "code",
   "execution_count": null,
   "id": "ac31acd6",
   "metadata": {},
   "outputs": [],
   "source": [
    "pip install -qU gigachain"
   ]
  },
  {
   "cell_type": "code",
   "execution_count": null,
   "id": "77e49a3d",
   "metadata": {},
   "outputs": [],
   "source": [
    "from langchain.output_parsers import CommaSeparatedListOutputParser\n",
    "from langchain.prompts import PromptTemplate\n",
    "from langchain.schema import HumanMessage\n",
    "from langchain_community.chat_models import GigaChat"
   ]
  },
  {
   "cell_type": "markdown",
   "id": "7268a59b",
   "metadata": {},
   "source": [
    "При инициализации объекта GigaChat передайте ему авторизационные данные, которые будут использоваться для обращения к модели:"
   ]
  },
  {
   "cell_type": "code",
   "execution_count": null,
   "id": "e39b4971",
   "metadata": {},
   "outputs": [],
   "source": [
    "model = GigaChat(credentials=\"авторизационные_данные\", verify_ssl_certs=False)"
   ]
  },
  {
   "cell_type": "markdown",
   "id": "a4925ada",
   "metadata": {},
   "source": [
    ":::note\n",
    "\n",
    "Авторизационные данные — строка, полученная в результате кодирования в Base64 клиентского идентификатора (Client ID) и ключа (Client Secret) API. Вы можете использовать готовые данные из личного кабинета или самостоятельно закодировать идентификатор и ключ.\n",
    "\n",
    "Пример строки авторизационных данных:\n",
    "\n",
    "```text\n",
    "MjIzODA0YTktMDU3OC00MTZmLWI4MWYtYzUwNjg3Njk4MzMzOjljMTI2MGQyLTFkNTEtNGRkOS05ZGVhLTBhNjAzZTdjZjQ3Mw==\n",
    "```\n",
    "\n",
    "Идентификатор, ключ и авторизационные данные вы можете получить после создания проекта GigaChat API:\n",
    "\n",
    "* [для физических лиц](https://developers.sber.ru/docs/ru/gigachat/individuals-quickstart#shag-1-sozdayte-proekt-giga-chat-api);\n",
    "* [для ИП и юридических лиц](https://developers.sber.ru/docs/ru/gigachat/legal-quickstart#shag-1-otpravte-zayavku-na-dostup-k-proektu-giga-chat-api).\n",
    "\n",
    ":::"
   ]
  },
  {
   "cell_type": "markdown",
   "id": "ce46f821",
   "metadata": {},
   "source": [
    "Инициализируйте парсер и создайте промпт:"
   ]
  },
  {
   "cell_type": "code",
   "execution_count": 3,
   "id": "ace93488",
   "metadata": {},
   "outputs": [],
   "source": [
    "output_parser = CommaSeparatedListOutputParser()\n",
    "\n",
    "format_instructions = output_parser.get_format_instructions()\n",
    "prompt = PromptTemplate(\n",
    "    template=\"Придумай несколько {subject}, {format_instructions}\",\n",
    "    input_variables=[\"subject\"],\n",
    "    partial_variables={\"format_instructions\": format_instructions},\n",
    ")"
   ]
  },
  {
   "cell_type": "markdown",
   "id": "dd74a3cd",
   "metadata": {},
   "source": [
    "Несколько примеров работы парсера:"
   ]
  },
  {
   "cell_type": "code",
   "execution_count": 5,
   "id": "9240a3ae",
   "metadata": {},
   "outputs": [
    {
     "data": {
      "text/plain": [
       "['Вот несколько кличек для собаки: Рекс',\n",
       " 'Шарик',\n",
       " 'Дружок',\n",
       " 'Белка',\n",
       " 'Тобик',\n",
       " 'Бобик',\n",
       " 'Джуди',\n",
       " 'Лаки',\n",
       " 'Чарли',\n",
       " 'Макс.']"
      ]
     },
     "execution_count": 5,
     "metadata": {},
     "output_type": "execute_result"
    }
   ],
   "source": [
    "output = model([HumanMessage(content=prompt.format(subject=\"кличек для собаки\"))])\n",
    "output_parser.parse(output.content)"
   ]
  },
  {
   "cell_type": "code",
   "execution_count": 6,
   "id": "9174fe3e",
   "metadata": {},
   "outputs": [
    {
     "data": {
      "text/plain": [
       "['\"Императорский бриллиант\"',\n",
       " '\"Роскошь Востока\"',\n",
       " '\"Золотой блеск\"',\n",
       " '\"Платиновый шик\"',\n",
       " '\"Королевский изумруд\"',\n",
       " '\"Бриллиантовый шторм\"',\n",
       " '\"Рубиновый рассвет\"',\n",
       " '\"Сапфировый закат\"',\n",
       " '\"Жемчужина океана\"',\n",
       " '\"Алмазная пыль\".']"
      ]
     },
     "execution_count": 6,
     "metadata": {},
     "output_type": "execute_result"
    }
   ],
   "source": [
    "output = model(\n",
    "    [HumanMessage(content=prompt.format(subject=\"названий для коктейля за $1000\"))]\n",
    ")\n",
    "output_parser.parse(output.content)"
   ]
  }
 ],
 "metadata": {
  "kernelspec": {
   "display_name": "Python 3 (ipykernel)",
   "language": "python",
   "name": "python3"
  },
  "language_info": {
   "codemirror_mode": {
    "name": "ipython",
    "version": 3
   },
   "file_extension": ".py",
   "mimetype": "text/x-python",
   "name": "python",
   "nbconvert_exporter": "python",
   "pygments_lexer": "ipython3",
   "version": "3.9.6"
  }
 },
 "nbformat": 4,
 "nbformat_minor": 5
}
