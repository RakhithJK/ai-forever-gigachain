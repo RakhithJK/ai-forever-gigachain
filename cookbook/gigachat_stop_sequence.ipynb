{
 "cells": [
  {
   "cell_type": "markdown",
   "source": [
    "# Stop-sequence в GigaChat\n",
    "В этом ноутбуке показан пример, работы stop-sequence в GigaChat\n",
    "Stop-sequence — это список строк, которые останавливают генерацию и обрезают генерацию, если эти строки встречаются в генерации.\n",
    "*Важно:* Не факт, что это сэкономит вам токены, так как мы останавливаем генерацию на стороне клиента, а не на стороне API GigaChat\n",
    "Так же при стриминге возможно не валидное обрезание, так как мы смотрим на итоговую строку."
   ],
   "metadata": {
    "collapsed": false
   }
  },
  {
   "cell_type": "code",
   "execution_count": 7,
   "metadata": {
    "collapsed": true
   },
   "outputs": [],
   "source": [
    "from langchain_community.chat_models.gigachat import GigaChat\n",
    "\n",
    "llm = GigaChat(\n",
    "    model=\"GigaChat-Pro\",\n",
    "    top_p=0.3,\n",
    ").bind(stop=[\"4\", \"5\"])"
   ]
  },
  {
   "cell_type": "code",
   "execution_count": 8,
   "outputs": [],
   "source": [
    "STOP_PROMPT = \"\"\"Ты генератор список синонимов к слову.\n",
    "Ты должен сгенерировать 10 слов синонимов.\n",
    "Пример:\n",
    "1. слово\n",
    "2. слово\n",
    "3. слово\n",
    "\n",
    "Сгенерируй синонимы к слову: кошка\"\"\""
   ],
   "metadata": {
    "collapsed": false
   }
  },
  {
   "cell_type": "code",
   "execution_count": 9,
   "outputs": [
    {
     "name": "stdout",
     "output_type": "stream",
     "text": [
      "1. кошечка\n",
      "2. киса\n",
      "3. мурка\n",
      "\n"
     ]
    }
   ],
   "source": [
    "print(llm.invoke(STOP_PROMPT).content)"
   ],
   "metadata": {
    "collapsed": false
   }
  },
  {
   "cell_type": "code",
   "execution_count": 10,
   "outputs": [
    {
     "name": "stdout",
     "output_type": "stream",
     "text": [
      "1. кошечка\n",
      "2. киса\n",
      "3. мурка\n"
     ]
    }
   ],
   "source": [
    "for chunk in llm.stream(STOP_PROMPT):\n",
    "    print(chunk.content, end=\"\")"
   ],
   "metadata": {
    "collapsed": false
   }
  }
 ],
 "metadata": {
  "kernelspec": {
   "display_name": "Python 3",
   "language": "python",
   "name": "python3"
  },
  "language_info": {
   "codemirror_mode": {
    "name": "ipython",
    "version": 2
   },
   "file_extension": ".py",
   "mimetype": "text/x-python",
   "name": "python",
   "nbconvert_exporter": "python",
   "pygments_lexer": "ipython2",
   "version": "2.7.6"
  }
 },
 "nbformat": 4,
 "nbformat_minor": 0
}
