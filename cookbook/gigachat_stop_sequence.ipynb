{
 "cells": [
  {
   "cell_type": "markdown",
   "source": [
    "# Stop-sequence в GigaChat\n",
    "В этом ноутбуке показан пример, работы stop-sequence в GigaChat\n",
    "Stop-sequence — это список строк, которые останавливают генерацию и обрезают генерацию, если эти строки встречаются в генерации.\n",
    "Это может упростить разработку Re-Act агентов.\n",
    "*Важно:* Не факт, что это сэкономит вам токены, так как мы останавливаем генерацию на стороне клиента, а не на стороне API GigaChat\n",
    "Так же при стриминге возможно не валидное обрезание, так как мы смотрим на итоговую строку."
   ],
   "metadata": {
    "collapsed": false
   }
  },
  {
   "cell_type": "code",
   "execution_count": 1,
   "metadata": {
    "collapsed": true
   },
   "outputs": [],
   "source": [
    "from langchain_community.chat_models.gigachat import GigaChat\n",
    "\n",
    "llm = GigaChat(\n",
    "    model=\"GigaChat-Pro\",\n",
    "    top_p=0.3,\n",
    ")"
   ]
  },
  {
   "cell_type": "code",
   "execution_count": 2,
   "outputs": [],
   "source": [
    "PROMPT = \"\"\"Ты генератор список синонимов к слову.\n",
    "Ты должен сгенерировать 10 слов синонимов.\n",
    "Пример:\n",
    "1. слово\n",
    "2. слово\n",
    "3. слово\n",
    "\n",
    "Сгенерируй синонимы к слову: кошка\"\"\""
   ],
   "metadata": {
    "collapsed": false
   }
  },
  {
   "cell_type": "markdown",
   "source": [
    "Пример генерации без стоп-слов"
   ],
   "metadata": {
    "collapsed": false
   }
  },
  {
   "cell_type": "code",
   "execution_count": 3,
   "outputs": [
    {
     "name": "stdout",
     "output_type": "stream",
     "text": [
      "1. кошечка\n",
      "2. киса\n",
      "3. мурка\n",
      "4. котяра\n",
      "5. котик\n",
      "6. котенок\n",
      "7. кошак\n",
      "8. кошка\n",
      "9. котейка\n",
      "10. кошатина\n"
     ]
    }
   ],
   "source": [
    "print(llm.invoke(PROMPT).content)"
   ],
   "metadata": {
    "collapsed": false
   }
  },
  {
   "cell_type": "markdown",
   "source": [
    "Пример генерации со стоп-словами в данном случае вернется генерация только с 3 словами.\n",
    "*Важно* GigaChat на стороне API также будет генерировать до 10 слов в данном случае"
   ],
   "metadata": {
    "collapsed": false
   }
  },
  {
   "cell_type": "code",
   "execution_count": 5,
   "outputs": [
    {
     "name": "stdout",
     "output_type": "stream",
     "text": [
      "1. кошечка\n",
      "2. киса\n",
      "3. мурка\n",
      "\n"
     ]
    }
   ],
   "source": [
    "print(llm.bind(stop=[\"4\"]).invoke(PROMPT).content)"
   ],
   "metadata": {
    "collapsed": false
   }
  }
 ],
 "metadata": {
  "kernelspec": {
   "display_name": "Python 3",
   "language": "python",
   "name": "python3"
  },
  "language_info": {
   "codemirror_mode": {
    "name": "ipython",
    "version": 2
   },
   "file_extension": ".py",
   "mimetype": "text/x-python",
   "name": "python",
   "nbconvert_exporter": "python",
   "pygments_lexer": "ipython2",
   "version": "2.7.6"
  }
 },
 "nbformat": 4,
 "nbformat_minor": 0
}
