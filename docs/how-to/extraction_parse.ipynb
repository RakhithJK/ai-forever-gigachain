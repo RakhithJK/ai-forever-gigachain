{
    "cells": [
        {
            "cell_type": "markdown",
            "id": "ea37db49-d389-4291-be73-885d06c1fb7e",
            "metadata": {},
            "source": [
                "# Извлечение данных с помощью промптов\n",
                "\n",
                "Вы можете получать структурированный вывод от LLM только с помощью промптов, не прибегая к вызову инструментов.\n",
                "\n",
                "В этом случае для качественного извлечения данных с помощью модели вам нужно разработать хороший промпт и предустмотреть функциональность парсинга ответа LLM.\n",
                "\n",
                "Для этого: \n",
                "\n",
                "1. В инструкции для модели укажите в каком формате нужно сгенерировать текст, например, JSON с определенной схемой.\n",
                "2. Используйте [output parsers](/docs/concepts#output-parsers) для структурирования ответа модели в нужный объект Python.\n",
                "\n",
                "Подключение модели:"
            ]
        },
        {
            "cell_type": "code",
            "execution_count": 2,
            "id": "25487939-8713-4ec7-b774-e4a761ac8298",
            "metadata": {},
            "outputs": [],
            "source": [
                "from langchain_gigachat.chat_models.gigachat import GigaChat\n",
                "\n",
                "llm = GigaChat(\n",
                "    verify_ssl_certs=False,\n",
                "    timeout=6000,\n",
                "    model=\"GigaChat-Pro\",\n",
                "    temperature=0.01,\n",
                ")"
            ]
        },
        {
            "cell_type": "markdown",
            "id": "3e412374-3beb-4bbf-966b-400c1f66a258",
            "metadata": {},
            "source": [
                ":::note\n",
                "\n",
                "В этом разделе представлен простой пример, но для получения наиболее хорошего результата, в промпте модели следует предоставить примеры.\n",
                "\n",
                ":::"
            ]
        },
        {
            "cell_type": "markdown",
            "id": "abc1a945-0f80-4953-add4-cd572b6f2a51",
            "metadata": {},
            "source": [
                "## Использование PydanticOutputParser\n",
                "\n",
                "Пример ниже демонстрирует разбор ответа модели с помощью встроенного парсера `PydanticOutputParser`."
            ]
        },
        {
            "cell_type": "code",
            "execution_count": 3,
            "id": "497eb023-c043-443d-ac62-2d4ea85fe1b0",
            "metadata": {},
            "outputs": [],
            "source": [
                "from typing import List, Optional\n",
                "\n",
                "from langchain.output_parsers import PydanticOutputParser\n",
                "from langchain_core.prompts import ChatPromptTemplate\n",
                "from langchain_core.pydantic_v1 import BaseModel, Field, validator\n",
                "\n",
                "\n",
                "class Person(BaseModel):\n",
                "    \"\"\"Информация о человеке.\"\"\"\n",
                "\n",
                "    name: str = Field(..., description=\"Имя человека\")\n",
                "    height_in_meters: float = Field(..., description=\"Высота человека в метрах\")\n",
                "\n",
                "\n",
                "class People(BaseModel):\n",
                "    \"\"\"Выдели всю информацию о людях в тексте.\"\"\"\n",
                "\n",
                "    people: List[Person]\n",
                "\n",
                "\n",
                "# Инициализация парсера\n",
                "parser = PydanticOutputParser(pydantic_object=People)\n",
                "\n",
                "# Промпт\n",
                "prompt = ChatPromptTemplate.from_messages(\n",
                "    [\n",
                "        (\n",
                "            \"system\",\n",
                "            \"Ответь на запрос пользователя в формате JSON. Schema Information: \\n{format_instructions}\",\n",
                "        ),\n",
                "        (\"human\", \"{query}\"),\n",
                "    ]\n",
                ").partial(format_instructions=parser.get_format_instructions())"
            ]
        },
        {
            "cell_type": "markdown",
            "id": "c31aa2c8-05a9-4a12-80c5-ea1250dea0ae",
            "metadata": {},
            "source": [
                "Запрос, который передается в модель."
            ]
        },
        {
            "cell_type": "code",
            "execution_count": 4,
            "id": "20b99ffb-a114-49a9-a7be-154c525f8ada",
            "metadata": {},
            "outputs": [],
            "source": [
                "query = \"Anna is 23 years old and she is 6 feet tall\""
            ]
        },
        {
            "cell_type": "code",
            "execution_count": 5,
            "id": "4f3a66ce-de19-4571-9e54-67504ae3fba7",
            "metadata": {},
            "outputs": [
                {
                    "name": "stdout",
                    "output_type": "stream",
                    "text": [
                        "System: Ответь на запрос пользователя в формате JSON. Schema Information: \n",
                        "The output should be formatted as a JSON instance that conforms to the JSON schema below.\n",
                        "\n",
                        "As an example, for the schema {\"properties\": {\"foo\": {\"title\": \"Foo\", \"description\": \"a list of strings\", \"type\": \"array\", \"items\": {\"type\": \"string\"}}}, \"required\": [\"foo\"]}\n",
                        "the object {\"foo\": [\"bar\", \"baz\"]} is a well-formatted instance of the schema. The object {\"properties\": {\"foo\": [\"bar\", \"baz\"]}} is not well-formatted.\n",
                        "\n",
                        "Here is the output schema:\n",
                        "```\n",
                        "{\"description\": \"Выдели всю информацию о людях в тексте.\", \"properties\": {\"people\": {\"title\": \"People\", \"type\": \"array\", \"items\": {\"$ref\": \"#/definitions/Person\"}}}, \"required\": [\"people\"], \"definitions\": {\"Person\": {\"title\": \"Person\", \"description\": \"Информация о человеке.\", \"type\": \"object\", \"properties\": {\"name\": {\"title\": \"Name\", \"description\": \"Имя человека\", \"type\": \"string\"}, \"height_in_meters\": {\"title\": \"Height In Meters\", \"description\": \"Высота человека в метрах\", \"type\": \"number\"}}, \"required\": [\"name\", \"height_in_meters\"]}}}\n",
                        "```\n",
                        "Human: Anna is 23 years old and she is 6 feet tall\n"
                    ]
                }
            ],
            "source": [
                "print(prompt.format_prompt(query=query).to_string())"
            ]
        },
        {
            "cell_type": "markdown",
            "id": "6f1048e0-1bfd-49f9-b697-74389a5ce69c",
            "metadata": {},
            "source": [
                "После определения промпта, его нужно соединить в цепочку с моделью и парсером выходных данных."
            ]
        },
        {
            "cell_type": "code",
            "execution_count": 6,
            "id": "7e0041eb-37dc-4384-9fe3-6dd8c356371e",
            "metadata": {},
            "outputs": [
                {
                    "data": {
                        "text/plain": [
                            "People(people=[Person(name='Anna', height_in_meters=1.8)])"
                        ]
                    },
                    "execution_count": 6,
                    "metadata": {},
                    "output_type": "execute_result"
                }
            ],
            "source": [
                "chain = prompt | llm | parser\n",
                "chain.invoke({\"query\": query})"
            ]
        },
        {
            "cell_type": "markdown",
            "id": "dd492fe4-110a-4b83-a191-79fffbc1055a",
            "metadata": {},
            "source": [
                "<!--TODO LangSmith\n",
                "\n",
                "Check out the associated [Langsmith trace](https://smith.langchain.com/public/92ed52a3-92b9-45af-a663-0a9c00e5e396/r).\n",
                "\n",
                "Note that the schema shows up in two places:\n",
                "\n",
                "1. In the prompt, via `parser.get_format_instructions()`;\n",
                "2. In the chain, to receive the formatted output and structure it into a Python object (in this case, the Pydantic object `People`).\n",
                "\n",
                "-->"
            ]
        },
        {
            "cell_type": "markdown",
            "id": "815b3b87-3bc6-4b56-835e-c6b6703cef5d",
            "metadata": {},
            "source": [
                "## Использование собственного парсера\n",
                "\n",
                "Используя `LangChain` и язык `LCEL` вы можете создать собственный промпт и парсер.\n",
                "\n",
                "Для создания собственного парсера, определите функцию, которая будет разбирать вывод модели (обычно [AIMessage](https://api.python.langchain.com/en/latest/messages/langchain_core.messages.ai.AIMessage.html)) в объект необходимого формата.\n",
                "\n",
                "Пример простого парсера ответа модели в формате JSON."
            ]
        },
        {
            "cell_type": "code",
            "execution_count": 7,
            "id": "b1f11912-c1bb-4a2a-a482-79bf3996961f",
            "metadata": {},
            "outputs": [],
            "source": [
                "import json\n",
                "import re\n",
                "from typing import List, Optional\n",
                "\n",
                "from langchain_core.messages import AIMessage\n",
                "from langchain_core.prompts import ChatPromptTemplate\n",
                "from langchain_core.pydantic_v1 import BaseModel, Field, validator\n",
                "\n",
                "\n",
                "class Person(BaseModel):\n",
                "    \"\"\"Информация о человеке.\"\"\"\n",
                "\n",
                "    name: str = Field(..., description=\"Имя человека\")\n",
                "    height_in_meters: float = Field(..., description=\"Высота человека в метрах\")\n",
                "\n",
                "\n",
                "class People(BaseModel):\n",
                "    \"\"\"Выдели всю информацию о людях в тексте.\"\"\"\n",
                "\n",
                "    people: List[Person]\n",
                "\n",
                "\n",
                "# Инициализация парсера\n",
                "parser = PydanticOutputParser(pydantic_object=People)\n",
                "\n",
                "# Промпт\n",
                "prompt = ChatPromptTemplate.from_messages(\n",
                "    [\n",
                "        (\n",
                "            \"system\",\n",
                "            \"Ответь на запрос пользователя в формате JSON. Schema Information: \\n{format_instructions}\",\n",
                "        ),\n",
                "        (\"human\", \"{query}\"),\n",
                "    ]\n",
                ").partial(format_instructions=parser.get_format_instructions())\n",
                "\n",
                "\n",
                "# Собственный парсер\n",
                "def extract_json(message: AIMessage) -> List[dict]:\n",
                "    \"\"\"Парсер JSON контента\"\"\"\n",
                "    text = message.content\n",
                "\n",
                "    # Возвращение списка подходящихстрок JSON и удаление всех ведущих и завершающих пробельных символов\n",
                "    try:\n",
                "        return json.loads(text)\n",
                "    except Exception:\n",
                "        raise ValueError(f\"Failed to parse: {message}\")"
            ]
        },
        {
            "cell_type": "code",
            "execution_count": 8,
            "id": "9260d5e8-3b6c-4639-9f3b-fb2f90239e4b",
            "metadata": {},
            "outputs": [
                {
                    "name": "stdout",
                    "output_type": "stream",
                    "text": [
                        "System: Ответь на запрос пользователя в формате JSON. Schema Information: \n",
                        "The output should be formatted as a JSON instance that conforms to the JSON schema below.\n",
                        "\n",
                        "As an example, for the schema {\"properties\": {\"foo\": {\"title\": \"Foo\", \"description\": \"a list of strings\", \"type\": \"array\", \"items\": {\"type\": \"string\"}}}, \"required\": [\"foo\"]}\n",
                        "the object {\"foo\": [\"bar\", \"baz\"]} is a well-formatted instance of the schema. The object {\"properties\": {\"foo\": [\"bar\", \"baz\"]}} is not well-formatted.\n",
                        "\n",
                        "Here is the output schema:\n",
                        "```\n",
                        "{\"description\": \"Выдели всю информацию о людях в тексте.\", \"properties\": {\"people\": {\"title\": \"People\", \"type\": \"array\", \"items\": {\"$ref\": \"#/definitions/Person\"}}}, \"required\": [\"people\"], \"definitions\": {\"Person\": {\"title\": \"Person\", \"description\": \"Информация о человеке.\", \"type\": \"object\", \"properties\": {\"name\": {\"title\": \"Name\", \"description\": \"Имя человека\", \"type\": \"string\"}, \"height_in_meters\": {\"title\": \"Height In Meters\", \"description\": \"Высота человека в метрах\", \"type\": \"number\"}}, \"required\": [\"name\", \"height_in_meters\"]}}}\n",
                        "```\n",
                        "Human: Anna is 23 years old and she is 6 feet tall\n"
                    ]
                }
            ],
            "source": [
                "query = \"Anna is 23 years old and she is 6 feet tall\"\n",
                "print(prompt.format_prompt(query=query).to_string())"
            ]
        },
        {
            "cell_type": "code",
            "execution_count": 9,
            "id": "c523301d-ae0e-45e3-b195-7fd28c67a5c4",
            "metadata": {},
            "outputs": [
                {
                    "data": {
                        "text/plain": [
                            "{'people': [{'name': 'Anna', 'height_in_meters': 1.8}]}"
                        ]
                    },
                    "execution_count": 9,
                    "metadata": {},
                    "output_type": "execute_result"
                }
            ],
            "source": [
                "chain = prompt | llm | extract_json\n",
                "chain.invoke({\"query\": query})"
            ]
        }
    ],
    "metadata": {
        "kernelspec": {
            "display_name": "Python 3 (ipykernel)",
            "language": "python",
            "name": "python3"
        },
        "language_info": {
            "codemirror_mode": {
                "name": "ipython",
                "version": 3
            },
            "file_extension": ".py",
            "mimetype": "text/x-python",
            "name": "python",
            "nbconvert_exporter": "python",
            "pygments_lexer": "ipython3",
            "version": "3.10.4"
        }
    },
    "nbformat": 4,
    "nbformat_minor": 5
}