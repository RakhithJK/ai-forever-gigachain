{
   "cells": [
      {
         "cell_type": "markdown",
         "id": "6a4becbd-238e-4c1d-a02d-08e61fbc3763",
         "metadata": {},
         "source": [
            "# Работа с историей сообщений\n",
            "\n",
            ":::note\n",
            "\n",
            "С этим руководством будет проще работать, если ознакомиться с разделами:\n",
            "- [LangChain Expression Language (LCEL)](/docs/concepts/#langchain-expression-language)\n",
            "- [Соединение Runnable в цепочку](/docs/how_to/sequence/)\n",
            "- [Изменение параметров в процессе выполнения](/docs/how_to/configure)\n",
            "- [Prompt templates](/docs/concepts/#prompt-templates)\n",
            "- [Chat Messages](/docs/concepts/#message-types)\n",
            "\n",
            ":::\n",
            "\n",
            "Для добавления истории сообщений в некоторые цепочки можно использовать обертку [`RunnableWithMessageHistory`](https://api.python.langchain.com/en/latest/runnables/langchain_core.runnables.history.RunnableWithMessageHistory.html#langchain_core.runnables.history.RunnableWithMessageHistory).\n",
            "\n",
            "Так, обертку можно использовать при работе с Runnable-объектом, который принимает на вход:\n",
            "\n",
            "* последовательность экземпляров [`BaseMessage`](/docs/concepts/#message-types);\n",
            "* словар с полем, в котором можно передать последовательность экземпляров `BaseMessage`;\n",
            "* словарь полем, в котором можно передать последнее сообщение или несколько сообщений в формате строки, либо последовательность экземпляров `BaseMessage`. И отдельным полем, в котором можно историю сообщений.\n",
            "\n",
            "И возвращает на выходе:\n",
            "\n",
            "* строку, которая можно передать внутри экземпляра `AIMessage`;\n",
            "* последовательность экземпляров `BaseMessage`;\n",
            "* словарь с полем, содержащим последовательность экземпляров `BaseMessage`.\n",
            "\n",
            "Раздел содержит несколько примеров работы с истории сообщений.\n",
            "\n",
            "Первый пример демонстрирует экземпляр Runnable, который принимает на вход словарь и возвращает сообщение."
         ]
      },
      {
         "cell_type": "code",
         "execution_count": null,
         "id": "2ed413b4-33a1-48ee-89b0-2d4917ec101a",
         "metadata": {},
         "outputs": [],
         "source": [
            "from langchain_community.chat_models.gigachat import GigaChat\n",
            "from langchain_core.prompts import ChatPromptTemplate, MessagesPlaceholder\n",
            "\n",
            "model = GigaChat(credentials=\"авторизационные_данные\", verify_ssl_certs=False)\n",
            "prompt = ChatPromptTemplate.from_messages(\n",
            "    [\n",
            "        (\n",
            "            \"system\",\n",
            "            \"Ты ассистент в сфере {ability}. Твой ответ должен быть не длиннее 20 слов.\",\n",
            "        ),\n",
            "        MessagesPlaceholder(variable_name=\"history\"),\n",
            "        (\"human\", \"{input}\"),\n",
            "    ]\n",
            ")\n",
            "runnable = prompt | model"
         ]
      },
      {
         "cell_type": "markdown",
         "id": "9fd175e1-c7b8-4929-a57e-3331865fe7aa",
         "metadata": {},
         "source": [
            ":::note\n",
            "\n",
            "Авторизационные данные — строка, полученная в результате кодирования в Base64 клиентского идентификатора (Client ID) и ключа (Client Secret) API. Вы можете использовать готовые данные из личного кабинета или самостоятельно закодировать идентификатор и ключ.\n",
            "\n",
            "Пример строки авторизационных данных:\n",
            "\n",
            "```text\n",
            "MjIzODA0YTktMDU3OC00MTZmLWI4MWYtYzUwNjg3Njk4MzMzOjljMTI2MGQyLTFkNTEtNGRkOS05ZGVhLTBhNjAzZTdjZjQ3Mw==\n",
            "```\n",
            "\n",
            "Идентификатор, ключ и авторизационные данные вы можете получить после создания проекта GigaChat API:\n",
            "\n",
            "* [для физических лиц](https://developers.sber.ru/docs/ru/gigachat/individuals-quickstart#shag-1-sozdayte-proekt-giga-chat-api);\n",
            "* [для ИП и юридических лиц](https://developers.sber.ru/docs/ru/gigachat/legal-quickstart#shag-1-otpravte-zayavku-na-dostup-k-proektu-giga-chat-api).\n",
            "\n",
            ":::\n",
            "\n",
            "Для дальнейшей работы с историей сообщений вам потребуется:\n",
            "\n",
            "* Runnable из примера;\n",
            "* вызываемый объект, который возвращает экземпляр `BaseChatMessageHistory`.\n",
            "\n",
            "Раздел содержит как примеры in-memory памяти, реализованной с помощью объектов `ChatMessageHistory`, так и более надежный способ хранения с помощью Redis — `RedisChatMessageHistory`.\n",
            "\n",
            ":::note\n",
            "\n",
            "В разделе интеграций вы найдете описание других провайдеров для реализации памяти.\n",
            "\n",
            ":::"
         ]
      },
      {
         "cell_type": "markdown",
         "id": "3d83adad-9672-496d-9f25-5747e7b8c8bb",
         "metadata": {},
         "source": [
            "## Хранение in-memory\n",
            "\n",
            "В примере ниже история сообщений хранится в оперативной памяти внутри глобального словаря Python.\n",
            "\n",
            "Экземпляр `ChatMessageHistory` возвращается с помощью вызываемого объекта `get_session_history`, который ссылается на заданный словарь.\n",
            "Аргументы `get_session_history` можно передать в процессе выполнения с помощью в экземпляре `RunnableWithMessageHistory`.\n",
            "По умолчанию параметр конфигурации ожидается в виде строки `session_id`.\n",
            "Это можно изменить с помощью kwarg `history_factory_config`.\n",
            "\n",
            "Пример работы по умолчанию:"
         ]
      },
      {
         "cell_type": "code",
         "execution_count": 3,
         "id": "54348d02-d8ee-440c-bbf9-41bc0fbbc46c",
         "metadata": {},
         "outputs": [],
         "source": [
            "from langchain_community.chat_message_histories import ChatMessageHistory\n",
            "from langchain_core.chat_history import BaseChatMessageHistory\n",
            "from langchain_core.runnables.history import RunnableWithMessageHistory\n",
            "\n",
            "store = {}\n",
            "\n",
            "\n",
            "def get_session_history(session_id: str) -> BaseChatMessageHistory:\n",
            "    if session_id not in store:\n",
            "        store[session_id] = ChatMessageHistory()\n",
            "    return store[session_id]\n",
            "\n",
            "\n",
            "with_message_history = RunnableWithMessageHistory(\n",
            "    runnable,\n",
            "    get_session_history,\n",
            "    input_messages_key=\"input\",\n",
            "    history_messages_key=\"history\",\n",
            ")"
         ]
      },
      {
         "cell_type": "markdown",
         "id": "01acb505-3fd3-4ab4-9f04-5ea07e81542e",
         "metadata": {},
         "source": [
            "В примере задано два поля:\n",
            "\n",
            "* `input_messages_key` — содержимое поля должно обрабатыватья как последнее входное сообщение;\n",
            "* `history_messages_key` — поле в котором сохраняется история сообщений.\n",
            "\n",
            "При вызове этого Runnable соответствующую историю сообщений можно задать с помощью параметра конфигурации:"
         ]
      },
      {
         "cell_type": "code",
         "execution_count": 4,
         "id": "01384412-f08e-4634-9edb-3f46f475b582",
         "metadata": {},
         "outputs": [
            {
               "data": {
                  "text/plain": [
                     "AIMessage(content='Косинус - это тригонометрическая функция, которая равна синусу угла в прямоугольном треугольнике, противолежащего данному катету.', response_metadata={'token_usage': Usage(prompt_tokens=42, completion_tokens=40, total_tokens=82), 'model_name': 'GigaChat:3.1.24.3', 'finish_reason': 'stop'}, id='run-21e71c2f-1e0b-442e-98c0-54d52991fbb3-0')"
                  ]
               },
               "execution_count": 4,
               "metadata": {},
               "output_type": "execute_result"
            }
         ],
         "source": [
            "with_message_history.invoke(\n",
            "    {\"ability\": \"математика\", \"input\": \"Что такое косинус?\"},\n",
            "    config={\"configurable\": {\"session_id\": \"abc123\"}},\n",
            ")"
         ]
      },
      {
         "cell_type": "code",
         "execution_count": 5,
         "id": "954688a2-9a3f-47ee-a9e8-fa0c83e69477",
         "metadata": {},
         "outputs": [
            {
               "data": {
                  "text/plain": [
                     "AIMessage(content='Проще говоря, это отношение длины катета к гипотенузе.', response_metadata={'token_usage': Usage(prompt_tokens=91, completion_tokens=21, total_tokens=112), 'model_name': 'GigaChat:3.1.24.3', 'finish_reason': 'stop'}, id='run-49195640-4bf8-408f-ab87-81fcfba19b19-0')"
                  ]
               },
               "execution_count": 5,
               "metadata": {},
               "output_type": "execute_result"
            }
         ],
         "source": [
            "# Обращение к памяти\n",
            "with_message_history.invoke(\n",
            "    {\"ability\": \"математика\", \"input\": \"Что?\"},\n",
            "    config={\"configurable\": {\"session_id\": \"abc123\"}},\n",
            ")"
         ]
      },
      {
         "cell_type": "markdown",
         "id": "6c6c20b8",
         "metadata": {},
         "source": [
            ":::note\n",
            "\n",
            "В примере контекст сохраняется с помозью истории сообщений для заданного параметра `session_id`.\n",
            "Таким образом модель понимает к чему относится заданный вопрос.\n",
            "\n",
            ":::"
         ]
      },
      {
         "cell_type": "markdown",
         "id": "79fa5501",
         "metadata": {},
         "source": [
            "Вот так будет выглядеть ответ с другим `session_id`:"
         ]
      },
      {
         "cell_type": "code",
         "execution_count": 6,
         "id": "39350d7c-2641-4744-bc2a-fd6a57c4ea90",
         "metadata": {},
         "outputs": [
            {
               "data": {
                  "text/plain": [
                     "AIMessage(content='Я не совсем понимаю ваш вопрос. Можете уточнить, пожалуйста?', response_metadata={'token_usage': Usage(prompt_tokens=37, completion_tokens=17, total_tokens=54), 'model_name': 'GigaChat:3.1.24.3', 'finish_reason': 'stop'}, id='run-82a1ae88-27e9-4a0b-970c-28d01f41a9bc-0')"
                  ]
               },
               "execution_count": 6,
               "metadata": {},
               "output_type": "execute_result"
            }
         ],
         "source": [
            "# Новая сессия session_id --> память отсутствует.\n",
            "with_message_history.invoke(\n",
            "    {\"ability\": \"математика\", \"input\": \"Что?\"},\n",
            "    config={\"configurable\": {\"session_id\": \"def234\"}},\n",
            ")"
         ]
      },
      {
         "cell_type": "markdown",
         "id": "d29497be-3366-408d-bbb9-d4a8bf4ef37c",
         "metadata": {},
         "source": [
            "При передаче другого значения `session_id` начинается новая история чата, поэтому модель не понимает к чему относится вопрос.\n",
            "\n",
            "## Настройка\n",
            "\n",
            "Конфигурационные параметры, которые используются для ведения историй сообщений, можно изменить, если передать в параметр `history_factory_config` список объектов `ConfigurableFieldSpec`.\n",
            "Пример ниже показывает как использовать два параметра — `user_id` и `conversation_id`."
         ]
      },
      {
         "cell_type": "code",
         "execution_count": 7,
         "id": "1c89daee-deff-4fdf-86a3-178f7d8ef536",
         "metadata": {},
         "outputs": [
            {
               "data": {
                  "text/plain": [
                     "AIMessage(content='Hello! How can I assist you with math today?', response_metadata={'id': 'msg_01UdhnwghuSE7oRM57STFhHL', 'model': 'claude-3-haiku-20240307', 'stop_reason': 'end_turn', 'stop_sequence': None, 'usage': {'input_tokens': 27, 'output_tokens': 14}}, id='run-3d53f67a-4ea7-4d78-8e67-37db43d4af5d-0')"
                  ]
               },
               "execution_count": 7,
               "metadata": {},
               "output_type": "execute_result"
            }
         ],
         "source": [
            "from langchain_core.runnables import ConfigurableFieldSpec\n",
            "\n",
            "store = {}\n",
            "\n",
            "\n",
            "def get_session_history(user_id: str, conversation_id: str) -> BaseChatMessageHistory:\n",
            "    if (user_id, conversation_id) not in store:\n",
            "        store[(user_id, conversation_id)] = ChatMessageHistory()\n",
            "    return store[(user_id, conversation_id)]\n",
            "\n",
            "\n",
            "with_message_history = RunnableWithMessageHistory(\n",
            "    runnable,\n",
            "    get_session_history,\n",
            "    input_messages_key=\"input\",\n",
            "    history_messages_key=\"history\",\n",
            "    history_factory_config=[\n",
            "        ConfigurableFieldSpec(\n",
            "            id=\"user_id\",\n",
            "            annotation=str,\n",
            "            name=\"ID пользоватея\",\n",
            "            description=\"Уникальный идентификатор пользователя.\",\n",
            "            default=\"\",\n",
            "            is_shared=True,\n",
            "        ),\n",
            "        ConfigurableFieldSpec(\n",
            "            id=\"conversation_id\",\n",
            "            annotation=str,\n",
            "            name=\"ID диалого\",\n",
            "            description=\"Уникальный идентификатор диалога.\",\n",
            "            default=\"\",\n",
            "            is_shared=True,\n",
            "        ),\n",
            "    ],\n",
            ")\n",
            "\n",
            "with_message_history.invoke(\n",
            "    {\"ability\": \"математика\", \"input\": \"Привет\"},\n",
            "    config={\"configurable\": {\"user_id\": \"123\", \"conversation_id\": \"1\"}},\n",
            ")"
         ]
      },
      {
         "cell_type": "code",
         "execution_count": null,
         "id": "44eed261",
         "metadata": {},
         "outputs": [],
         "source": [
            "# Обращение к памяти\n",
            "with_message_history.invoke(\n",
            "    {\"ability\": \"jokes\", \"input\": \"What was the joke about?\"},\n",
            "    config={\"configurable\": {\"user_id\": \"123\", \"conversation_id\": \"1\"}},\n",
            ")"
         ]
      },
      {
         "cell_type": "code",
         "execution_count": null,
         "id": "1f81fa81",
         "metadata": {},
         "outputs": [],
         "source": [
            "# Новый пользователь user_id --> память отсутствует\n",
            "with_message_history.invoke(\n",
            "    {\"ability\": \"jokes\", \"input\": \"What was the joke about?\"},\n",
            "    config={\"configurable\": {\"user_id\": \"456\", \"conversation_id\": \"1\"}},\n",
            ")"
         ]
      },
      {
         "cell_type": "markdown",
         "id": "da26acdb",
         "metadata": {},
         "source": [
            "История чата сохранилась для одного `user_id`, но после изменения параметра запустилась новая история чата несмотря на прежнее значение `conversation_id`."
         ]
      },
      {
         "cell_type": "markdown",
         "id": "18f1a459-3f88-4ee6-8542-76a907070dd6",
         "metadata": {},
         "source": [
            "### Примеры реализации Runnable\n",
            "\n",
            "В предыдущем примере Runnable принимает на вход словарь и возвращает `BaseMessage`.\n",
            "\n",
            "Примеры ниже показывают как можно решить ту же задачу другими способами."
         ]
      },
      {
         "cell_type": "markdown",
         "id": "48eae1bf-b59d-4a61-8e62-b6dbf667e866",
         "metadata": {},
         "source": [
            "#### Сообщения на входе, словарь на выходе"
         ]
      },
      {
         "cell_type": "code",
         "execution_count": 10,
         "id": "17733d4f-3a32-4055-9d44-5d58b9446a26",
         "metadata": {},
         "outputs": [
            {
               "data": {
                  "text/plain": [
                     "{'output_message': AIMessage(content='Симона де Бовуар считала, что свобода воли является ключевым аспектом человеческого существования. Она утверждала, что свобода воли позволяет людям принимать решения и действовать на основе своих собственных убеждений и ценностей. Однако, де Бовуар также подчеркивала, что свобода воли ограничена социальными и культурными условиями, в которых мы живем.', response_metadata={'token_usage': Usage(prompt_tokens=304, completion_tokens=80, total_tokens=384), 'model_name': 'GigaChat:3.1.24.3', 'finish_reason': 'stop'}, id='run-f6725c40-2f24-42c3-b26e-aef2d5b09176-0')}"
                  ]
               },
               "execution_count": 10,
               "metadata": {},
               "output_type": "execute_result"
            }
         ],
         "source": [
            "from langchain_core.messages import HumanMessage\n",
            "from langchain_core.runnables import RunnableParallel\n",
            "\n",
            "chain = RunnableParallel(\n",
            "    {\n",
            "        \"output_message\": GigaChat(\n",
            "            credentials=\"авторизационные_данные\", verify_ssl_certs=False\n",
            "        )\n",
            "    }\n",
            ")\n",
            "\n",
            "\n",
            "def get_session_history(session_id: str) -> BaseChatMessageHistory:\n",
            "    if session_id not in store:\n",
            "        store[session_id] = ChatMessageHistory()\n",
            "    return store[session_id]\n",
            "\n",
            "\n",
            "with_message_history = RunnableWithMessageHistory(\n",
            "    chain,\n",
            "    get_session_history,\n",
            "    output_messages_key=\"output_message\",\n",
            ")\n",
            "\n",
            "with_message_history.invoke(\n",
            "    [HumanMessage(content=\"Что Симона де Бовуар думала о свободе воли\")],\n",
            "    config={\"configurable\": {\"session_id\": \"baz\"}},\n",
            ")"
         ]
      },
      {
         "cell_type": "code",
         "execution_count": 11,
         "id": "efb57ef5-91f9-426b-84b9-b77f071a9dd7",
         "metadata": {},
         "outputs": [
            {
               "data": {
                  "text/plain": [
                     "{'output_message': AIMessage(content='Идеи Симоны де Бовуар о свободе воли отличаются от идей Жан-Поля Сартра, другого известного французского философа.\\n\\nСартр утверждал, что человек изначально свободен, но эта свобода не является благом. Он считал, что свобода воли приводит к тому, что люди становятся ответственными за свои собственные действия и их последствия. Однако, он также утверждал, что эта ответственность может быть невыносимой, поскольку она требует от нас принятия решений и действий, которые мы не можем контролировать.\\n\\nВ отличие от Сартра, де Бовуар считала, что свобода воли является основой для самореализации и самоопределения. Она утверждала, что свобода воли позволяет нам принимать решения и действовать на основе наших собственных убеждений и ценностей.\\n\\nТаким образом, идеи де Бовуар и Сартра о свободе воли различаются в том, как они рассматривают эту свободу и ее последствия. Де Бовуар видит в свободе воли возможность для самореализации и самоопределения, в то время как Сартр считает, что она приводит к ответственности и невыносимой свободе.', response_metadata={'token_usage': Usage(prompt_tokens=403, completion_tokens=257, total_tokens=660), 'model_name': 'GigaChat:3.1.24.3', 'finish_reason': 'stop'}, id='run-47bcaac0-b807-49cc-a162-7ee948013814-0')}"
                  ]
               },
               "execution_count": 11,
               "metadata": {},
               "output_type": "execute_result"
            }
         ],
         "source": [
            "with_message_history.invoke(\n",
            "    [HumanMessage(content=\"Как эти идеи отличаются от того, что думал Сартр\")],\n",
            "    config={\"configurable\": {\"session_id\": \"baz\"}},\n",
            ")"
         ]
      },
      {
         "cell_type": "markdown",
         "id": "a39eac5f-a9d8-4729-be06-5e7faf0c424d",
         "metadata": {},
         "source": [
            "#### Сообщения на входе и сообщения на выходе"
         ]
      },
      {
         "cell_type": "code",
         "execution_count": 12,
         "id": "e45bcd95-e31f-4a9a-967a-78f96e8da881",
         "metadata": {},
         "outputs": [
            {
               "data": {
                  "text/plain": [
                     "RunnableWithMessageHistory(bound=RunnableBinding(bound=RunnableBinding(bound=RunnableLambda(_enter_history), config={'run_name': 'load_history'})\n",
                     "| RunnableBinding(bound=ChatAnthropic(model='claude-3-haiku-20240307', temperature=0.0, anthropic_api_url='https://api.anthropic.com', anthropic_api_key=SecretStr('**********'), _client=<anthropic.Anthropic object at 0x1077ff5b0>, _async_client=<anthropic.AsyncAnthropic object at 0x1321c71f0>), config_factories=[<function Runnable.with_listeners.<locals>.<lambda> at 0x1473dd000>]), config={'run_name': 'RunnableWithMessageHistory'}), get_session_history=<function get_session_history at 0x1374c7be0>, history_factory_config=[ConfigurableFieldSpec(id='session_id', annotation=<class 'str'>, name='Session ID', description='Unique identifier for a session.', default='', is_shared=True, dependencies=None)])"
                  ]
               },
               "execution_count": 12,
               "metadata": {},
               "output_type": "execute_result"
            }
         ],
         "source": [
            "RunnableWithMessageHistory(\n",
            "    GigaChat(credentials=\"авторизационные_данные\", verify_ssl_certs=False),\n",
            "    get_session_history,\n",
            ")"
         ]
      },
      {
         "cell_type": "markdown",
         "id": "04daa921-a2d1-40f9-8cd1-ae4e9a4163a7",
         "metadata": {},
         "source": [
            "#### Словарь с полем, хранящим все сообщения на входе, сообщения на выходе"
         ]
      },
      {
         "cell_type": "code",
         "execution_count": 13,
         "id": "27157f15-9fb0-4167-9870-f4d7f234b3cb",
         "metadata": {},
         "outputs": [
            {
               "data": {
                  "text/plain": [
                     "RunnableWithMessageHistory(bound=RunnableBinding(bound=RunnableBinding(bound=RunnableAssign(mapper={\n",
                     "  input_messages: RunnableBinding(bound=RunnableLambda(_enter_history), config={'run_name': 'load_history'})\n",
                     "}), config={'run_name': 'insert_history'})\n",
                     "| RunnableBinding(bound=RunnableLambda(itemgetter('input_messages'))\n",
                     "  | ChatAnthropic(model='claude-3-haiku-20240307', temperature=0.0, anthropic_api_url='https://api.anthropic.com', anthropic_api_key=SecretStr('**********'), _client=<anthropic.Anthropic object at 0x1077ff5b0>, _async_client=<anthropic.AsyncAnthropic object at 0x1321c71f0>), config_factories=[<function Runnable.with_listeners.<locals>.<lambda> at 0x1473df6d0>]), config={'run_name': 'RunnableWithMessageHistory'}), get_session_history=<function get_session_history at 0x1374c7be0>, input_messages_key='input_messages', history_factory_config=[ConfigurableFieldSpec(id='session_id', annotation=<class 'str'>, name='Session ID', description='Unique identifier for a session.', default='', is_shared=True, dependencies=None)])"
                  ]
               },
               "execution_count": 13,
               "metadata": {},
               "output_type": "execute_result"
            }
         ],
         "source": [
            "from operator import itemgetter\n",
            "\n",
            "RunnableWithMessageHistory(\n",
            "    itemgetter(\"input_messages\")\n",
            "    | GigaChat(credentials=\"авторизационные_данные\", verify_ssl_certs=False),\n",
            "    get_session_history,\n",
            "    input_messages_key=\"input_messages\",\n",
            ")"
         ]
      },
      {
         "cell_type": "markdown",
         "id": "76799a13-d99a-4c4f-91f2-db699e40b8df",
         "metadata": {},
         "source": [
            "## Постоянное хранение\n",
            "\n",
            "Вам может потребоваться организовать постоянное хранение истории диалогов.\n",
            "Для `RunnableWithMessageHistory` не важно, как `get_session_history` получает историю сообщений — из файловой системы или как-то иначе.\n",
            "Пример ниже показывает как для этого можно использовать базу данных Redis.\n",
            "\n",
            ":::note\n",
            "\n",
            "Описание интеграций с другими провайдерами памяти ищите в [официальной документации LangChain](https://integrations.langchain.com/memory).\n",
            "\n",
            ":::"
         ]
      },
      {
         "cell_type": "markdown",
         "id": "6bca45e5-35d9-4603-9ca9-6ac0ce0e35cd",
         "metadata": {},
         "source": [
            "### Подготовка к работе\n",
            "\n",
            "Установите Redis с помощью менеджера пакетов:"
         ]
      },
      {
         "cell_type": "code",
         "execution_count": null,
         "id": "477d04b3-c2b6-4ba5-962f-492c0d625cd5",
         "metadata": {},
         "outputs": [],
         "source": [
            "%pip install --upgrade --quiet redis"
         ]
      },
      {
         "cell_type": "markdown",
         "id": "6a0ec9e0-7b1c-4c6f-b570-e61d520b47c6",
         "metadata": {},
         "source": [
            "Запустите локальные сервер Redis Stack, если у вас нет равзвернутого сервера, к которому можно подключиться:\n",
            "\n",
            "```bash\n",
            "docker run -d -p 6379:6379 -p 8001:8001 redis/redis-stack:latest\n",
            "```"
         ]
      },
      {
         "cell_type": "code",
         "execution_count": null,
         "id": "cd6a250e-17fe-4368-a39d-1fe6b2cbde68",
         "metadata": {},
         "outputs": [],
         "source": [
            "REDIS_URL = \"redis://localhost:6379/0\""
         ]
      },
      {
         "cell_type": "markdown",
         "id": "f9d81796-ce61-484c-89e2-6c567d5e54ef",
         "metadata": {},
         "source": [
            "Для использования Redis достаточно определить новую вызываемую функцию, которая будет возвращать экземпляр `RedisChatMessageHistory`:"
         ]
      },
      {
         "cell_type": "code",
         "execution_count": null,
         "id": "ca7c64d8-e138-4ef8-9734-f82076c47d80",
         "metadata": {},
         "outputs": [],
         "source": [
            "from langchain_community.chat_message_histories import RedisChatMessageHistory\n",
            "\n",
            "\n",
            "def get_message_history(session_id: str) -> RedisChatMessageHistory:\n",
            "    return RedisChatMessageHistory(session_id, url=REDIS_URL)\n",
            "\n",
            "\n",
            "with_message_history = RunnableWithMessageHistory(\n",
            "    runnable,\n",
            "    get_message_history,\n",
            "    input_messages_key=\"input\",\n",
            "    history_messages_key=\"history\",\n",
            ")"
         ]
      },
      {
         "cell_type": "markdown",
         "id": "37eefdec-9901-4650-b64c-d3c097ed5f4d",
         "metadata": {},
         "source": [
            "Вызывать цепочку можно так же, как и раньше:"
         ]
      },
      {
         "cell_type": "code",
         "execution_count": null,
         "id": "a85bcc22-ca4c-4ad5-9440-f94be7318f3e",
         "metadata": {},
         "outputs": [],
         "source": [
            "with_message_history.invoke(\n",
            "    {\"ability\": \"математика\", \"input\": \"Что такое косинус?\"},\n",
            "    config={\"configurable\": {\"session_id\": \"foobar\"}},\n",
            ")"
         ]
      },
      {
         "cell_type": "code",
         "execution_count": null,
         "id": "ab29abd3-751f-41ce-a1b0-53f6b565e79d",
         "metadata": {},
         "outputs": [
            {
               "data": {
                  "text/plain": [
                     "AIMessage(content='The inverse of cosine is the arccosine function, denoted as acos or cos^-1, which gives the angle corresponding to a given cosine value.')"
                  ]
               },
               "execution_count": 12,
               "metadata": {},
               "output_type": "execute_result"
            }
         ],
         "source": [
            "with_message_history.invoke(\n",
            "    {\"ability\": \"math\", \"input\": \"Какая у него обратная функция?\"},\n",
            "    config={\"configurable\": {\"session_id\": \"foobar\"}},\n",
            ")"
         ]
      }
   ],
   "metadata": {
      "kernelspec": {
         "display_name": "Python 3 (ipykernel)",
         "language": "python",
         "name": "python3"
      },
      "language_info": {
         "codemirror_mode": {
            "name": "ipython",
            "version": 3
         },
         "file_extension": ".py",
         "mimetype": "text/x-python",
         "name": "python",
         "nbconvert_exporter": "python",
         "pygments_lexer": "ipython3",
         "version": "3.9.6"
      }
   },
   "nbformat": 4,
   "nbformat_minor": 5
}
