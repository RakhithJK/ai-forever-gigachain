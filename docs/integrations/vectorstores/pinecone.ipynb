{
 "cells": [
  {
   "attachments": {},
   "cell_type": "markdown",
   "id": "683953b3",
   "metadata": {},
   "source": [
    "# Pinecone\n",
    "\n",
    ">[Pinecone](https://docs.pinecone.io/docs/overview) - это векторная база данных с широкими возможностями. В этом ноутбуке показано, как использовать функциональность, связанную с векторной базой данных `Pinecone`.\n",
    "\n",
    "## Настройка\n",
    "\n",
    "Для использования `PineconeVectorStore` вам сначала необходимо установить партнерский пакет, а также другие пакеты, используемые в этом ноутбуке."
   ]
  },
  {
   "cell_type": "code",
   "execution_count": 1,
   "id": "b4c41cad-08ef-4f72-a545-2151e4598efe",
   "metadata": {
    "tags": []
   },
   "outputs": [
    {
     "name": "stdout",
     "output_type": "stream",
     "text": [
      "Note: you may need to restart the kernel to use updated packages.\n"
     ]
    }
   ],
   "source": [
    "%pip install -qU langchain-pinecone pinecone-notebooks"
   ]
  },
  {
   "cell_type": "markdown",
   "id": "1917d123",
   "metadata": {},
   "source": [
    "Примечание по миграции: если вы переходите с реализации Pinecone из `langchain_community.vectorstores`, вам, возможно, потребуется удалить зависимость `pinecone-client` версии 2 перед установкой `langchain-pinecone`, который зависит от `pinecone-client` версии 3."
   ]
  },
  {
   "cell_type": "markdown",
   "id": "ef6dc4de",
   "metadata": {},
   "source": [
    "### Авторизация\n",
    "\n",
    "Создайте новый аккаунт в Pinecone или войдите в уже существующий, и создайте API-ключ для использования в этом ноутбуке."
   ]
  },
  {
   "cell_type": "code",
   "execution_count": 32,
   "id": "eb554814",
   "metadata": {},
   "outputs": [],
   "source": [
    "import getpass\n",
    "import os\n",
    "\n",
    "from dotenv import find_dotenv, load_dotenv\n",
    "from pinecone import Pinecone, ServerlessSpec\n",
    "\n",
    "load_dotenv(find_dotenv())\n",
    "\n",
    "if not os.getenv(\"PINECONE_API_KEY\"):\n",
    "    os.environ[\"PINECONE_API_KEY\"] = getpass.getpass(\"Enter your Pinecone API key: \")\n",
    "\n",
    "pinecone_api_key = os.environ.get(\"PINECONE_API_KEY\")\n",
    "\n",
    "pc = Pinecone(api_key=pinecone_api_key)"
   ]
  },
  {
   "cell_type": "markdown",
   "id": "6ef1d828",
   "metadata": {},
   "source": [
    "Если вы хотите автоматически отслеживать вызовы вашей модели, вы также можете установить API-ключ [LangSmith](https://docs.smith.langchain.com/), раскомментировав код ниже:"
   ]
  },
  {
   "cell_type": "code",
   "execution_count": 5,
   "id": "23b5ac5e",
   "metadata": {},
   "outputs": [],
   "source": [
    "# os.environ[\"LANGSMITH_API_KEY\"] = getpass.getpass(\"Enter your LangSmith API key: \")\n",
    "# os.environ[\"LANGSMITH_TRACING\"] = \"true\""
   ]
  },
  {
   "cell_type": "markdown",
   "id": "658706a3",
   "metadata": {},
   "source": [
    "## Инициализация\n",
    "\n",
    "Перед инициализацией нашего векторного хранилища давайте подключимся к индексу `Pinecone`. Если индекс с именем index_name не существует, он будет создан."
   ]
  },
  {
   "cell_type": "code",
   "execution_count": 43,
   "id": "276a06dd",
   "metadata": {},
   "outputs": [],
   "source": [
    "import time\n",
    "\n",
    "index_name = \"langchain-test-index\"  # change if desired\n",
    "\n",
    "existing_indexes = [index_info[\"name\"] for index_info in pc.list_indexes()]\n",
    "\n",
    "if index_name not in existing_indexes:\n",
    "    pc.create_index(\n",
    "        name=index_name,\n",
    "        dimension=1024,\n",
    "        metric=\"cosine\",\n",
    "        spec=ServerlessSpec(cloud=\"aws\", region=\"us-east-1\"),\n",
    "    )\n",
    "    while not pc.describe_index(index_name).status[\"ready\"]:\n",
    "        time.sleep(1)\n",
    "\n",
    "index = pc.Index(index_name)"
   ]
  },
  {
   "cell_type": "markdown",
   "id": "3a4d377f",
   "metadata": {},
   "source": [
    "Теперь можно иницилазировать векторное хранилище\n",
    "\n",
    "```{=mdx}\n",
    "import EmbeddingTabs from \"@theme/EmbeddingTabs\";\n",
    "\n",
    "<EmbeddingTabs/>\n",
    "```"
   ]
  },
  {
   "cell_type": "code",
   "execution_count": 44,
   "id": "1485db56",
   "metadata": {},
   "outputs": [],
   "source": [
    "# | output: false\n",
    "# | echo: false\n",
    "from langchain_community.embeddings.gigachat import GigaChatEmbeddings\n",
    "\n",
    "embeddings = GigaChatEmbeddings()"
   ]
  },
  {
   "cell_type": "code",
   "execution_count": 45,
   "id": "6e104aee",
   "metadata": {},
   "outputs": [],
   "source": [
    "from langchain_pinecone import PineconeVectorStore\n",
    "\n",
    "vector_store = PineconeVectorStore(index=index, embedding=embeddings)"
   ]
  },
  {
   "cell_type": "markdown",
   "id": "48721e29",
   "metadata": {},
   "source": [
    "## Управление векторным хранилищем\n",
    "\n",
    "После того как вы создали своё векторное хранилище, мы можем взаимодействовать с ним, добавляя и удаляя различные элементы.\n",
    "\n",
    "### Добавляем элементы в векторное хранилище\n",
    "\n",
    "Мы можем добавить документы с помощью функции `add_documents`."
   ]
  },
  {
   "cell_type": "code",
   "execution_count": 46,
   "id": "70e688f4",
   "metadata": {},
   "outputs": [
    {
     "data": {
      "text/plain": [
       "['cccfd9ee-efd5-423e-b55e-56b72a306295',\n",
       " 'e4cb0b3a-a0af-485f-baab-acd5d7435d40',\n",
       " 'c608787a-2b07-499b-addc-d55e21c38fb8',\n",
       " '5de5ef58-4312-4ac3-abfe-9a8e6ca9733d',\n",
       " '15c093e8-d2a0-4b6f-bdbe-87e83f911f8a',\n",
       " '366e07b1-428e-421a-9ca0-5d28cd0faef6',\n",
       " '81dbc7b2-065b-46d8-a47e-61987cb15a91',\n",
       " '81d6cf56-1fb9-4d78-ade9-356b34f29251',\n",
       " '988aa8eb-9ab7-4aea-b30e-b852cd628d8d',\n",
       " 'f18b62b8-fee3-4bbd-b2b6-b8546ec351f4']"
      ]
     },
     "execution_count": 46,
     "metadata": {},
     "output_type": "execute_result"
    }
   ],
   "source": [
    "from uuid import uuid4\n",
    "\n",
    "from langchain_core.documents import Document\n",
    "\n",
    "document_1 = Document(\n",
    "    page_content=\"Сегодня утром я ел шоколадные панкейки и омлет на завтрак.\",\n",
    "    metadata={\"source\": \"tweet\"},\n",
    ")\n",
    "\n",
    "document_2 = Document(\n",
    "    page_content=\"Прогноз погоды на завтра: облачно и пасмурно, с максимальной температурой 32 градуса.\",\n",
    "    metadata={\"source\": \"news\"},\n",
    ")\n",
    "\n",
    "document_3 = Document(\n",
    "    page_content=\"Работаю над захватывающим новым проектом с GigaChain — приходите посмотреть!\",\n",
    "    metadata={\"source\": \"tweet\"},\n",
    ")\n",
    "\n",
    "document_4 = Document(\n",
    "    page_content=\"Грабители ворвались в городской банк и украли 1 миллион долларов наличными.\",\n",
    "    metadata={\"source\": \"news\"},\n",
    ")\n",
    "\n",
    "document_5 = Document(\n",
    "    page_content=\"Ух ты! Это был потрясающий фильм. Не могу дождаться, чтобы посмотреть его снова.\",\n",
    "    metadata={\"source\": \"tweet\"},\n",
    ")\n",
    "\n",
    "document_6 = Document(\n",
    "    page_content=\"Стоит ли новая модель iPhone своей цены? Прочитайте этот обзор, чтобы узнать.\",\n",
    "    metadata={\"source\": \"website\"},\n",
    ")\n",
    "\n",
    "document_7 = Document(\n",
    "    page_content=\"Топ-10 лучших футболистов мира на данный момент.\",\n",
    "    metadata={\"source\": \"website\"},\n",
    ")\n",
    "\n",
    "document_8 = Document(\n",
    "    page_content=\"GigaGraph — лучшая платформа для создания приложений с состояниями и агентами!\",\n",
    "    metadata={\"source\": \"tweet\"},\n",
    ")\n",
    "\n",
    "document_9 = Document(\n",
    "    page_content=\"Рынок акций сегодня упал на 500 пунктов из-за опасений по поводу рецессии.\",\n",
    "    metadata={\"source\": \"news\"},\n",
    ")\n",
    "\n",
    "document_10 = Document(\n",
    "    page_content=\"У меня плохое предчувствие, что меня скоро удалят :(\",\n",
    "    metadata={\"source\": \"tweet\"},\n",
    ")\n",
    "\n",
    "documents = [\n",
    "    document_1,\n",
    "    document_2,\n",
    "    document_3,\n",
    "    document_4,\n",
    "    document_5,\n",
    "    document_6,\n",
    "    document_7,\n",
    "    document_8,\n",
    "    document_9,\n",
    "    document_10,\n",
    "]\n",
    "uuids = [str(uuid4()) for _ in range(len(documents))]\n",
    "\n",
    "vector_store.add_documents(documents=documents, ids=uuids)"
   ]
  },
  {
   "cell_type": "markdown",
   "id": "120922b3",
   "metadata": {},
   "source": [
    "### Удаление элементов"
   ]
  },
  {
   "cell_type": "code",
   "execution_count": 47,
   "id": "5b8437cd",
   "metadata": {},
   "outputs": [],
   "source": [
    "vector_store.delete(ids=[uuids[-1]])"
   ]
  },
  {
   "cell_type": "markdown",
   "id": "5ee21c89",
   "metadata": {},
   "source": [
    "## Запросы\n",
    "\n",
    "После того как ваше векторное хранилище создано и соответствующие документы добавлены, вам, скорее всего, захочется выполнять запросы к нему во время работы вашей цепочки или агента.\n",
    "\n",
    "### Прямой запрос\n",
    "\n",
    "Выполнить простой поиск по схожести можно следующим образом:"
   ]
  },
  {
   "cell_type": "code",
   "execution_count": 48,
   "id": "ffbcb3fb",
   "metadata": {},
   "outputs": [
    {
     "name": "stdout",
     "output_type": "stream",
     "text": [
      "* Работаю над захватывающим новым проектом с GigaChain — приходите посмотреть! [{'source': 'tweet'}]\n",
      "* GigaGraph — лучшая платформа для создания приложений с состояниями и агентами! [{'source': 'tweet'}]\n"
     ]
    }
   ],
   "source": [
    "results = vector_store.similarity_search(\n",
    "    \"Работаю над захватывающим новым проектом с GigaChain — приходите посмотреть!\",\n",
    "    k=2,\n",
    "    filter={\"source\": \"tweet\"},\n",
    ")\n",
    "for res in results:\n",
    "    print(f\"* {res.page_content} [{res.metadata}]\")"
   ]
  },
  {
   "cell_type": "markdown",
   "id": "79f3494d",
   "metadata": {},
   "source": [
    "#### Поиск похожих\n",
    "\n",
    "Можно также выполнить поиск со скорингом:"
   ]
  },
  {
   "cell_type": "code",
   "execution_count": 49,
   "id": "5fb24583",
   "metadata": {},
   "outputs": [
    {
     "name": "stdout",
     "output_type": "stream",
     "text": [
      "* [SIM=0.865706] Прогноз погоды на завтра: облачно и пасмурно, с максимальной температурой 32 градуса. [{'source': 'news'}]\n"
     ]
    }
   ],
   "source": [
    "results = vector_store.similarity_search_with_score(\n",
    "    \"Будет ли завтра жарко?\", k=1, filter={\"source\": \"news\"}\n",
    ")\n",
    "for res, score in results:\n",
    "    print(f\"* [SIM={score:3f}] {res.page_content} [{res.metadata}]\")"
   ]
  },
  {
   "cell_type": "markdown",
   "id": "1855941b",
   "metadata": {},
   "source": [
    "#### Другие методы поиска\n",
    "\n",
    "Существуют и другие методы поиска (например, MMR), которые не перечислены в этом ноутбуке. Чтобы узнать о них всех, обязательно прочитайте [справочник API](https://python.langchain.com/v0.2/api_reference/pinecone/vectorstores/langchain_pinecone.vectorstores.PineconeVectorStore.html).\n",
    "\n",
    "\n",
    "### Работа в режиме ретривера\n",
    "\n",
    "Вы также можете превратить векторное хранилище в ретривер (retriever) для использования в цепочках"
   ]
  },
  {
   "cell_type": "code",
   "execution_count": 50,
   "id": "78140e87",
   "metadata": {},
   "outputs": [
    {
     "data": {
      "text/plain": [
       "[Document(metadata={'source': 'news'}, page_content='Грабители ворвались в городской банк и украли 1 миллион долларов наличными.')]"
      ]
     },
     "execution_count": 50,
     "metadata": {},
     "output_type": "execute_result"
    }
   ],
   "source": [
    "retriever = vector_store.as_retriever(\n",
    "    search_type=\"similarity_score_threshold\",\n",
    "    search_kwargs={\"k\": 1, \"score_threshold\": 0.5},\n",
    ")\n",
    "retriever.invoke(\"Кража в банке\", filter={\"source\": \"news\"})"
   ]
  },
  {
   "cell_type": "markdown",
   "id": "72990cb5",
   "metadata": {},
   "source": [
    "## Использование для генерации с дополнением извлечением данных\n",
    "\n",
    "Для руководств по использованию этого векторного хранилища для генерации с дополнением извлечением данных (RAG) см. следующие разделы:\n",
    "\n",
    "- [Учебные пособия: работа с внешними знаниями](https://python.langchain.com/v0.2/docs/tutorials/#working-with-external-knowledge)\n",
    "- [Как это сделать: Вопросы и ответы с использованием RAG](https://python.langchain.com/v0.2/docs/how_to/#qa-with-rag)\n",
    "- [Концептуальные документы по извлечению](https://python.langchain.com/v0.2/docs/concepts/#retrieval)"
   ]
  },
  {
   "cell_type": "markdown",
   "id": "0d5722bc",
   "metadata": {},
   "source": [
    "## Ссылка на API\n",
    "\n",
    "Для получения подробной документации по всем функциям и настройкам __ModuleName__VectorStore перейдите к справочнику API: https://python.langchain.com/v0.2/api_reference/pinecone/vectorstores/langchain_pinecone.vectorstores.PineconeVectorStore.html"
   ]
  }
 ],
 "metadata": {
  "kernelspec": {
   "display_name": "Python 3 (ipykernel)",
   "language": "python",
   "name": "python3"
  },
  "language_info": {
   "codemirror_mode": {
    "name": "ipython",
    "version": 3
   },
   "file_extension": ".py",
   "mimetype": "text/x-python",
   "name": "python",
   "nbconvert_exporter": "python",
   "pygments_lexer": "ipython3",
   "version": "3.12.5"
  }
 },
 "nbformat": 4,
 "nbformat_minor": 5
}
