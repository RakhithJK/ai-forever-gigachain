{
 "cells": [
  {
   "cell_type": "markdown",
   "id": "07311335",
   "metadata": {},
   "source": [
    "# Работа с парсером JSON\n",
    "\n",
    "В этом разделе показано как использовать библиотеку промптов и JSON-парсер для генерации синонимов.\n",
    "\n",
    "Для начала обновите библиотеку и импортируйте необходимые компоненты:"
   ]
  },
  {
   "cell_type": "code",
   "execution_count": null,
   "id": "186d5b9f",
   "metadata": {},
   "outputs": [],
   "source": [
    "pip install -qU gigachain"
   ]
  },
  {
   "cell_type": "code",
   "execution_count": null,
   "id": "77e49a3d",
   "metadata": {},
   "outputs": [],
   "source": [
    "from langchain.chains import LLMChain\n",
    "from langchain_community.chat_models.gigachat import GigaChat\n",
    "from langchain.output_parsers.json import SimpleJsonOutputParser\n",
    "from langchain.prompts import load_prompt\n",
    "from langchain.prompts.chat import ChatPromptTemplate, SystemMessagePromptTemplate"
   ]
  },
  {
   "cell_type": "markdown",
   "id": "2de4b943",
   "metadata": {},
   "source": [
    "При инициализации объекта GigaChat передайте ему авторизационные данные, которые будут использоваться для обращения к модели:"
   ]
  },
  {
   "cell_type": "code",
   "execution_count": 9,
   "id": "ace93488",
   "metadata": {},
   "outputs": [],
   "source": [
    "giga = GigaChat(credentials=\"<авторизационные_данные>\", verify_ssl_certs=False)"
   ]
  },
  {
   "cell_type": "markdown",
   "id": "e71cc437",
   "metadata": {},
   "source": [
    "## Загрузка промпта\n",
    "\n",
    "Для генерации используется промт `synonyms_generation.yaml`, доступный в [каталоге промптов](../../../../../hub/prompts):\n",
    "\n",
    "```\n",
    "Сгенерируй от {dataset_size_min} до {dataset_size_max} синонимов для слова \"{subject}\".\n",
    "Результат верни в формате JSON списка без каких либо пояснений, например, [\"синоним1\", \"синоним2\", \"синоним3\", \"синоним4\"].\n",
    "Не дублируй фразы.\n",
    "```\n",
    "\n",
    "Каталог содержит проверенные промпты, которые помогают получить более стабильный результат.\n",
    "\n",
    "Загрузите промпт из GitHub-репозитория:"
   ]
  },
  {
   "cell_type": "code",
   "execution_count": 11,
   "id": "9240a3ae",
   "metadata": {},
   "outputs": [],
   "source": [
    "propmpt = ChatPromptTemplate.from_messages(\n",
    "    [\n",
    "        SystemMessagePromptTemplate(\n",
    "            prompt=load_prompt(\"lc://prompts/synonyms/synonyms_generation.yaml\")\n",
    "        )\n",
    "    ]\n",
    ")"
   ]
  },
  {
   "cell_type": "markdown",
   "id": "c22e4bb8",
   "metadata": {},
   "source": [
    "Вы также можете загружать промпты из локальных файлов:\n",
    "    \n",
    "```python\n",
    "propmpt = ChatPromptTemplate.from_messages(\n",
    "    [\n",
    "        SystemMessagePromptTemplate(\n",
    "            prompt = load_prompt(\"../../../../../hub/prompts/synonyms/synonyms_generation.yaml\")\n",
    "        )\n",
    "    ]\n",
    ")\n",
    "```"
   ]
  },
  {
   "cell_type": "markdown",
   "id": "4da7c865",
   "metadata": {},
   "source": [
    "## Сборка цепочки\n",
    "\n",
    "Промпт указывает модели вернуть результат в виде JSON.\n",
    "Поэтому, для получения структурированного результата используется JSON-парсер."
   ]
  },
  {
   "cell_type": "code",
   "execution_count": 12,
   "id": "ad62eacc",
   "metadata": {},
   "outputs": [],
   "source": [
    "chain = LLMChain(llm=giga, prompt=propmpt, output_parser=SimpleJsonOutputParser())"
   ]
  },
  {
   "cell_type": "markdown",
   "id": "579e9664",
   "metadata": {},
   "source": [
    "Ниже представлены несколько примеров генерации."
   ]
  },
  {
   "cell_type": "code",
   "execution_count": 14,
   "id": "96657765",
   "metadata": {},
   "outputs": [
    {
     "data": {
      "text/plain": [
       "['автомобиль', 'машина', 'автобус', 'грузовик', 'мотоцикл']"
      ]
     },
     "execution_count": 14,
     "metadata": {},
     "output_type": "execute_result"
    }
   ],
   "source": [
    "chain.run(dataset_size_min=5, dataset_size_max=10, subject=\"транспортное средство\")"
   ]
  },
  {
   "cell_type": "code",
   "execution_count": 6,
   "id": "568c392d",
   "metadata": {},
   "outputs": [
    {
     "data": {
      "text/plain": [
       "['мобильный телефон',\n",
       " 'сотовый телефон',\n",
       " 'карманный компьютер',\n",
       " 'коммуникатор',\n",
       " 'цифровой телефон']"
      ]
     },
     "execution_count": 6,
     "metadata": {},
     "output_type": "execute_result"
    }
   ],
   "source": [
    "chain.run(dataset_size_min=5, dataset_size_max=10, subject=\"смартфон\")"
   ]
  },
  {
   "cell_type": "code",
   "execution_count": 7,
   "id": "a914f2ed",
   "metadata": {},
   "outputs": [
    {
     "data": {
      "text/plain": [
       "['молоток',\n",
       " 'кувалда',\n",
       " 'клепальник',\n",
       " 'клепальный молоток',\n",
       " 'клепальница',\n",
       " 'клепальщик']"
      ]
     },
     "execution_count": 7,
     "metadata": {},
     "output_type": "execute_result"
    }
   ],
   "source": [
    "chain.run(dataset_size_min=5, dataset_size_max=10, subject=\"молоток\")"
   ]
  }
 ],
 "metadata": {
  "kernelspec": {
   "display_name": "Python 3 (ipykernel)",
   "language": "python",
   "name": "python3"
  },
  "language_info": {
   "codemirror_mode": {
    "name": "ipython",
    "version": 3
   },
   "file_extension": ".py",
   "mimetype": "text/x-python",
   "name": "python",
   "nbconvert_exporter": "python",
   "pygments_lexer": "ipython3",
   "version": "3.9.6"
  }
 },
 "nbformat": 4,
 "nbformat_minor": 5
}
