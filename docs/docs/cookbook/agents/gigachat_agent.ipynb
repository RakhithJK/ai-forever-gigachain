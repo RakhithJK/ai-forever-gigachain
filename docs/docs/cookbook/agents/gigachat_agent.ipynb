{
 "cells": [
  {
   "cell_type": "markdown",
   "metadata": {},
   "source": [
    "# Создание агента с функциями на базе GigaChat\n",
    "\n",
    "С помощью [нейросетевой модели GigaChat](https://developers.sber.ru/docs/ru/gigachat/overview) вы можете вызывать различные функции — инструменты, которые будет использовать модель для решения поставленной задачи.\n",
    "Модель самостоятельно решает, когда и какой инструмент нужно использовать. \n",
    "Вызванные функции выполняются на стороне клиента.\n",
    "Вы можете использовать функции как разработанные самостоятельно, так и доступные в GigaChain и сторонних библиотеках.\n",
    "\n",
    "Для использования функций нужно создать агента с помощью модуля [`gigachat_functions_agent`](/libs/langchain/langchain/agents/gigachat_functions_agent/base.py).\n",
    "\n",
    "Раздел содержит пример агента, который задает вопрос в поисковом сервисе DuckDuckGo и рисует ответ с помощью Ascii-графики. Итоговый агент не только умеет работать с разными инструментами, но и обладает памятью.\n",
    "\n",
    "## Подготовка к работе\n",
    "\n",
    "Перед началом работы установите необходимые зависимости:"
   ]
  },
  {
   "cell_type": "code",
   "execution_count": null,
   "metadata": {},
   "outputs": [],
   "source": [
    "pip install --upgrade --quiet gigachain gigachain-community duckduckgo-search pyfiglet"
   ]
  },
  {
   "cell_type": "markdown",
   "metadata": {},
   "source": [
    "## Агент с одной функцией\n",
    "\n",
    "Для создания агента с функцией обращения к поисковому сервису DuckDuckGo:\n",
    "\n",
    "1. Инициализируйте GigaChat.\n",
    "2. Добавьте функцию поиска в массив инструментов доступных модели.\n",
    "3. Передайте агенту модель и массив инструментов.\n",
    "\n",
    "### Инициализация GigaChat\n",
    "\n",
    "Для работы агента создайте экземпляр класса GigaChat.\n",
    "В классе укажите модель, поддерживающую работу с функциями:"
   ]
  },
  {
   "cell_type": "code",
   "execution_count": 24,
   "metadata": {},
   "outputs": [],
   "source": [
    "from langchain_community.chat_models.gigachat import GigaChat\n",
    "\n",
    "giga = GigaChat(\n",
    "    credentials=\"<авторизационные_данные>\",\n",
    "    scope=\"GIGACHAT_API_PERS\",\n",
    "    model=\"GigaChat\",\n",
    "    verify_ssl_certs=False,\n",
    ")"
   ]
  },
  {
   "cell_type": "markdown",
   "metadata": {},
   "source": [
    "Объект GigaChat принимает параметры:\n",
    "\n",
    "- `credentials` — авторизационные данные для обмена сообщениями с GigaChat API. О том как получить атворизационные данные — в разделе [Быстрый старт](/ru/gigachat/individuals-quickstart).\n",
    "- `scope` — необязательный параметр, в котором можно указать версию API, к которой нужно обратиться. Возможные значения:\n",
    "  \n",
    "  - `GIGACHAT_API_PERS` — версия API для физических лиц;\n",
    "  - `GIGACHAT_API_CORP` — версия API для ИП и юрлиц.\n",
    "\n",
    "  По умолчанию запросы передаются в версию для физических лиц.\n",
    "\n",
    "- `model` — необязательный параметр, в котором можно явно задать [модель GigaChat](/ru/gigachat/models).\n",
    "- `verify_ssl_certs` — необязательный параметр, с помощью которого можно отключить проверку [сертификатов НУЦ Минцифры](/ru/gigachat/certificates).\n",
    "\n",
    "[Подробнее о параметрах GigaChat](https://github.com/ai-forever/gigachat).\n",
    "\n",
    "### Добавление функции поиска\n",
    "\n",
    "Добавьте адаптер поискового сервиса [DuckDuckGo](https://www.duckduckgo.com) в список инструментов, которые будет использовать модель.\n",
    "\n",
    "Для этого импортируйте класс `DuckDuckGoSearchRun` и добавьте функцию `DuckDuckGoSearchRun()` в массив `tools`:\n",
    "\n"
   ]
  },
  {
   "cell_type": "code",
   "execution_count": 25,
   "metadata": {},
   "outputs": [],
   "source": [
    "from langchain_community.tools import DuckDuckGoSearchRun\n",
    "\n",
    "search_tool = DuckDuckGoSearchRun()\n",
    "tools = [search_tool]"
   ]
  },
  {
   "cell_type": "markdown",
   "metadata": {},
   "source": [
    "### Создание и запуск агента\n",
    "\n",
    "Инициализируйте агента. Передайте ему модель, которая будет вызывать функции, и массив доступных ей инструментов `tools`:"
   ]
  },
  {
   "cell_type": "code",
   "execution_count": 26,
   "metadata": {},
   "outputs": [],
   "source": [
    "from langchain.agents import AgentExecutor, create_gigachat_functions_agent\n",
    "\n",
    "agent = create_gigachat_functions_agent(giga, tools)\n",
    "\n",
    "# AgentExecutor создает среду, в которой будет работать агент\n",
    "agent_executor = AgentExecutor(\n",
    "    agent=agent,\n",
    "    tools=tools,\n",
    "    verbose=True,\n",
    ")"
   ]
  },
  {
   "cell_type": "markdown",
   "metadata": {},
   "source": [
    "Запустите агента с помощью функции `invoke()`:"
   ]
  },
  {
   "cell_type": "code",
   "execution_count": 27,
   "metadata": {},
   "outputs": [
    {
     "name": "stdout",
     "output_type": "stream",
     "text": [
      "\n",
      "\n",
      "\u001b[1m> Entering new AgentExecutor chain...\u001b[0m\n",
      "\u001b[32;1m\u001b[1;3m\n",
      "Invoking: `duckduckgo_search` with `{'query': 'текущий курс биткоина'}`\n",
      "responded: Ваш запрос принят. Идет обработка...\n",
      "\n",
      "\u001b[0m\u001b[36;1m\u001b[1;3mИспользуйте наш бесплатный конвертер для расчета BTC - USD. Текущий курс обмена BTC на USD составляет $67,214.77. Бесплатный конвертер в реальном времени на основе данных CoinMarketCap. Курс Биткоина, Bitcoin (BTC) — графики и цены. Создавайте оповещения и уведомления на цену биткоина онлайн в реальном времени. Курс Bitcoin к доллару США BTC/USD на графике онлайн. Курс Bitcoin сегодня: $63,224.57 за 1 BTC. Цена BTC в USD изменилась за последние 24 часа на +0.88% . Текущая рыночная капитализация Bitcoin — $1.25 трлн при суммарном ... Посмотрите технический анализ биткоина на сегодня. 🤑 Курс криптовалюты и другие актуальные данные. Прогноз цены btc на основе теханализа. Текущий курс биткоина (btc) к доллару на биржах ... Курс биткоина на 13.07.2024 г.: 57 738,08 $ 1 биткоинов в рублях - Изменение за последний месяц ...\u001b[0m\u001b[32;1m\u001b[1;3m67214.77\u001b[0m\n",
      "\n",
      "\u001b[1m> Finished chain.\u001b[0m\n"
     ]
    },
    {
     "data": {
      "text/plain": [
       "'67214.77'"
      ]
     },
     "execution_count": 27,
     "metadata": {},
     "output_type": "execute_result"
    }
   ],
   "source": [
    "agent_executor.invoke(\n",
    "    {\"input\": \"Найди текущий курс биткоина и напечатай только число\"}\n",
    ")[\"output\"]"
   ]
  },
  {
   "cell_type": "markdown",
   "metadata": {},
   "source": [
    "## Агент с несколькими функциями\n",
    "\n",
    "Для создания агента, который кроме поиска будет возвращать текст в виде Ascii-графики, вам потребуется библиотека pyfiglet.\n",
    "\n",
    "Библиотека умеет работать только с латинскими символами и цифрами.\n",
    "\n",
    "Пример работы pyfiglet:"
   ]
  },
  {
   "cell_type": "code",
   "execution_count": 19,
   "metadata": {},
   "outputs": [
    {
     "name": "stdout",
     "output_type": "stream",
     "text": [
      "          _______  _        _        _______  _ \n",
      "|\\     /|(  ____ \\( \\      ( \\      (  ___  )( )\n",
      "| )   ( || (    \\/| (      | (      | (   ) || |\n",
      "| (___) || (__    | |      | |      | |   | || |\n",
      "|  ___  ||  __)   | |      | |      | |   | || |\n",
      "| (   ) || (      | |      | |      | |   | |(_)\n",
      "| )   ( || (____/\\| (____/\\| (____/\\| (___) | _ \n",
      "|/     \\|(_______/(_______/(_______/(_______)(_)\n",
      "                                                \n",
      "\n"
     ]
    }
   ],
   "source": [
    "import pyfiglet\n",
    "\n",
    "pyfiglet.print_figlet(\"Hello!\", font=\"epic\")"
   ]
  },
  {
   "cell_type": "markdown",
   "metadata": {},
   "source": [
    "### Использование нескольких функций\n",
    "\n",
    "Чтобы упростить создание функций из python-кода, используйте декоратор `@tool`.\n",
    "Он преобразует любую функцию в инструмент, доступный модели для вызова.\n",
    "\n",
    ":::note\n",
    "\n",
    "Модель ориентируется как на название и описание функции, так и на описание и типы аргументов возвращаемого значения.\n",
    "Чтобы модель правильно понимала, как нужно использовать инструмент, все значения функции нужно явно указать.\n",
    "\n",
    ":::\n",
    "\n",
    "Создайте функцию `draw_banner()`, которая будет возвращать результат поиска в виде Ascii-графики, и добавьте ее в новый массив инструментов `new_tools`:"
   ]
  },
  {
   "cell_type": "code",
   "execution_count": 20,
   "metadata": {},
   "outputs": [],
   "source": [
    "from langchain.tools import tool\n",
    "\n",
    "\n",
    "@tool\n",
    "def draw_banner(number: str) -> str:\n",
    "    \"\"\"Рисует баннер с текстом результатов кода в виде Ascii-графики\n",
    "\n",
    "    Args:\n",
    "        number (str): Число, которое нужно нарисовать на баннере\n",
    "    \"\"\"\n",
    "    pyfiglet.print_figlet(number, font=\"epic\")\n",
    "    return \"Draw complete\"\n",
    "\n",
    "\n",
    "new_tools = [search_tool, draw_banner]"
   ]
  },
  {
   "cell_type": "markdown",
   "metadata": {},
   "source": [
    "Инициализируйте и запустите агента с просьбой найти нужное значение и нарисовать его на баннере:"
   ]
  },
  {
   "cell_type": "code",
   "execution_count": 21,
   "metadata": {},
   "outputs": [
    {
     "name": "stdout",
     "output_type": "stream",
     "text": [
      "\n",
      "\n",
      "\u001b[1m> Entering new AgentExecutor chain...\u001b[0m\n",
      "\u001b[32;1m\u001b[1;3m\n",
      "Invoking: `duckduckgo_search` with `{'query': 'курс биткоина в долларах'}`\n",
      "\n",
      "\n",
      "\u001b[0m\u001b[36;1m\u001b[1;3mИспользуйте наш бесплатный конвертер для расчета BTC - USD. Текущий курс обмена BTC на USD составляет $67,214.77. Бесплатный конвертер в реальном времени на основе данных CoinMarketCap. Курс Биткоина, Bitcoin (BTC) — графики и цены. Создавайте оповещения и уведомления на цену биткоина онлайн в реальном времени. Узнайте сколько будет ₿1 Биткоин (btc) в Долларах США (usd) - на данный момент. Получите реальные курсы обмена, анализ и динамику изменений валютной пары на графике и в таблице. Онлайн конвертер Биткоин (btc) в Доллар (USD) ⚡ Перевести биткоин в доллар по сегодняшнему курсу Курс в банках Курс в обменниках Курс НБУ Стоимость 10000 биткоинов в долларах США на сегодня составляет 680 216 904,85 $ по данным ЦБ РФ, по сравнению со вчерашним днём курс валюты увеличился на 1,26% (на +855,76 $). Курс биткоина по отношению к доллару США на графике ...\u001b[0m\u001b[32;1m\u001b[1;3m\n",
      "Invoking: `draw_banner` with `{'number': '67,214.77'}`\n",
      "responded: Ваш запрос принят. Идет обработка...\n",
      "\n",
      "\u001b[0m  ______ ______   _______  __      ___    ______   ______  \n",
      " / ____ Y ___  \\ / ___   )/  \\    /   )  / ___  \\ / ___  \\ \n",
      "( (    \\|/   )  )\\/   )  |\\/) )  / /) |  \\/   )  )\\/   )  )\n",
      "| (____     /  /     /   )  | | / (_) (_     /  /     /  / \n",
      "|  ___ \\   /  /    _/   /   | |(____   _)   /  /     /  /  \n",
      "| (   ) ) /  /    /   _/    | |     ) (    /  /     /  /   \n",
      "( (___) )/  /  _ (   (__/\\__) (_    | | _ /  /     /  /    \n",
      " \\_____/ \\_/  ( )\\_______/\\____/    (_)(_)\\_/      \\_/     \n",
      "              |/                                           \n",
      "\n",
      "\u001b[33;1m\u001b[1;3mDraw complete\u001b[0m\u001b[32;1m\u001b[1;3m- вот банер с текущим курсом биткоина к доллару.\u001b[0m\n",
      "\n",
      "\u001b[1m> Finished chain.\u001b[0m\n"
     ]
    },
    {
     "data": {
      "text/plain": [
       "'- вот банер с текущим курсом биткоина к доллару.'"
      ]
     },
     "execution_count": 21,
     "metadata": {},
     "output_type": "execute_result"
    }
   ],
   "source": [
    "agent = create_gigachat_functions_agent(giga, new_tools)\n",
    "\n",
    "agent_executor = AgentExecutor(\n",
    "    agent=agent,\n",
    "    tools=new_tools,\n",
    "    verbose=True,\n",
    ")\n",
    "\n",
    "agent_executor.invoke(\n",
    "    {\n",
    "        \"input\": \"Найди в интернете курс биткоина в долларах и нарисуй это число на банере.\"\n",
    "    }\n",
    ")[\"output\"]"
   ]
  },
  {
   "cell_type": "markdown",
   "metadata": {},
   "source": [
    "## Добавление памяти\n",
    "\n",
    "В созданном агенте отсутствуют данные о состоянии, таким образом, он не помнит предыдущие взаимодействия с пользователем.\n",
    "\n",
    "Чтобы агент помнил, о чем пользователь разговаривал с ним, передайте историю сообщений в переменной `chat_history`:"
   ]
  },
  {
   "cell_type": "code",
   "execution_count": 22,
   "metadata": {},
   "outputs": [
    {
     "data": {
      "text/plain": [
       "{'chat_history': [HumanMessage(content='Привет! Запомни трех животных - слон, жираф, крокодил'),\n",
       "  AIMessage(content='Привет! Хорошо, я запомнил.')],\n",
       " 'input': 'Что я просил тебя запомнить?',\n",
       " 'output': 'Вы просили меня запомнить слона, жирафа и крокодила.'}"
      ]
     },
     "execution_count": 22,
     "metadata": {},
     "output_type": "execute_result"
    }
   ],
   "source": [
    "from langchain_core.messages import AIMessage, HumanMessage\n",
    "\n",
    "agent_executor = AgentExecutor(\n",
    "    agent=agent,\n",
    "    tools=new_tools,\n",
    "    verbose=False,\n",
    ")\n",
    "\n",
    "agent_executor.invoke(\n",
    "    {\n",
    "        \"chat_history\": [\n",
    "            HumanMessage(\n",
    "                content=\"Привет! Запомни трех животных - слон, жираф, крокодил\"\n",
    "            ),\n",
    "            AIMessage(content=\"Привет! Хорошо, я запомнил.\"),\n",
    "        ],\n",
    "        \"input\": \"Что я просил тебя запомнить?\",\n",
    "    }\n",
    ")"
   ]
  },
  {
   "cell_type": "markdown",
   "metadata": {},
   "source": [
    "### Использование памяти в чате с агентом\n",
    "\n",
    "Вы можете использовать память для сохранения истории и промежуточных результатов общения пользователя с агентом:"
   ]
  },
  {
   "cell_type": "code",
   "execution_count": 33,
   "metadata": {},
   "outputs": [
    {
     "name": "stdout",
     "output_type": "stream",
     "text": [
      "Пользователь: Меня зовут Вася\n",
      "\n",
      "\n",
      "\u001b[1m> Entering new AgentExecutor chain...\u001b[0m\n",
      "\u001b[32;1m\u001b[1;3mЗдравствуйте, Вася! Я генеративная языковая модель, созданная разработчиками Сбера. Могу ли я чем-то вам помочь?\u001b[0m\n",
      "\n",
      "\u001b[1m> Finished chain.\u001b[0m\n",
      "Агент: Здравствуйте, Вася! Я генеративная языковая модель, созданная разработчиками Сбера. Могу ли я чем-то вам помочь?\n",
      "Пользователь: Как меня зовут?\n",
      "\n",
      "\n",
      "\u001b[1m> Entering new AgentExecutor chain...\u001b[0m\n",
      "\u001b[32;1m\u001b[1;3mВас зовут Вася.\u001b[0m\n",
      "\n",
      "\u001b[1m> Finished chain.\u001b[0m\n",
      "Агент: Вас зовут Вася.\n",
      "Пользователь: \n"
     ]
    }
   ],
   "source": [
    "chat_history = []\n",
    "while True:\n",
    "    user_input = input(\"Вы: \")\n",
    "    print(f\"Пользователь: {user_input}\")\n",
    "    if user_input == \"\":\n",
    "        break\n",
    "    result = agent_executor.invoke(\n",
    "        {\n",
    "            \"chat_history\": chat_history,\n",
    "            \"input\": user_input,\n",
    "        }\n",
    "    )\n",
    "    chat_history.append(HumanMessage(content=user_input))\n",
    "    chat_history.append(AIMessage(content=result[\"output\"]))\n",
    "    print(f\"Агент: {result['output']}\")"
   ]
  }
 ],
 "metadata": {
  "kernelspec": {
   "display_name": "venv",
   "language": "python",
   "name": "python3"
  },
  "language_info": {
   "codemirror_mode": {
    "name": "ipython",
    "version": 3
   },
   "file_extension": ".py",
   "mimetype": "text/x-python",
   "name": "python",
   "nbconvert_exporter": "python",
   "pygments_lexer": "ipython3",
   "version": "3.9.6"
  }
 },
 "nbformat": 4,
 "nbformat_minor": 2
}
