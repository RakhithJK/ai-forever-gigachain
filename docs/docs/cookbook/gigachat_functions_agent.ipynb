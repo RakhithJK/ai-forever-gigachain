{
 "cells": [
  {
   "cell_type": "markdown",
   "id": "3ea857b1",
   "metadata": {},
   "source": [
    "# Создание агента для работы с функциями GigaChat\n",
    "\n",
    "В раделе приводится пример создания агента, который использует функции GigaChat.\n",
    "\n",
    ":::note\n",
    "\n",
    "Подробнее о функциях — в разделе документации GigaChat API [Работа с функциями](https://developers.sber.ru/docs/ru/gigachat/api/function-calling).\n",
    "\n",
    ":::\n",
    "\n",
    "Итоговый агент будет работать с тремя функциями:\n",
    "\n",
    "* расчета расстояния;\n",
    "* отправки SMS-сообщения;\n",
    "* поиска фильмов."
   ]
  },
  {
   "cell_type": "markdown",
   "id": "5e7543fa",
   "metadata": {},
   "source": [
    "## Подготовка к разработке\n",
    "\n",
    "Перед разработкой агента инициализируйте GigaChat.\n",
    "\n",
    "Для лучшего результата в примере используется модель GigaChat-Pro.\n",
    "Вы можете использвать любую из доступных [моделей](https://developers.sber.ru/docs/ru/gigachat/models)."
   ]
  },
  {
   "cell_type": "code",
   "execution_count": 40,
   "id": "b36cd44e",
   "metadata": {},
   "outputs": [],
   "source": [
    "from langchain.chat_models.gigachat import GigaChat\n",
    "\n",
    "giga = GigaChat(credentials=\"...\", model=\"GigaChat-Pro\", timeout=30)\n",
    "# giga.verbose = True"
   ]
  },
  {
   "cell_type": "markdown",
   "id": "f986347a",
   "metadata": {},
   "source": [
    "## Создание функции\n",
    "\n",
    "Для создания и поисания функций, которые сможет вызывать модель используйте декоратор `@tool`.\n",
    "\n",
    ":::tip\n",
    "\n",
    "Модели GigaChat значительно лучше работают с функциями, которые описаны согласно приведенным примерам.\n",
    "При описании функции уделяйте внимание подробному описанию структуры входных и выходных данных, не забывайте указывать краткое описание самой функции и примеры ее использования.\n",
    "\n",
    "[Ниже](#functions-descriptions-example) вы найдете несколько примеров хорошо описанных функций.\n",
    "\n",
    ":::\n",
    "\n",
    "### Описание функции отправки СМС-сообщений"
   ]
  },
  {
   "cell_type": "code",
   "execution_count": 41,
   "id": "921afeaa",
   "metadata": {},
   "outputs": [],
   "source": [
    "from langchain.tools import tool\n",
    "from langchain_core.pydantic_v1 import BaseModel, Field\n",
    "\n",
    "\n",
    "class SendSmsResult(BaseModel):\n",
    "    status: str = Field(description=\"Статус отправки сообщения\")\n",
    "    message: str = Field(description=\"Сообщение о результате отправки SMS\")\n",
    "\n",
    "\n",
    "few_shot_examples = [\n",
    "    {\n",
    "        \"request\": \"Можешь ли ты отправить SMS-сообщение на номер 123456789 с содержимым 'Привет, как дела?'\",\n",
    "        \"params\": {\"recipient\": \"123456789\", \"message\": \"Привет, как дела?\"},\n",
    "    }\n",
    "]\n",
    "\n",
    "\n",
    "@tool(few_shot_examples=few_shot_examples)\n",
    "def send_sms(\n",
    "    recipient: str = Field(description=\"Номер телефона получателя\"),\n",
    "    message: str = Field(description=\"Содержимое сообщения\"),\n",
    ") -> SendSmsResult:\n",
    "    \"\"\"Отправить SMS-сообщение\"\"\"\n",
    "    print(f\"! send_sms to {recipient}, text: {message}\")\n",
    "    # Здесь должна быть реальная отправка СМС через внешний шлюз\n",
    "    return SendSmsResult(status=\"OK\", message=\"Сообщение отправлено!\")"
   ]
  },
  {
   "cell_type": "markdown",
   "id": "66be09d6",
   "metadata": {},
   "source": [
    "## Создание агента\n",
    "\n",
    "Для инициализации агента используйте метод `create_gigachat_functions_agent(model, tools)`, который принимает на вход объект модели и массив функций, которые сможетвызывать модель."
   ]
  },
  {
   "cell_type": "code",
   "execution_count": 42,
   "id": "53926a48",
   "metadata": {},
   "outputs": [],
   "source": [
    "from langchain.agents import AgentExecutor, create_gigachat_functions_agent\n",
    "from langchain_core.messages import AIMessage, HumanMessage, SystemMessage\n",
    "\n",
    "tools = [send_sms]\n",
    "agent = create_gigachat_functions_agent(giga, tools)\n",
    "\n",
    "agent_executor = AgentExecutor(\n",
    "    agent=agent,\n",
    "    tools=tools,\n",
    "    verbose=False,\n",
    ")"
   ]
  },
  {
   "cell_type": "markdown",
   "id": "84443c6f",
   "metadata": {},
   "source": [
    "Попробуйте отдать агенту команду для отправки СМС-сообщения."
   ]
  },
  {
   "cell_type": "code",
   "execution_count": 44,
   "id": "af0398d5",
   "metadata": {},
   "outputs": [
    {
     "name": "stdout",
     "output_type": "stream",
     "text": [
      "User: Отправь поздравление с днем рождения на номер +79992223344\n",
      "! send_sms to +79992223344, text: С днем рождения!\n",
      "\u001b[93mBot: Поздравление успешно отправлено на указанный номер.\u001b[0m\n"
     ]
    }
   ],
   "source": [
    "import time\n",
    "\n",
    "\n",
    "def chat(agent_executor):\n",
    "    chat_history = [\n",
    "        SystemMessage(\n",
    "            content=\"Ты полезный ассистент. Выполняй команды пользователя, уточняй недостающие данные.\"\n",
    "        )\n",
    "    ]\n",
    "\n",
    "    while True:\n",
    "        user_input = input(\"Клиент: \")\n",
    "        if user_input == \"\":\n",
    "            break\n",
    "        print(f\"User: {user_input}\")\n",
    "        result = agent_executor.invoke(\n",
    "            {\n",
    "                \"chat_history\": chat_history,\n",
    "                \"input\": user_input,\n",
    "            }\n",
    "        )\n",
    "        chat_history.append(HumanMessage(content=user_input))\n",
    "        chat_history.append(AIMessage(content=result[\"output\"]))\n",
    "        print(\"\\033[93m\" + f\"Bot: {result['output']}\" + \"\\033[0m\")\n",
    "        time.sleep(0.2)\n",
    "\n",
    "\n",
    "chat(agent_executor)"
   ]
  },
  {
   "cell_type": "markdown",
   "id": "bd9f9d30",
   "metadata": {},
   "source": [
    "> Обратите внимание, что в данном примере в истории диалога не сохраняется информация о вызове функции и его результате."
   ]
  },
  {
   "cell_type": "markdown",
   "id": "904b74a9",
   "metadata": {},
   "source": [
    "## Работа с несоклькими функциями\n",
    "\n",
    "Опишите еще две функции: для поиска фильмов и для расчета расстояния.\n",
    "\n",
    "### Функция поиска фильмов\n",
    "\n",
    "В примере приводится функцися посика фильмов на основе некторых параметров."
   ]
  },
  {
   "cell_type": "code",
   "execution_count": 48,
   "id": "b5177fcd",
   "metadata": {},
   "outputs": [],
   "source": [
    "from typing import List, Optional\n",
    "\n",
    "\n",
    "class SearchMoviesResult(BaseModel):\n",
    "    movies: List[str] = Field(\n",
    "        description=\"Список названий фильмов, соответствующих заданным критериям поиска\"\n",
    "    )\n",
    "\n",
    "\n",
    "few_shot_examples = [\n",
    "    {\"request\": \"Найди все фильмы жанра комедия\", \"params\": {\"genre\": \"комедия\"}}\n",
    "]\n",
    "\n",
    "\n",
    "@tool(few_shot_examples=few_shot_examples)\n",
    "def search_movies(\n",
    "    genre: Optional[str] = Field(None, description=\"Жанр фильма\"),\n",
    "    year: Optional[int] = Field(None, description=\"Год выпуска фильма\"),\n",
    "    actor: Optional[str] = Field(None, description=\"Имя актера, снимавшегося в фильме\"),\n",
    ") -> SearchMoviesResult:\n",
    "    \"\"\"Поиск фильмов на основе заданных критериев\"\"\"\n",
    "    print(f\"! search_movies genre {genre}, year: {year}, actor: {actor}\")\n",
    "    # Здесь должна быть реальная отправка СМС через внешний шлюз\n",
    "    return SearchMoviesResult(movies=[\"Опенгеймер\"])"
   ]
  },
  {
   "cell_type": "markdown",
   "id": "de13f00b",
   "metadata": {},
   "source": [
    "### Функция расчета расстояний\n",
    "\n",
    "В примере приводится функция, которая вычисляет расстояние между заданными начальным и конечным пуктами."
   ]
  },
  {
   "cell_type": "code",
   "execution_count": 49,
   "id": "891a896e",
   "metadata": {},
   "outputs": [],
   "source": [
    "class TripDistanceResult(BaseModel):\n",
    "    distance: int = Field(\n",
    "        description=\"Расстояние между начальным и конечным местоположением в километрах\"\n",
    "    )\n",
    "\n",
    "\n",
    "few_shot_examples = [\n",
    "    {\n",
    "        \"request\": \"Насколько далеко от Москвы до Санкт-Петербурга?\",\n",
    "        \"params\": {\"start_location\": \"Москва\", \"end_location\": \"Санкт-Петербург\"},\n",
    "    }\n",
    "]\n",
    "\n",
    "\n",
    "@tool(few_shot_examples=few_shot_examples)\n",
    "def calculate_trip_distance(\n",
    "    start_location: str = Field(description=\"Начальное местоположение\"),\n",
    "    end_location: str = Field(description=\"Конечное местоположение\"),\n",
    ") -> TripDistanceResult:\n",
    "    \"\"\"Рассчитать расстояние между двумя местоположениями.\"\"\"\n",
    "    print(\n",
    "        f\"! calculate_trip_distance start_location {start_location}, end_location: {end_location}\"\n",
    "    )\n",
    "    # Здесь должна быть реальная отправка СМС через внешний шлюз\n",
    "    return TripDistanceResult(distance=650)"
   ]
  },
  {
   "cell_type": "markdown",
   "id": "a0f01b2b",
   "metadata": {},
   "source": [
    "Передайте функции в агент и обратитесь к нему с подходящими запросами."
   ]
  },
  {
   "cell_type": "code",
   "execution_count": 50,
   "id": "e3ddc5dd",
   "metadata": {},
   "outputs": [
    {
     "name": "stdout",
     "output_type": "stream",
     "text": [
      "User: Найди фильмы Нолана за 2023\n",
      "! search_movies genre description='Жанр фильма' extra={}, year: 2023, actor: Нолан\n",
      "\u001b[93mBot: Фильм Нолана за 2023 год - \"Опенгеймер\".\u001b[0m\n",
      "User: Сколько ехать из Москвы в Питер?\n",
      "! calculate_trip_distance start_location Москва, end_location: Санкт-Петербург\n",
      "\u001b[93mBot: Из Москвы в Санкт-Петербург примерно 650 километров пути.\u001b[0m\n"
     ]
    }
   ],
   "source": [
    "tools = [send_sms, search_movies, calculate_trip_distance]\n",
    "agent = create_gigachat_functions_agent(giga, tools)\n",
    "\n",
    "agent_executor = AgentExecutor(\n",
    "    agent=agent,\n",
    "    tools=tools,\n",
    "    verbose=False,\n",
    ")\n",
    "\n",
    "chat(agent_executor)"
   ]
  },
  {
   "cell_type": "markdown",
   "id": "b2a9bfb4",
   "metadata": {},
   "source": [
    "## Смотрите также\n",
    "\n",
    "* [Работа с функциями](https://developers.sber.ru/docs/ru/gigachat/api/function-calling)"
   ]
  }
 ],
 "metadata": {
  "kernelspec": {
   "display_name": "Python 3 (ipykernel)",
   "language": "python",
   "name": "python3"
  },
  "language_info": {
   "codemirror_mode": {
    "name": "ipython",
    "version": 3
   },
   "file_extension": ".py",
   "mimetype": "text/x-python",
   "name": "python",
   "nbconvert_exporter": "python",
   "pygments_lexer": "ipython3",
   "version": "3.11.6"
  }
 },
 "nbformat": 4,
 "nbformat_minor": 5
}
