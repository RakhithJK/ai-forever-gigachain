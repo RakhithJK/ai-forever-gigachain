{
    "cells": [
        {
            "cell_type": "markdown",
            "id": "b022ab74-794d-4c54-ad47-ff9549ddb9d2",
            "metadata": {},
            "source": [
                "# Передача данных между шагами цепочки\n",
                "\n",
                ":::note\n",
                "\n",
                "С этим руководством будет проще работать, если ознакомиться с разделами:\n",
                "- [LangChain Expression Language (LCEL)](/docs/concepts/#langchain-expression-language)\n",
                "- [Соединение Runnable в цепочку](/docs/how_to/sequence/)\n",
                "- [Обработка входных и выходных данных](/docs/how_to/parallel/)\n",
                "- [Запуск собственных функций](/docs/how_to/functions/)\n",
                "\n",
                ":::\n",
                "\n",
                "При составлении цепочек из нескольких шагов иногда возникает необходимость передать данные из предыдущих шагов без изменений для использования в качестве входных данных для последующего шага. Эту задачу можно решить с помощью класса [`RunnablePassthrough`](https://api.python.langchain.com/en/latest/runnables/langchain_core.runnables.passthrough.RunnablePassthrough.html), который обычно используется в сочетании с [`RunnableParallel`](/docs/how_to/parallel/) для передачи данных на последующий шаг цепочки.\n",
                "\n",
                "Пример:"
            ]
        },
        {
            "cell_type": "code",
            "execution_count": null,
            "id": "e169b952",
            "metadata": {},
            "outputs": [],
            "source": [
                "%pip install --upgrade --quiet  gigachain"
            ]
        },
        {
            "cell_type": "code",
            "execution_count": 2,
            "id": "03988b8d-d54c-4492-8707-1594372cf093",
            "metadata": {},
            "outputs": [
                {
                    "data": {
                        "text/plain": [
                            "{'passed': {'num': 1}, 'modified': 2}"
                        ]
                    },
                    "execution_count": 2,
                    "metadata": {},
                    "output_type": "execute_result"
                }
            ],
            "source": [
                "from langchain_core.runnables import RunnableParallel, RunnablePassthrough\n",
                "\n",
                "runnable = RunnableParallel(\n",
                "    passed=RunnablePassthrough(),\n",
                "    modified=lambda x: x[\"num\"] + 1,\n",
                ")\n",
                "\n",
                "runnable.invoke({\"num\": 1})"
            ]
        },
        {
            "cell_type": "markdown",
            "id": "702c7acc-cd31-4037-9489-647df192fd7c",
            "metadata": {},
            "source": [
                "В примере выше поле `passed` вызывается со значением `RunnablePassthrough()`, поэтому ему передается `{'num': 1}`. \n",
                "\n",
                "В map-структуре также задано поле `modified`.\n",
                "Поле содержит лямбда-функцию, которая добавляет 1 к `num`, поэтому поле `modified` принимает значение `2`."
            ]
        },
        {
            "cell_type": "markdown",
            "id": "15187a3b-d666-4b9b-a258-672fc51fe0e2",
            "metadata": {},
            "source": [
                "## Пример извлечения данных\n",
                "\n",
                "Пример ниже демонстрирует совместную работу `RunnablePassthrough` и `RunnableParallel`."
            ]
        },
        {
            "cell_type": "code",
            "execution_count": 3,
            "id": "267d1460-53c1-4fdb-b2c3-b6a1eb7fccff",
            "metadata": {},
            "outputs": [
                {
                    "data": {
                        "text/plain": [
                            "'Harrison worked at Kensho.'"
                        ]
                    },
                    "execution_count": 3,
                    "metadata": {},
                    "output_type": "execute_result"
                }
            ],
            "source": [
                "from langchain_community.chat_models.gigachat import GigaChat\n",
                "from langchain_community.embeddings.gigachat import GigaChatEmbeddings\n",
                "from langchain_community.vectorstores import FAISS\n",
                "from langchain_core.output_parsers import StrOutputParser\n",
                "from langchain_core.prompts import ChatPromptTemplate\n",
                "from langchain_core.runnables import RunnablePassthrough\n",
                "\n",
                "vectorstore = FAISS.from_texts(\n",
                "    [\"harrison worked at kensho\"],\n",
                "    embedding=GigaChatEmbeddings(\n",
                "        credentials=\"<авторизационные_данные>\", verify_ssl_certs=False\n",
                "    ),\n",
                ")\n",
                "retriever = vectorstore.as_retriever()\n",
                "template = \"\"\"Answer the question based only on the following context:\n",
                "{context}\n",
                "\n",
                "Question: {question}\n",
                "\"\"\"\n",
                "prompt = ChatPromptTemplate.from_template(template)\n",
                "model = GigaChat(credentials=\"<авторизационные_данные>\", verify_ssl_certs=False)\n",
                "\n",
                "retrieval_chain = (\n",
                "    {\"context\": retriever, \"question\": RunnablePassthrough()}\n",
                "    | prompt\n",
                "    | model\n",
                "    | StrOutputParser()\n",
                ")\n",
                "\n",
                "retrieval_chain.invoke(\"where did harrison work?\")"
            ]
        },
        {
            "cell_type": "markdown",
            "id": "392cd4c4-e7ed-4ab8-934d-f7a4eca55ee1",
            "metadata": {},
            "source": [
                "В примере на вход в промпт нужно передавать данные в формате map-структуры с полями `context` и `question`.\n",
                "Ввод пользователя — это просто вопрос.\n",
                "Поэтому нужно получить контекст с помощью ретривера и передать ввод пользователя в поле  `question`.\n",
                "В данном случае за передачу в модель вопроса пользователя и промпта отвечает экземпляр `RunnablePassthrough`."
            ]
        }
    ],
    "metadata": {
        "kernelspec": {
            "display_name": "Python 3 (ipykernel)",
            "language": "python",
            "name": "python3"
        },
        "language_info": {
            "codemirror_mode": {
                "name": "ipython",
                "version": 3
            },
            "file_extension": ".py",
            "mimetype": "text/x-python",
            "name": "python",
            "nbconvert_exporter": "python",
            "pygments_lexer": "ipython3",
            "version": "3.9.1"
        }
    },
    "nbformat": 4,
    "nbformat_minor": 5
}