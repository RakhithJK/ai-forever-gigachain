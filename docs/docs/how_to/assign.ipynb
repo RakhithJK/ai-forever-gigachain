{
 "cells": [
  {
<<<<<<< HEAD
   "cell_type": "markdown",
   "metadata": {},
   "source": [
    "# Добавление значений к состоянию цепочки\n",
    "\n",
    ":::info Prerequisites\n",
    "\n",
    "Статический метод `RunnablePassthrough.assign(...)` принимает входное значение и добавляет аргументы, переданные в функцию assign.\n",
    "\n",
    "Используйте метод для аддитивного создания словаря, который будет использоваться в качестве входных данных для последующего шага.\n",
    "Такой подход часто используется при работе с LCEL."
=======
   "cell_type": "raw",
   "metadata": {},
   "source": [
    "---\n",
    "sidebar_position: 6\n",
    "keywords: [RunnablePassthrough, assign, LCEL]\n",
    "---"
   ]
  },
  {
   "cell_type": "markdown",
   "metadata": {},
   "source": [
    "# How to add values to a chain's state\n",
    "\n",
    ":::info Prerequisites\n",
    "\n",
    "This guide assumes familiarity with the following concepts:\n",
    "- [LangChain Expression Language (LCEL)](/docs/concepts/#langchain-expression-language)\n",
    "- [Chaining runnables](/docs/how_to/sequence/)\n",
    "- [Calling runnables in parallel](/docs/how_to/parallel/)\n",
    "- [Custom functions](/docs/how_to/functions/)\n",
    "- [Passing data through](/docs/how_to/passthrough)\n",
    "\n",
    ":::\n",
    "\n",
    "An alternate way of [passing data through](/docs/how_to/passthrough) steps of a chain is to leave the current values of the chain state unchanged while assigning a new value under a given key. The [`RunnablePassthrough.assign()`](https://api.python.langchain.com/en/latest/runnables/langchain_core.runnables.passthrough.RunnablePassthrough.html#langchain_core.runnables.passthrough.RunnablePassthrough.assign) static method takes an input value and adds the extra arguments passed to the assign function.\n",
    "\n",
    "This is useful in the common [LangChain Expression Language](/docs/concepts/#langchain-expression-language) pattern of additively creating a dictionary to use as input to a later step.\n",
    "\n",
    "Here's an example:"
>>>>>>> langchan/master
   ]
  },
  {
   "cell_type": "code",
   "execution_count": null,
   "metadata": {},
   "outputs": [],
   "source": [
<<<<<<< HEAD
    "%pip install --upgrade --quiet gigachain"
=======
    "%pip install --upgrade --quiet langchain langchain-openai\n",
    "\n",
    "import os\n",
    "from getpass import getpass\n",
    "\n",
    "os.environ[\"OPENAI_API_KEY\"] = getpass()"
>>>>>>> langchan/master
   ]
  },
  {
   "cell_type": "code",
   "execution_count": 2,
   "metadata": {},
   "outputs": [
    {
     "data": {
      "text/plain": [
       "{'extra': {'num': 1, 'mult': 3}, 'modified': 2}"
      ]
     },
     "execution_count": 2,
     "metadata": {},
     "output_type": "execute_result"
    }
   ],
   "source": [
    "from langchain_core.runnables import RunnableParallel, RunnablePassthrough\n",
    "\n",
    "runnable = RunnableParallel(\n",
    "    extra=RunnablePassthrough.assign(mult=lambda x: x[\"num\"] * 3),\n",
    "    modified=lambda x: x[\"num\"] + 1,\n",
    ")\n",
    "\n",
    "runnable.invoke({\"num\": 1})"
   ]
  },
  {
   "cell_type": "markdown",
   "metadata": {},
   "source": [
    "Let's break down what's happening here.\n",
    "\n",
<<<<<<< HEAD
    "Разберем представленный пример:\n",
    "\n",
    "* На вход в цепочку передается значение `{\"num\": 1}`. Значение попадает в экземпляр `RunnableParallel`, который использует его при параллельном вызове Runnable-объектов.\n",
    "* Вызывается поле `extra`. Метод `RunnablePassthrough.assign()` сохраняет первичное значение `{\"num\": 1}` в словаре и создает поле `mult` со значением `lambda x: x[\"num\"] * 3)` (то есть `3`). Итоговый результат: `{\"num\": 1, \"mult\": 3}`.\n",
    "* Значение `{\"num\": 1, \"mult\": 3}` возвращается в `RunnableParallel` и помещается в поле `exrtra`.\n",
    "* В это же время вызывается поле `modified`. Значение поля — лямбда-функция, которая добавляет единицу к `\"num\"`. Поэтому `modified` принимает значение `2`.\n",
    "\n",
    "Таким образом, результат работы примера — `{'extra': {'num': 1, 'mult': 3}, 'modified': 2}`.\n",
    "\n",
    "## Обработка потоковой генерации\n",
    "\n",
    "Отличительной особенностью метода является возможность передавать значения по мере их поступления.\n",
    "Для демострации используем `RunnablePassthrough.assign()`, чтобы сразу возвращать исходные документы цепочки."
=======
    "- The input to the chain is `{\"num\": 1}`. This is passed into a `RunnableParallel`, which invokes the runnables it is passed in parallel with that input.\n",
    "- The value under the `extra` key is invoked. `RunnablePassthrough.assign()` keeps the original keys in the input dict (`{\"num\": 1}`), and assigns a new key called `mult`. The value is `lambda x: x[\"num\"] * 3)`, which is `3`. Thus, the result is `{\"num\": 1, \"mult\": 3}`.\n",
    "- `{\"num\": 1, \"mult\": 3}` is returned to the `RunnableParallel` call, and is set as the value to the key `extra`.\n",
    "- At the same time, the `modified` key is called. The result is `2`, since the lambda extracts a key called `\"num\"` from its input and adds one.\n",
    "\n",
    "Thus, the result is `{'extra': {'num': 1, 'mult': 3}, 'modified': 2}`.\n",
    "\n",
    "## Streaming\n",
    "\n",
    "One convenient feature of this method is that it allows values to pass through as soon as they are available. To show this off, we'll use `RunnablePassthrough.assign()` to immediately return source docs in a retrieval chain:"
>>>>>>> langchan/master
   ]
  },
  {
   "cell_type": "code",
   "execution_count": 3,
   "metadata": {},
   "outputs": [
    {
     "name": "stdout",
     "output_type": "stream",
     "text": [
      "{'question': 'where did harrison work?'}\n",
      "{'context': [Document(page_content='harrison worked at kensho')]}\n",
      "{'output': ''}\n",
      "{'output': 'H'}\n",
      "{'output': 'arrison'}\n",
      "{'output': ' worked'}\n",
      "{'output': ' at'}\n",
      "{'output': ' Kens'}\n",
      "{'output': 'ho'}\n",
      "{'output': '.'}\n",
      "{'output': ''}\n"
     ]
    }
   ],
   "source": [
<<<<<<< HEAD
    "from langchain.chat_models.gigachat import GigaChat\n",
    "from langchain_community.embeddings.gigachat import GigaChatEmbeddings\n",
=======
>>>>>>> langchan/master
    "from langchain_community.vectorstores import FAISS\n",
    "from langchain_core.output_parsers import StrOutputParser\n",
    "from langchain_core.prompts import ChatPromptTemplate\n",
    "from langchain_core.runnables import RunnablePassthrough\n",
<<<<<<< HEAD
    "\n",
    "vectorstore = FAISS.from_texts(\n",
    "    [\"harrison worked at kensho\"],\n",
    "    embedding=GigaChatEmbeddings(\n",
    "        credentials=\"<авторизационные_данные>\", verify_ssl_certs=False\n",
    "    ),\n",
=======
    "from langchain_openai import ChatOpenAI, OpenAIEmbeddings\n",
    "\n",
    "vectorstore = FAISS.from_texts(\n",
    "    [\"harrison worked at kensho\"], embedding=OpenAIEmbeddings()\n",
>>>>>>> langchan/master
    ")\n",
    "retriever = vectorstore.as_retriever()\n",
    "template = \"\"\"Answer the question based only on the following context:\n",
    "{context}\n",
    "\n",
    "Question: {question}\n",
    "\"\"\"\n",
    "prompt = ChatPromptTemplate.from_template(template)\n",
<<<<<<< HEAD
    "model = GigaChat(credentials=\"<авторизационные_данные>\", verify_ssl_certs=False)\n",
=======
    "model = ChatOpenAI()\n",
>>>>>>> langchan/master
    "\n",
    "generation_chain = prompt | model | StrOutputParser()\n",
    "\n",
    "retrieval_chain = {\n",
    "    \"context\": retriever,\n",
    "    \"question\": RunnablePassthrough(),\n",
    "} | RunnablePassthrough.assign(output=generation_chain)\n",
    "\n",
    "stream = retrieval_chain.stream(\"where did harrison work?\")\n",
    "\n",
    "for chunk in stream:\n",
    "    print(chunk)"
   ]
  },
  {
   "cell_type": "markdown",
   "metadata": {},
   "source": [
<<<<<<< HEAD
    "Так как оригинальный вопрос `\"question\"` доступен сразу после запуска цепочки, его можно будет найти в первом фрагменте.\n",
    "Второй фрагмент содержит контекст `\"context\"`, так как ретривер вызывается после запуска цепочки.\n",
    "Остальные фрагменты содержат результат потоковой генерации токенов."
   ]
=======
    "We can see that the first chunk contains the original `\"question\"` since that is immediately available. The second chunk contains `\"context\"` since the retriever finishes second. Finally, the output from the `generation_chain` streams in chunks as soon as it is available.\n",
    "\n",
    "## Next steps\n",
    "\n",
    "Now you've learned how to pass data through your chains to help to help format the data flowing through your chains.\n",
    "\n",
    "To learn more, see the other how-to guides on runnables in this section."
   ]
  },
  {
   "cell_type": "markdown",
   "metadata": {},
   "source": []
>>>>>>> langchan/master
  }
 ],
 "metadata": {
  "kernelspec": {
   "display_name": "Python 3 (ipykernel)",
   "language": "python",
   "name": "python3"
  },
  "language_info": {
   "codemirror_mode": {
    "name": "ipython",
    "version": 3
   },
   "file_extension": ".py",
   "mimetype": "text/x-python",
   "name": "python",
   "nbconvert_exporter": "python",
   "pygments_lexer": "ipython3",
   "version": "3.9.1"
  }
 },
 "nbformat": 4,
 "nbformat_minor": 4
}
