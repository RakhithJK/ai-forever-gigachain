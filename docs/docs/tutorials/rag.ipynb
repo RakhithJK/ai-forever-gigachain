{
    "cells": [
        {
            "cell_type": "markdown",
            "id": "5630b0ca",
            "metadata": {},
            "source": [
                "# Создание RAG-приложения (Retrieval Augmented Generation)\n",
                "\n",
                "Большие языковые модели (LLM) позволяют разрабатывать развитые вопросно-ответные приложения (или *Q&A приложения*), которые могут использовать для ответов заданные данные.\n",
                "В основе таких приложений лежит методика известная как «генерация, дополненная извлечением данных» (retrieval-augmented generation или RAG).\n",
                "\n",
                "В этом разделе приведен пример создания простого Q&A приложения на основе текстового источника данных.\n",
                "Здесь вы также найдете пример типичной Q&A-архитектуры и сможете ознакомиться с дополнительными материалами, которые рассматривают более продвинутые методики, применяемые при разработке вопросно-ответных приложений.\n",
                "\n",
                "## Что такое RAG?\n",
                "\n",
                "RAG — это методика, которая позволяет расширить знания LLM дополнительными данными.\n",
                "\n",
                "Большие языковые модели имеют представление о различных темах, но их знания ограничены общими данными, доступными на момент обучения.\n",
                "Если вам нужно, чтобы модель знала о какой-то специфической информации или информации, которая появилась после ее обучения, вам понадобится предоставить ей соответствующие данные.\n",
                "Предоставление таких данных и применение их в промпте это и есть RAG — генерация, дополненная извлечением данных.\n",
                "\n",
                "GigaChain предоставляет компоненты для разработки вопросно-ответных приложений и поддержки RAG-методики в целом.\n",
                "\n",
                ":::note\n",
                "\n",
                "В этом разделе приводится пример разработки Q&A приложения, которое использует неструктурированные данные.\n",
                "Пример использования RAG со структурированными данными — в разделе [Разработка Q&A приложения на основе SQL-данных](/docs/tutorials/sql_qa).\n",
                "\n",
                ":::\n",
                "\n",
                "## Архитектура RAG\n",
                "\n",
                "В общем случае RAG приложение включает два компонента:\n",
                "\n",
                "* Конвейер для загрузки данных из источника и их индексирование. Как правило индексирование работает в автономном режиме.\n",
                "* Цепочка RAG, которая в реальном времени обрабатывает запрос пользователя, извлекает соответствующие данные из индекса и передает их модели.\n",
                "\n",
                "Процесс генерации ответа на основе необработанных данных можно представить следующим образом:\n",
                "\n",
                "```mermaid\n",
                "flowchart LR\n",
                "    A(Индексирование)\n",
                "    B(Извлечение данных и генерация)\n",
                "    A -->  B\n",
                "```\n",
                "\n",
                "Индексирование включает этапы:\n",
                "\n",
                "1. Загрузка документов с помощью [DocumentLoaders](/docs/concepts/#document-loaders).\n",
                "2. Использование [разделителей текста](/docs/concepts/#text-splitters) для разбивки `Documents` на мелкие фрагменты. Это удобно как для индексации данных, так и для передачи их в модель, поскольку большие фрагменты труднее искать и использовать в рамках контекста модели.\n",
                "3. Сохранение данных с помощью [векторных хранилищ](/docs/concepts/#vectorstores) и создание [эмбеддингов](/docs/concepts/#embedding-models) для поиска. \n",
                "\n",
                "![index_diagram](../../static/img/rag_indexing.png)\n",
                "\n",
                "Извлечение данных и генерация включает этапы:\n",
                "\n",
                "1. Извлечение данных, которые соответствуют запросу пользователя, с помощью [ретривера](/docs/concepts/#retrievers).\n",
                "2. Передача промпта, включающего вопрос пользователя и извлеченные данные, в [чат-модель](/docs/concepts/#chat-models) / [LLM](/docs/concepts/#llms) для генерации ответа.\n",
                "\n",
                "![retrieval_diagram](../../static/img/rag_retrieval_generation.png)\n",
                "\n",
                "\n",
                "## Подготовка\n",
                "\n",
                "### Jupyter\n",
                "\n",
                "Как и многие другие руководства в документации GigaChain это руководство основано на [блокноте Jupyter](https://jupyter.org/).\n",
                "Блокноты предоставляют интерактивность, которая значительно упрощает изучение работы с LLM.\n",
                "\n",
                "Об установке Jupyter читайте в [официальной документации](https://jupyter.org/install).\n",
                "\n",
                "### Установка Зависимостей\n",
                "\n",
                "В примере используются модели GigaChat (чат-модель и эмбеддинги), а также векторное хранилище Chroma, но в своем приложении вы можете использовать любой из доступных компонентов.\n",
                "\n",
                "Для работы с примером нужно установить пакеты:\n",
                "\n",
                "```python\n",
                "%pip install --upgrade --quiet  gigachain langchainhub chromadb bs4\n",
                "```\n",
                "\n",
                "\n",
                "For more details, see our [Installation guide](/docs/how_to/installation).\n",
                "\n",
                "<!--\n",
                "### LangSmith\n",
                "\n",
                "Many of the applications you build with LangChain will contain multiple steps with multiple invocations of LLM calls.\n",
                "As these applications get more and more complex, it becomes crucial to be able to inspect what exactly is going on inside your chain or agent.\n",
                "The best way to do this is with [LangSmith](https://smith.langchain.com).\n",
                "\n",
                "After you sign up at the link above, make sure to set your environment variables to start logging traces:\n",
                "\n",
                "```shell\n",
                "export LANGCHAIN_TRACING_V2=\"true\"\n",
                "export LANGCHAIN_API_KEY=\"...\"\n",
                "```\n",
                "\n",
                "Or, if in a notebook, you can set them with:\n",
                "\n",
                "```python\n",
                "import getpass\n",
                "import os\n",
                "\n",
                "os.environ[\"LANGCHAIN_TRACING_V2\"] = \"true\"\n",
                "os.environ[\"LANGCHAIN_API_KEY\"] = getpass.getpass()\n",
                "```\n",
                "-->\n",
                "## Обзор решения\n",
                "\n",
                "Пример демонстрирует вопросно-ответное приложение, которое генерирует ответы на основе содержания поста в блоге Лилиан Вэнг [LLM Powered Autonomous Agents](https://lilianweng.github.io/posts/2023-06-23-agent/).\n",
                "\n",
                "Итоговое решение, которое включает конвейер индексации и цепочку RAG, может занимать всего около 20 строк кода:"
            ]
        },
        {
            "cell_type": "code",
            "execution_count": 2,
            "id": "6281ec7b",
            "metadata": {},
            "outputs": [
                {
                    "data": {
                        "text/plain": [
                            "'Task Decomposition is a process where a complex task is broken down into smaller, simpler steps or subtasks. This technique is utilized to enhance model performance on complex tasks by making them more manageable. It can be done by using language models with simple prompting, task-specific instructions, or with human inputs.'"
                        ]
                    },
                    "execution_count": 2,
                    "metadata": {},
                    "output_type": "execute_result"
                }
            ],
            "source": [
                "import bs4\n",
                "from langchain import hub\n",
                "from langchain.chat_models.gigachat import GigaChat\n",
                "from langchain_chroma import Chroma\n",
                "from langchain_community.document_loaders import WebBaseLoader\n",
                "from langchain_core.output_parsers import StrOutputParser\n",
                "from langchain_core.runnables import RunnablePassthrough\n",
                "from langchain_openai import OpenAIEmbeddings\n",
                "from langchain_text_splitters import RecursiveCharacterTextSplitter\n",
                "\n",
                "llm = GigaChat(credentials=\"<авторизационные_данные>\", verify_ssl_certs=False)\n",
                "\n",
                "# Загрузка, разделение на части и индексация содержимого блога.\n",
                "loader = WebBaseLoader(\n",
                "    web_paths=(\"https://lilianweng.github.io/posts/2023-06-23-agent/\",),\n",
                "    bs_kwargs=dict(\n",
                "        parse_only=bs4.SoupStrainer(\n",
                "            class_=(\"post-content\", \"post-title\", \"post-header\")\n",
                "        )\n",
                "    ),\n",
                ")\n",
                "docs = loader.load()\n",
                "\n",
                "text_splitter = RecursiveCharacterTextSplitter(chunk_size=1000, chunk_overlap=200)\n",
                "splits = text_splitter.split_documents(docs)\n",
                "vectorstore = Chroma.from_documents(documents=splits, embedding=OpenAIEmbeddings())\n",
                "\n",
                "# Извлечение данных и генерация с помощью релевантных фрагментов блога.\n",
                "retriever = vectorstore.as_retriever()\n",
                "prompt = hub.pull(\"rlm/rag-prompt\")\n",
                "\n",
                "\n",
                "def format_docs(docs):\n",
                "    return \"\\n\\n\".join(doc.page_content for doc in docs)\n",
                "\n",
                "\n",
                "rag_chain = (\n",
                "    {\"context\": retriever | format_docs, \"question\": RunnablePassthrough()}\n",
                "    | prompt\n",
                "    | llm\n",
                "    | StrOutputParser()\n",
                ")\n",
                "\n",
                "rag_chain.invoke(\"What is Task Decomposition?\")"
            ]
        },
        {
            "cell_type": "code",
            "execution_count": 4,
            "id": "3d56d203",
            "metadata": {},
            "outputs": [],
            "source": [
                "# Очистка хранилища\n",
                "vectorstore.delete_collection()"
            ]
        },
        {
            "cell_type": "markdown",
            "id": "c9d51135",
            "metadata": {},
            "source": [
                "## Разбор решения\n",
                "\n",
                "Ниже описаны этапы разработки приведенного примера.\n",
                "\n",
                "## 1. Индексирование. Загрузка данных {#indexing-load}\n",
                "\n",
                "Cначала загружается содержимое поста.\n",
                "Для этого используются загрузчики [DocumentLoaders](/docs/concepts#document-loaders), которые загружают данные из источника и возвращают список документов [`Documents`](https://api.python.langchain.com/en/latest/documents/langchain_core.documents.base.Document.html).\n",
                "Экземпляр `Document` — объект с полями:\n",
                "\n",
                "* `page_content` (str) — содержимое страницы;\n",
                "* `metadata` (dict) — метаданные.\n",
                "\n",
                "Код в примере загружает HTML по заданному адресу и преобразовывает его в текст с помощью компонента [WebBaseLoader](/docs/integrations/document_loaders/web_base), который использует библиотеки `urllib` и `BeautifulSoup`.\n",
                "Правила преобразования можно задать с помощью параметров парсера `BeautifulSoup` переданных в `bs_kwargs` (подробнее в [документации BeautifulSoup](https://beautiful-soup-4.readthedocs.io/en/latest/#beautifulsoup)).\n",
                "Для представленного примера актуальны только HTML-теги с классами `post-content`, `post-title` и `post-header`."
            ]
        },
        {
            "cell_type": "code",
            "execution_count": 3,
            "id": "f5ba0122-8c92-4895-b5ef-f03a634e3fdf",
            "metadata": {},
            "outputs": [
                {
                    "data": {
                        "text/plain": [
                            "43131"
                        ]
                    },
                    "execution_count": 3,
                    "metadata": {},
                    "output_type": "execute_result"
                }
            ],
            "source": [
                "import bs4\n",
                "from langchain_community.document_loaders import WebBaseLoader\n",
                "\n",
                "# Сохраняются только название поста, заголовки и содержимое из полного HTML.\n",
                "bs4_strainer = bs4.SoupStrainer(class_=(\"post-title\", \"post-header\", \"post-content\"))\n",
                "loader = WebBaseLoader(\n",
                "    web_paths=(\"https://lilianweng.github.io/posts/2023-06-23-agent/\",),\n",
                "    bs_kwargs={\"parse_only\": bs4_strainer},\n",
                ")\n",
                "docs = loader.load()\n",
                "\n",
                "len(docs[0].page_content)"
            ]
        },
        {
            "cell_type": "code",
            "execution_count": 4,
            "id": "5cf74be6-5f40-4f6d-8689-b6b42ced8b70",
            "metadata": {},
            "outputs": [
                {
                    "name": "stdout",
                    "output_type": "stream",
                    "text": [
                        "\n",
                        "\n",
                        "      LLM Powered Autonomous Agents\n",
                        "    \n",
                        "Date: June 23, 2023  |  Estimated Reading Time: 31 min  |  Author: Lilian Weng\n",
                        "\n",
                        "\n",
                        "Building agents with LLM (large language model) as its core controller is a cool concept. Several proof-of-concepts demos, such as AutoGPT, GPT-Engineer and BabyAGI, serve as inspiring examples. The potentiality of LLM extends beyond generating well-written copies, stories, essays and programs; it can be framed as a powerful general problem solver.\n",
                        "Agent System Overview#\n",
                        "In\n"
                    ]
                }
            ],
            "source": [
                "print(docs[0].page_content[:500])"
            ]
        },
        {
            "cell_type": "markdown",
            "id": "07845e7a",
            "metadata": {},
            "source": [
                "### Дополнительная информация\n",
                "\n",
                "`DocumentLoader` — объект, который загружает данные в виде списка документов `Documents`. \n",
                "\n",
                "* [Руководства по работе с `DocumentLoaders`](/docs/how_to#document-loaders).\n",
                "* [Справка API](https://api.python.langchain.com/en/latest/document_loaders/langchain_core.document_loaders.base.BaseLoader.html) базового интерфейса.\n",
                "\n",
                "<!--\n",
                "[Integrations](../../../docs/integrations/document_loaders/): 160+\n",
                "-->\n",
                "\n",
                "## 2. Индексирование. Разделение данных {#indexing-split}\n",
                "\n",
                "Размер загруженного документа превышает 42 тысячи символов. Это слишком много для контекста многих моделей.\n",
                "Даже если модель уместит в контексте весь пост, у нее могут быть проблемы с поиском информации в большом объеме входных данных.\n",
                "\n",
                "Чтобы сгенерировать эмбеддинги из данных `Document` и сохранить их в векторном хранилище, их нужно разделить на фрагменты.\n",
                "Это позволит упростить извлечение релевантных частей поста на этапе выполнения. \n",
                "\n",
                "В примере документы делятся на фрагменты по 1000 символов с перекрытием в 200 символов между каждым фрагментами. Перекрытие помогает избежать разделения утверждения и важного контекста, связанного с ним.\n",
                "Для разделения текста используется [`RecursiveCharacterTextSplitter`](/docs/how_to/recursive_text_splitter), который рекурсивно делит документ с помощью общепринятых разделителей, таких как переводы строк `\\n`, до тех пор, пока каждый фрагмент не достигнет нужного размера. Используйте `RecursiveCharacterTextSplitter` для решения типичных задач, связанных с обработкой текста.\n",
                "\n",
                "Атрибут `add_start_index=True` используется для сохранения индекса символа, с которого начинается каждый фрагмент начального документа `Document`."
            ]
        },
        {
            "cell_type": "code",
            "execution_count": 5,
            "id": "6aa3f8c0-5113-4c36-9706-ee702407173a",
            "metadata": {},
            "outputs": [
                {
                    "data": {
                        "text/plain": [
                            "66"
                        ]
                    },
                    "execution_count": 5,
                    "metadata": {},
                    "output_type": "execute_result"
                }
            ],
            "source": [
                "from langchain_text_splitters import RecursiveCharacterTextSplitter\n",
                "\n",
                "text_splitter = RecursiveCharacterTextSplitter(\n",
                "    chunk_size=1000, chunk_overlap=200, add_start_index=True\n",
                ")\n",
                "all_splits = text_splitter.split_documents(docs)\n",
                "\n",
                "len(all_splits)"
            ]
        },
        {
            "cell_type": "code",
            "execution_count": 6,
            "id": "2257752c-bed2-4d57-be8e-d275bfe70ace",
            "metadata": {},
            "outputs": [
                {
                    "data": {
                        "text/plain": [
                            "969"
                        ]
                    },
                    "execution_count": 6,
                    "metadata": {},
                    "output_type": "execute_result"
                }
            ],
            "source": [
                "len(all_splits[0].page_content)"
            ]
        },
        {
            "cell_type": "code",
            "execution_count": 7,
            "id": "325fdc48-4a24-4645-9d08-0d22f5be5e13",
            "metadata": {},
            "outputs": [
                {
                    "data": {
                        "text/plain": [
                            "{'source': 'https://lilianweng.github.io/posts/2023-06-23-agent/',\n",
                            " 'start_index': 7056}"
                        ]
                    },
                    "execution_count": 7,
                    "metadata": {},
                    "output_type": "execute_result"
                }
            ],
            "source": [
                "all_splits[10].metadata"
            ]
        },
        {
            "cell_type": "markdown",
            "id": "7046d580",
            "metadata": {},
            "source": [
                "### Дополнительная информация\n",
                "\n",
                "`TextSplitter` — объект, который разделяет список документов `Document` на более мелкие фрагменты. Подкласс `DocumentTransformer`.\n",
                "\n",
                "* Ознакомьтесь с [«контекстно-зависимыми разделителями»](/docs/how_to#text-splitters), которые сохраняют положение (контекст) каждого деления в исходном документе `Document`:\n",
                "  * [Код (py или js)](/docs/integrations/document_loaders/source_code) \n",
                "  * [Научные публикации](/docs/integrations/document_loaders/grobid) \n",
                "* [Справка API](https://api.python.langchain.com/en/latest/base/langchain_text_splitters.base.TextSplitter.html) базового интерфейса.\n",
                "\n",
                "`DocumentTransformer` — объект, который выполняет преобразование списка документов `Document`.\n",
                "* [Руководства по работе с `DocumentTransformers`](/docs/how_to#text-splitters).\n",
                "* [Справка API](https://api.python.langchain.com/en/latest/documents/langchain_core.documents.transformers.BaseDocumentTransformer.html) базового интерфейса.\n",
                "\n",
                "<!--\n",
                "- [Integrations](../../../docs/integrations/document_transformers/) \n",
                "-->\n",
                "\n",
                "## 3. Индексирование. Хранение данных {#indexing-store}\n",
                "\n",
                "Теперь полученные фрагменты текста нужно проиндексировать, чтобы иметь возможность выполнять поиск в процессе выполнения.\n",
                "Распространенным решением такой задачи является создание эмбеддингов для фрагментов и сохранение их в векторной базе данных (или векторном хранилище).\n",
                "Поиск по полученным фрагментам выполняется на основе «сходства» эмбеддинга запроса и эмбеддингов в хранилище.\n",
                "Самая простая мера сходства — это косинусное сходство, при котором измеряется косинус угла между каждой парой эмбеддингов, представляющих собой высокоразмерные вектора.\n",
                "\n",
                "Создать эмбеддинги с помощью `GigaChatEmbeddings` и сохранить их в векторном хранилище Chroma можно с помощью одной команды."
            ]
        },
        {
            "cell_type": "code",
            "execution_count": 8,
            "id": "0b44b41a-8b25-42ad-9e37-7baf82a058cd",
            "metadata": {},
            "outputs": [],
            "source": [
                "from langchain_community.embeddings.gigachat import GigaChatEmbeddings\n",
                "from langchain_community.vectorstores import Chroma\n",
                "\n",
                "vectorstore = Chroma.from_documents(\n",
                "    documents=all_splits,\n",
                "    embedding=GigaChatEmbeddings(\n",
                "        credentials=\"<авторизационные_данные>\", verify_ssl_certs=False\n",
                "    ),\n",
                ")"
            ]
        },
        {
            "cell_type": "markdown",
            "id": "dbddc12e",
            "metadata": {},
            "source": [
                "### Дополнительная информация\n",
                "\n",
                "`Embeddings` — обертка для работы с моделью, которая преобразует текст в эмбеддинги.\n",
                "\n",
                "* [Руководство по работе с эмбеддингами](/docs/how_to/embed_text). \n",
                "* [Справка API](https://api.python.langchain.com/en/latest/embeddings/langchain_core.embeddings.Embeddings.html) базового интерфейса.\n",
                "\n",
                "<!--\n",
                "- [Integrations](../../../docs/integrations/text_embedding/): 30+ integrations to choose from. \n",
                "-->\n",
                "\n",
                "`VectorStore` — обертка для работы с векторной базой данных, которая используется для хранения эмбеддингов и выполнения запросов.\n",
                "\n",
                "* [Руководства по работе с векторными хранилищами](/docs/how_to/vectorstores). \n",
                "* [Справка API](https://api.python.langchain.com/en/latest/vectorstores/langchain_core.vectorstores.VectorStore.html) для базового интерфейса.\n",
                "\n",
                "<!--\n",
                "- [Integrations](../../../docs/integrations/vectorstores/): 40+ integrations to choose from. \n",
                "-->\n",
                "\n",
                "На этом завершается этап индексирования.\n",
                "К этому моменту в примере реализовано векторное хранилище, которое содержит фрагменты поста и может возвращать их в соответствии с запросом пользователя.\n",
                "\n",
                "## 4. Извлечение данных и генерация. Извлечение данных{#retrieval-and-generation-retrieve}\n",
                "\n",
                "Теперь добавим логику приложения.\n",
                "Приложение должно уметь:\n",
                "* принимать вопрос пользователя;\n",
                "* искать документы, соответствующие этому вопросу;\n",
                "* передавать в модель вопрос и полученные документы;\n",
                "* возвращать ответ.\n",
                "\n",
                "Сперва определим логику поиска по документам.\n",
                "GigaChain предоставляет интерфейсу [Retriever](/docs/concepts#retrievers/) — обертку для работы с индексом. Ретривер может возвращать подходящие документы `Documents` в ответ на строковый запрос.\n",
                "\n",
                "Наиболее распространенным типом `Retriever` является [VectorStoreRetriever](/docs/how_to/vectorstore_retriever) — объект, который использует возможности поиска по сходству в векторном хранилище для облегчения получения данных. Любой экземпляр `VectorStore` можно преобразовать в `Retriever` с помощью метода `VectorStore.as_retriever()`:"
            ]
        },
        {
            "cell_type": "code",
            "execution_count": 9,
            "id": "1a0d25f8-8a45-4ec7-b419-c36e231fde13",
            "metadata": {},
            "outputs": [
                {
                    "data": {
                        "text/plain": [
                            "6"
                        ]
                    },
                    "execution_count": 9,
                    "metadata": {},
                    "output_type": "execute_result"
                }
            ],
            "source": [
                "retriever = vectorstore.as_retriever(search_type=\"similarity\", search_kwargs={\"k\": 6})\n",
                "\n",
                "retrieved_docs = retriever.invoke(\"What are the approaches to Task Decomposition?\")\n",
                "\n",
                "len(retrieved_docs)"
            ]
        },
        {
            "cell_type": "code",
            "execution_count": 10,
            "id": "58db0a6a-f1ad-4d28-acf8-98be9ed3c968",
            "metadata": {},
            "outputs": [
                {
                    "name": "stdout",
                    "output_type": "stream",
                    "text": [
                        "Tree of Thoughts (Yao et al. 2023) extends CoT by exploring multiple reasoning possibilities at each step. It first decomposes the problem into multiple thought steps and generates multiple thoughts per step, creating a tree structure. The search process can be BFS (breadth-first search) or DFS (depth-first search) with each state evaluated by a classifier (via a prompt) or majority vote.\n",
                        "Task decomposition can be done (1) by LLM with simple prompting like \"Steps for XYZ.\\n1.\", \"What are the subgoals for achieving XYZ?\", (2) by using task-specific instructions; e.g. \"Write a story outline.\" for writing a novel, or (3) with human inputs.\n"
                    ]
                }
            ],
            "source": [
                "print(retrieved_docs[0].page_content)"
            ]
        },
        {
            "cell_type": "markdown",
            "id": "8bb602b0",
            "metadata": {},
            "source": [
                "### Дополнительная информация\n",
                "\n",
                "Как правило, для извлечения данных используются векторные хранилища, но существуют и другие подходы.\n",
                "\n",
                "`Retriever` — объект, который возвращает документы `Document` на основе текстового запроса.\n",
                "\n",
                "* [Дополнительная документация](/docs/how_to#retrievers) по интерфейсу и встроенным методикам получения данных. Которые, среди прочего, включают:\n",
                "  * [`MultiQueryRetriever`](/docs/how_to/MultiQueryRetriever) генерирует вариации запроса, что позволяет повысить точность получаемых данных.\n",
                "  * [`MultiVectorRetriever`](/docs/how_to/multi_vector) генерирует вариации эмбеддингов, для повышения точности получаемых данных.\n",
                "  * [Self Query Retriever](/docs/how_to/self_queryy) фильтрует документы на основе метаданных при их получении из векторного хранилища.\n",
                "* [Справка API](https://api.python.langchain.com/en/latest/retrievers/langchain_core.retrievers.BaseRetriever.html) для базового интерфейса.\n",
                "\n",
                "<!--\n",
                "    -   `Max marginal relevance` selects for [relevance and diversity](https://www.cs.cmu.edu/~jgc/publication/The_Use_MMR_Diversity_Based_LTMIR_1998.pdf) among the retrieved documents to avoid passing in duplicate context.\n",
                "-->\n",
                "<!--\n",
                "-   [Integrations](../../../docs/integrations/retrievers/): Integrations\n",
                "-->\n",
                "\n",
                "## 5. Извлечение данных и генерация. Генерация  {#retrieval-and-generation-generate}\n",
                "\n",
                "Объединим полученный код в цепочку, которая принимает вопрос, извлекает соответствующие документы, создает промпт, передает его модели, а затем анализирует выходные данные.\n",
                "\n",
                "```python\n",
                "from langchain.chat_models.gigachat import GigaChat\n",
                "\n",
                "llm = GigaChat(credentials=\"<авторизационные_данные>\", verify_ssl_certs=False)\n",
                "```\n",
                "\n",
                "Используем промпт для RAG, который хранится хабе промптов [LangChain](https://smith.langchain.com/hub/rlm/rag-prompt)."
            ]
        },
        {
            "cell_type": "code",
            "execution_count": 11,
            "id": "ff01d415-7b0f-469d-bfda-b9cb672da611",
            "metadata": {},
            "outputs": [
                {
                    "data": {
                        "text/plain": [
                            "[HumanMessage(content=\"You are an assistant for question-answering tasks. Use the following pieces of retrieved context to answer the question. If you don't know the answer, just say that you don't know. Use three sentences maximum and keep the answer concise.\\nQuestion: filler question \\nContext: filler context \\nAnswer:\")]"
                        ]
                    },
                    "execution_count": 11,
                    "metadata": {},
                    "output_type": "execute_result"
                }
            ],
            "source": [
                "from langchain import hub\n",
                "\n",
                "prompt = hub.pull(\"rlm/rag-prompt\")\n",
                "\n",
                "example_messages = prompt.invoke(\n",
                "    {\"context\": \"filler context\", \"question\": \"filler question\"}\n",
                ").to_messages()\n",
                "\n",
                "example_messages"
            ]
        },
        {
            "cell_type": "code",
            "execution_count": 12,
            "id": "2885ed99-31a0-4d7e-b9b0-af49c462caf4",
            "metadata": {},
            "outputs": [
                {
                    "name": "stdout",
                    "output_type": "stream",
                    "text": [
                        "You are an assistant for question-answering tasks. Use the following pieces of retrieved context to answer the question. If you don't know the answer, just say that you don't know. Use three sentences maximum and keep the answer concise.\n",
                        "Question: filler question \n",
                        "Context: filler context \n",
                        "Answer:\n"
                    ]
                }
            ],
            "source": [
                "print(example_messages[0].content)"
            ]
        },
        {
            "cell_type": "markdown",
            "id": "4516200c",
            "metadata": {},
            "source": [
                "Для создания цепочки используем протокол [LCEL Runnable](/docs/concepts#langchain-expression-language), который позволяет объединять компоненты и функции, получать потоковую, асинхронную и пакетную передачу данных из коробки."
            ]
        },
        {
            "cell_type": "code",
            "execution_count": 13,
            "id": "d6820cf3-e14d-4275-bd00-aa1b8262b1ae",
            "metadata": {},
            "outputs": [
                {
                    "name": "stdout",
                    "output_type": "stream",
                    "text": [
                        "Task Decomposition is a process where a complex task is broken down into smaller, more manageable steps or parts. This is often done using techniques like \"Chain of Thought\" or \"Tree of Thoughts\", which instruct a model to \"think step by step\" and transform large tasks into multiple simple tasks. Task decomposition can be prompted in a model, guided by task-specific instructions, or influenced by human inputs."
                    ]
                }
            ],
            "source": [
                "from langchain_core.output_parsers import StrOutputParser\n",
                "from langchain_core.runnables import RunnablePassthrough\n",
                "\n",
                "\n",
                "def format_docs(docs):\n",
                "    return \"\\n\\n\".join(doc.page_content for doc in docs)\n",
                "\n",
                "\n",
                "rag_chain = (\n",
                "    {\"context\": retriever | format_docs, \"question\": RunnablePassthrough()}\n",
                "    | prompt\n",
                "    | llm\n",
                "    | StrOutputParser()\n",
                ")\n",
                "\n",
                "for chunk in rag_chain.stream(\"What is Task Decomposition?\"):\n",
                "    print(chunk, end=\"\", flush=True)"
            ]
        },
        {
            "cell_type": "markdown",
            "id": "3dacf214-0803-46f1-960d-42336a545e39",
            "metadata": {},
            "source": [
                "Разберем реализацию на LCEL, чтобы понять, что происходит.\n",
                "\n",
                "Каждый из компонентов (`retriever`, `prompt`, `llm` и других) является экземпляром [Runnable](/docs/concepts#langchain-expression-language).\n",
                "То есть они реализуют одни и те же методы, такие как sync и async `.invoke`, `.stream` или `.batch`.\n",
                "Это позволяет соединять их с помощью оператора конвейера `|` в [RunnableSequence](https://api.python.langchain.com/en/latest/runnables/langchain_core.runnables.base.RunnableSequence.html) — последовательность, котора я также является Runnable-объектом.\n",
                "\n",
                "При обнаружении оператора `|` GigaChain автоматически приводит определенные объекты к Runnable.\n",
                "Здесь `format_docs` приводится к [RunnableLambda](https://api.python.langchain.com/en/latest/runnables/langchain_core.runnables.base.RunnableLambda.html), а dict с `«context»` и `«question»` приводится к [RunnableParallel](https://api.python.langchain.com/en/latest/runnables/langchain_core.runnables.base.RunnableParallel.html).\n",
                "Самое важное на этом этапе это то, что каждый объект являетя Runnable\n",
                "\n",
                "Проследим, как входной вопрос проходит через представленные Runnable.\n",
                "\n",
                "Как уже было показано, на входе в `prompt` ожидается dict с ключами `«context»` и `«question»`. Поэтому первый элемент этой цепочки создает Runnable-объекты, которые вычисляют оба этих ключа из входного вопроса:\n",
                "* `retriever | format_docs` передает вопрос через ретривер, генерирующий объекты [Document](https://api.python.langchain.com/en/latest/documents/langchain_core.documents.base.Document.html), а затем в `format_docs` для генерации строк;\n",
                "* `RunnablePassthrough()` передает входной вопрос без изменений.\n",
                "\n",
                "Таким образом, если собрать цепочку вида\n",
                "\n",
                "```python\n",
                "chain = (\n",
                "    {\"context\": retriever | format_docs, \"question\": RunnablePassthrough()}\n",
                "    | prompt\n",
                ")\n",
                "```\n",
                "\n",
                "То вызов метода `chain.invoke(question)` создаст отформатированный промпт, готовый к выводу.\n",
                "\n",
                ":::note\n",
                "\n",
                "Тестирование с помощью таких подцепочек упрощает разработку на LCEL.\n",
                "\n",
                ":::\n",
                "\n",
                "Последними шагами цепочки являются обращение к `llm`, который запускает вывод, и вызов `StrOutputParser()`, который просто извлекает строковое содержимое из выходного сообщения модели.\n",
                "\n",
                "### Встроенные цепочки\n",
                "\n",
                "При желании вы можете возспользоваться встроенными в GigaChain функциями, которые делают то же самое, что и описанная реализация на LCEL:\n",
                "\n",
                "- [`create_stuff_documents_chain`](https://api.python.langchain.com/en/latest/chains/langchain.chains.combine_documents.stuff.create_stuff_documents_chain.html) определяет, как извлеченный контекст будет подаваться в промпт и LLM. Цепочка помещает в промпт весь найденный контекст без какой-либо суммаризации или другой обработки. По большому счету она реализует описанную выше цепочку `rag_chain`, с входными ключами `context` и `input` — функция генерирует ответ, используя извлеченный контекст и запрос.\n",
                "- [`create_retrieval_chain`](https://api.python.langchain.com/en/latest/chains/langchain.chains.retrieval.create_retrieval_chain.html)  добавляет шаг извлечения и распространяет извлеченный контекст по цепочке, предоставляя его вместе с окончательным ответом. Цепочка имеет входной ключ `input` и включает `input`, `context` и `answer` в свой вывод."
            ]
        },
        {
            "cell_type": "code",
            "execution_count": 37,
            "id": "e75bfe98-d9e4-4868-bae1-5811437d859b",
            "metadata": {},
            "outputs": [
                {
                    "name": "stdout",
                    "output_type": "stream",
                    "text": [
                        "Task Decomposition is a process in which complex tasks are broken down into smaller and simpler steps. Techniques like Chain of Thought (CoT) and Tree of Thoughts are used to enhance model performance on these tasks. The CoT method instructs the model to think step by step, decomposing hard tasks into manageable ones, while Tree of Thoughts extends CoT by exploring multiple reasoning possibilities at each step, creating a tree structure of thoughts.\n"
                    ]
                }
            ],
            "source": [
                "from langchain.chains import create_retrieval_chain\n",
                "from langchain.chains.combine_documents import create_stuff_documents_chain\n",
                "from langchain_core.prompts import ChatPromptTemplate\n",
                "\n",
                "system_prompt = (\n",
                "    \"You are an assistant for question-answering tasks. \"\n",
                "    \"Use the following pieces of retrieved context to answer \"\n",
                "    \"the question. If you don't know the answer, say that you \"\n",
                "    \"don't know. Use three sentences maximum and keep the \"\n",
                "    \"answer concise.\"\n",
                "    \"\\n\\n\"\n",
                "    \"{context}\"\n",
                ")\n",
                "\n",
                "prompt = ChatPromptTemplate.from_messages(\n",
                "    [\n",
                "        (\"system\", system_prompt),\n",
                "        (\"human\", \"{input}\"),\n",
                "    ]\n",
                ")\n",
                "\n",
                "\n",
                "question_answer_chain = create_stuff_documents_chain(llm, prompt)\n",
                "rag_chain = create_retrieval_chain(retriever, question_answer_chain)\n",
                "\n",
                "response = rag_chain.invoke({\"input\": \"What is Task Decomposition?\"})\n",
                "print(response[\"answer\"])"
            ]
        },
        {
            "cell_type": "markdown",
            "id": "0fe711ea-592b-44a1-89b3-cee33c81aca4",
            "metadata": {},
            "source": [
                "#### Возврат источников\n",
                "\n",
                "Зачастую в вопросно-ответных приложениях важно показать пользователю источники, использованые для генерации ответа. Цепочка `create_retrieval_chain`, встроенная в GigaChain, будет распространять полученные источники в выводе, в ключе `«context»`:"
            ]
        },
        {
            "cell_type": "code",
            "execution_count": 41,
            "id": "9d4cec1a-75d6-4479-929f-72cadb2dcde8",
            "metadata": {},
            "outputs": [
                {
                    "name": "stdout",
                    "output_type": "stream",
                    "text": [
                        "page_content='Fig. 1. Overview of a LLM-powered autonomous agent system.\\nComponent One: Planning#\\nA complicated task usually involves many steps. An agent needs to know what they are and plan ahead.\\nTask Decomposition#\\nChain of thought (CoT; Wei et al. 2022) has become a standard prompting technique for enhancing model performance on complex tasks. The model is instructed to “think step by step” to utilize more test-time computation to decompose hard tasks into smaller and simpler steps. CoT transforms big tasks into multiple manageable tasks and shed lights into an interpretation of the model’s thinking process.' metadata={'source': 'https://lilianweng.github.io/posts/2023-06-23-agent/'}\n",
                        "\n",
                        "page_content='Fig. 1. Overview of a LLM-powered autonomous agent system.\\nComponent One: Planning#\\nA complicated task usually involves many steps. An agent needs to know what they are and plan ahead.\\nTask Decomposition#\\nChain of thought (CoT; Wei et al. 2022) has become a standard prompting technique for enhancing model performance on complex tasks. The model is instructed to “think step by step” to utilize more test-time computation to decompose hard tasks into smaller and simpler steps. CoT transforms big tasks into multiple manageable tasks and shed lights into an interpretation of the model’s thinking process.' metadata={'source': 'https://lilianweng.github.io/posts/2023-06-23-agent/', 'start_index': 1585}\n",
                        "\n",
                        "page_content='Tree of Thoughts (Yao et al. 2023) extends CoT by exploring multiple reasoning possibilities at each step. It first decomposes the problem into multiple thought steps and generates multiple thoughts per step, creating a tree structure. The search process can be BFS (breadth-first search) or DFS (depth-first search) with each state evaluated by a classifier (via a prompt) or majority vote.\\nTask decomposition can be done (1) by LLM with simple prompting like \"Steps for XYZ.\\\\n1.\", \"What are the subgoals for achieving XYZ?\", (2) by using task-specific instructions; e.g. \"Write a story outline.\" for writing a novel, or (3) with human inputs.' metadata={'source': 'https://lilianweng.github.io/posts/2023-06-23-agent/', 'start_index': 2192}\n",
                        "\n",
                        "page_content='Tree of Thoughts (Yao et al. 2023) extends CoT by exploring multiple reasoning possibilities at each step. It first decomposes the problem into multiple thought steps and generates multiple thoughts per step, creating a tree structure. The search process can be BFS (breadth-first search) or DFS (depth-first search) with each state evaluated by a classifier (via a prompt) or majority vote.\\nTask decomposition can be done (1) by LLM with simple prompting like \"Steps for XYZ.\\\\n1.\", \"What are the subgoals for achieving XYZ?\", (2) by using task-specific instructions; e.g. \"Write a story outline.\" for writing a novel, or (3) with human inputs.' metadata={'source': 'https://lilianweng.github.io/posts/2023-06-23-agent/'}\n",
                        "\n",
                        "page_content='Resources:\\n1. Internet access for searches and information gathering.\\n2. Long Term memory management.\\n3. GPT-3.5 powered Agents for delegation of simple tasks.\\n4. File output.\\n\\nPerformance Evaluation:\\n1. Continuously review and analyze your actions to ensure you are performing to the best of your abilities.\\n2. Constructively self-criticize your big-picture behavior constantly.\\n3. Reflect on past decisions and strategies to refine your approach.\\n4. Every command has a cost, so be smart and efficient. Aim to complete tasks in the least number of steps.' metadata={'source': 'https://lilianweng.github.io/posts/2023-06-23-agent/'}\n",
                        "\n",
                        "page_content='Resources:\\n1. Internet access for searches and information gathering.\\n2. Long Term memory management.\\n3. GPT-3.5 powered Agents for delegation of simple tasks.\\n4. File output.\\n\\nPerformance Evaluation:\\n1. Continuously review and analyze your actions to ensure you are performing to the best of your abilities.\\n2. Constructively self-criticize your big-picture behavior constantly.\\n3. Reflect on past decisions and strategies to refine your approach.\\n4. Every command has a cost, so be smart and efficient. Aim to complete tasks in the least number of steps.' metadata={'source': 'https://lilianweng.github.io/posts/2023-06-23-agent/', 'start_index': 29630}\n",
                        "\n"
                    ]
                }
            ],
            "source": [
                "for document in response[\"context\"]:\n",
                "    print(document)\n",
                "    print()"
            ]
        },
        {
            "cell_type": "markdown",
            "id": "7cd57618",
            "metadata": {},
            "source": [
                "### Дополнительная информация\n",
                "\n",
                "#### Выбор модели\n",
                "\n",
                "`ChatModel` — чат-модель, в основе которой лежит LLM. Объект принимает на вход последовательность сообщений и возвращает ответ модели в виде сообщения. \n",
                "\n",
                "* [Документация](/docs/how_to#chat-models);\n",
                "* [Справка API](https://api.python.langchain.com/en/latest/language_models/langchain_core.language_models.chat_models.BaseChatModel.html) для базового интерфейса.\n",
                "\n",
                "<!--\n",
                "- [Integrations](../../../docs/integrations/chat/): 25+ integrations to choose from.\n",
                "-->\n",
                "\n",
                "`LLM` — LLM, которая принимает и возвращает строку.\n",
                "\n",
                "* [Документация](/docs/how_to#llms);\n",
                "* [Справка API](https://api.python.langchain.com/en/latest/language_models/langchain_core.language_models.llms.BaseLLM.html) для базового интерфейса.\n",
                "\n",
                "<!--\n",
                "- [Integrations](../../../docs/integrations/llms): 75+ integrations to choose from. \n",
                "-->\n",
                "\n",
                "Руководство по реализации [RAG с помощью локальных моделей](/docs/tutorials/local_rag).\n",
                "\n",
                "#### Настройка промпта\n",
                "\n",
                "В примере выше RAG-промпт загружается из [хаба промптов LangChain](https://smith.langchain.com/hub/rlm/rag-prompt).\n",
                "Текст промпта можно настроить:"
            ]
        },
        {
            "cell_type": "code",
            "execution_count": 17,
            "id": "2ac552b6",
            "metadata": {},
            "outputs": [
                {
                    "data": {
                        "text/plain": [
                            "'Task decomposition is the process of breaking down a complex task into smaller, more manageable parts. Techniques like Chain of Thought (CoT) and Tree of Thoughts allow an agent to \"think step by step\" and explore multiple reasoning possibilities, respectively. This process can be executed by a Language Model with simple prompts, task-specific instructions, or human inputs. Thanks for asking!'"
                        ]
                    },
                    "execution_count": 17,
                    "metadata": {},
                    "output_type": "execute_result"
                }
            ],
            "source": [
                "from langchain_core.prompts import PromptTemplate\n",
                "\n",
                "template = \"\"\"Use the following pieces of context to answer the question at the end.\n",
                "If you don't know the answer, just say that you don't know, don't try to make up an answer.\n",
                "Use three sentences maximum and keep the answer as concise as possible.\n",
                "Always say \"thanks for asking!\" at the end of the answer.\n",
                "\n",
                "{context}\n",
                "\n",
                "Question: {question}\n",
                "\n",
                "Helpful Answer:\"\"\"\n",
                "custom_rag_prompt = PromptTemplate.from_template(template)\n",
                "\n",
                "rag_chain = (\n",
                "    {\"context\": retriever | format_docs, \"question\": RunnablePassthrough()}\n",
                "    | custom_rag_prompt\n",
                "    | llm\n",
                "    | StrOutputParser()\n",
                ")\n",
                "\n",
                "rag_chain.invoke(\"What is Task Decomposition?\")"
            ]
        },
        {
            "cell_type": "markdown",
            "id": "82e4d779",
            "metadata": {},
            "source": [
                "## Смотрите также\n",
                "\n",
                "* [Возврат исходных документов](/docs/how_to/qa_sources).\n",
                "* [Потоковая передача выходных данных и промежуточных шагов](/docs/how_to/streaming).\n",
                "* [Добавление истории чата](/docs/how_to/message_history)."
            ]
        }
    ],
    "metadata": {
        "kernelspec": {
            "display_name": "Python 3 (ipykernel)",
            "language": "python",
            "name": "python3"
        },
        "language_info": {
            "codemirror_mode": {
                "name": "ipython",
                "version": 3
            },
            "file_extension": ".py",
            "mimetype": "text/x-python",
            "name": "python",
            "nbconvert_exporter": "python",
            "pygments_lexer": "ipython3",
            "version": "3.11.4"
        }
    },
    "nbformat": 4,
    "nbformat_minor": 5
}