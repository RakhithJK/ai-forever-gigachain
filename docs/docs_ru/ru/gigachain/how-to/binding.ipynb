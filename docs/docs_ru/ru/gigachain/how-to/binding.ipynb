{
    "cells": [
        {
            "cell_type": "markdown",
            "id": "711752cb-4f15-42a3-9838-a0c67f397771",
            "metadata": {},
            "source": [
                "# Привязка аргументов\n",
                "\n",
                ":::note\n",
                "\n",
                "С этим руководством будет проще работать, если ознакомиться с разделами:\n",
                "- [LangChain Expression Language (LCEL)](/docs/concepts/#langchain-expression-language)\n",
                "- [Chaining runnables](/docs/how_to/sequence/)\n",
                "- [Tool calling](/docs/how_to/tool_calling/)\n",
                "\n",
                ":::\n",
                "\n",
                "Существуют ситуации, когда нужно вызвать экземпляр [`Runnable`](https://api.python.langchain.com/en/latest/runnables/langchain_core.runnables.base.Runnable.html) внутри [RunnableSequence](https://api.python.langchain.com/en/latest/runnables/langchain_core.runnables.base.RunnableSequence.html) с постоянными аргументами, которые не были предоставлены пользователем или не являются результатом работы других Runnable в последовательности.\n",
                "В таких случаях вы можете передать эти аргументы с помощью метода [`Runnable.bind()`](https://api.python.langchain.com/en/latest/runnables/langchain_core.runnables.base.Runnable.html#langchain_core.runnables.base.Runnable.bind).\n",
                "\n",
                "Продемонстрируем привязку на примере цепочки из промпта и модели:"
            ]
        },
        {
            "cell_type": "code",
            "execution_count": null,
            "id": "c5dad8b5",
            "metadata": {},
            "outputs": [],
            "source": [
                "%pip install --upgrade --quiet  gigachain"
            ]
        },
        {
            "cell_type": "code",
            "execution_count": 1,
            "id": "950297ed-2d67-4091-8ea7-1d412d259d04",
            "metadata": {},
            "outputs": [],
            "source": [
                "from langchain.chat_models.gigachat import GigaChat\n",
                "from langchain_core.output_parsers import StrOutputParser\n",
                "from langchain_core.prompts import ChatPromptTemplate\n",
                "from langchain_core.runnables import RunnablePassthrough"
            ]
        },
        {
            "cell_type": "code",
            "execution_count": 2,
            "id": "f3fdf86d-155f-4587-b7cd-52d363970c1d",
            "metadata": {},
            "outputs": [
                {
                    "name": "stdout",
                    "output_type": "stream",
                    "text": [
                        "EQUATION: x^3 + 7 = 12\n",
                        "\n",
                        "SOLUTION: \n",
                        "Subtract 7 from both sides:\n",
                        "x^3 = 5\n",
                        "\n",
                        "Take the cube root of both sides:\n",
                        "x = ∛5\n"
                    ]
                }
            ],
            "source": [
                "from langchain_core.output_parsers import StrOutputParser\n",
                "from langchain_core.prompts import ChatPromptTemplate\n",
                "from langchain_core.runnables import RunnablePassthrough\n",
                "from langchain_openai import ChatOpenAI\n",
                "\n",
                "prompt = ChatPromptTemplate.from_messages(\n",
                "    [\n",
                "        (\n",
                "            \"system\",\n",
                "            \"Write out the following equation using algebraic symbols then solve it. Use the format\\n\\nEQUATION:...\\nSOLUTION:...\\n\\n\",\n",
                "        ),\n",
                "        (\"human\", \"{equation_statement}\"),\n",
                "    ]\n",
                ")\n",
                "model = GigaChat(\n",
                "    credentials=\"<авторизационные_данные>\", verify_ssl_certs=False, model=\"GigaChat-Pro\"\n",
                ")\n",
                "runnable = (\n",
                "    {\"equation_statement\": RunnablePassthrough()} | prompt | model | StrOutputParser()\n",
                ")\n",
                "\n",
                "print(runnable.invoke(\"x raised to the third plus seven equals 12\"))"
            ]
        },
        {
            "cell_type": "markdown",
            "id": "929c9aba-a4a0-462c-adac-2cfc2156e117",
            "metadata": {},
            "source": [
                "Передадим в модель `model` слова, после которых она должна останавливаться (`stop`):"
            ]
        },
        {
            "cell_type": "code",
            "execution_count": 3,
            "id": "32e0484a-78c5-4570-a00b-20d597245a96",
            "metadata": {},
            "outputs": [
                {
                    "name": "stdout",
                    "output_type": "stream",
                    "text": [
                        "EQUATION: x^3 + 7 = 12\n",
                        "\n",
                        "\n"
                    ]
                }
            ],
            "source": [
                "runnable = (\n",
                "    {\"equation_statement\": RunnablePassthrough()}\n",
                "    | prompt\n",
                "    | model.bind(stop=\"SOLUTION\")\n",
                "    | StrOutputParser()\n",
                ")\n",
                "print(runnable.invoke(\"x raised to the third plus seven equals 12\"))"
            ]
        },
        {
            "cell_type": "markdown",
            "id": "f4bd641f-6b58-4ca9-a544-f69095428f16",
            "metadata": {},
            "source": [
                "## Привязка функций GigaChat\n",
                "\n",
                "Привязка может быть полезна при работе с функциями GigaChat:"
            ]
        },
        {
            "cell_type": "code",
            "execution_count": 3,
            "id": "f66a0fe4-fde0-4706-8863-d60253f211c7",
            "metadata": {},
            "outputs": [],
            "source": [
                "function = {\n",
                "    \"name\": \"solver\",\n",
                "    \"description\": \"Formulates and solves an equation\",\n",
                "    \"parameters\": {\n",
                "        \"type\": \"object\",\n",
                "        \"properties\": {\n",
                "            \"equation\": {\n",
                "                \"type\": \"string\",\n",
                "                \"description\": \"The algebraic expression of the equation\",\n",
                "            },\n",
                "            \"solution\": {\n",
                "                \"type\": \"string\",\n",
                "                \"description\": \"The solution to the equation\",\n",
                "            },\n",
                "        },\n",
                "        \"required\": [\"equation\", \"solution\"],\n",
                "    },\n",
                "}"
            ]
        },
        {
            "cell_type": "code",
            "execution_count": 22,
            "id": "f381f969-df8e-48a3-bf5c-d0397cfecde0",
            "metadata": {},
            "outputs": [
                {
                    "data": {
                        "text/plain": [
                            "AIMessage(content='', additional_kwargs={'function_call': {'name': 'solver', 'arguments': '{\\n\"equation\": \"x^3 + 7 = 12\",\\n\"solution\": \"x = ∛5\"\\n}'}}, example=False)"
                        ]
                    },
                    "execution_count": 22,
                    "metadata": {},
                    "output_type": "execute_result"
                }
            ],
            "source": [
                "# Для корректной работы примера используйте модель GigaChat-Pro\n",
                "prompt = ChatPromptTemplate.from_messages(\n",
                "    [\n",
                "        (\n",
                "            \"system\",\n",
                "            \"Write out the following equation using algebraic symbols then solve it.\",\n",
                "        ),\n",
                "        (\"human\", \"{equation_statement}\"),\n",
                "    ]\n",
                ")\n",
                "model = GigaChat(\n",
                "    credentials=\"<авторизационные_данные>\", verify_ssl_certs=False, model=\"GigaChat-Pro\"\n",
                ").bind(function_call={\"name\": \"solver\"}, functions=[function])\n",
                "runnable = {\"equation_statement\": RunnablePassthrough()} | prompt | model\n",
                "runnable.invoke(\"x raised to the third plus seven equals 12\")"
            ]
        },
        {
            "cell_type": "markdown",
            "id": "f07d7528-9269-4d6f-b12e-3669592a9e03",
            "metadata": {},
            "source": [
                "## Привязка OpenAI-инструментов"
            ]
        },
        {
            "cell_type": "code",
            "execution_count": 4,
            "id": "2cdeeb4c-0c1f-43da-bd58-4f591d9e0671",
            "metadata": {},
            "outputs": [],
            "source": [
                "tools = [\n",
                "    {\n",
                "        \"type\": \"function\",\n",
                "        \"function\": {\n",
                "            \"name\": \"get_current_weather\",\n",
                "            \"description\": \"Get the current weather in a given location\",\n",
                "            \"parameters\": {\n",
                "                \"type\": \"object\",\n",
                "                \"properties\": {\n",
                "                    \"location\": {\n",
                "                        \"type\": \"string\",\n",
                "                        \"description\": \"The city and state, e.g. San Francisco, CA\",\n",
                "                    },\n",
                "                    \"unit\": {\"type\": \"string\", \"enum\": [\"celsius\", \"fahrenheit\"]},\n",
                "                },\n",
                "                \"required\": [\"location\"],\n",
                "            },\n",
                "        },\n",
                "    }\n",
                "]"
            ]
        },
        {
            "cell_type": "code",
            "execution_count": 5,
            "id": "2b65beab-48bb-46ff-a5a4-ef8ac95a513c",
            "metadata": {},
            "outputs": [
                {
                    "data": {
                        "text/plain": [
                            "AIMessage(content='', additional_kwargs={'tool_calls': [{'id': 'call_z0OU2CytqENVrRTI6T8DkI3u', 'function': {'arguments': '{\"location\": \"San Francisco, CA\", \"unit\": \"celsius\"}', 'name': 'get_current_weather'}, 'type': 'function'}, {'id': 'call_ft96IJBh0cMKkQWrZjNg4bsw', 'function': {'arguments': '{\"location\": \"New York, NY\", \"unit\": \"celsius\"}', 'name': 'get_current_weather'}, 'type': 'function'}, {'id': 'call_tfbtGgCLmuBuWgZLvpPwvUMH', 'function': {'arguments': '{\"location\": \"Los Angeles, CA\", \"unit\": \"celsius\"}', 'name': 'get_current_weather'}, 'type': 'function'}]}, response_metadata={'token_usage': {'completion_tokens': 84, 'prompt_tokens': 85, 'total_tokens': 169}, 'model_name': 'gpt-3.5-turbo-1106', 'system_fingerprint': 'fp_77a673219d', 'finish_reason': 'tool_calls', 'logprobs': None}, id='run-d57ad5fa-b52a-4822-bc3e-74f838697e18-0', tool_calls=[{'name': 'get_current_weather', 'args': {'location': 'San Francisco, CA', 'unit': 'celsius'}, 'id': 'call_z0OU2CytqENVrRTI6T8DkI3u'}, {'name': 'get_current_weather', 'args': {'location': 'New York, NY', 'unit': 'celsius'}, 'id': 'call_ft96IJBh0cMKkQWrZjNg4bsw'}, {'name': 'get_current_weather', 'args': {'location': 'Los Angeles, CA', 'unit': 'celsius'}, 'id': 'call_tfbtGgCLmuBuWgZLvpPwvUMH'}])"
                        ]
                    },
                    "execution_count": 5,
                    "metadata": {},
                    "output_type": "execute_result"
                }
            ],
            "source": [
                "model = ChatOpenAI(model=\"gpt-3.5-turbo-1106\").bind(tools=tools)\n",
                "model.invoke(\"What's the weather in SF, NYC and LA?\")"
            ]
        },
        {
            "cell_type": "markdown",
            "id": "095001f7",
            "metadata": {},
            "source": [
                "## Смотрите также\n",
                "\n",
                "- [Изменение параметров в процессе выполнения](/docs/how_to/configure)"
            ]
        }
    ],
    "metadata": {
        "kernelspec": {
            "display_name": "Python 3 (ipykernel)",
            "language": "python",
            "name": "python3"
        },
        "language_info": {
            "codemirror_mode": {
                "name": "ipython",
                "version": 3
            },
            "file_extension": ".py",
            "mimetype": "text/x-python",
            "name": "python",
            "nbconvert_exporter": "python",
            "pygments_lexer": "ipython3",
            "version": "3.9.1"
        }
    },
    "nbformat": 4,
    "nbformat_minor": 5
}