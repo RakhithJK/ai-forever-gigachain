{
    "cells": [
        {
            "cell_type": "markdown",
            "id": "9e161a8a-fcf0-4d55-933e-da271ce28d7e",
            "metadata": {},
            "source": [
                "# Обработка большого текста\n",
                "\n",
                "Текстовые файлы, например PDF, зачастую содержат тексты, размеры которых превышают размер конекста модели.\n",
                "Для обработки таких текстов вы можете попробовать следующие подходы:\n",
                "\n",
                "* Смените модель. Попробуйте использовать модель с большим контекстом, например, [GigaChat Lite+](https://developers.sber.ru/docs/ru/gigachat/models).\n",
                "* Разделите документ на небольшие фрагменты и попробуйте извлечь данные из них.\n",
                "* Используйте RAG — разделите документ на фрагменты и проиндексируйте их. После этого можно будет извлекать данные только из тех фрагментов, которые кажутся модели подходящими.\n",
                "\n",
                "Каждый из способов имеет свои плюсы и минусы, и подходит для решения различных задач.\n",
                "\n",
                "В этом разделе вы найдете примеры реализации второго и третьего подходов."
            ]
        },
        {
            "cell_type": "markdown",
            "id": "57969139-ad0a-487e-97d8-cb30e2af9742",
            "metadata": {},
            "source": [
                "## Подготовка\n",
                "\n",
                "В качестве примера используется [статью о машинах из Википедии](https://en.wikipedia.org/wiki/Car), загруженная как документ (`Document`) GigaChain."
            ]
        },
        {
            "cell_type": "code",
            "execution_count": 2,
            "id": "571aad22-2cec-4b9b-b656-5e4b81a1ec6c",
            "metadata": {},
            "outputs": [],
            "source": [
                "import re\n",
                "\n",
                "import requests\n",
                "from langchain_community.document_loaders import BSHTMLLoader\n",
                "\n",
                "# Загрузка статьи\n",
                "response = requests.get(\"https://en.wikipedia.org/wiki/Car\")\n",
                "# Запись в файл\n",
                "with open(\"car.html\", \"w\", encoding=\"utf-8\") as f:\n",
                "    f.write(response.text)\n",
                "# Загрузка файла с помощью парсера HTML\n",
                "loader = BSHTMLLoader(\"car.html\")\n",
                "document = loader.load()[0]\n",
                "# Очистка кода\n",
                "# Замена нескольких последовательных новых строк одной новой строкой\n",
                "document.page_content = re.sub(\"\\n\\n+\", \"\\n\", document.page_content).replace(\n",
                "    \"\\xa0\", \" \"\n",
                ")"
            ]
        },
        {
            "cell_type": "code",
            "execution_count": 3,
            "id": "85656454-6d5d-4ff6-93ca-690791ac1ec4",
            "metadata": {},
            "outputs": [
                {
                    "name": "stdout",
                    "output_type": "stream",
                    "text": [
                        "79251\n"
                    ]
                }
            ],
            "source": [
                "print(len(document.page_content))"
            ]
        },
        {
            "cell_type": "markdown",
            "id": "af3ffb8d-587a-4370-886a-e56e617bcb9c",
            "metadata": {},
            "source": [
                "## Определение схемы данных\n",
                "\n",
                "Используем Pydantic для определения схемы данных, которые нужно извлечь с помощью модели.\n",
                "В приведенном примере извлечем список «основных этапов» (например, важных исторических событий), которые включают год и описание.\n",
                "\n",
                "В примере также задается поле `evidence`, а модели поручается предоставить дословные цитаты из статьи, которые подтверждают извлеченные данные.\n",
                "Это позволяет нам сравнить результаты извлечения с текстом из оригинального документа."
            ]
        },
        {
            "cell_type": "code",
            "execution_count": 4,
            "id": "a3b288ed-87a6-4af0-aac8-20921dc370d4",
            "metadata": {},
            "outputs": [
                {
                    "name": "stderr",
                    "output_type": "stream",
                    "text": [
                        "/Users/mikelarg/Projects/gigachain/libs/core/langchain_core/_api/beta_decorator.py:87: LangChainBetaWarning: The function `with_structured_output` is in beta. It is actively being worked on, so the API may change.\n",
                        "  warn_beta(\n"
                    ]
                }
            ],
            "source": [
                "from typing import List, Optional\n",
                "\n",
                "from langchain_community.chat_models.gigachat import GigaChat\n",
                "from langchain_core.prompts import ChatPromptTemplate, MessagesPlaceholder\n",
                "from langchain_core.pydantic_v1 import BaseModel, Field\n",
                "\n",
                "\n",
                "class KeyDevelopment(BaseModel):\n",
                "    \"\"\"Важная историческая дата.\"\"\"\n",
                "\n",
                "    # Док-строка выше, передается в описании функции\n",
                "    # и помогает улучшить результаты работы LLM\n",
                "\n",
                "    # Обратите внимание:\n",
                "    # У каждого поля есть описание (`description`), которое передается в модель, в описании аргументов функции.\n",
                "    # Хорошее пописание помогает повысить качество извлечения.\n",
                "    year: Optional[int] = Field(\n",
                "        ..., description=\"Год исторического события. Не может быть null.\"\n",
                "    )\n",
                "    description: str = Field(\n",
                "        ..., description=\"Описание. Что произошло в этом году? Каково было развитие?\"\n",
                "    )\n",
                "    evidence: str = Field(\n",
                "        ...,\n",
                "        description=\"Повтори дословно предложения из текста, из которых были извлечены год и описание.\",\n",
                "    )\n",
                "\n",
                "\n",
                "class ExtractionData(BaseModel):\n",
                "    \"\"\"Извлеченая информация о ключевых событиях в истории.\"\"\"\n",
                "\n",
                "    key_developments: List[KeyDevelopment]\n",
                "\n",
                "\n",
                "# Определяем промпт: добавляем инструкции и дополнительный контекст\n",
                "# На этом этапе можно:\n",
                "# * Добавить примеры работы функций, для улучшения качества извлечения информации\n",
                "# * Предоставить дополнительную информацию о том какие данные и откуда будут извлекаться\n",
                "prompt = ChatPromptTemplate.from_messages(\n",
                "    [\n",
                "        (\n",
                "            \"system\",\n",
                "            \"Ты эксперт в извлечении важных исторических дат из текста. \"\n",
                "            \"Извлекай только важные исторические события с годами.\"\n",
                "            \"Если ты не можешь извлечь год, не записывай это в историческое событие\",\n",
                "        ),\n",
                "        MessagesPlaceholder(\n",
                "            \"examples\"\n",
                "        ),  # В блоках ниже показано как использовать примеры для повышения качества извлечения данных\n",
                "        (\"human\", \"{text}\"),\n",
                "    ]\n",
                ")"
            ]
        },
        {
            "cell_type": "markdown",
            "id": "3909e22e-8a00-4f3d-bbf2-4762a0558af3",
            "metadata": {},
            "source": [
                "## Создание экстрактора\n",
                "\n",
                "Пример экстрактора, созданного с помощью GigaChat-Pro."
            ]
        },
        {
            "cell_type": "code",
            "execution_count": 5,
            "id": "109f4f05-d0ff-431d-93d9-8f5aa34979a6",
            "metadata": {},
            "outputs": [],
            "source": [
                "from langchain_community.chat_models.gigachat import GigaChat\n",
                "\n",
                "llm = GigaChat(\n",
                "    verify_ssl_certs=False,\n",
                "    timeout=6000,\n",
                "    model=\"GigaChat-Pro\",\n",
                "    temperature=0.01,\n",
                ")"
            ]
        },
        {
            "cell_type": "code",
            "execution_count": 6,
            "id": "aa4ae224-6d3d-4fe2-b210-7db19a9fe580",
            "metadata": {},
            "outputs": [],
            "source": [
                "extractor = prompt | llm.with_structured_output(\n",
                "    schema=ExtractionData,\n",
                ")"
            ]
        },
        {
            "cell_type": "markdown",
            "id": "13aebafb-26b5-42b2-ae8e-9c05cd56e5c5",
            "metadata": {},
            "source": [
                "## Разделение файла на фрагменты\n",
                "\n",
                "Разделение файла на фрагменты, которые помещаются в окно контекста модели."
            ]
        },
        {
            "cell_type": "code",
            "execution_count": 5,
            "id": "27b8a373-14b3-45ea-8bf5-9749122ad927",
            "metadata": {},
            "outputs": [],
            "source": [
                "from langchain_text_splitters import RecursiveCharacterTextSplitter\n",
                "\n",
                "text_splitter = RecursiveCharacterTextSplitter(\n",
                "    # Управление размером каждого фрагмента\n",
                "    chunk_size=2000,\n",
                "    # Управление перекрытием между фрагментами\n",
                "    chunk_overlap=20,\n",
                ")\n",
                "\n",
                "texts = text_splitter.split_text(document.page_content)"
            ]
        },
        {
            "cell_type": "markdown",
            "id": "13bd1dec",
            "metadata": {},
            "source": [
                "Добавляем образцы, на которые будет ориентироваться модель при генерации данных."
            ]
        },
        {
            "cell_type": "code",
            "execution_count": 6,
            "id": "7fb27b941602401d91542211134fc71a",
            "metadata": {
                "collapsed": false
            },
            "outputs": [],
            "source": [
                "import itertools\n",
                "from typing import List, TypedDict\n",
                "\n",
                "from langchain_core.messages import (\n",
                "    AIMessage,\n",
                "    BaseMessage,\n",
                "    FunctionMessage,\n",
                "    HumanMessage,\n",
                ")\n",
                "from langchain_core.pydantic_v1 import BaseModel\n",
                "\n",
                "#\n",
                "# В этом блоке добавляются примеры работы функций для повышения качества извлечения данных\n",
                "# Подробнее о примерах работы — в example.ipynb\n",
                "#\n",
                "\n",
                "\n",
                "class Example(TypedDict):\n",
                "    \"\"\"Пример работы функций.\"\"\"\n",
                "\n",
                "    input: str  # Пример вызова\n",
                "    function_calls: List[BaseModel]  # Pydantic-модель с примером извлечения\n",
                "    function_outputs: List[str]\n",
                "\n",
                "\n",
                "def tool_example_to_messages(example: Example) -> List[BaseMessage]:\n",
                "    \"\"\"Превращаем примеры вызовов функций в историю сообщений\"\"\"\n",
                "    messages: List[BaseMessage] = [HumanMessage(content=example[\"input\"])]\n",
                "    for function_call, function_output in itertools.zip_longest(\n",
                "        example[\"function_calls\"], example.get(\"function_outputs\", [])\n",
                "    ):\n",
                "        messages.append(\n",
                "            AIMessage(\n",
                "                content=\"\",\n",
                "                additional_kwargs={\n",
                "                    \"function_call\": {\n",
                "                        # Сейчас название модели соответствует pydantic-модели\n",
                "                        # В текущий момент в API это неочевидно и будет улучшено.\n",
                "                        \"name\": function_call.__class__.__name__,\n",
                "                        \"arguments\": function_call.dict(),\n",
                "                    },\n",
                "                },\n",
                "            )\n",
                "        )\n",
                "        output = \"You have correctly called this tool.\"\n",
                "        if function_output:\n",
                "            output = function_output\n",
                "        messages.append(\n",
                "            FunctionMessage(name=function_call.__class__.__name__, content=output)\n",
                "        )\n",
                "    return messages\n",
                "\n",
                "\n",
                "examples = [\n",
                "    (\n",
                "        \"Техногенная авария «Размыв» Ленинградского-Петербургского метрополитена \"\n",
                "        \"является крупнейшей в мировой практике метростроения[34]; была экранизирована \"\n",
                "        \"в фильме «Прорыв» и послужила вдохновением для фильма «Метро»[35].\",\n",
                "        ExtractionData(\n",
                "            key_developments=[\n",
                "                KeyDevelopment(\n",
                "                    year=None,\n",
                "                    description=\"Техногенная авария 'Размыв' в \"\n",
                "                    \"Ленинградском-Петербургском метрополитене является \"\n",
                "                    \"крупнейшей в мировой практике метростроения\",\n",
                "                    evidence=\"была экранизирована в фильме 'Прорыв' и послужила \"\n",
                "                    \"вдохновением для фильма 'Метро'\",\n",
                "                )\n",
                "            ]\n",
                "        ),\n",
                "        \"\"\"pydantic.v1.error_wrappers.ValidationError: 1 validation error for KeyDevelopment\n",
                "year\n",
                "  none is not an allowed value (type=type_error.none.not_allowed)\"\"\",\n",
                "    ),\n",
                "    (\n",
                "        \"In 1891, Auguste Doriot and his Peugeot colleague Louis Rigoulot completed \"\n",
                "        \"the longest trip by a petrol-driven vehicle when their self-designed and \"\n",
                "        \"built Daimler powered Peugeot Type 3 completed 2,100 kilometres (1,300 mi) \"\n",
                "        \"from Valentigney to Paris and Brest and back again. They were attached to \"\n",
                "        \"the first Paris–Brest–Paris bicycle race, but finished six days \"\n",
                "        \"after the winning cyclist, Charles Terront.\",\n",
                "        ExtractionData(\n",
                "            key_developments=[\n",
                "                KeyDevelopment(\n",
                "                    year=1891,\n",
                "                    description=\"Август Дорио и его коллега Луи Риголу \"\n",
                "                    \"завершают самую длинную поездку на бензиновом автомобиле\",\n",
                "                    evidence=\"In 1891, Auguste Doriot and his Peugeot colleague Louis Rigoulot completed the longest trip by a petrol-driven vehicle\",\n",
                "                )\n",
                "            ]\n",
                "        ),\n",
                "        \"You have correctly called this tool.\",\n",
                "    ),\n",
                "    (\n",
                "        \"I love cats and dogs.\",\n",
                "        ExtractionData(key_developments=[]),\n",
                "        \"You have correctly called this tool.\",\n",
                "    ),\n",
                "]\n",
                "\n",
                "\n",
                "messages = []\n",
                "\n",
                "for text, tool_call, function_output in examples:\n",
                "    messages.extend(\n",
                "        tool_example_to_messages(\n",
                "            {\n",
                "                \"input\": text,\n",
                "                \"function_calls\": [tool_call],\n",
                "                \"function_outputs\": [function_output],\n",
                "            }\n",
                "        )\n",
                "    )"
            ]
        },
        {
            "cell_type": "markdown",
            "id": "5b43d7e0-3c85-4d97-86c7-e8c984b60b0a",
            "metadata": {},
            "source": [
                "Используйте метод `.batch`, для параллельного извлечения данных из каждого фрагмента.\n",
                "\n",
                "<!--\n",
                ":::note\n",
                "\n",
                "You can often use .batch() to parallelize the extractions! `batch` uses a threadpool under the hood to help you parallelize workloads.\n",
                "\n",
                "If your model is exposed via an API, this will likley speed up your extraction flow!\n",
                "\n",
                ":::\n",
                "-->"
            ]
        },
        {
            "cell_type": "code",
            "execution_count": null,
            "id": "6ba766b5-8d6c-48e6-8d69-f391a66b65d2",
            "metadata": {
                "pycharm": {
                    "is_executing": true
                }
            },
            "outputs": [],
            "source": [
                "# Добавьте ограничение на работу с первыми тремя фрагментами\n",
                "# чтобы можно было быстро перезапускать код\n",
                "first_few = texts[:10]\n",
                "\n",
                "extractions = extractor.batch(\n",
                "    [{\"text\": text, \"examples\": messages} for text in first_few],\n",
                "    {\n",
                "        \"max_concurrency\": 5\n",
                "    },  # ограничьте конкурентность с помощью параметра max_concurrency\n",
                ")"
            ]
        },
        {
            "cell_type": "markdown",
            "id": "67da8904-e927-406b-a439-2a16f6087ccf",
            "metadata": {},
            "source": [
                "### Объединение результатов\n",
                "\n",
                "После извлечения данных из разных фрагментов их нужно объединить в общий результат."
            ]
        },
        {
            "cell_type": "code",
            "execution_count": 11,
            "id": "30b35897-4d94-44ad-80c6-446eff61b76b",
            "metadata": {},
            "outputs": [
                {
                    "data": {
                        "text/plain": [
                            "[KeyDevelopment(year=None, description='Car, or an automobile, is a motor vehicle with wheels.', evidence='A car, or an automobile, is a motor vehicle with wheels.'),\n",
                            " KeyDevelopment(year=1769, description='Французский изобретатель Николя-Жозеф Кюньо создал первый паровой автомобиль в 1769 году', evidence='French inventor Nicolas-Joseph Cugnot built the first steam-powered road vehicle in 1769'),\n",
                            " KeyDevelopment(year=1886, description='Немецкий изобретатель Карл Бенц запатентовал свой Benz Patent-Motorwagen в 1886 году', evidence='The modern car—a practical, marketable automobile for everyday use—was invented in 1886, when German inventor Carl Benz patented his Benz Patent-Motorwagen.'),\n",
                            " KeyDevelopment(year=1908, description='Модель Т, американский автомобиль, произведенный компанией Ford Motor Company, стал доступным для масс в 1908 году', evidence='One of the first cars affordable by the masses was the 1908 Model T, an American car manufactured by the Ford Motor Company.'),\n",
                            " KeyDevelopment(year=1897, description=\"Автомобиль - классический композит, полученный из древнегреческого autós (αὐτός) 'сам' и латинского mobilis 'передвижной', вошел в английский язык из французского и был впервые принят Автомобильным клубом Великобритании в 1897 году.\", evidence='\"Automobile\", a classical compound derived from Ancient Greek autós (αὐτός) \"self\" and Latin mobilis \"movable\", entered English from French and was first adopted by the Automobile Club of Great Britain in 1897.[20]'),\n",
                            " KeyDevelopment(year=1678, description='Первая паровая машина Вербиста, в 1678 году (Фердинанд Вербист)', evidence='Steam machine of Verbiest, in 1678 (Ferdinand Verbiest)'),\n",
                            " KeyDevelopment(year=1771, description='Фардиер Кюньо 1771 года, сохранившийся в Музее искусств и ремесел в Париже', evidence=\"Cugnot's 1771 fardier à vapeur, as preserved at the Musée des Arts et Métiers, Paris\"),\n",
                            " KeyDevelopment(year=1885, description='Карл Бенц, изобретатель современного автомобиля', evidence='The original Benz Patent-Motorwagen, the first modern car, built in 1885 and awarded the patent for the concept'),\n",
                            " KeyDevelopment(year=None, description='Берта Бенц, первый водитель на дальние расстояния', evidence='Bertha Benz, the first long distance driver'),\n",
                            " KeyDevelopment(year=None, description='Флокен Электроваген был первым четырехколесным электрическим автомобилем', evidence='The Flocken Elektrowagen was the first four-wheeled electric car'),\n",
                            " KeyDevelopment(year=None, description='Штутгарт, колыбель автомобиля[24][25], где Готтлиб Даймлер и Вильгельм Майбах работали в Даймлер Моторен Гезельшафт, и место современных штаб-квартир Мерседес-Бенц Групп и Порше', evidence='Stuttgart, a cradle of the car[24][25] with Gottlieb Daimler and Wilhelm Maybach working there at the Daimler Motoren Gesellschaft and place of the modern day headquarters of Mercedes-Benz Group and Porsche'),\n",
                            " KeyDevelopment(year=1769, description='Николя-Жозеф Кюньо создал первый полноразмерный самоходный механический автомобиль в 1769 году.', evidence='Nicolas-Joseph Cugnot is widely credited with building the first full-scale, self-propelled mechanical vehicle in about 1769'),\n",
                            " KeyDevelopment(year=1801, description=\"Ричард Тревитик построил и продемонстрировал свою дорожную паровую машину 'Дьявол с пыхтением' в 1801 году.\", evidence='In 1801, Richard Trevithick built and demonstrated his Puffing Devil road locomotive'),\n",
                            " KeyDevelopment(year=1807, description='Ньепс и его брат Клауд создали первый в мире двигатель внутреннего сгорания в 1807 году.', evidence=\"In 1807, Nicéphore Niépce and his brother Claude created what was probably the world's first internal combustion engine\"),\n",
                            " KeyDevelopment(year=1881, description='Густав Труве демонстрирует трехколесный электромобиль на Международной электротехнической выставке', evidence='В ноябре 1881 года французский изобретатель Густав Труве продемонстрировал трехколесный автомобиль, работающий на электричестве, на Международной электротехнической выставке'),\n",
                            " KeyDevelopment(year=1886, description='Карл Бенц патентует свой Benz Patent-Motorwagen', evidence='В 1886 году немец Карл Бенц получил патент на свой Benz Patent-Motorwagen'),\n",
                            " KeyDevelopment(year=1888, description='Берта Бенц совершает первую поездку на автомобиле', evidence='В августе 1888 года Берта Бенц, жена Карла Бенца, совершила первую поездку на автомобиле, чтобы доказать его пригодность для дорог'),\n",
                            " KeyDevelopment(year=1890, description='Даймлер и Майбах основали Даймлер Моторен Гезельшафт (DMG) в Каннштадте в 1890 году', evidence='Daimler and Maybach founded Daimler Motoren Gesellschaft (DMG) in Cannstatt in 1890'),\n",
                            " KeyDevelopment(year=1896, description='Бенц разработал и запатентовал первый внутренне-сгораемый плоский двигатель', evidence='In 1896, Benz designed and patented the first internal-combustion flat engine'),\n",
                            " KeyDevelopment(year=1899, description='Бенц был самым большим автомобильным производителем в мире', evidence='Benz was the largest car company in the world with 572 units produced in 1899')]"
                        ]
                    },
                    "execution_count": 11,
                    "metadata": {},
                    "output_type": "execute_result"
                }
            ],
            "source": [
                "key_developments = []\n",
                "\n",
                "for extraction in extractions:\n",
                "    key_developments.extend(extraction.key_developments)\n",
                "\n",
                "key_developments[:10]"
            ]
        },
        {
            "cell_type": "markdown",
            "id": "48afd4a7-abcd-48b4-8ff1-6ca485f529e3",
            "metadata": {},
            "source": [
                "## Использование методики RAG\n",
                "\n",
                "Вы также можете проиндексировать фрагменты текста и извлекать данные только из наиболее подходящих из них.\n",
                "\n",
                ":::caution\n",
                "\n",
                "При определении подходящих фрагментов могут возникнуть проблемы.\n",
                "\n",
                "Так, при работе с представленной статьей из Википедии этот подход может привести к потере многих данных, так как фрагменты будут опознаны как не подходящие.\n",
                "\n",
                "Попробуйте использовать подход для решения своих задач, чтобы понять подходит он вам или нет.\n",
                "\n",
                ":::\n",
                "\n",
                "Для реализации подхода, основанного на RAG: \n",
                "\n",
                "1. Разделите файлы на фрагменты и проиндексируйте их (например, с использованием векторного хранилища);\n",
                "2. Добавьте извлечение данных из векторного хранилища перед вызовом цепочки `extractor`.\n",
                "\n",
                "Простой пример, использующий векторное хранилище `FAISS`."
            ]
        },
        {
            "cell_type": "code",
            "execution_count": 40,
            "id": "aaf37c82-625b-4fa1-8e88-73303f08ac16",
            "metadata": {},
            "outputs": [],
            "source": [
                "from langchain_community.vectorstores import FAISS\n",
                "from langchain_core.documents import Document\n",
                "from langchain_core.runnables import RunnableLambda, RunnableParallel\n",
                "from langchain_openai import OpenAIEmbeddings\n",
                "from langchain_text_splitters import CharacterTextSplitter\n",
                "\n",
                "texts = text_splitter.split_text(document.page_content)\n",
                "vectorstore = FAISS.from_texts(texts, embedding=OpenAIEmbeddings())\n",
                "\n",
                "retriever = vectorstore.as_retriever(\n",
                "    search_kwargs={\"k\": 3}\n",
                ")  # Извлечение данных только из этого документа"
            ]
        },
        {
            "cell_type": "markdown",
            "id": "013ecad9-f80f-477c-b954-494b46a02a07",
            "metadata": {},
            "source": [
                "В приведенном примере RAG-экстрактор извлекает данные только из начала документа."
            ]
        },
        {
            "cell_type": "code",
            "execution_count": 41,
            "id": "47aad00b-7013-4f7f-a1b0-02ef269093bf",
            "metadata": {},
            "outputs": [],
            "source": [
                "def combine_docs(docs):\n",
                "    return \"\\n\\n\".join([doc.page_content for doc in docs])\n",
                "\n",
                "\n",
                "rag_extractor = {\n",
                "    \"text\": retriever | combine_docs,  # получение содержимого начала документа\n",
                "    \"examples\": lambda x: messages,\n",
                "} | extractor"
            ]
        },
        {
            "cell_type": "code",
            "execution_count": 42,
            "id": "68f2de01-0cd8-456e-a959-db236189d41b",
            "metadata": {},
            "outputs": [
                {
                    "name": "stderr",
                    "output_type": "stream",
                    "text": [
                        "Giga generation stopped with reason: function_call\n"
                    ]
                }
            ],
            "source": [
                "results = rag_extractor.invoke(\"Key developments\")"
            ]
        },
        {
            "cell_type": "code",
            "execution_count": 43,
            "id": "56f434ea-1869-4192-914e-3ccf64e72f75",
            "metadata": {},
            "outputs": [
                {
                    "name": "stdout",
                    "output_type": "stream",
                    "text": [
                        "year=2018 description='Рост популярности автомобилей и поездок привел к заторам на дорогах.' evidence='Так, Москва, Стамбул, Богота, Мехико и Сан-Паулу были самыми загруженными городами в 2018 году, согласно данным компании INRIX, специализирующейся на анализе данных.'\n",
                        "year=1924 description='В Европе происходило то же самое.' evidence='Morris начал производство на конвейере в Ковли в 1924 году и вскоре стал продавать больше автомобилей, чем Ford, а также начал следовать практике вертикальной интеграции Ford, покупая двигатели, коробки передач и радиаторы у других компаний.'\n",
                        "year=None description='В Японии производство автомобилей было ограничено до Второй мировой войны.' evidence='Только несколько компаний производили автомобили в ограниченном количестве, и эти автомобили были небольшими, трехколесными для коммерческих целей или были результатом партнерства с европейскими компаниями.'\n",
                        "year=None description='Большинство автомобилей, используемых в начале 2020-х годов, работают на бензине, который сжигается в двигателе внутреннего сгорания.' evidence='Международная организация производителей моторных транспортных средств заявляет, что в странах, где требуется низкосернистый бензин, автомобили, работающие на бензине и соответствующие стандартам поздних 2010-х годов, например, Евро-6, выделяют очень мало локальных загрязнителей воздуха.'\n",
                        "year=2021 description='Девять процентов всех проданных в 2021 году автомобилей были электрическими.' evidence='К концу 2021 года в мире насчитывалось более 16 миллионов электромобилей.'\n"
                    ]
                }
            ],
            "source": [
                "for key_development in results.key_developments:\n",
                "    print(key_development)"
            ]
        },
        {
            "cell_type": "markdown",
            "id": "cf36e626-cf5d-4324-ba29-9bd602be9b97",
            "metadata": {},
            "source": [
                "## Известные проблемы\n",
                "\n",
                "При реализации каждого из подходов вы можете столкнуться со следующими проблемами:\n",
                "\n",
                "* При делении текста на фрагметы модель возможно не сможет извлечь нужные данные, если они встречаются в разных фрагментах.\n",
                "* Большое перекрытие между фрагментами может привести к задвоению информации.\n",
                "* Модели могут придумывать данные."
            ]
        }
    ],
    "metadata": {
        "kernelspec": {
            "display_name": "Python 3 (ipykernel)",
            "language": "python",
            "name": "python3"
        },
        "language_info": {
            "codemirror_mode": {
                "name": "ipython",
                "version": 3
            },
            "file_extension": ".py",
            "mimetype": "text/x-python",
            "name": "python",
            "nbconvert_exporter": "python",
            "pygments_lexer": "ipython3",
            "version": "3.10.4"
        }
    },
    "nbformat": 4,
    "nbformat_minor": 5
}