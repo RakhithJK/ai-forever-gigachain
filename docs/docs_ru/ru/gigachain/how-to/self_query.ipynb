{
 "cells": [
  {
   "cell_type": "markdown",
   "id": "c0bc3390-4bed-49d3-96ce-072badb4110b",
   "metadata": {
    "id": "c0bc3390-4bed-49d3-96ce-072badb4110b"
   },
   "source": [
    "# Работа самозапрашивающего ретривера\n",
    "\n",
    "\n",
    "<!--\n",
    ":::info\n",
    "\n",
    "Head to [Integrations](/docs/integrations/retrievers/self_query) for documentation on vector stores with built-in support for self-querying.\n",
    "\n",
    ":::\n",
    "-->\n",
    "\n",
    "Самозапрашивающий ретривер - это ретривер, способный обращаться к самому себе.\n",
    "Такой ретривер принимает запрос на естественном языке, преобразует его в структурированный запрос с помощью LLM-цепочки, после чего применят полученный запрос к заданному векторному хранилищу\n",
    "Это позволяет ретриверу как использовать запрос пользователя для семантического поиска по содержимому документов, так и применять извлеченные из запроса фильтры по метаданным хранимых документов.\n",
    "\n",
    "![](../../static/img/self_querying.jpg)\n",
    "\n",
    "```mermaid\n",
    "flowchart LR\n",
    "    A([«Что Петя сказал\n",
    "       про Колю?»])\n",
    "    B(\"Конструктор\n",
    "        запроса\")\n",
    "    C([Запрос содержит «Коля»\n",
    "      фильтр author == «Петя»])\n",
    "    D(\"Преобразователь\n",
    "        запроса\")\n",
    "    E([Найди «Коля»,\n",
    "      где автор «Петя»])\n",
    "    F[(\"Векторное\n",
    "        хранилище\")]\n",
    "    style A fill:stroke:stroke-width:2px,color:#fff,stroke-dasharray: 5 5\n",
    "    style C fill:stroke:stroke-width:2px,color:#fff,stroke-dasharray: 5 5\n",
    "    style E fill:stroke:stroke-width:2px,color:#fff,stroke-dasharray: 5 5\n",
    "    A --> B\n",
    "    B --> C\n",
    "    C --> D\n",
    "    D --> E\n",
    "    E --> F\n",
    "```\n",
    "\n",
    "## Начало работы\n",
    "\n",
    "Для демонстрации в разделе используется [векторное хранилище Chromа](https://docs.trychroma.com/) и набор документов, которые содержат краткое описание фильмов.\n",
    "\n",
    "Для работы самозапрашивающего ретривера нужно установить пакет `lark`.\n",
    "\n",
    "Установите необходимые зависимости."
   ]
  },
  {
   "cell_type": "code",
   "execution_count": 1,
   "id": "e1486ca4-9785-4107-90bd-923505542167",
   "metadata": {
    "id": "e1486ca4-9785-4107-90bd-923505542167"
   },
   "outputs": [],
   "source": [
    "pip install --upgrade --quiet lark gigachain-community gigachain-chroma"
   ]
  },
  {
   "cell_type": "code",
   "execution_count": 2,
   "id": "beec3e35-3750-408c-9f2a-d92cf0a9a321",
   "metadata": {
    "id": "beec3e35-3750-408c-9f2a-d92cf0a9a321"
   },
   "outputs": [],
   "source": [
    "from langchain_chroma import Chroma\n",
    "from langchain_community.embeddings.gigachat import GigaChatEmbeddings\n",
    "from langchain_core.documents import Document\n",
    "\n",
    "docs = [\n",
    "    Document(\n",
    "        page_content=\"Трагедия войны глазами солдатской невесты\",\n",
    "        metadata={\"year\": 1957, \"rating\": 8.7, \"genre\": \"драма\"},\n",
    "    ),\n",
    "    Document(\n",
    "        page_content=\"Заурядный семьянин Василий Кузякин заводит роман с эффектной коллегой\",\n",
    "        metadata={\"year\": 1985, \"director\": \"Владимир Меньшов\", \"rating\": 8.2},\n",
    "    ),\n",
    "    Document(\n",
    "        page_content=\"Встреча Алисы и Коли становится началом ярких приключений, в которых они вступят в схватку с космическими пиратами\",\n",
    "        metadata={\"year\": 2024, \"director\": \"Александр Андрющенко\", \"rating\": 7.2},\n",
    "    ),\n",
    "    Document(\n",
    "        page_content=\"Легендарный советский шпионский сериал Татьяны Лиозновой о штандартенфюрере Штирлице\",\n",
    "        metadata={\"year\": 1973, \"director\": \"Татьяна Лиознова\", \"rating\": 8.3},\n",
    "    ),\n",
    "    Document(\n",
    "        page_content=\"Непутевый богатырь случайно упускает орду тугар со всем золотом Ростова и теперь спешит догнать и одолеть варваров\",\n",
    "        metadata={\"year\": 2004, \"genre\": \"мультфильм\"},\n",
    "    ),\n",
    "    Document(\n",
    "        page_content=\"Мистическое путешествие через Зону к комнате, где исполняются желания\",\n",
    "        metadata={\n",
    "            \"year\": 1979,\n",
    "            \"director\": \"Андрей Тарковский\",\n",
    "            \"genre\": \"фантастика\",\n",
    "            \"rating\": 9.9,\n",
    "        },\n",
    "    ),\n",
    "]\n",
    "\n",
    "embedding = GigaChatEmbeddings(\n",
    "    credentials=\"<авторизационные_данные>\",\n",
    "    scope=\"GIGACHAT_API_PERS\",\n",
    "    verify_ssl_certs=False,\n",
    ")\n",
    "\n",
    "vectorstore = Chroma.from_documents(docs, embedding)"
   ]
  },
  {
   "cell_type": "markdown",
   "id": "99771131-1efb-42e2-95f8-2aaa95f37677",
   "metadata": {
    "id": "99771131-1efb-42e2-95f8-2aaa95f37677"
   },
   "source": [
    "## Создание самозапршивающего ретривера\n",
    "\n",
    "Добавьте описание фильтров, которые поддерживают документы, и инициализируйте ретривер."
   ]
  },
  {
   "cell_type": "code",
   "execution_count": 3,
   "id": "7832ca43-cc17-4375-bf4e-679b99584568",
   "metadata": {
    "id": "7832ca43-cc17-4375-bf4e-679b99584568"
   },
   "outputs": [],
   "source": [
    "from langchain.chains.query_constructor.base import AttributeInfo\n",
    "from langchain.chat_models.gigachat import GigaChat\n",
    "from langchain.retrievers.self_query.base import SelfQueryRetriever\n",
    "\n",
    "metadata_field_info = [\n",
    "    AttributeInfo(\n",
    "        name=\"genre\",\n",
    "        description=\"Жанр кино или мультфильма. Возможные значения ['фантастика', 'комедия', 'драма', 'триллер', 'мелодрама', 'экшн', 'мультфильм']\",\n",
    "        type=\"string\",\n",
    "    ),\n",
    "    AttributeInfo(\n",
    "        name=\"year\",\n",
    "        description=\"Год выпуска\",\n",
    "        type=\"integer\",\n",
    "    ),\n",
    "    AttributeInfo(\n",
    "        name=\"director\",\n",
    "        description=\"Имя режиссера\",\n",
    "        type=\"string\",\n",
    "    ),\n",
    "    AttributeInfo(\n",
    "        name=\"rating\",\n",
    "        description=\"Рейтинг кино или мультфильма от 1 до 10\",\n",
    "        type=\"float\",\n",
    "    ),\n",
    "]\n",
    "document_content_description = \"Краткое описание кино или мультфильма\"\n",
    "llm = GigaChat(\n",
    "    credentials=\"<авторизационные_данные>\",\n",
    "    scope=\"GIGACHAT_API_PERS\",\n",
    "    model=\"GigaChat-Pro\",\n",
    "    verify_ssl_certs=False,\n",
    ")\n",
    "retriever = SelfQueryRetriever.from_llm(\n",
    "    llm,\n",
    "    vectorstore,\n",
    "    document_content_description,\n",
    "    metadata_field_info,\n",
    ")"
   ]
  },
  {
   "cell_type": "markdown",
   "id": "9c66f4c8-3682-46ac-8f17-0839194888a3",
   "metadata": {
    "id": "9c66f4c8-3682-46ac-8f17-0839194888a3"
   },
   "source": [
    "### Использование ретривера\n",
    "\n",
    "Теперь вы можете проверить работу созданного ретривера."
   ]
  },
  {
   "cell_type": "code",
   "execution_count": 15,
   "id": "21c5df28-ea78-4f4e-99d6-489c864d1a04",
   "metadata": {
    "colab": {
     "base_uri": "https://localhost:8080/"
    },
    "id": "21c5df28-ea78-4f4e-99d6-489c864d1a04",
    "outputId": "60e6b3a3-2ec6-43b2-a808-dbdc6b661039"
   },
   "outputs": [
    {
     "data": {
      "text/plain": [
       "[Document(page_content='Трагедия войны глазами солдатской невесты', metadata={'genre': 'драма', 'rating': 8.7, 'year': 1957}),\n",
       " Document(page_content='Мистическое путешествие через Зону к комнате, где исполняются желания', metadata={'director': 'Андрей Тарковский', 'genre': 'фантастика', 'rating': 9.9, 'year': 1979})]"
      ]
     },
     "execution_count": 15,
     "metadata": {},
     "output_type": "execute_result"
    }
   ],
   "source": [
    "# Пример фильтра\n",
    "retriever.invoke(\"Хочу посмотреть фильм с рейтингом больше 8.5\")"
   ]
  },
  {
   "cell_type": "code",
   "execution_count": 8,
   "id": "228e5d70-d4cf-43bb-bc8e-3d6f11e784f2",
   "metadata": {
    "colab": {
     "base_uri": "https://localhost:8080/"
    },
    "id": "228e5d70-d4cf-43bb-bc8e-3d6f11e784f2",
    "outputId": "97934378-2569-405e-bfcb-13809ca57874"
   },
   "outputs": [
    {
     "data": {
      "text/plain": [
       "[Document(page_content='Легендарный советский шпионский сериал Татьяны Лиозновой о штандартенфюрере Штирлице', metadata={'director': 'Татьяна Лиознова', 'rating': 8.3, 'year': 1973})]"
      ]
     },
     "execution_count": 8,
     "metadata": {},
     "output_type": "execute_result"
    }
   ],
   "source": [
    "# Пример запроса и фильтра\n",
    "retriever.invoke(\"Фильм Татьяны Лиозновой про Штирлица\")"
   ]
  },
  {
   "cell_type": "code",
   "execution_count": 9,
   "id": "8244591e-97b5-4aba-b1e5-fe5e1996cb99",
   "metadata": {
    "colab": {
     "base_uri": "https://localhost:8080/"
    },
    "id": "8244591e-97b5-4aba-b1e5-fe5e1996cb99",
    "outputId": "510f7874-0446-4c0f-ed9d-9f5fbefbe8e5"
   },
   "outputs": [
    {
     "data": {
      "text/plain": [
       "[Document(page_content='Мистическое путешествие через Зону к комнате, где исполняются желания', metadata={'director': 'Андрей Тарковский', 'genre': 'фантастика', 'rating': 9.9, 'year': 1979})]"
      ]
     },
     "execution_count": 9,
     "metadata": {},
     "output_type": "execute_result"
    }
   ],
   "source": [
    "# Пример составного фильтра\n",
    "retriever.invoke(\n",
    "    \"Есть какие-нибудь высокооцененные (с рейтингом выше 8.5) фантастические фильмы?\"\n",
    ")"
   ]
  },
  {
   "cell_type": "code",
   "execution_count": 28,
   "id": "420a6906-66fb-449f-8626-2e399ae5e6a8",
   "metadata": {
    "colab": {
     "base_uri": "https://localhost:8080/"
    },
    "id": "420a6906-66fb-449f-8626-2e399ae5e6a8",
    "outputId": "44eec6d9-0019-4d2c-f9fe-8b269e049041"
   },
   "outputs": [
    {
     "data": {
      "text/plain": [
       "[Document(page_content='Непутевый богатырь случайно упускает орду тугар со всем золотом Ростова и теперь спешит догнать и одолеть варваров', metadata={'genre': 'мультфильм', 'year': 2004})]"
      ]
     },
     "execution_count": 28,
     "metadata": {},
     "output_type": "execute_result"
    }
   ],
   "source": [
    "# Пример запроса и составного фильтра\n",
    "retriever.invoke(\"мультфильм про богатыря, который вышел с 1999 по 2007\")"
   ]
  },
  {
   "cell_type": "markdown",
   "id": "4f25a751-f1d2-405e-84d6-fe9e4f60ce95",
   "metadata": {
    "id": "4f25a751-f1d2-405e-84d6-fe9e4f60ce95"
   },
   "source": [
    "### Ограничение количества запрашиваемых документов\n",
    "\n",
    "Используйте параметр `enable_limit=True` чтобы задать количество документов, которые нужно получить."
   ]
  },
  {
   "cell_type": "code",
   "execution_count": 11,
   "id": "ab56595f-0fb4-4b7f-8fc1-e85eff13255a",
   "metadata": {
    "colab": {
     "base_uri": "https://localhost:8080/"
    },
    "id": "ab56595f-0fb4-4b7f-8fc1-e85eff13255a",
    "outputId": "cc4c36f5-eabe-4f72-eeee-d34dca53276a"
   },
   "outputs": [
    {
     "data": {
      "text/plain": [
       "[Document(page_content='Трагедия войны глазами солдатской невесты', metadata={'genre': 'драма', 'rating': 8.7, 'year': 1957})]"
      ]
     },
     "execution_count": 11,
     "metadata": {},
     "output_type": "execute_result"
    }
   ],
   "source": [
    "retriever = SelfQueryRetriever.from_llm(\n",
    "    llm,\n",
    "    vectorstore,\n",
    "    document_content_description,\n",
    "    metadata_field_info,\n",
    "    enable_limit=True,\n",
    ")\n",
    "\n",
    "# Пример релевантного запроса\n",
    "retriever.invoke(\"Один фильм про войну\")"
   ]
  },
  {
   "cell_type": "markdown",
   "id": "51e144c4-cbf4-4540-92e7-9a68e05f2480",
   "metadata": {
    "id": "51e144c4-cbf4-4540-92e7-9a68e05f2480"
   },
   "source": [
    "## Создание ретривера с помощью LCEL\n",
    "\n",
    "Вы можете переписать свой ретривер с использованием LCEL.\n",
    "Реализация на LCEL даст больше контроля за работой ретривера и информации о том, что происходит «под капотом».\n",
    "\n",
    "Сначала создайте цепочку, которая будет отвечать за формирование запроса.\n",
    "Эта цепочка будет преобразовывать запрос пользователя в структурированный запрос (объект `StructuredQuery`), который содержит заданные пользователем фильтры.\n",
    "\n",
    "Для создания промпта и парсера в примере используются вспомогательные функции `get_query_constructor_prompt()` и `from_components()` соответственно."
   ]
  },
  {
   "cell_type": "code",
   "execution_count": 12,
   "id": "c5f501ac-46c1-4a54-9d23-c0530e8c88f0",
   "metadata": {
    "id": "c5f501ac-46c1-4a54-9d23-c0530e8c88f0"
   },
   "outputs": [],
   "source": [
    "from langchain.chains.query_constructor.base import (\n",
    "    StructuredQueryOutputParser,\n",
    "    get_query_constructor_prompt,\n",
    ")\n",
    "\n",
    "prompt = get_query_constructor_prompt(\n",
    "    document_content_description,\n",
    "    metadata_field_info,\n",
    ")\n",
    "output_parser = StructuredQueryOutputParser.from_components()\n",
    "query_constructor = prompt | llm | output_parser"
   ]
  },
  {
   "cell_type": "markdown",
   "id": "8deb5d44-632f-4f41-b139-fc811979e6e8",
   "metadata": {
    "id": "8deb5d44-632f-4f41-b139-fc811979e6e8"
   },
   "source": [
    "Теперь вы можете посмотреть какой промпт используется при вызове модели:"
   ]
  },
  {
   "cell_type": "code",
   "execution_count": 13,
   "id": "eed553cb-8575-486b-8349-0806b7817a8c",
   "metadata": {
    "colab": {
     "base_uri": "https://localhost:8080/"
    },
    "id": "eed553cb-8575-486b-8349-0806b7817a8c",
    "outputId": "75c054a8-e0c5-455b-d507-018d5d75099f"
   },
   "outputs": [
    {
     "name": "stdout",
     "output_type": "stream",
     "text": [
      "Твоя задача - структурировать запрос пользователя, чтобы он соответствовал схеме запроса, представленной ниже.\n",
      "\n",
      "<< Схема структурированного запроса >>\n",
      "При ответе используйте фрагмент кода markdown с объектом JSON, отформатированным по следующей схеме:\n",
      "\n",
      "```json\n",
      "{\n",
      "    \"query\": string \\ текстовая строка для сравнения с содержимым документа\n",
      "    \"filter\": string \\ логическое условие для фильтрации документов\n",
      "}\n",
      "```\n",
      "\n",
      "Строка запроса должна содержать только текст, который ожидается в содержимом документов. Любые условия в фильтре не должны упоминаться в запросе.\n",
      "\n",
      "Логическое условие состоит из одного или нескольких операторов сравнения и логических операций.\n",
      "\n",
      "Оператор сравнения имеет форму: `comp(attr, val)`:\n",
      "- `comp` (eq | ne | gt | gte | lt | lte | contain | like | in | nin): оператор сравнения\n",
      "- `attr` (string):  имя атрибута, к которому применяется сравнение\n",
      "- `val` (string): значение для сравнения\n",
      "\n",
      "Логическая операция имеет форму `op(statement1, statement2, ...)`:\n",
      "- `op` (and | or | not): логический оператор\n",
      "- `statement1`, `statement2`, ... (операторы сравнения или логические операции): одно или несколько утверждений, к которым применяется операция\n",
      "\n",
      "Убедитесь, что вы используете только перечисленные выше операторы сравнения и логические операторы и никакие другие.\n",
      "Убедитесь, что фильтры относятся только к атрибутам, которые существуют в источнике данных.\n",
      "Убедитесь, что фильтры используют только имена атрибутов с их именами функций, если на них применяются функции.\n",
      "Убедитесь, что фильтры используют только формат `YYYY-MM-DD` при обработке значений типа данных временной метки.\n",
      "Убедитесь, что фильтры учитывают описания атрибутов и делают только те сравнения, которые возможны с учетом типа хранимых данных.\n",
      "Убедитесь, что фильтры используются только по мере необходимости. Если нет фильтров, которые следует применить, верните \"NO_FILTER\" для значения фильтра.\n",
      "\n",
      "<< Пример 1. >>\n",
      "Источник данных:\n",
      "```json\n",
      "{\n",
      "    \"content\": \"Текст песни\",\n",
      "    \"attributes\": {\n",
      "        \"artist\": {\n",
      "            \"type\": \"string\",\n",
      "            \"description\": \"Имя исполнителя песни\"\n",
      "        },\n",
      "        \"length\": {\n",
      "            \"type\": \"integer\",\n",
      "            \"description\": \"Длительность песни в секундах\"\n",
      "        },\n",
      "        \"genre\": {\n",
      "            \"type\": \"string\",\n",
      "            \"description\": \"Жанр песни, один из \"pop\", \"rock\" или \"rap\"\"\n",
      "        }\n",
      "    }\n",
      "}\n",
      "```\n",
      "\n",
      "Запрос пользователя:\n",
      "Какие песни Тейлор Свифт или Кэти Перри о подростковой любви длительностью менее 3 минут в жанре поп?\n",
      "\n",
      "Структурированный запрос:\n",
      "```json\n",
      "{\n",
      "    \"query\": \"teenager love\",\n",
      "    \"filter\": \"and(or(eq(\\\"artist\\\", \\\"Taylor Swift\\\"), eq(\\\"artist\\\", \\\"Katy Perry\\\")), lt(\\\"length\\\", 180), eq(\\\"genre\\\", \\\"pop\\\"))\"\n",
      "}\n",
      "```\n",
      "\n",
      "\n",
      "<< Пример 2. >>\n",
      "Источник данных:\n",
      "```json\n",
      "{\n",
      "    \"content\": \"Текст песни\",\n",
      "    \"attributes\": {\n",
      "        \"artist\": {\n",
      "            \"type\": \"string\",\n",
      "            \"description\": \"Имя исполнителя песни\"\n",
      "        },\n",
      "        \"length\": {\n",
      "            \"type\": \"integer\",\n",
      "            \"description\": \"Длительность песни в секундах\"\n",
      "        },\n",
      "        \"genre\": {\n",
      "            \"type\": \"string\",\n",
      "            \"description\": \"Жанр песни, один из \"pop\", \"rock\" или \"rap\"\"\n",
      "        }\n",
      "    }\n",
      "}\n",
      "```\n",
      "\n",
      "Запрос пользователя:\n",
      "Какие песни не были опубликованы на Spotify\n",
      "\n",
      "Структурированный запрос:\n",
      "```json\n",
      "{\n",
      "    \"query\": \"\",\n",
      "    \"filter\": \"NO_FILTER\"\n",
      "}\n",
      "```\n",
      "\n",
      "\n",
      "<< Пример 3. >>\n",
      "Источник данных:\n",
      "```json\n",
      "{\n",
      "    \"content\": \"Краткое описание кино или мультфильма\",\n",
      "    \"attributes\": {\n",
      "    \"genre\": {\n",
      "        \"description\": \"Жанр кино или мультфильма. Возможные значения ['фантастика', 'комедия', 'драма', 'триллер', 'мелодрама', 'экшн', 'мультфильм']\",\n",
      "        \"type\": \"string\"\n",
      "    },\n",
      "    \"year\": {\n",
      "        \"description\": \"Год выпуска\",\n",
      "        \"type\": \"integer\"\n",
      "    },\n",
      "    \"director\": {\n",
      "        \"description\": \"Имя режиссера\",\n",
      "        \"type\": \"string\"\n",
      "    },\n",
      "    \"rating\": {\n",
      "        \"description\": \"Рейтинг кино или мультфильма от 1 до 10\",\n",
      "        \"type\": \"float\"\n",
      "    }\n",
      "}\n",
      "}\n",
      "```\n",
      "\n",
      "Запрос пользователя:\n",
      "заглушка\n",
      "\n",
      "Структурированный запрос:\n",
      "\n"
     ]
    }
   ],
   "source": [
    "print(prompt.format(query=\"заглушка\"))"
   ]
  },
  {
   "cell_type": "markdown",
   "id": "00420512-c395-4661-8d07-c7f6f1b45793",
   "metadata": {
    "id": "00420512-c395-4661-8d07-c7f6f1b45793"
   },
   "source": [
    "Результат работы цепочки:"
   ]
  },
  {
   "cell_type": "code",
   "execution_count": 14,
   "id": "139cce01-ca75-452b-8de2-033ceec27158",
   "metadata": {
    "colab": {
     "base_uri": "https://localhost:8080/"
    },
    "id": "139cce01-ca75-452b-8de2-033ceec27158",
    "outputId": "dfb8984e-462b-44ce-c081-16b340d47f20"
   },
   "outputs": [
    {
     "data": {
      "text/plain": [
       "StructuredQuery(query='научно-фантастический фильм', filter=Operation(operator=<Operator.AND: 'and'>, arguments=[Comparison(comparator=<Comparator.EQ: 'eq'>, attribute='genre', value='фантастика'), Comparison(comparator=<Comparator.EQ: 'eq'>, attribute='director', value='Андрей Тарковский'), Comparison(comparator=<Comparator.GTE: 'gte'>, attribute='year', value=1970), Comparison(comparator=<Comparator.LTE: 'lte'>, attribute='year', value=1979)]), limit=None)"
      ]
     },
     "execution_count": 14,
     "metadata": {},
     "output_type": "execute_result"
    }
   ],
   "source": [
    "query_constructor.invoke(\n",
    "    {\"query\": \"Научнофантастические фильмы Андрея Тарковского снятые в семидесятых\"}\n",
    ")"
   ]
  },
  {
   "cell_type": "markdown",
   "id": "9582a5fa-ffed-4d50-ad74-9b12d7d94b2a",
   "metadata": {
    "id": "9582a5fa-ffed-4d50-ad74-9b12d7d94b2a"
   },
   "source": [
    "Конструктор запросов — ключевой элеменет самозапрашивающего ретривера.\n",
    "Чтобы добиться хорошей работы конструктора, зачастую требуется настройка промпта, использование образцов в промпте и описание атрибутов.\n",
    "\n",
    "Другим важным элементом является преобразователь структурированного запроса (*транслятор*).\n",
    "Он преобразует объект `StructuredQuery` в фильтр метаданных согласно синтаксису векторного хранилища, которое вы используете.\n",
    "GigaChain предоставляет доступ к преобразователям, встроенным в LangChain.\n",
    "Подробнее о них можно прочитать в [официальной документации](/docs/integrations/retrievers/self_query)."
   ]
  },
  {
   "cell_type": "code",
   "execution_count": 15,
   "id": "05f07ead-9aac-4079-9dde-784cb7aa1a8a",
   "metadata": {
    "id": "05f07ead-9aac-4079-9dde-784cb7aa1a8a"
   },
   "outputs": [],
   "source": [
    "from langchain.retrievers.self_query.chroma import ChromaTranslator\n",
    "\n",
    "retriever = SelfQueryRetriever(\n",
    "    query_constructor=query_constructor,\n",
    "    vectorstore=vectorstore,\n",
    "    structured_query_translator=ChromaTranslator(),\n",
    ")"
   ]
  },
  {
   "cell_type": "code",
   "execution_count": 16,
   "id": "0ee155c9-7b02-4fe9-8de3-e37385c465af",
   "metadata": {
    "colab": {
     "base_uri": "https://localhost:8080/"
    },
    "id": "0ee155c9-7b02-4fe9-8de3-e37385c465af",
    "outputId": "77d15f87-80e3-4487-a50b-f152499ddf71"
   },
   "outputs": [
    {
     "data": {
      "text/plain": [
       "[Document(page_content='Мистическое путешествие через Зону к комнате, где исполняются желания', metadata={'director': 'Андрей Тарковский', 'genre': 'фантастика', 'rating': 9.9, 'year': 1979})]"
      ]
     },
     "execution_count": 16,
     "metadata": {},
     "output_type": "execute_result"
    }
   ],
   "source": [
    "retriever.invoke(\n",
    "    \"Есть какие-нибудь высокооцененные (с рейтингом выше 8.5) фантастические фильмы?\"\n",
    ")"
   ]
  }
 ],
 "metadata": {
  "colab": {
   "provenance": []
  },
  "kernelspec": {
   "display_name": "Python 3 (ipykernel)",
   "language": "python",
   "name": "python3"
  },
  "language_info": {
   "codemirror_mode": {
    "name": "ipython",
    "version": 3
   },
   "file_extension": ".py",
   "mimetype": "text/x-python",
   "name": "python",
   "nbconvert_exporter": "python",
   "pygments_lexer": "ipython3",
   "version": "3.9.6"
  }
 },
 "nbformat": 4,
 "nbformat_minor": 5
}
