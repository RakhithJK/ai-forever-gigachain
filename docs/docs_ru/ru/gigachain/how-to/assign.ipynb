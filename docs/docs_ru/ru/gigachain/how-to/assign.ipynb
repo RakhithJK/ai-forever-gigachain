{
    "cells": [
        {
            "cell_type": "markdown",
            "metadata": {},
            "source": [
                "# Добавление значений к состоянию цепочки\n",
                "\n",
                ":::note\n",
                "\n",
                "С этим руководством будет проще работать, если ознакомиться с разделами:\n",
                "\n",
                "- [LangChain Expression Language (LCEL)](/docs/concepts/#langchain-expression-language)\n",
                "- [Chaining runnables](/docs/how_to/sequence/)\n",
                "- [Calling runnables in parallel](/docs/how_to/parallel/)\n",
                "- [Custom functions](/docs/how_to/functions/)\n",
                "- [Passing data through](/docs/how_to/passthrough)\n",
                "\n",
                ":::\n",
                "\n",
                "В качестве альтернативного сопособа [передачи данных внутри цепочки](/docs/how_to/passthrough) текущие значения состояния цепочки могут оставаться неизменными, в то время как новые значения сохраняются в соответствующих ключах.\n",
                "Статический метод `RunnablePassthrough.assign(...)` принимает входное значение и добавляет аргументы, переданные в функцию assign.\n",
                "\n",
                "Используйте метод для аддитивного создания словаря, который будет использоваться в качестве входных данных для последующего шага.\n",
                "Такой подход часто используется при работе с [LCEL](/docs/concepts/#langchain-expression-language)."
            ]
        },
        {
            "cell_type": "code",
            "execution_count": null,
            "metadata": {},
            "outputs": [],
            "source": [
                "%pip install --upgrade --quiet gigachain"
            ]
        },
        {
            "cell_type": "code",
            "execution_count": 2,
            "metadata": {},
            "outputs": [
                {
                    "data": {
                        "text/plain": [
                            "{'extra': {'num': 1, 'mult': 3}, 'modified': 2}"
                        ]
                    },
                    "execution_count": 2,
                    "metadata": {},
                    "output_type": "execute_result"
                }
            ],
            "source": [
                "from langchain_core.runnables import RunnableParallel, RunnablePassthrough\n",
                "\n",
                "runnable = RunnableParallel(\n",
                "    extra=RunnablePassthrough.assign(mult=lambda x: x[\"num\"] * 3),\n",
                "    modified=lambda x: x[\"num\"] + 1,\n",
                ")\n",
                "\n",
                "runnable.invoke({\"num\": 1})"
            ]
        },
        {
            "cell_type": "markdown",
            "metadata": {},
            "source": [
                "Разберем представленный пример:\n",
                "\n",
                "* На вход в цепочку передается значение `{\"num\": 1}`. Значение попадает в экземпляр `RunnableParallel`, который использует его при параллельном вызове Runnable-объектов.\n",
                "* Вызывается поле `extra`. Метод `RunnablePassthrough.assign()` сохраняет первичное значение `{\"num\": 1}` в словаре и создает поле `mult` со значением `lambda x: x[\"num\"] * 3)` (то есть `3`). Итоговый результат: `{\"num\": 1, \"mult\": 3}`.\n",
                "* Значение `{\"num\": 1, \"mult\": 3}` возвращается в `RunnableParallel` и помещается в поле `exrtra`.\n",
                "* В это же время вызывается поле `modified`. Значение поля — лямбда-функция, которая добавляет единицу к `\"num\"`. Поэтому `modified` принимает значение `2`.\n",
                "\n",
                "Таким образом, результат работы примера — `{'extra': {'num': 1, 'mult': 3}, 'modified': 2}`.\n",
                "\n",
                "## Обработка потоковой генерации\n",
                "\n",
                "Отличительной особенностью метода является возможность передавать значения по мере их поступления.\n",
                "Для демострации используем `RunnablePassthrough.assign()`, чтобы сразу возвращать исходные документы цепочки."
            ]
        },
        {
            "cell_type": "code",
            "execution_count": 3,
            "metadata": {},
            "outputs": [
                {
                    "name": "stdout",
                    "output_type": "stream",
                    "text": [
                        "{'question': 'where did harrison work?'}\n",
                        "{'context': [Document(page_content='harrison worked at kensho')]}\n",
                        "{'output': ''}\n",
                        "{'output': 'H'}\n",
                        "{'output': 'arrison'}\n",
                        "{'output': ' worked'}\n",
                        "{'output': ' at'}\n",
                        "{'output': ' Kens'}\n",
                        "{'output': 'ho'}\n",
                        "{'output': '.'}\n",
                        "{'output': ''}\n"
                    ]
                }
            ],
            "source": [
                "from langchain.chat_models.gigachat import GigaChat\n",
                "from langchain_community.embeddings.gigachat import GigaChatEmbeddings\n",
                "from langchain_community.vectorstores import FAISS\n",
                "from langchain_core.output_parsers import StrOutputParser\n",
                "from langchain_core.prompts import ChatPromptTemplate\n",
                "from langchain_core.runnables import RunnablePassthrough\n",
                "\n",
                "vectorstore = FAISS.from_texts(\n",
                "    [\"harrison worked at kensho\"],\n",
                "    embedding=GigaChatEmbeddings(\n",
                "        credentials=\"<авторизационные_данные>\", verify_ssl_certs=False\n",
                "    ),\n",
                ")\n",
                "retriever = vectorstore.as_retriever()\n",
                "template = \"\"\"Answer the question based only on the following context:\n",
                "{context}\n",
                "\n",
                "Question: {question}\n",
                "\"\"\"\n",
                "prompt = ChatPromptTemplate.from_template(template)\n",
                "model = GigaChat(credentials=\"<авторизационные_данные>\", verify_ssl_certs=False)\n",
                "\n",
                "generation_chain = prompt | model | StrOutputParser()\n",
                "\n",
                "retrieval_chain = {\n",
                "    \"context\": retriever,\n",
                "    \"question\": RunnablePassthrough(),\n",
                "} | RunnablePassthrough.assign(output=generation_chain)\n",
                "\n",
                "stream = retrieval_chain.stream(\"where did harrison work?\")\n",
                "\n",
                "for chunk in stream:\n",
                "    print(chunk)"
            ]
        },
        {
            "cell_type": "markdown",
            "metadata": {},
            "source": [
                "Так как оригинальный вопрос `\"question\"` доступен сразу после запуска цепочки, его можно будет найти в первом фрагменте.\n",
                "Второй фрагмент содержит контекст `\"context\"`, так как ретривер вызывается после запуска цепочки.\n",
                "Остальные фрагменты содержат результат потоковой генерации токенов."
            ]
        }
    ],
    "metadata": {
        "kernelspec": {
            "display_name": "Python 3 (ipykernel)",
            "language": "python",
            "name": "python3"
        },
        "language_info": {
            "codemirror_mode": {
                "name": "ipython",
                "version": 3
            },
            "file_extension": ".py",
            "mimetype": "text/x-python",
            "name": "python",
            "nbconvert_exporter": "python",
            "pygments_lexer": "ipython3",
            "version": "3.9.1"
        }
    },
    "nbformat": 4,
    "nbformat_minor": 4
}