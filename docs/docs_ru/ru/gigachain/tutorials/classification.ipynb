{
 "cells": [
  {
   "cell_type": "raw",
   "id": "cb6f552e-775f-4d84-bc7c-dca94c06a33c",
   "metadata": {},
   "source": [
    "---\n",
    "title: Tagging\n",
    "sidebar_class_name: hidden\n",
    "---"
   ]
  },
  {
   "cell_type": "markdown",
   "id": "a0507a4b",
   "metadata": {},
   "source": [
    "[![Open In Colab](https://colab.research.google.com/assets/colab-badge.svg)](https://colab.research.google.com/github/ai-forever/gigachain/blob/master/docs/docs/use_cases/tagging.ipynb)\n",
    "\n",
    "# Классификация текста по меткам\n",
    "\n",
    "Маркировка означает присвоение документу меток по различным темам, таким как:\n",
    "\n",
    "- настроение;\n",
    "- язык;\n",
    "- стиль (формальный, неформальный и другие);\n",
    "- охваченные темы;\n",
    "- политическая направленность.\n",
    "\n",
    "<Image img={require('../../static/img/tagging.png')} alt=\"Описание изображения\" />\n",
    "\n",
    "## Обзор\n",
    "\n",
    "Маркировка включает компоненты:\n",
    "\n",
    "* `функция` — например, [извлечение данных](/docs/tutorials/extraction).Маркировка использует [функции](https://openai.com/blog/function-calling-and-other-api-updates), чтобы указывать, как модель должна тегировать документ.\n",
    "* `схема` — определяет, как нужно маркировать документ.\n",
    "\n",
    "## Быстрый старт\n",
    "\n",
    "Работа маркировки с помощью GigaChain продемонстрирована с помощью вызова инструментов OpenAI.\n",
    "Для этого вам нужно использовать метод [`with_structured_output`](/docs/how_to/structured_output), который поддерживают модели OpenAI:"
   ]
  },
  {
   "cell_type": "code",
   "execution_count": null,
   "id": "dc5cbb6f",
   "metadata": {},
   "outputs": [],
   "source": [
    "%pip install --upgrade --quiet gigachain gigachain-openai\n",
    "\n",
    "# Set env var OPENAI_API_KEY or load from a .env file:\n",
    "# import dotenv\n",
    "# dotenv.load_dotenv()"
   ]
  },
  {
   "cell_type": "markdown",
   "id": "b8ca3f93",
   "metadata": {},
   "source": [
    "В схеме укажите Pydantic-модель с несколькими свойствами и их типами."
   ]
  },
  {
   "cell_type": "code",
   "execution_count": 4,
   "id": "39f3ce3e",
   "metadata": {},
   "outputs": [],
   "source": [
    "from langchain_core.prompts import ChatPromptTemplate\n",
    "from langchain_core.pydantic_v1 import BaseModel, Field\n",
    "from langchain_openai import ChatOpenAI\n",
    "\n",
    "tagging_prompt = ChatPromptTemplate.from_template(\n",
    "    \"\"\"\n",
    "Extract the desired information from the following passage.\n",
    "\n",
    "Only extract the properties mentioned in the 'Classification' function.\n",
    "\n",
    "Passage:\n",
    "{input}\n",
    "\"\"\"\n",
    ")\n",
    "\n",
    "\n",
    "class Classification(BaseModel):\n",
    "    sentiment: str = Field(description=\"The sentiment of the text\")\n",
    "    aggressiveness: int = Field(\n",
    "        description=\"How aggressive the text is on a scale from 1 to 10\"\n",
    "    )\n",
    "    language: str = Field(description=\"The language the text is written in\")\n",
    "\n",
    "\n",
    "# LLM\n",
    "llm = ChatOpenAI(temperature=0, model=\"gpt-3.5-turbo-0125\").with_structured_output(\n",
    "    Classification\n",
    ")\n",
    "\n",
    "tagging_chain = tagging_prompt | llm"
   ]
  },
  {
   "cell_type": "code",
   "execution_count": 6,
   "id": "5509b6a6",
   "metadata": {},
   "outputs": [
    {
     "data": {
      "text/plain": [
       "Classification(sentiment='positive', aggressiveness=1, language='Spanish')"
      ]
     },
     "execution_count": 6,
     "metadata": {},
     "output_type": "execute_result"
    }
   ],
   "source": [
    "inp = \"Estoy increiblemente contento de haberte conocido! Creo que seremos muy buenos amigos!\"\n",
    "tagging_chain.invoke({\"input\": inp})"
   ]
  },
  {
   "cell_type": "markdown",
   "id": "ff3cf30d",
   "metadata": {},
   "source": [
    "Если на выходе нужны данные формате JSON вы можете просто вызвать метод `.dict()`"
   ]
  },
  {
   "cell_type": "code",
   "execution_count": 13,
   "id": "9154474c",
   "metadata": {},
   "outputs": [
    {
     "data": {
      "text/plain": [
       "{'sentiment': 'negative', 'aggressiveness': 8, 'language': 'Spanish'}"
      ]
     },
     "execution_count": 13,
     "metadata": {},
     "output_type": "execute_result"
    }
   ],
   "source": [
    "inp = \"Estoy muy enojado con vos! Te voy a dar tu merecido!\"\n",
    "res = tagging_chain.invoke({\"input\": inp})\n",
    "res.dict()"
   ]
  },
  {
   "cell_type": "markdown",
   "id": "d921bb53",
   "metadata": {},
   "source": [
    "В примерах видно, что модель правильно интерпретирует заданные требования требования.\n",
    "\n",
    "Результаты могут варьироваться, например, настроения могут быть на разных языках ('positive', 'enojado' и других)."
   ]
  },
  {
   "cell_type": "markdown",
   "id": "bebb2f83",
   "metadata": {},
   "source": [
    "## Повышение качества вывода\n",
    "\n",
    "Для повышения качества вывода модели следует более точно определить схему данных.\n",
    "\n",
    "В частности, вы можете определить:\n",
    "\n",
    "- возможные значения для каждого свойства;\n",
    "- описание, которое поможет убедиться, что модель правильно интерпретирует свойство;\n",
    "- список свойства, которые нужно возвращать обязательно.\n",
    "\n",
    "Используйте перечисления `enum`, чтобы уточнить Pydantic-модель, заданную в примере выше:"
   ]
  },
  {
   "cell_type": "code",
   "execution_count": 14,
   "id": "6a5f7961",
   "metadata": {},
   "outputs": [],
   "source": [
    "class Classification(BaseModel):\n",
    "    sentiment: str = Field(..., enum=[\"happy\", \"neutral\", \"sad\"])\n",
    "    aggressiveness: int = Field(\n",
    "        ...,\n",
    "        description=\"describes how aggressive the statement is, the higher the number the more aggressive\",\n",
    "        enum=[1, 2, 3, 4, 5],\n",
    "    )\n",
    "    language: str = Field(\n",
    "        ..., enum=[\"spanish\", \"english\", \"french\", \"german\", \"italian\"]\n",
    "    )"
   ]
  },
  {
   "cell_type": "code",
   "execution_count": 15,
   "id": "e5a5881f",
   "metadata": {},
   "outputs": [],
   "source": [
    "tagging_prompt = ChatPromptTemplate.from_template(\n",
    "    \"\"\"\n",
    "Extract the desired information from the following passage.\n",
    "\n",
    "Only extract the properties mentioned in the 'Classification' function.\n",
    "\n",
    "Passage:\n",
    "{input}\n",
    "\"\"\"\n",
    ")\n",
    "\n",
    "llm = ChatOpenAI(temperature=0, model=\"gpt-3.5-turbo-0125\").with_structured_output(\n",
    "    Classification\n",
    ")\n",
    "\n",
    "chain = tagging_prompt | llm"
   ]
  },
  {
   "cell_type": "markdown",
   "id": "5ded2332",
   "metadata": {},
   "source": [
    "Теперь ответы модели будут ограничены в соответствии с заданными значениями."
   ]
  },
  {
   "cell_type": "code",
   "execution_count": 17,
   "id": "d9b9d53d",
   "metadata": {},
   "outputs": [
    {
     "data": {
      "text/plain": [
       "Classification(sentiment='happy', aggressiveness=1, language='spanish')"
      ]
     },
     "execution_count": 17,
     "metadata": {},
     "output_type": "execute_result"
    }
   ],
   "source": [
    "inp = \"Estoy increiblemente contento de haberte conocido! Creo que seremos muy buenos amigos!\"\n",
    "chain.invoke({\"input\": inp})"
   ]
  },
  {
   "cell_type": "code",
   "execution_count": 18,
   "id": "1c12fa00",
   "metadata": {},
   "outputs": [
    {
     "data": {
      "text/plain": [
       "Classification(sentiment='sad', aggressiveness=5, language='spanish')"
      ]
     },
     "execution_count": 18,
     "metadata": {},
     "output_type": "execute_result"
    }
   ],
   "source": [
    "inp = \"Estoy muy enojado con vos! Te voy a dar tu merecido!\"\n",
    "chain.invoke({\"input\": inp})"
   ]
  },
  {
   "cell_type": "code",
   "execution_count": 19,
   "id": "0bdfcb05",
   "metadata": {},
   "outputs": [
    {
     "data": {
      "text/plain": [
       "Classification(sentiment='neutral', aggressiveness=2, language='english')"
      ]
     },
     "execution_count": 19,
     "metadata": {},
     "output_type": "execute_result"
    }
   ],
   "source": [
    "inp = \"Weather is ok here, I can go outside without much more than a coat\"\n",
    "chain.invoke({\"input\": inp})"
   ]
  },
  {
   "cell_type": "markdown",
   "id": "cf6b7389",
   "metadata": {},
   "source": [
    "<!--\n",
    "[Трассировка LangSmith](https://smith.langchain.com/public/38294e04-33d8-4c5a-ae92-c2fe68be8332/r) позволяет нам заглянуть под капот:\n",
    "\n",
    "<Image img={require('../../static/img/tagging_trace.png')} alt=\"Описание изображения\" />\n",
    "-->"
   ]
  },
  {
   "cell_type": "markdown",
   "id": "29346d09",
   "metadata": {},
   "source": [
    "<!--\n",
    "### Смотрите также\n",
    "\n",
    "* Вы можете использовать [метаданные тегировщика](/docs/integrations/document_transformers/openai_metadata_tagger) трансформатора документов для извлечения метаданных из документа LangChain.\n",
    "* Это охватывает ту же базовую функциональность, что и цепочка тегирования, только применяется к документу LangChain.\n",
    "-->"
   ]
  }
 ],
 "metadata": {
  "kernelspec": {
   "display_name": "Python 3 (ipykernel)",
   "language": "python",
   "name": "python3"
  },
  "language_info": {
   "codemirror_mode": {
    "name": "ipython",
    "version": 3
   },
   "file_extension": ".py",
   "mimetype": "text/x-python",
   "name": "python",
   "nbconvert_exporter": "python",
   "pygments_lexer": "ipython3",
   "version": "3.10.1"
  }
 },
 "nbformat": 4,
 "nbformat_minor": 5
}
