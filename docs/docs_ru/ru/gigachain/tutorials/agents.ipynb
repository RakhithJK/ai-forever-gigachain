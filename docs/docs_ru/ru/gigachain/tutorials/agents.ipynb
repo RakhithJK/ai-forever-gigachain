{
   "cells": [
      {
         "cell_type": "raw",
         "id": "17546ebb",
         "metadata": {
            "vscode": {
               "languageId": "raw"
            }
         },
         "source": [
            "---\n",
            "keywords: [агент, агенты]\n",
            "---"
         ]
      },
      {
         "cell_type": "markdown",
         "id": "1df78a71",
         "metadata": {},
         "source": [
            "# Создание агента\n",
            "\n",
            ":::note\n",
            "\n",
            "В разделе затрагиваются слдующие основные понятия:\n",
            "\n",
            "- [Чат-модели](/docs/concepts/#chat-models)\n",
            "- [Инструменты](/docs/concepts/#tools)\n",
            "- [Агенты](/docs/concepts/#agents)\n",
            "\n",
            ":::\n",
            "\n",
            "Языковые модели просто генерируют текст и не могут выполнять действия.\n",
            "Разработка *агентов* — это один из основных сценариев использования GigaChain.\n",
            "\n",
            "Агенты — системы, использующие LLM для рассуждений и определения действий, которые нужно предпринять, а также входных данных, которые нужно при этом использовать.\n",
            "\n",
            "Результаты этих действий затем могут быть переданы обратно агенту, чтобы он определил, нужно ли делать что-то еще или можно закончить работу.\n",
            "\n",
            "В разделе приведен пример агента, который может взаимодействовать с несколькими инструментами: локальной базой данных и поисковой системой.\n",
            "С агентом можно вести разговор и наблюдать как он вызывает инструменты.\n",
            "\n",
            "## Пример агента\n",
            "\n",
            "Пример ниже содержит код работающего агента, который использует модель для определения того, какой инструмент нужно вызвать.\n",
            "Агент подготовлен для работы с поисковым инструментом и обладает разговорной памятью, что позволяет использвоать его в роли развитого чат-бота.\n",
            "\n",
            "Ниже в разделе приводится пошаговый разбор каждого из компонтов агента."
         ]
      },
      {
         "cell_type": "code",
         "execution_count": 2,
         "id": "a79bb782",
         "metadata": {},
         "outputs": [
            {
               "name": "stdout",
               "output_type": "stream",
               "text": [
                  "{'agent': {'messages': [AIMessage(content=\"Hello Bob! Since you didn't ask a specific question, I don't need to use any tools to respond. It's nice to meet you. San Francisco is a wonderful city with lots to see and do. I hope you're enjoying living there. Please let me know if you have any other questions!\", response_metadata={'id': 'msg_01Mmfzfs9m4XMgVzsCZYMWqH', 'model': 'claude-3-sonnet-20240229', 'stop_reason': 'end_turn', 'stop_sequence': None, 'usage': {'input_tokens': 271, 'output_tokens': 65}}, id='run-44c57f9c-a637-4888-b7d9-6d985031ae48-0', usage_metadata={'input_tokens': 271, 'output_tokens': 65, 'total_tokens': 336})]}}\n",
                  "----\n",
                  "{'agent': {'messages': [AIMessage(content=[{'text': 'To get current weather information for your location in San Francisco, let me invoke the search tool:', 'type': 'text'}, {'id': 'toolu_01BGEyQaSz3pTq8RwUUHSRoo', 'input': {'query': 'san francisco weather'}, 'name': 'tavily_search_results_json', 'type': 'tool_use'}], response_metadata={'id': 'msg_013AVSVsRLKYZjduLpJBY4us', 'model': 'claude-3-sonnet-20240229', 'stop_reason': 'tool_use', 'stop_sequence': None, 'usage': {'input_tokens': 347, 'output_tokens': 80}}, id='run-de7923b6-5ee2-4ebe-bd95-5aed4933d0e3-0', tool_calls=[{'name': 'tavily_search_results_json', 'args': {'query': 'san francisco weather'}, 'id': 'toolu_01BGEyQaSz3pTq8RwUUHSRoo'}], usage_metadata={'input_tokens': 347, 'output_tokens': 80, 'total_tokens': 427})]}}\n",
                  "----\n",
                  "{'tools': {'messages': [ToolMessage(content='[{\"url\": \"https://www.weatherapi.com/\", \"content\": \"{\\'location\\': {\\'name\\': \\'San Francisco\\', \\'region\\': \\'California\\', \\'country\\': \\'United States of America\\', \\'lat\\': 37.78, \\'lon\\': -122.42, \\'tz_id\\': \\'America/Los_Angeles\\', \\'localtime_epoch\\': 1717238643, \\'localtime\\': \\'2024-06-01 3:44\\'}, \\'current\\': {\\'last_updated_epoch\\': 1717237800, \\'last_updated\\': \\'2024-06-01 03:30\\', \\'temp_c\\': 12.0, \\'temp_f\\': 53.6, \\'is_day\\': 0, \\'condition\\': {\\'text\\': \\'Mist\\', \\'icon\\': \\'//cdn.weatherapi.com/weather/64x64/night/143.png\\', \\'code\\': 1030}, \\'wind_mph\\': 5.6, \\'wind_kph\\': 9.0, \\'wind_degree\\': 310, \\'wind_dir\\': \\'NW\\', \\'pressure_mb\\': 1013.0, \\'pressure_in\\': 29.92, \\'precip_mm\\': 0.0, \\'precip_in\\': 0.0, \\'humidity\\': 88, \\'cloud\\': 100, \\'feelslike_c\\': 10.5, \\'feelslike_f\\': 50.8, \\'windchill_c\\': 9.3, \\'windchill_f\\': 48.7, \\'heatindex_c\\': 11.1, \\'heatindex_f\\': 51.9, \\'dewpoint_c\\': 8.8, \\'dewpoint_f\\': 47.8, \\'vis_km\\': 6.4, \\'vis_miles\\': 3.0, \\'uv\\': 1.0, \\'gust_mph\\': 12.5, \\'gust_kph\\': 20.1}}\"}, {\"url\": \"https://www.timeanddate.com/weather/usa/san-francisco/historic\", \"content\": \"Past Weather in San Francisco, California, USA \\\\u2014 Yesterday and Last 2 Weeks. Time/General. Weather. Time Zone. DST Changes. Sun & Moon. Weather Today Weather Hourly 14 Day Forecast Yesterday/Past Weather Climate (Averages) Currently: 68 \\\\u00b0F. Passing clouds.\"}]', name='tavily_search_results_json', tool_call_id='toolu_01BGEyQaSz3pTq8RwUUHSRoo')]}}\n",
                  "----\n",
                  "{'agent': {'messages': [AIMessage(content='Based on the search results, the current weather in San Francisco is:\\n\\nTemperature: 53.6°F (12°C)\\nConditions: Misty\\nWind: 5.6 mph (9 kph) from the Northwest\\nHumidity: 88%\\nCloud Cover: 100% \\n\\nThe results provide detailed information like wind chill, heat index, visibility and more. It looks like a typical cool, foggy morning in San Francisco. Let me know if you need any other details about the weather where you live!', response_metadata={'id': 'msg_019WGLbaojuNdbCnqac7zaGW', 'model': 'claude-3-sonnet-20240229', 'stop_reason': 'end_turn', 'stop_sequence': None, 'usage': {'input_tokens': 1035, 'output_tokens': 120}}, id='run-1bb68bf3-b212-4ef4-8a31-10c830421c78-0', usage_metadata={'input_tokens': 1035, 'output_tokens': 120, 'total_tokens': 1155})]}}\n",
                  "----\n"
               ]
            }
         ],
         "source": [
            "# Импортирование необходимой функциональности\n",
            "from langchain_anthropic import ChatAnthropic\n",
            "from langchain_community.tools.tavily_search import TavilySearchResults\n",
            "from langchain_core.messages import HumanMessage\n",
            "from langgraph.checkpoint.sqlite import SqliteSaver\n",
            "from langgraph.prebuilt import create_react_agent\n",
            "\n",
            "# Создание агента\n",
            "memory = SqliteSaver.from_conn_string(\":memory:\")\n",
            "model = ChatAnthropic(model_name=\"claude-3-sonnet-20240229\")\n",
            "search = TavilySearchResults(max_results=2)\n",
            "tools = [search]\n",
            "agent_executor = create_react_agent(model, tools, checkpointer=memory)\n",
            "\n",
            "# Использование агента\n",
            "config = {\"configurable\": {\"thread_id\": \"abc123\"}}\n",
            "for chunk in agent_executor.stream(\n",
            "    {\"messages\": [HumanMessage(content=\"hi im bob! and i live in sf\")]}, config\n",
            "):\n",
            "    print(chunk)\n",
            "    print(\"----\")\n",
            "\n",
            "for chunk in agent_executor.stream(\n",
            "    {\"messages\": [HumanMessage(content=\"whats the weather where I live?\")]}, config\n",
            "):\n",
            "    print(chunk)\n",
            "    print(\"----\")"
         ]
      },
      {
         "cell_type": "markdown",
         "id": "f4c03f40-1328-412d-8a48-1db0cd481b77",
         "metadata": {},
         "source": [
            "## Подготовка к разработке\n",
            "\n",
            "### Jupyter-блокноты\n",
            "\n",
            "Это руководство, как и большинство других в документации, использует [Jupyter-блокноты](https://jupyter.org/). Они отлично подходят для изучения работы с LLM-системами, так как предоставляют интерактивную среду для работы с руководствами и позволяют работать с непредвиденными ситуациями: недоступностью API, нетипичным выводом и другими.\n",
            "\n",
            "Подробнее об установке jupyter -- в [официальной документации](https://jupyter.org/install).\n",
            "\n",
            "### Установка\n",
            "\n",
            "Для установки GigaChain выполните команды:"
         ]
      },
      {
         "cell_type": "code",
         "execution_count": null,
         "id": "60bb3eb1",
         "metadata": {},
         "outputs": [],
         "source": [
            "%pip install -U langchain-community langgraph langchain-anthropic tavily-python"
         ]
      },
      {
         "cell_type": "markdown",
         "id": "2ee337ae",
         "metadata": {},
         "source": [
            "Подробнее об установке — в разделе [Установка](https://developers.sber.ru/docs/ru/gigachain/get-started/installation).\n",
            "\n",
            "<!--\n",
            "### LangSmith\n",
            "\n",
            "Многие приложения, которые вы создаете с помощью LangChain, будут содержать несколько шагов с многократными вызовами LLM.\n",
            "По мере усложнения этих приложений становится важно иметь возможность инспектировать, что именно происходит внутри вашей цепочки или агента.\n",
            "Лучший способ сделать это — с помощью [LangSmith](https://smith.langchain.com).\n",
            "\n",
            "После регистрации по ссылке выше, убедитесь, что вы установили переменные среды для начала ведения журнала трассировок:\n",
            "\n",
            "```shell\n",
            "export LANGCHAIN_TRACING_V2=\"true\"\n",
            "export LANGCHAIN_API_KEY=\"...\"\n",
            "```\n",
            "\n",
            "Или, если вы работаете в блокноте, вы можете установить их с помощью:\n",
            "\n",
            "```python\n",
            "import getpass\n",
            "import os\n",
            "\n",
            "os.environ[\"LANGCHAIN_TRACING_V2\"] = \"true\"\n",
            "os.environ[\"LANGCHAIN_API_KEY\"] = getpass.getpass()\n",
            "```\n",
            "-->\n",
            "\n",
            "### Tavily\n",
            "\n",
            "В качестве инструмента в примере используется поисковый движок [Tavily](/docs/integrations/tools/tavily_search).\n",
            "Для работы с ним вам нужно получить и задать ключ API:\n",
            "\n",
            "```bash\n",
            "export TAVILY_API_KEY=\"...\"\n",
            "```\n",
            "\n",
            "В Jupyter-блокноте его можно использовать так:\n",
            "\n",
            "```python\n",
            "import getpass\n",
            "import os\n",
            "\n",
            "os.environ[\"TAVILY_API_KEY\"] = getpass.getpass()\n",
            "```"
         ]
      },
      {
         "cell_type": "markdown",
         "id": "c335d1bf",
         "metadata": {},
         "source": [
            "## Определение инструментов\n",
            "\n",
            "Сначала создайте инструменты, которые будет использовать агент.\n",
            "Основным инструментом в примере выступает поисковый движок [Tavily](/docs/integrations/tools/tavily_search).\n",
            "GigaChain предоставляет интеграцию для простого использования поисковой системы Tavily в качестве инструмента."
         ]
      },
      {
         "cell_type": "code",
         "execution_count": 2,
         "id": "482ce13d",
         "metadata": {},
         "outputs": [
            {
               "data": {
                  "text/plain": [
                     "[{'url': 'https://www.weatherapi.com/',\n",
                     "  'content': \"{'location': {'name': 'San Francisco', 'region': 'California', 'country': 'United States of America', 'lat': 37.78, 'lon': -122.42, 'tz_id': 'America/Los_Angeles', 'localtime_epoch': 1717238703, 'localtime': '2024-06-01 3:45'}, 'current': {'last_updated_epoch': 1717237800, 'last_updated': '2024-06-01 03:30', 'temp_c': 12.0, 'temp_f': 53.6, 'is_day': 0, 'condition': {'text': 'Mist', 'icon': '//cdn.weatherapi.com/weather/64x64/night/143.png', 'code': 1030}, 'wind_mph': 5.6, 'wind_kph': 9.0, 'wind_degree': 310, 'wind_dir': 'NW', 'pressure_mb': 1013.0, 'pressure_in': 29.92, 'precip_mm': 0.0, 'precip_in': 0.0, 'humidity': 88, 'cloud': 100, 'feelslike_c': 10.5, 'feelslike_f': 50.8, 'windchill_c': 9.3, 'windchill_f': 48.7, 'heatindex_c': 11.1, 'heatindex_f': 51.9, 'dewpoint_c': 8.8, 'dewpoint_f': 47.8, 'vis_km': 6.4, 'vis_miles': 3.0, 'uv': 1.0, 'gust_mph': 12.5, 'gust_kph': 20.1}}\"},\n",
                     " {'url': 'https://www.wunderground.com/hourly/us/ca/san-francisco/date/2024-01-06',\n",
                     "  'content': 'Current Weather for Popular Cities . San Francisco, CA 58 ° F Partly Cloudy; Manhattan, NY warning 51 ° F Cloudy; Schiller Park, IL (60176) warning 51 ° F Fair; Boston, MA warning 41 ° F ...'}]"
                  ]
               },
               "execution_count": 3,
               "metadata": {},
               "output_type": "execute_result"
            }
         ],
         "source": [
            "from langchain_community.tools.tavily_search import TavilySearchResults\n",
            "\n",
            "search = TavilySearchResults(max_results=2)\n",
            "search_results = search.invoke(\"what is the weather in SF\")\n",
            "print(search_results)\n",
            "# Если нужно, вы можете создать другие инструменты.\n",
            "# После создания всех необходимых инструментов\n",
            "# их можно сохранить в списке, к которому можно обращаться позднее.\n",
            "tools = [search]"
         ]
      },
      {
         "cell_type": "markdown",
         "id": "e00068b0",
         "metadata": {},
         "source": [
            "## Использование языковых моделей\n",
            "\n",
            "Пример ниже показвыает как исползовать языковую модель для вызова инструментов.\n",
            "Кроме моделей GigaChat, GigaChain позволяет использовать и другие модели.\n",
            "\n",
            "```{=mdx}\n",
            "import ChatModelTabs from \"@theme/ChatModelTabs\";\n",
            "\n",
            "<ChatModelTabs openaiParams={`model=\"gpt-4\"`} />\n",
            "```"
         ]
      },
      {
         "cell_type": "code",
         "execution_count": 3,
         "id": "69185491",
         "metadata": {},
         "outputs": [],
         "source": [
            "# | output: false\n",
            "# | echo: false\n",
            "\n",
            "from langchain_anthropic import ChatAnthropic\n",
            "\n",
            "model = ChatAnthropic(model=\"claude-3-sonnet-20240229\")"
         ]
      },
      {
         "cell_type": "markdown",
         "id": "642ed8bf",
         "metadata": {},
         "source": [
            "Для вызова модели передайте ей список сообщений.\n",
            "По умолчанию ответом будет строка `content`."
         ]
      },
      {
         "cell_type": "code",
         "execution_count": 4,
         "id": "c96c960b",
         "metadata": {},
         "outputs": [
            {
               "data": {
                  "text/plain": [
                     "'Hi there!'"
                  ]
               },
               "execution_count": 5,
               "metadata": {},
               "output_type": "execute_result"
            }
         ],
         "source": [
            "from langchain_core.messages import HumanMessage\n",
            "\n",
            "response = model.invoke([HumanMessage(content=\"hi!\")])\n",
            "response.content"
         ]
      },
      {
         "cell_type": "markdown",
         "id": "47bf8210",
         "metadata": {},
         "source": [
            "Используйте метод `.bind_tools`, чтобы дать модели знать к каким инструментам она может обращаться."
         ]
      },
      {
         "cell_type": "code",
         "execution_count": 5,
         "id": "ba692a74",
         "metadata": {},
         "outputs": [],
         "source": [
            "model_with_tools = model.bind_tools(tools)"
         ]
      },
      {
         "cell_type": "markdown",
         "id": "fd920b69",
         "metadata": {},
         "source": [
            "Сначала, посмотрите как ответит модель на обчное сообщение.\n",
            "Ответ модели можно найти в двух полях `content` и `tool_calls`."
         ]
      },
      {
         "cell_type": "code",
         "execution_count": 6,
         "id": "b6a7e925",
         "metadata": {},
         "outputs": [
            {
               "name": "stdout",
               "output_type": "stream",
               "text": [
                  "ContentString: Hello!\n",
                  "ToolCalls: []\n"
               ]
            }
         ],
         "source": [
            "response = model_with_tools.invoke([HumanMessage(content=\"Hi!\")])\n",
            "\n",
            "print(f\"ContentString: {response.content}\")\n",
            "print(f\"ToolCalls: {response.tool_calls}\")"
         ]
      },
      {
         "cell_type": "markdown",
         "id": "e8c81e76",
         "metadata": {},
         "source": [
            "Теперь попробуйте вызвать модель с помощью запроса, который предполагает использование инструмента."
         ]
      },
      {
         "cell_type": "code",
         "execution_count": 7,
         "id": "688b465d",
         "metadata": {},
         "outputs": [
            {
               "name": "stdout",
               "output_type": "stream",
               "text": [
                  "ContentString: \n",
                  "ToolCalls: [{'name': 'tavily_search_results_json', 'args': {'query': 'weather san francisco'}, 'id': 'toolu_01VTP7DUvSfgtYxsq9x4EwMp'}]\n"
               ]
            }
         ],
         "source": [
            "response = model_with_tools.invoke([HumanMessage(content=\"What's the weather in SF?\")])\n",
            "\n",
            "print(f\"ContentString: {response.content}\")\n",
            "print(f\"ToolCalls: {response.tool_calls}\")"
         ]
      },
      {
         "cell_type": "markdown",
         "id": "83c4bcd3",
         "metadata": {},
         "source": [
            "Поле ContentString теперь пустое, но по содержимому массива ToolCalls видно, что модель хочет, чтобы вы вызвали инструмент поиска Tavily.\n",
            "\n",
            "Модель не может самостоятельно вызвать инструмент, для этого нужно создать агента."
         ]
      },
      {
         "cell_type": "markdown",
         "id": "40ccec80",
         "metadata": {},
         "source": [
            "## Создание агента\n",
            "\n",
            "Для создания агента используйте [GigaGraph](/docs/concepts/#langgraph) — инструмент, который предоставляет высокоуровневый интерфейс для создания агентов, а также дает доступ к низкоуровневым инструментам, которые дают полный контроль над логикой работы агента."
         ]
      },
      {
         "cell_type": "markdown",
         "id": "f8014c9d",
         "metadata": {},
         "source": [
            "Инициализируйте агент с моделью и набором инструментов.\n",
            "\n",
            ":::note\n",
            "\n",
            "В агент можно передавать `model`, а не `model_with_tools`, т.к. метод `create_react_agent` самостоятельно вызывает `.bind_tools`.\n",
            "\n",
            ":::"
         ]
      },
      {
         "cell_type": "code",
         "execution_count": 9,
         "id": "89cf72b4-6046-4b47-8f27-5522d8cb8036",
         "metadata": {},
         "outputs": [],
         "source": [
            "from langgraph.prebuilt import create_react_agent\n",
            "\n",
            "agent_executor = create_react_agent(model, tools)"
         ]
      },
      {
         "cell_type": "markdown",
         "id": "e4df0e06",
         "metadata": {},
         "source": [
            "## Запуск агента\n",
            "\n",
            "Теперь вы можете проверить работу агента на нескольких запросах.\n",
            "\n",
            "Сейчас агент не сохраняет информацию о состоянии и не помнит историю взаимодействия с пользователем.\n",
            "\n",
            "В результате работы агент возвращает итоговое состояние, которое кроме выходных данных также содержит все входные данные.\n",
            "Как получить только выходные данные показано в примерах ниже.\n",
            "\n",
            "Посмотрите как агент отвечает, когда не нужно вызывать инструменты:"
         ]
      },
      {
         "cell_type": "code",
         "execution_count": 10,
         "id": "114ba50d",
         "metadata": {},
         "outputs": [
            {
               "data": {
                  "text/plain": [
                     "[HumanMessage(content='hi!', id='a820fcc5-9b87-457a-9af0-f21768143ee3'),\n",
                     " AIMessage(content='Hello!', response_metadata={'id': 'msg_01VbC493X1VEDyusgttiEr1z', 'model': 'claude-3-sonnet-20240229', 'stop_reason': 'end_turn', 'stop_sequence': None, 'usage': {'input_tokens': 264, 'output_tokens': 5}}, id='run-0e0ddae8-a85b-4bd6-947c-c36c857a4698-0', usage_metadata={'input_tokens': 264, 'output_tokens': 5, 'total_tokens': 269})]"
                  ]
               },
               "execution_count": 10,
               "metadata": {},
               "output_type": "execute_result"
            }
         ],
         "source": [
            "response = agent_executor.invoke({\"messages\": [HumanMessage(content=\"hi!\")]})\n",
            "\n",
            "response[\"messages\"]"
         ]
      },
      {
         "cell_type": "markdown",
         "id": "71493a42",
         "metadata": {},
         "source": [
            "<!--\n",
            "In order to see exactly what is happening under the hood (and to make sure it's not calling a tool) we can take a look at the [LangSmith trace](https://smith.langchain.com/public/28311faa-e135-4d6a-ab6b-caecf6482aaa/r)\n",
            "-->\n",
            "\n",
            "Попробуйте обратиться к агенту с запросом, который предполагает вызов инструмента:"
         ]
      },
      {
         "cell_type": "code",
         "execution_count": 11,
         "id": "77c2f769",
         "metadata": {},
         "outputs": [
            {
               "data": {
                  "text/plain": [
                     "[HumanMessage(content='whats the weather in sf?', id='1d6c96bb-4ddb-415c-a579-a07d5264de0d'),\n",
                     " AIMessage(content=[{'id': 'toolu_01Y5EK4bw2LqsQXeaUv8iueF', 'input': {'query': 'weather in san francisco'}, 'name': 'tavily_search_results_json', 'type': 'tool_use'}], response_metadata={'id': 'msg_0132wQUcEduJ8UKVVVqwJzM4', 'model': 'claude-3-sonnet-20240229', 'stop_reason': 'tool_use', 'stop_sequence': None, 'usage': {'input_tokens': 269, 'output_tokens': 61}}, id='run-26d5e5e8-d4fd-46d2-a197-87b95b10e823-0', tool_calls=[{'name': 'tavily_search_results_json', 'args': {'query': 'weather in san francisco'}, 'id': 'toolu_01Y5EK4bw2LqsQXeaUv8iueF'}], usage_metadata={'input_tokens': 269, 'output_tokens': 61, 'total_tokens': 330}),\n",
                     " ToolMessage(content='[{\"url\": \"https://www.weatherapi.com/\", \"content\": \"{\\'location\\': {\\'name\\': \\'San Francisco\\', \\'region\\': \\'California\\', \\'country\\': \\'United States of America\\', \\'lat\\': 37.78, \\'lon\\': -122.42, \\'tz_id\\': \\'America/Los_Angeles\\', \\'localtime_epoch\\': 1717238703, \\'localtime\\': \\'2024-06-01 3:45\\'}, \\'current\\': {\\'last_updated_epoch\\': 1717237800, \\'last_updated\\': \\'2024-06-01 03:30\\', \\'temp_c\\': 12.0, \\'temp_f\\': 53.6, \\'is_day\\': 0, \\'condition\\': {\\'text\\': \\'Mist\\', \\'icon\\': \\'//cdn.weatherapi.com/weather/64x64/night/143.png\\', \\'code\\': 1030}, \\'wind_mph\\': 5.6, \\'wind_kph\\': 9.0, \\'wind_degree\\': 310, \\'wind_dir\\': \\'NW\\', \\'pressure_mb\\': 1013.0, \\'pressure_in\\': 29.92, \\'precip_mm\\': 0.0, \\'precip_in\\': 0.0, \\'humidity\\': 88, \\'cloud\\': 100, \\'feelslike_c\\': 10.5, \\'feelslike_f\\': 50.8, \\'windchill_c\\': 9.3, \\'windchill_f\\': 48.7, \\'heatindex_c\\': 11.1, \\'heatindex_f\\': 51.9, \\'dewpoint_c\\': 8.8, \\'dewpoint_f\\': 47.8, \\'vis_km\\': 6.4, \\'vis_miles\\': 3.0, \\'uv\\': 1.0, \\'gust_mph\\': 12.5, \\'gust_kph\\': 20.1}}\"}, {\"url\": \"https://www.timeanddate.com/weather/usa/san-francisco/hourly\", \"content\": \"Sun & Moon. Weather Today Weather Hourly 14 Day Forecast Yesterday/Past Weather Climate (Averages) Currently: 59 \\\\u00b0F. Passing clouds. (Weather station: San Francisco International Airport, USA). See more current weather.\"}]', name='tavily_search_results_json', id='37aa1fd9-b232-4a02-bd22-bc5b9b44a22c', tool_call_id='toolu_01Y5EK4bw2LqsQXeaUv8iueF'),\n",
                     " AIMessage(content='Based on the search results, here is a summary of the current weather in San Francisco:\\n\\nThe weather in San Francisco is currently misty with a temperature of around 53°F (12°C). There is complete cloud cover and moderate winds from the northwest around 5-9 mph (9-14 km/h). Humidity is high at 88%. Visibility is around 3 miles (6.4 km). \\n\\nThe results provide an hourly forecast as well as current conditions from a couple different weather sources. Let me know if you need any additional details about the San Francisco weather!', response_metadata={'id': 'msg_01BRX9mrT19nBDdHYtR7wJ92', 'model': 'claude-3-sonnet-20240229', 'stop_reason': 'end_turn', 'stop_sequence': None, 'usage': {'input_tokens': 920, 'output_tokens': 132}}, id='run-d0325583-3ddc-4432-b2b2-d023eb97660f-0', usage_metadata={'input_tokens': 920, 'output_tokens': 132, 'total_tokens': 1052})]"
                  ]
               },
               "execution_count": 11,
               "metadata": {},
               "output_type": "execute_result"
            }
         ],
         "source": [
            "response = agent_executor.invoke(\n",
            "    {\"messages\": [HumanMessage(content=\"whats the weather in sf?\")]}\n",
            ")\n",
            "response[\"messages\"]"
         ]
      },
      {
         "cell_type": "markdown",
         "id": "c174f838",
         "metadata": {},
         "source": [
            "<!--\n",
            "We can check out the [LangSmith trace](https://smith.langchain.com/public/f520839d-cd4d-4495-8764-e32b548e235d/r) to make sure it's calling the search tool effectively.\n",
            "-->"
         ]
      },
      {
         "cell_type": "markdown",
         "id": "8f6ca7e4",
         "metadata": {},
         "source": [
            "## Потоковая передача сообщений\n",
            "\n",
            "В предыдущих примерах агент вызывается с помощью метода `.invoke` и возвращает итоговой ответ.\n",
            "Это может занимать продолжительное время, если агент в процессе работы выполняет множество шагов.\n",
            "Для демонстрации промежуточных результатов вы можете передавать сообщения по мере их возникновения."
         ]
      },
      {
         "cell_type": "code",
         "execution_count": null,
         "id": "532d6557",
         "metadata": {},
         "outputs": [
            {
               "name": "stdout",
               "output_type": "stream",
               "text": [
                  "{'agent': {'messages': [AIMessage(content='', additional_kwargs={'tool_calls': [{'id': 'call_50Kb8zHmFqPYavQwF5TgcOH8', 'function': {'arguments': '{\\n  \"query\": \"current weather in San Francisco\"\\n}', 'name': 'tavily_search_results_json'}, 'type': 'function'}]}, response_metadata={'token_usage': {'completion_tokens': 23, 'prompt_tokens': 134, 'total_tokens': 157}, 'model_name': 'gpt-4', 'system_fingerprint': None, 'finish_reason': 'tool_calls', 'logprobs': None}, id='run-042d5feb-c2cc-4c3f-b8fd-dbc22fd0bc07-0', tool_calls=[{'name': 'tavily_search_results_json', 'args': {'query': 'current weather in San Francisco'}, 'id': 'call_50Kb8zHmFqPYavQwF5TgcOH8'}])]}}\n",
                  "----\n",
                  "{'action': {'messages': [ToolMessage(content='[{\"url\": \"https://www.weatherapi.com/\", \"content\": \"{\\'location\\': {\\'name\\': \\'San Francisco\\', \\'region\\': \\'California\\', \\'country\\': \\'United States of America\\', \\'lat\\': 37.78, \\'lon\\': -122.42, \\'tz_id\\': \\'America/Los_Angeles\\', \\'localtime_epoch\\': 1714426906, \\'localtime\\': \\'2024-04-29 14:41\\'}, \\'current\\': {\\'last_updated_epoch\\': 1714426200, \\'last_updated\\': \\'2024-04-29 14:30\\', \\'temp_c\\': 17.8, \\'temp_f\\': 64.0, \\'is_day\\': 1, \\'condition\\': {\\'text\\': \\'Sunny\\', \\'icon\\': \\'//cdn.weatherapi.com/weather/64x64/day/113.png\\', \\'code\\': 1000}, \\'wind_mph\\': 23.0, \\'wind_kph\\': 37.1, \\'wind_degree\\': 290, \\'wind_dir\\': \\'WNW\\', \\'pressure_mb\\': 1019.0, \\'pressure_in\\': 30.09, \\'precip_mm\\': 0.0, \\'precip_in\\': 0.0, \\'humidity\\': 50, \\'cloud\\': 0, \\'feelslike_c\\': 17.8, \\'feelslike_f\\': 64.0, \\'vis_km\\': 16.0, \\'vis_miles\\': 9.0, \\'uv\\': 5.0, \\'gust_mph\\': 27.5, \\'gust_kph\\': 44.3}}\"}, {\"url\": \"https://world-weather.info/forecast/usa/san_francisco/april-2024/\", \"content\": \"Extended weather forecast in San Francisco. Hourly Week 10 days 14 days 30 days Year. Detailed \\\\u26a1 San Francisco Weather Forecast for April 2024 - day/night \\\\ud83c\\\\udf21\\\\ufe0f temperatures, precipitations - World-Weather.info.\"}]', name='tavily_search_results_json', id='d88320ac-3fe1-4f73-870a-3681f15f6982', tool_call_id='call_50Kb8zHmFqPYavQwF5TgcOH8')]}}\n",
                  "----\n",
                  "{'agent': {'messages': [AIMessage(content='The current weather in San Francisco, California is sunny with a temperature of 17.8°C (64.0°F). The wind is coming from the WNW at 23.0 mph. The humidity is at 50%. [source](https://www.weatherapi.com/)', response_metadata={'token_usage': {'completion_tokens': 58, 'prompt_tokens': 602, 'total_tokens': 660}, 'model_name': 'gpt-4', 'system_fingerprint': None, 'finish_reason': 'stop', 'logprobs': None}, id='run-0cd2a507-ded5-4601-afe3-3807400e9989-0')]}}\n",
                  "----\n"
               ]
            }
         ],
         "source": [
            "for chunk in agent_executor.stream(\n",
            "    {\"messages\": [HumanMessage(content=\"whats the weather in sf?\")]}\n",
            "):\n",
            "    print(chunk)\n",
            "    print(\"----\")"
         ]
      },
      {
         "cell_type": "markdown",
         "id": "c72b3043",
         "metadata": {},
         "source": [
            "## Потоковая передача токенов\n",
            "\n",
            "Кроме сообщений вы также можете использовать потоковую передачу токенов.\n",
            "Для этого используйте метод `.astream_events`.\n",
            "\n",
            ":::important\n",
            "\n",
            "Метод `.astream_events` работает в версиях Python 3.11 и выше.\n",
            "\n",
            ":::"
         ]
      },
      {
         "cell_type": "code",
         "execution_count": null,
         "id": "a3fb262c",
         "metadata": {},
         "outputs": [
            {
               "name": "stdout",
               "output_type": "stream",
               "text": [
                  "--\n",
                  "Starting tool: tavily_search_results_json with inputs: {'query': 'current weather in San Francisco'}\n",
                  "Done tool: tavily_search_results_json\n",
                  "Tool output was: [{'url': 'https://www.weatherapi.com/', 'content': \"{'location': {'name': 'San Francisco', 'region': 'California', 'country': 'United States of America', 'lat': 37.78, 'lon': -122.42, 'tz_id': 'America/Los_Angeles', 'localtime_epoch': 1714427052, 'localtime': '2024-04-29 14:44'}, 'current': {'last_updated_epoch': 1714426200, 'last_updated': '2024-04-29 14:30', 'temp_c': 17.8, 'temp_f': 64.0, 'is_day': 1, 'condition': {'text': 'Sunny', 'icon': '//cdn.weatherapi.com/weather/64x64/day/113.png', 'code': 1000}, 'wind_mph': 23.0, 'wind_kph': 37.1, 'wind_degree': 290, 'wind_dir': 'WNW', 'pressure_mb': 1019.0, 'pressure_in': 30.09, 'precip_mm': 0.0, 'precip_in': 0.0, 'humidity': 50, 'cloud': 0, 'feelslike_c': 17.8, 'feelslike_f': 64.0, 'vis_km': 16.0, 'vis_miles': 9.0, 'uv': 5.0, 'gust_mph': 27.5, 'gust_kph': 44.3}}\"}, {'url': 'https://www.weathertab.com/en/c/e/04/united-states/california/san-francisco/', 'content': 'San Francisco Weather Forecast for Apr 2024 - Risk of Rain Graph. Rain Risk Graph: Monthly Overview. Bar heights indicate rain risk percentages. Yellow bars mark low-risk days, while black and grey bars signal higher risks. Grey-yellow bars act as buffers, advising to keep at least one day clear from the riskier grey and black days, guiding ...'}]\n",
                  "--\n",
                  "The| current| weather| in| San| Francisco|,| California|,| USA| is| sunny| with| a| temperature| of| |17|.|8|°C| (|64|.|0|°F|).| The| wind| is| blowing| from| the| W|NW| at| a| speed| of| |37|.|1| k|ph| (|23|.|0| mph|).| The| humidity| level| is| at| |50|%.| [|Source|](|https|://|www|.weather|api|.com|/)|"
               ]
            }
         ],
         "source": [
            "async for event in agent_executor.astream_events(\n",
            "    {\"messages\": [HumanMessage(content=\"whats the weather in sf?\")]}, version=\"v1\"\n",
            "):\n",
            "    kind = event[\"event\"]\n",
            "    if kind == \"on_chain_start\":\n",
            "        if (\n",
            "            event[\"name\"] == \"Agent\"\n",
            "        ):  # Назначается при создании агента с помощью метода `.with_config({\"run_name\": \"Agent\"})`\n",
            "            print(\n",
            "                f\"Starting agent: {event['name']} with input: {event['data'].get('input')}\"\n",
            "            )\n",
            "    elif kind == \"on_chain_end\":\n",
            "        if (\n",
            "            event[\"name\"] == \"Agent\"\n",
            "        ):  # Назначается при создании агента с помощью метода `.with_config({\"run_name\": \"Agent\"})`\n",
            "            print()\n",
            "            print(\"--\")\n",
            "            print(\n",
            "                f\"Done agent: {event['name']} with output: {event['data'].get('output')['output']}\"\n",
            "            )\n",
            "    if kind == \"on_chat_model_stream\":\n",
            "        content = event[\"data\"][\"chunk\"].content\n",
            "        if content:\n",
            "            # Отсутствие содержимого при работе с OpenAI означает,\n",
            "            # что модель хочет вызвать инструмент.\n",
            "            # Поэтому выводится только не пустое содержимое.\n",
            "            print(content, end=\"|\")\n",
            "    elif kind == \"on_tool_start\":\n",
            "        print(\"--\")\n",
            "        print(\n",
            "            f\"Starting tool: {event['name']} with inputs: {event['data'].get('input')}\"\n",
            "        )\n",
            "    elif kind == \"on_tool_end\":\n",
            "        print(f\"Done tool: {event['name']}\")\n",
            "        print(f\"Tool output was: {event['data'].get('output')}\")\n",
            "        print(\"--\")"
         ]
      },
      {
         "cell_type": "markdown",
         "id": "022cbc8a",
         "metadata": {},
         "source": [
            "## Добавление памяти\n",
            "\n",
            "Для добавления памяти нужно при вызове агента передать ему чекпойнтер и поле `thread_id`.\n",
            "С помощью этог поля агент сможет понять к какому разговору нужно вернуться."
         ]
      },
      {
         "cell_type": "code",
         "execution_count": null,
         "id": "c4073e35",
         "metadata": {},
         "outputs": [],
         "source": [
            "from langgraph.checkpoint.sqlite import SqliteSaver\n",
            "\n",
            "memory = SqliteSaver.from_conn_string(\":memory:\")"
         ]
      },
      {
         "cell_type": "code",
         "execution_count": 12,
         "id": "e64a944e-f9ac-43cf-903c-d3d28d765377",
         "metadata": {},
         "outputs": [],
         "source": [
            "agent_executor = create_react_agent(model, tools, checkpointer=memory)\n",
            "\n",
            "config = {\"configurable\": {\"thread_id\": \"abc123\"}}"
         ]
      },
      {
         "cell_type": "code",
         "execution_count": 13,
         "id": "a13462d0-2d02-4474-921e-15a1ba1fa274",
         "metadata": {},
         "outputs": [
            {
               "name": "stdout",
               "output_type": "stream",
               "text": [
                  "{'agent': {'messages': [AIMessage(content=\"Hello Bob! It's nice to meet you again.\", response_metadata={'id': 'msg_013C1z2ZySagEFwmU1EsysR2', 'model': 'claude-3-sonnet-20240229', 'stop_reason': 'end_turn', 'stop_sequence': None, 'usage': {'input_tokens': 1162, 'output_tokens': 14}}, id='run-f878acfd-d195-44e8-9166-e2796317e3f8-0', usage_metadata={'input_tokens': 1162, 'output_tokens': 14, 'total_tokens': 1176})]}}\n",
                  "----\n"
               ]
            }
         ],
         "source": [
            "for chunk in agent_executor.stream(\n",
            "    {\"messages\": [HumanMessage(content=\"hi im bob!\")]}, config\n",
            "):\n",
            "    print(chunk)\n",
            "    print(\"----\")"
         ]
      },
      {
         "cell_type": "code",
         "execution_count": 14,
         "id": "56d8028b-5dbc-40b2-86f5-ed60631d86a3",
         "metadata": {},
         "outputs": [
            {
               "name": "stdout",
               "output_type": "stream",
               "text": [
                  "{'agent': {'messages': [AIMessage(content='You mentioned your name is Bob when you introduced yourself earlier. So your name is Bob.', response_metadata={'id': 'msg_01WNwnRNGwGDRw6vRdivt6i1', 'model': 'claude-3-sonnet-20240229', 'stop_reason': 'end_turn', 'stop_sequence': None, 'usage': {'input_tokens': 1184, 'output_tokens': 21}}, id='run-f5c0b957-8878-405a-9d4b-a7cd38efe81f-0', usage_metadata={'input_tokens': 1184, 'output_tokens': 21, 'total_tokens': 1205})]}}\n",
                  "----\n"
               ]
            }
         ],
         "source": [
            "for chunk in agent_executor.stream(\n",
            "    {\"messages\": [HumanMessage(content=\"whats my name?\")]}, config\n",
            "):\n",
            "    print(chunk)\n",
            "    print(\"----\")"
         ]
      },
      {
         "cell_type": "markdown",
         "id": "bda99754-0a11-4447-b408-e8db8f2e3517",
         "metadata": {},
         "source": [
            "<!--\n",
            "Example [LangSmith trace](https://smith.langchain.com/public/fa73960b-0f7d-4910-b73d-757a12f33b2b/r)\n",
            "-->"
         ]
      },
      {
         "cell_type": "markdown",
         "id": "ae908088",
         "metadata": {},
         "source": [
            "Для начала нового разговора вам достаточно изменить значение `thread_id`."
         ]
      },
      {
         "cell_type": "code",
         "execution_count": 15,
         "id": "24460239",
         "metadata": {},
         "outputs": [
            {
               "name": "stdout",
               "output_type": "stream",
               "text": [
                  "{'agent': {'messages': [AIMessage(content=\"I'm afraid I don't actually know your name. As an AI assistant without personal information about you, I don't have a specific name associated with our conversation.\", response_metadata={'id': 'msg_01NoaXNNYZKSoBncPcLkdcbo', 'model': 'claude-3-sonnet-20240229', 'stop_reason': 'end_turn', 'stop_sequence': None, 'usage': {'input_tokens': 267, 'output_tokens': 36}}, id='run-c9f7df3d-525a-4d8f-bbcf-a5b4a5d2e4b0-0', usage_metadata={'input_tokens': 267, 'output_tokens': 36, 'total_tokens': 303})]}}\n",
                  "----\n"
               ]
            }
         ],
         "source": [
            "config = {\"configurable\": {\"thread_id\": \"xyz123\"}}\n",
            "for chunk in agent_executor.stream(\n",
            "    {\"messages\": [HumanMessage(content=\"whats my name?\")]}, config\n",
            "):\n",
            "    print(chunk)\n",
            "    print(\"----\")"
         ]
      },
      {
         "cell_type": "markdown",
         "id": "c029798f",
         "metadata": {},
         "source": [
            "## Смотрите также\n",
            "\n",
            "Более подробную информацию о разработке агентов ищите в документации [GigaGraph](/docs/concepts/#langgraph)."
         ]
      }
   ],
   "metadata": {
      "kernelspec": {
         "display_name": "Python 3 (ipykernel)",
         "language": "python",
         "name": "python3"
      },
      "language_info": {
         "codemirror_mode": {
            "name": "ipython",
            "version": 3
         },
         "file_extension": ".py",
         "mimetype": "text/x-python",
         "name": "python",
         "nbconvert_exporter": "python",
         "pygments_lexer": "ipython3",
         "version": "3.12.3"
      }
   },
   "nbformat": 4,
   "nbformat_minor": 5
}
