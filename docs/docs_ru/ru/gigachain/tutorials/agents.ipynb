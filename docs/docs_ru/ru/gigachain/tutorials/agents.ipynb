{
 "cells": [
  {
   "cell_type": "raw",
   "id": "17546ebb",
   "metadata": {
    "id": "17546ebb",
    "vscode": {
     "languageId": "raw"
    }
   },
   "source": [
    "---\n",
    "keywords: [агент, агенты]\n",
    "---"
   ]
  },
  {
   "cell_type": "markdown",
   "id": "1df78a71",
   "metadata": {
    "id": "1df78a71"
   },
   "source": [
    "# Создание агента\n",
    "\n",
    ":::note\n",
    "\n",
    "В разделе затрагиваются слдующие основные понятия:\n",
    "\n",
    "- [Чат-модели](/docs/concepts/#chat-models)\n",
    "- [Инструменты](/docs/concepts/#tools)\n",
    "- [Агенты](/docs/concepts/#agents)\n",
    "\n",
    ":::\n",
    "\n",
    "Языковые модели просто генерируют текст и не могут выполнять действия.\n",
    "Разработка *агентов* — это один из основных сценариев использования GigaChain.\n",
    "\n",
    "Агенты — системы, использующие LLM для рассуждений и определения действий, которые нужно предпринять, а также входных данных, которые нужно при этом использовать.\n",
    "\n",
    "Результаты этих действий затем могут быть переданы обратно агенту, чтобы он определил, нужно ли делать что-то еще или можно закончить работу.\n",
    "\n",
    "В разделе приведен пример агента, который может взаимодействовать с несколькими инструментами: локальной базой данных и поисковой системой.\n",
    "С агентом можно вести разговор и наблюдать как он вызывает инструменты.\n",
    "\n",
    "## Пример агента\n",
    "\n",
    "Пример ниже содержит код работающего агента, который использует модель для определения того, какой инструмент нужно вызвать.\n",
    "Агент подготовлен для работы с поисковым инструментом и обладает разговорной памятью, что позволяет использвоать его в роли развитого чат-бота.\n",
    "\n",
    "Ниже в разделе приводится пошаговый разбор каждого из компонтов агента."
   ]
  },
  {
   "cell_type": "code",
   "execution_count": 76,
   "id": "a79bb782",
   "metadata": {
    "colab": {
     "base_uri": "https://localhost:8080/"
    },
    "id": "a79bb782",
    "outputId": "89f378db-58da-4a15-aea1-fdd322398d10"
   },
   "outputs": [
    {
     "name": "stdout",
     "output_type": "stream",
     "text": [
      "{'agent': {'messages': [AIMessage(content='Здравствуйте! Очень приятно познакомиться, Вася из Москвы. Чем я могу вам помочь сегодня?', additional_kwargs={'functions_state_id': 'c94ca48e-f423-4bdc-8073-156a4e48e1e3'}, response_metadata={'token_usage': Usage(prompt_tokens=102, completion_tokens=27, total_tokens=129), 'model_name': 'GigaChat-Pro:1.0.26.8', 'finish_reason': 'stop'}, id='run-4a31e45c-5274-432a-86e9-a31ff854c68c-0')]}}\n",
      "----\n"
     ]
    },
    {
     "name": "stderr",
     "output_type": "stream",
     "text": [
      "WARNING:langchain_community.chat_models.gigachat:Giga generation stopped with reason: function_call\n"
     ]
    },
    {
     "name": "stdout",
     "output_type": "stream",
     "text": [
      "{'agent': {'messages': [AIMessage(content='', additional_kwargs={'function_call': {'name': 'tavily_search_results_json', 'arguments': {'query': 'погода в Москве'}}, 'functions_state_id': 'f1a100da-7085-4fb0-b54d-f36b988f0713'}, response_metadata={'token_usage': Usage(prompt_tokens=157, completion_tokens=35, total_tokens=192), 'model_name': 'GigaChat-Pro:1.0.26.8', 'finish_reason': 'function_call'}, id='run-b1ef0f7b-ee72-4097-b9e9-c2b8b3ae6574-0', tool_calls=[{'name': 'tavily_search_results_json', 'args': {'query': 'погода в Москве'}, 'id': '3a2fc4ff-938d-4eb4-a4c6-fa00781b5afe'}])]}}\n",
      "----\n",
      "{'tools': {'messages': [ToolMessage(content='[{\"url\": \"https://pogoda.mail.ru/prognoz/moskva/14dney/\", \"content\": \"\\\\u0423\\\\u0437\\\\u043d\\\\u0430\\\\u0439\\\\u0442\\\\u0435, \\\\u043a\\\\u0430\\\\u043a\\\\u0430\\\\u044f \\\\u043f\\\\u043e\\\\u0433\\\\u043e\\\\u0434\\\\u0430 \\\\u043e\\\\u0436\\\\u0438\\\\u0434\\\\u0430\\\\u0435\\\\u0442\\\\u0441\\\\u044f \\\\u0432 \\\\u041c\\\\u043e\\\\u0441\\\\u043a\\\\u0432\\\\u0435 \\\\u043d\\\\u0430 \\\\u0431\\\\u043b\\\\u0438\\\\u0436\\\\u0430\\\\u0439\\\\u0448\\\\u0438\\\\u0435 \\\\u0434\\\\u0432\\\\u0435 \\\\u043d\\\\u0435\\\\u0434\\\\u0435\\\\u043b\\\\u0438. \\\\u0421\\\\u043c\\\\u043e\\\\u0442\\\\u0440\\\\u0438\\\\u0442\\\\u0435 \\\\u0442\\\\u0435\\\\u043c\\\\u043f\\\\u0435\\\\u0440\\\\u0430\\\\u0442\\\\u0443\\\\u0440\\\\u0443, \\\\u043e\\\\u0441\\\\u0430\\\\u0434\\\\u043a\\\\u0438, \\\\u0432\\\\u0435\\\\u0442\\\\u0435\\\\u0440, \\\\u0434\\\\u0430\\\\u0432\\\\u043b\\\\u0435\\\\u043d\\\\u0438\\\\u0435, \\\\u0432\\\\u043b\\\\u0430\\\\u0436\\\\u043d\\\\u043e\\\\u0441\\\\u0442\\\\u044c, \\\\u0444\\\\u0430\\\\u0437\\\\u0443 \\\\u043b\\\\u0443\\\\u043d\\\\u044b \\\\u0438 \\\\u0433\\\\u0435\\\\u043e\\\\u043c\\\\u0430\\\\u0433\\\\u043d\\\\u0438\\\\u0442\\\\u043d\\\\u043e\\\\u0435 \\\\u043f\\\\u043e\\\\u043b\\\\u0435 \\\\u0434\\\\u043b\\\\u044f \\\\u043a\\\\u0430\\\\u0436\\\\u0434\\\\u043e\\\\u0433\\\\u043e \\\\u0434\\\\u043d\\\\u044f.\"}, {\"url\": \"https://yandex.ru/pogoda/moscow\", \"content\": \"\\\\u0423\\\\u0437\\\\u043d\\\\u0430\\\\u0439\\\\u0442\\\\u0435 \\\\u043f\\\\u0440\\\\u043e\\\\u0433\\\\u043d\\\\u043e\\\\u0437 \\\\u043f\\\\u043e\\\\u0433\\\\u043e\\\\u0434\\\\u044b \\\\u0432 \\\\u041c\\\\u043e\\\\u0441\\\\u043a\\\\u0432\\\\u0435 \\\\u043d\\\\u0430 \\\\u0441\\\\u0435\\\\u0433\\\\u043e\\\\u0434\\\\u043d\\\\u044f, \\\\u0437\\\\u0430\\\\u0432\\\\u0442\\\\u0440\\\\u0430 \\\\u0438 \\\\u0431\\\\u043b\\\\u0438\\\\u0436\\\\u0430\\\\u0439\\\\u0448\\\\u0438\\\\u0435 \\\\u0434\\\\u043d\\\\u0438. \\\\u0421\\\\u043c\\\\u043e\\\\u0442\\\\u0440\\\\u0438\\\\u0442\\\\u0435 \\\\u0442\\\\u0435\\\\u043c\\\\u043f\\\\u0435\\\\u0440\\\\u0430\\\\u0442\\\\u0443\\\\u0440\\\\u0443, \\\\u043e\\\\u0441\\\\u0430\\\\u0434\\\\u043a\\\\u0438, \\\\u0434\\\\u0430\\\\u0432\\\\u043b\\\\u0435\\\\u043d\\\\u0438\\\\u0435, \\\\u0432\\\\u043b\\\\u0430\\\\u0436\\\\u043d\\\\u043e\\\\u0441\\\\u0442\\\\u044c \\\\u0438 \\\\u0434\\\\u0440\\\\u0443\\\\u0433\\\\u0438\\\\u0435 \\\\u043f\\\\u0430\\\\u0440\\\\u0430\\\\u043c\\\\u0435\\\\u0442\\\\u0440\\\\u044b \\\\u043f\\\\u043e\\\\u0433\\\\u043e\\\\u0434\\\\u044b \\\\u0432 \\\\u0440\\\\u0430\\\\u0437\\\\u043d\\\\u044b\\\\u0445 \\\\u0440\\\\u0430\\\\u0439\\\\u043e\\\\u043d\\\\u0430\\\\u0445 \\\\u0433\\\\u043e\\\\u0440\\\\u043e\\\\u0434\\\\u0430.\"}]', name='tavily_search_results_json', tool_call_id='3a2fc4ff-938d-4eb4-a4c6-fa00781b5afe')]}}\n",
      "----\n",
      "{'agent': {'messages': [AIMessage(content='Я нашёл для вас несколько сайтов с данными о погоде в Москве. Вот они: \\n\\n- pogoda.mail.ru/prognoz/moskva/14dney/\\n- yandex.ru/pogoda/moscow', additional_kwargs={'functions_state_id': 'f06ab5b1-a7a2-4790-be88-271fbc975c25'}, response_metadata={'token_usage': Usage(prompt_tokens=391, completion_tokens=61, total_tokens=452), 'model_name': 'GigaChat-Pro:1.0.26.8', 'finish_reason': 'stop'}, id='run-0e8a7ad5-7850-406e-96bf-fa9353cc480a-0')]}}\n",
      "----\n"
     ]
    }
   ],
   "source": [
    "# Импортирование необходимой функциональности\n",
    "from langchain_community.chat_models.gigachat import GigaChat\n",
    "from langchain_community.tools.tavily_search import TavilySearchResults\n",
    "from langchain_core.messages import HumanMessage\n",
    "from langgraph.checkpoint.sqlite import SqliteSaver\n",
    "from langgraph.prebuilt import create_react_agent\n",
    "\n",
    "# Создание агента\n",
    "memory = SqliteSaver.from_conn_string(\":memory:\")\n",
    "model = GigaChat(\n",
    "    credentials=\"<авторизационные_данные>\",\n",
    "    scope=\"GIGACHAT_API_PERS\",\n",
    "    model=\"GigaChat-Pro\",\n",
    "    verify_ssl_certs=False,\n",
    ")\n",
    "search = TavilySearchResults(max_results=2)\n",
    "tools = [search]\n",
    "agent_executor = create_react_agent(model, tools, checkpointer=memory)\n",
    "\n",
    "# Использование агента\n",
    "config = {\"configurable\": {\"thread_id\": \"abc100\"}}\n",
    "for chunk in agent_executor.stream(\n",
    "    {\"messages\": [HumanMessage(content=\"Привет! Меня зову Вася. Я живу в Москве\")]},\n",
    "    config,\n",
    "):\n",
    "    print(chunk)\n",
    "    print(\"----\")\n",
    "\n",
    "for chunk in agent_executor.stream(\n",
    "    {\"messages\": [HumanMessage(content=\"Покажи данные о погоде в моем городе\")]}, config\n",
    "):\n",
    "    print(chunk)\n",
    "    print(\"----\")"
   ]
  },
  {
   "cell_type": "markdown",
   "id": "f4c03f40-1328-412d-8a48-1db0cd481b77",
   "metadata": {
    "id": "f4c03f40-1328-412d-8a48-1db0cd481b77"
   },
   "source": [
    "## Подготовка к разработке\n",
    "\n",
    "### Jupyter-блокноты\n",
    "\n",
    "Это руководство, как и большинство других в документации, использует [Jupyter-блокноты](https://jupyter.org/). Они отлично подходят для изучения работы с LLM-системами, так как предоставляют интерактивную среду для работы с руководствами и позволяют работать с непредвиденными ситуациями: недоступностью API, нетипичным выводом и другими.\n",
    "\n",
    "Подробнее об установке jupyter -- в [официальной документации](https://jupyter.org/install).\n",
    "\n",
    "### Установка\n",
    "\n",
    "Для установки GigaChain выполните команды:"
   ]
  },
  {
   "cell_type": "code",
   "execution_count": null,
   "id": "60bb3eb1",
   "metadata": {
    "id": "60bb3eb1"
   },
   "outputs": [],
   "source": [
    "pip install -U gigachain-community gigagraph tavily-python"
   ]
  },
  {
   "cell_type": "markdown",
   "id": "2ee337ae",
   "metadata": {
    "id": "2ee337ae"
   },
   "source": [
    "Подробнее об установке — в разделе [Установка](https://developers.sber.ru/docs/ru/gigachain/get-started/installation).\n",
    "\n",
    "<!--\n",
    "### LangSmith\n",
    "\n",
    "Многие приложения, которые вы создаете с помощью LangChain, будут содержать несколько шагов с многократными вызовами LLM.\n",
    "По мере усложнения этих приложений становится важно иметь возможность инспектировать, что именно происходит внутри вашей цепочки или агента.\n",
    "Лучший способ сделать это — с помощью [LangSmith](https://smith.langchain.com).\n",
    "\n",
    "После регистрации по ссылке выше, убедитесь, что вы установили переменные среды для начала ведения журнала трассировок:\n",
    "\n",
    "```shell\n",
    "export LANGCHAIN_TRACING_V2=\"true\"\n",
    "export LANGCHAIN_API_KEY=\"...\"\n",
    "```\n",
    "\n",
    "Или, если вы работаете в блокноте, вы можете установить их с помощью:\n",
    "\n",
    "```python\n",
    "import getpass\n",
    "import os\n",
    "\n",
    "os.environ[\"LANGCHAIN_TRACING_V2\"] = \"true\"\n",
    "os.environ[\"LANGCHAIN_API_KEY\"] = getpass.getpass()\n",
    "```\n",
    "-->\n",
    "\n",
    "### Tavily\n",
    "\n",
    "В качестве инструмента в примере используется поисковый движок [Tavily](/docs/integrations/tools/tavily_search).\n",
    "Для работы с ним вам нужно получить и задать ключ API:\n",
    "\n",
    "```bash\n",
    "export TAVILY_API_KEY=\"...\"\n",
    "```\n",
    "\n",
    "В Jupyter-блокноте его можно использовать так:"
   ]
  },
  {
   "cell_type": "code",
   "execution_count": null,
   "id": "BkJlk3rbm7iJ",
   "metadata": {
    "id": "BkJlk3rbm7iJ"
   },
   "outputs": [],
   "source": [
    "# Используйте эту ячейку, чтобы задать ключ в блокноте\n",
    "import getpass\n",
    "import os\n",
    "\n",
    "os.environ[\"TAVILY_API_KEY\"] = getpass.getpass()"
   ]
  },
  {
   "cell_type": "markdown",
   "id": "c335d1bf",
   "metadata": {
    "id": "c335d1bf"
   },
   "source": [
    "## Определение инструментов\n",
    "\n",
    "Сначала создайте инструменты, которые будет использовать агент.\n",
    "Основным инструментом в примере выступает поисковый движок [Tavily](/docs/integrations/tools/tavily_search).\n",
    "GigaChain предоставляет интеграцию для простого использования поисковой системы Tavily в качестве инструмента."
   ]
  },
  {
   "cell_type": "code",
   "execution_count": 31,
   "id": "482ce13d",
   "metadata": {
    "colab": {
     "base_uri": "https://localhost:8080/"
    },
    "id": "482ce13d",
    "outputId": "865b4d99-2fdd-404b-d567-d9f7c8430798"
   },
   "outputs": [
    {
     "name": "stdout",
     "output_type": "stream",
     "text": [
      "[{'url': 'https://www.weatherapi.com/', 'content': \"{'location': {'name': 'Moscow', 'region': 'Moscow City', 'country': 'Russia', 'lat': 55.75, 'lon': 37.62, 'tz_id': 'Europe/Moscow', 'localtime_epoch': 1722510905, 'localtime': '2024-08-01 14:15'}, 'current': {'last_updated_epoch': 1722510900, 'last_updated': '2024-08-01 14:15', 'temp_c': 19.9, 'temp_f': 67.7, 'is_day': 1, 'condition': {'text': 'Patchy light drizzle', 'icon': '//cdn.weatherapi.com/weather/64x64/day/263.png', 'code': 1150}, 'wind_mph': 11.4, 'wind_kph': 18.4, 'wind_degree': 284, 'wind_dir': 'WNW', 'pressure_mb': 1001.0, 'pressure_in': 29.56, 'precip_mm': 0.51, 'precip_in': 0.02, 'humidity': 59, 'cloud': 70, 'feelslike_c': 19.9, 'feelslike_f': 67.7, 'windchill_c': 19.9, 'windchill_f': 67.7, 'heatindex_c': 19.9, 'heatindex_f': 67.7, 'dewpoint_c': 11.8, 'dewpoint_f': 53.2, 'vis_km': 5.0, 'vis_miles': 3.0, 'uv': 4.0, 'gust_mph': 13.3, 'gust_kph': 21.3}}\"}, {'url': 'https://www.weatherapi.com/weather/q/moscow-2145091', 'content': 'Moscow weather for 7, 10 and 14 day weather including today, tomorrow and weekend weather - Moscow City, Russia ... 01:45 AM: 03:08 AM: Phase: Waxing Crescent: First Quarter: Waxing Gibbous: Waxing Gibbous: Waxing Gibbous: ... WeatherAPI.com free weather widgets could be easily added to any website or content management systems (CMS) like ...'}]\n"
     ]
    }
   ],
   "source": [
    "from langchain_community.tools.tavily_search import TavilySearchResults\n",
    "\n",
    "search = TavilySearchResults(max_results=2)\n",
    "search_results = search.invoke(\"Узнай на weatherapi погоду в Москве\")\n",
    "print(search_results)\n",
    "# Если нужно, вы можете создать другие инструменты.\n",
    "# После создания всех необходимых инструментов\n",
    "# их можно сохранить в списке, к которому можно обращаться позднее.\n",
    "tools = [search]"
   ]
  },
  {
   "cell_type": "markdown",
   "id": "e00068b0",
   "metadata": {
    "id": "e00068b0"
   },
   "source": [
    "## Использование языковых моделей\n",
    "\n",
    "Пример ниже показвыает как исползовать языковую модель для вызова инструментов.\n",
    "Кроме моделей GigaChat, GigaChain позволяет использовать и другие модели."
   ]
  },
  {
   "cell_type": "code",
   "execution_count": 9,
   "id": "69185491",
   "metadata": {
    "id": "69185491"
   },
   "outputs": [],
   "source": [
    "# | output: false\n",
    "# | echo: false\n",
    "\n",
    "from langchain_community.chat_models.gigachat import GigaChat\n",
    "\n",
    "model = GigaChat(\n",
    "    credentials=\"<авторизационные_данные>\",\n",
    "    scope=\"GIGACHAT_API_PERS\",\n",
    "    model=\"GigaChat-Pro\",\n",
    "    verify_ssl_certs=False,\n",
    ")"
   ]
  },
  {
   "cell_type": "markdown",
   "id": "642ed8bf",
   "metadata": {
    "id": "642ed8bf"
   },
   "source": [
    "Для вызова модели передайте ей список сообщений.\n",
    "По умолчанию ответом будет строка `content`."
   ]
  },
  {
   "cell_type": "code",
   "execution_count": 10,
   "id": "c96c960b",
   "metadata": {
    "colab": {
     "base_uri": "https://localhost:8080/",
     "height": 35
    },
    "id": "c96c960b",
    "outputId": "483bbb17-46ca-4d70-ede3-22fc14271eee"
   },
   "outputs": [
    {
     "data": {
      "application/vnd.google.colaboratory.intrinsic+json": {
       "type": "string"
      },
      "text/plain": [
       "'Здравствуйте! Готова ответить на ваши вопросы.'"
      ]
     },
     "execution_count": 10,
     "metadata": {},
     "output_type": "execute_result"
    }
   ],
   "source": [
    "from langchain_core.messages import HumanMessage\n",
    "\n",
    "response = model.invoke([HumanMessage(content=\"Привет!\")])\n",
    "response.content"
   ]
  },
  {
   "cell_type": "markdown",
   "id": "47bf8210",
   "metadata": {
    "id": "47bf8210"
   },
   "source": [
    "Используйте метод `.bind_tools`, чтобы дать модели знать к каким инструментам она может обращаться."
   ]
  },
  {
   "cell_type": "code",
   "execution_count": 11,
   "id": "ba692a74",
   "metadata": {
    "id": "ba692a74"
   },
   "outputs": [],
   "source": [
    "model_with_tools = model.bind_tools(tools)"
   ]
  },
  {
   "cell_type": "markdown",
   "id": "fd920b69",
   "metadata": {
    "id": "fd920b69"
   },
   "source": [
    "Сначала, посмотрите как ответит модель на обчное сообщение.\n",
    "Ответ модели можно найти в двух полях `content` и `tool_calls`."
   ]
  },
  {
   "cell_type": "code",
   "execution_count": 12,
   "id": "b6a7e925",
   "metadata": {
    "colab": {
     "base_uri": "https://localhost:8080/"
    },
    "id": "b6a7e925",
    "outputId": "00a2bbe2-47fc-4fb6-8c32-903b7c547893"
   },
   "outputs": [
    {
     "name": "stdout",
     "output_type": "stream",
     "text": [
      "ContentString: Здравствуйте! Чем я могу вам помочь?\n",
      "ToolCalls: []\n"
     ]
    }
   ],
   "source": [
    "response = model_with_tools.invoke([HumanMessage(content=\"Привет!\")])\n",
    "\n",
    "print(f\"ContentString: {response.content}\")\n",
    "print(f\"ToolCalls: {response.tool_calls}\")"
   ]
  },
  {
   "cell_type": "markdown",
   "id": "e8c81e76",
   "metadata": {
    "id": "e8c81e76"
   },
   "source": [
    "Теперь попробуйте вызвать модель с помощью запроса, который предполагает использование инструмента."
   ]
  },
  {
   "cell_type": "code",
   "execution_count": 35,
   "id": "688b465d",
   "metadata": {
    "colab": {
     "base_uri": "https://localhost:8080/"
    },
    "id": "688b465d",
    "outputId": "aed97b9d-3f19-4d75-8490-e4c4b0a88923"
   },
   "outputs": [
    {
     "name": "stderr",
     "output_type": "stream",
     "text": [
      "WARNING:langchain_community.chat_models.gigachat:Giga generation stopped with reason: function_call\n"
     ]
    },
    {
     "name": "stdout",
     "output_type": "stream",
     "text": [
      "ContentString: \n",
      "ToolCalls: [{'name': 'tavily_search_results_json', 'args': {'query': 'Какая погода в Москве?'}, 'id': '38c51d05-adf3-42d7-85b0-8af53818e03e'}]\n"
     ]
    }
   ],
   "source": [
    "response = model_with_tools.invoke(\n",
    "    [HumanMessage(content=\"Какая погода в Москве, спроси у weatherapi?\")]\n",
    ")\n",
    "\n",
    "print(f\"ContentString: {response.content}\")\n",
    "print(f\"ToolCalls: {response.tool_calls}\")"
   ]
  },
  {
   "cell_type": "markdown",
   "id": "83c4bcd3",
   "metadata": {
    "id": "83c4bcd3"
   },
   "source": [
    "Поле ContentString теперь пустое, но по содержимому массива ToolCalls видно, что модель хочет, чтобы вы вызвали инструмент поиска Tavily.\n",
    "\n",
    "Модель не может самостоятельно вызвать инструмент, для этого нужно создать агента."
   ]
  },
  {
   "cell_type": "markdown",
   "id": "40ccec80",
   "metadata": {
    "id": "40ccec80"
   },
   "source": [
    "## Создание агента\n",
    "\n",
    "Для создания агента используйте [GigaGraph](/docs/concepts/#langgraph) — инструмент, который предоставляет высокоуровневый интерфейс для создания агентов, а также дает доступ к низкоуровневым инструментам, которые дают полный контроль над логикой работы агента."
   ]
  },
  {
   "cell_type": "markdown",
   "id": "f8014c9d",
   "metadata": {
    "id": "f8014c9d"
   },
   "source": [
    "Инициализируйте агент с моделью и набором инструментов.\n",
    "\n",
    ":::note\n",
    "\n",
    "В агент можно передавать `model`, а не `model_with_tools`, т.к. метод `create_react_agent` самостоятельно вызывает `.bind_tools`.\n",
    "\n",
    ":::"
   ]
  },
  {
   "cell_type": "code",
   "execution_count": 38,
   "id": "89cf72b4-6046-4b47-8f27-5522d8cb8036",
   "metadata": {
    "id": "89cf72b4-6046-4b47-8f27-5522d8cb8036"
   },
   "outputs": [],
   "source": [
    "from langgraph.prebuilt import create_react_agent\n",
    "\n",
    "agent_executor = create_react_agent(model, tools)"
   ]
  },
  {
   "cell_type": "markdown",
   "id": "e4df0e06",
   "metadata": {
    "id": "e4df0e06"
   },
   "source": [
    "## Запуск агента\n",
    "\n",
    "Теперь вы можете проверить работу агента на нескольких запросах.\n",
    "\n",
    "Сейчас агент не сохраняет информацию о состоянии и не помнит историю взаимодействия с пользователем.\n",
    "\n",
    "В результате работы агент возвращает итоговое состояние, которое кроме выходных данных также содержит все входные данные.\n",
    "Как получить только выходные данные показано в примерах ниже.\n",
    "\n",
    "Посмотрите как агент отвечает, когда не нужно вызывать инструменты:"
   ]
  },
  {
   "cell_type": "code",
   "execution_count": 39,
   "id": "114ba50d",
   "metadata": {
    "colab": {
     "base_uri": "https://localhost:8080/"
    },
    "id": "114ba50d",
    "outputId": "86600809-7c7e-4614-ffca-48c04219870a"
   },
   "outputs": [
    {
     "data": {
      "text/plain": [
       "[HumanMessage(content='Привет!', id='e8329188-248d-4c3f-8b5c-7fa71b699dbf'),\n",
       " AIMessage(content='Здравствуйте! Чем я могу вам помочь?', additional_kwargs={'functions_state_id': '5ea42efe-df02-4b67-9b42-f8c7a7a513c8'}, response_metadata={'token_usage': Usage(prompt_tokens=91, completion_tokens=17, total_tokens=108), 'model_name': 'GigaChat-Pro:1.0.26.8', 'finish_reason': 'stop'}, id='run-1778eb8f-3ed8-40e5-becb-f7c6cbebc323-0')]"
      ]
     },
     "execution_count": 39,
     "metadata": {},
     "output_type": "execute_result"
    }
   ],
   "source": [
    "response = agent_executor.invoke({\"messages\": [HumanMessage(content=\"Привет!\")]})\n",
    "\n",
    "response[\"messages\"]"
   ]
  },
  {
   "cell_type": "markdown",
   "id": "71493a42",
   "metadata": {
    "id": "71493a42"
   },
   "source": [
    "<!--\n",
    "In order to see exactly what is happening under the hood (and to make sure it's not calling a tool) we can take a look at the [LangSmith trace](https://smith.langchain.com/public/28311faa-e135-4d6a-ab6b-caecf6482aaa/r)\n",
    "-->\n",
    "\n",
    "Попробуйте обратиться к агенту с запросом, который предполагает вызов инструмента:"
   ]
  },
  {
   "cell_type": "code",
   "execution_count": 44,
   "id": "77c2f769",
   "metadata": {
    "colab": {
     "base_uri": "https://localhost:8080/"
    },
    "id": "77c2f769",
    "outputId": "2fba8341-b5c5-4535-937f-3d8a7d60eb59"
   },
   "outputs": [
    {
     "name": "stderr",
     "output_type": "stream",
     "text": [
      "WARNING:langchain_community.chat_models.gigachat:Giga generation stopped with reason: function_call\n"
     ]
    },
    {
     "data": {
      "text/plain": [
       "[HumanMessage(content='Какая погода в Москве, узнай на weatherapi?', id='2f10751b-3b3e-43fa-9872-9153e006551d'),\n",
       " AIMessage(content='', additional_kwargs={'function_call': {'name': 'tavily_search_results_json', 'arguments': {'query': 'Какая погода в Москве, узнай на weatherapi?'}}, 'functions_state_id': 'e6f2cbba-7964-433f-8f1e-972c3badd13d'}, response_metadata={'token_usage': Usage(prompt_tokens=101, completion_tokens=44, total_tokens=145), 'model_name': 'GigaChat-Pro:1.0.26.8', 'finish_reason': 'function_call'}, id='run-ef497eef-d26c-41ae-853f-33dc6ad30657-0', tool_calls=[{'name': 'tavily_search_results_json', 'args': {'query': 'Какая погода в Москве, узнай на weatherapi?'}, 'id': 'b3f7704b-a8fb-4ff9-8a00-3111a14b1ad8'}]),\n",
       " ToolMessage(content='[{\"url\": \"https://www.weatherapi.com/\", \"content\": \"{\\'location\\': {\\'name\\': \\'\\\\u041c\\\\u043e\\\\u0441\\\\u043a\\\\u0432\\\\u0430\\', \\'region\\': \\'Moscow City\\', \\'country\\': \\'\\\\u0420\\\\u043e\\\\u0441\\\\u0441\\\\u0438\\\\u044f\\', \\'lat\\': 55.75, \\'lon\\': 37.62, \\'tz_id\\': \\'Europe/Moscow\\', \\'localtime_epoch\\': 1722511056, \\'localtime\\': \\'2024-08-01 14:17\\'}, \\'current\\': {\\'last_updated_epoch\\': 1722510900, \\'last_updated\\': \\'2024-08-01 14:15\\', \\'temp_c\\': 19.9, \\'temp_f\\': 67.7, \\'is_day\\': 1, \\'condition\\': {\\'text\\': \\'Patchy light drizzle\\', \\'icon\\': \\'//cdn.weatherapi.com/weather/64x64/day/263.png\\', \\'code\\': 1150}, \\'wind_mph\\': 11.4, \\'wind_kph\\': 18.4, \\'wind_degree\\': 284, \\'wind_dir\\': \\'WNW\\', \\'pressure_mb\\': 1001.0, \\'pressure_in\\': 29.56, \\'precip_mm\\': 0.51, \\'precip_in\\': 0.02, \\'humidity\\': 59, \\'cloud\\': 70, \\'feelslike_c\\': 19.9, \\'feelslike_f\\': 67.7, \\'windchill_c\\': 19.9, \\'windchill_f\\': 67.7, \\'heatindex_c\\': 19.9, \\'heatindex_f\\': 67.7, \\'dewpoint_c\\': 11.8, \\'dewpoint_f\\': 53.2, \\'vis_km\\': 5.0, \\'vis_miles\\': 3.0, \\'uv\\': 4.0, \\'gust_mph\\': 13.3, \\'gust_kph\\': 21.3}}\"}, {\"url\": \"https://goodmeteo.ru/pogoda-moskva/1-8/\", \"content\": \"\\\\u041f\\\\u0440\\\\u043e\\\\u0433\\\\u043d\\\\u043e\\\\u0437 \\\\u043f\\\\u043e\\\\u0433\\\\u043e\\\\u0434\\\\u044b \\\\u0432 \\\\u041c\\\\u043e\\\\u0441\\\\u043a\\\\u0432\\\\u0435 \\\\u043d\\\\u0430 01.08.2024. \\\\u0421\\\\u0430\\\\u043c\\\\u0430\\\\u044f \\\\u0442\\\\u043e\\\\u0447\\\\u043d\\\\u0430\\\\u044f \\\\u043f\\\\u043e\\\\u0447\\\\u0430\\\\u0441\\\\u043e\\\\u0432\\\\u0430\\\\u044f \\\\u043f\\\\u043e\\\\u0433\\\\u043e\\\\u0434\\\\u0430 \\\\u0432 \\\\u0433\\\\u043e\\\\u0440\\\\u043e\\\\u0434\\\\u0435 \\\\u041c\\\\u043e\\\\u0441\\\\u043a\\\\u0432\\\\u0435 \\\\u043d\\\\u0430 1 \\\\u0430\\\\u0432\\\\u0433\\\\u0443\\\\u0441\\\\u0442\\\\u0430 2024: \\\\u0442\\\\u0435\\\\u043c\\\\u043f\\\\u0435\\\\u0440\\\\u0430\\\\u0442\\\\u0443\\\\u0440\\\\u0430, \\\\u043e\\\\u0441\\\\u0430\\\\u0434\\\\u043a\\\\u0438, \\\\u0434\\\\u0430\\\\u0432\\\\u043b\\\\u0435\\\\u043d\\\\u0438\\\\u0435, \\\\u0432\\\\u0435\\\\u0442\\\\u0435\\\\u0440, \\\\u0432\\\\u043b\\\\u0430\\\\u0436\\\\u043d\\\\u043e\\\\u0441\\\\u0442\\\\u044c. \\\\u041c\\\\u0435\\\\u0442\\\\u0435\\\\u043e\\\\u043f\\\\u0440\\\\u043e\\\\u0433\\\\u043d\\\\u043e\\\\u0437\\\\u044b \\\\u043d\\\\u0430 GoodMeteo.ru\"}]', name='tavily_search_results_json', id='eae93942-8fc9-4c32-af63-dcc3266d86ed', tool_call_id='b3f7704b-a8fb-4ff9-8a00-3111a14b1ad8'),\n",
       " AIMessage(content='Погода в Москве на 1 августа 2024 года, согласно данным с сайта weatherapi, составляет 19.9 градусов Цельсия. Также сообщается о наличии легкого моросящего дождя.', additional_kwargs={'functions_state_id': '208428f2-2581-4347-b331-9dab03cceca8'}, response_metadata={'token_usage': Usage(prompt_tokens=821, completion_tokens=50, total_tokens=871), 'model_name': 'GigaChat-Pro:1.0.26.8', 'finish_reason': 'stop'}, id='run-940aca27-1089-40ed-a4ce-bdacc9b2c5e9-0')]"
      ]
     },
     "execution_count": 44,
     "metadata": {},
     "output_type": "execute_result"
    }
   ],
   "source": [
    "response = agent_executor.invoke(\n",
    "    {\"messages\": [HumanMessage(content=\"Какая погода в Москве, узнай на weatherapi?\")]}\n",
    ")\n",
    "response[\"messages\"]"
   ]
  },
  {
   "cell_type": "markdown",
   "id": "c174f838",
   "metadata": {
    "id": "c174f838"
   },
   "source": [
    "<!--\n",
    "We can check out the [LangSmith trace](https://smith.langchain.com/public/f520839d-cd4d-4495-8764-e32b548e235d/r) to make sure it's calling the search tool effectively.\n",
    "-->"
   ]
  },
  {
   "cell_type": "markdown",
   "id": "8f6ca7e4",
   "metadata": {
    "id": "8f6ca7e4"
   },
   "source": [
    "## Потоковая передача сообщений\n",
    "\n",
    "В предыдущих примерах агент вызывается с помощью метода `.invoke` и возвращает итоговой ответ.\n",
    "Это может занимать продолжительное время, если агент в процессе работы выполняет множество шагов.\n",
    "Для демонстрации промежуточных результатов вы можете передавать сообщения по мере их возникновения."
   ]
  },
  {
   "cell_type": "code",
   "execution_count": 45,
   "id": "532d6557",
   "metadata": {
    "colab": {
     "base_uri": "https://localhost:8080/"
    },
    "id": "532d6557",
    "outputId": "14564b7e-8fca-4717-a5fd-6009a2c6df4a"
   },
   "outputs": [
    {
     "name": "stderr",
     "output_type": "stream",
     "text": [
      "WARNING:langchain_community.chat_models.gigachat:Giga generation stopped with reason: function_call\n"
     ]
    },
    {
     "name": "stdout",
     "output_type": "stream",
     "text": [
      "{'agent': {'messages': [AIMessage(content='', additional_kwargs={'function_call': {'name': 'tavily_search_results_json', 'arguments': {'query': 'Какая погода в Москве, узнай на weatherapi?'}}, 'functions_state_id': '1c01b637-c2c1-4e2e-8683-821b103a779d'}, response_metadata={'token_usage': Usage(prompt_tokens=101, completion_tokens=44, total_tokens=145), 'model_name': 'GigaChat-Pro:1.0.26.8', 'finish_reason': 'function_call'}, id='run-ffb8a6a0-c0cb-4860-b3da-897a6059c72d-0', tool_calls=[{'name': 'tavily_search_results_json', 'args': {'query': 'Какая погода в Москве, узнай на weatherapi?'}, 'id': '58ea597a-c72e-43cd-bad1-1677b5e3d435'}])]}}\n",
      "----\n",
      "{'tools': {'messages': [ToolMessage(content='[{\"url\": \"https://www.weatherapi.com/\", \"content\": \"{\\'location\\': {\\'name\\': \\'\\\\u041c\\\\u043e\\\\u0441\\\\u043a\\\\u0432\\\\u0430\\', \\'region\\': \\'Moscow City\\', \\'country\\': \\'\\\\u0420\\\\u043e\\\\u0441\\\\u0441\\\\u0438\\\\u044f\\', \\'lat\\': 55.75, \\'lon\\': 37.62, \\'tz_id\\': \\'Europe/Moscow\\', \\'localtime_epoch\\': 1722511056, \\'localtime\\': \\'2024-08-01 14:17\\'}, \\'current\\': {\\'last_updated_epoch\\': 1722510900, \\'last_updated\\': \\'2024-08-01 14:15\\', \\'temp_c\\': 19.9, \\'temp_f\\': 67.7, \\'is_day\\': 1, \\'condition\\': {\\'text\\': \\'Patchy light drizzle\\', \\'icon\\': \\'//cdn.weatherapi.com/weather/64x64/day/263.png\\', \\'code\\': 1150}, \\'wind_mph\\': 11.4, \\'wind_kph\\': 18.4, \\'wind_degree\\': 284, \\'wind_dir\\': \\'WNW\\', \\'pressure_mb\\': 1001.0, \\'pressure_in\\': 29.56, \\'precip_mm\\': 0.51, \\'precip_in\\': 0.02, \\'humidity\\': 59, \\'cloud\\': 70, \\'feelslike_c\\': 19.9, \\'feelslike_f\\': 67.7, \\'windchill_c\\': 19.9, \\'windchill_f\\': 67.7, \\'heatindex_c\\': 19.9, \\'heatindex_f\\': 67.7, \\'dewpoint_c\\': 11.8, \\'dewpoint_f\\': 53.2, \\'vis_km\\': 5.0, \\'vis_miles\\': 3.0, \\'uv\\': 4.0, \\'gust_mph\\': 13.3, \\'gust_kph\\': 21.3}}\"}, {\"url\": \"https://world-weather.ru/pogoda/russia/moscow/august-2024/\", \"content\": \"\\\\u041f\\\\u043e\\\\u0434\\\\u0440\\\\u043e\\\\u0431\\\\u043d\\\\u044b\\\\u0439 \\\\u26a1 \\\\u043f\\\\u0440\\\\u043e\\\\u0433\\\\u043d\\\\u043e\\\\u0437 \\\\u043f\\\\u043e\\\\u0433\\\\u043e\\\\u0434\\\\u044b \\\\u0432 \\\\u041c\\\\u043e\\\\u0441\\\\u043a\\\\u0432\\\\u0435 \\\\u043d\\\\u0430 \\\\u0430\\\\u0432\\\\u0433\\\\u0443\\\\u0441\\\\u0442 2024 \\\\u0433\\\\u043e\\\\u0434\\\\u0430 - \\\\u0438\\\\u043d\\\\u0444\\\\u043e\\\\u0440\\\\u043c\\\\u0430\\\\u0446\\\\u0438\\\\u044f \\\\u043e \\\\u0434\\\\u043d\\\\u0435\\\\u0432\\\\u043d\\\\u043e\\\\u0439 \\\\u0438 \\\\u043d\\\\u043e\\\\u0447\\\\u043d\\\\u043e\\\\u0439 \\\\ud83c\\\\udf21\\\\ufe0f \\\\u0442\\\\u0435\\\\u043c\\\\u043f\\\\u0435\\\\u0440\\\\u0430\\\\u0442\\\\u0443\\\\u0440\\\\u0435, \\\\u043e\\\\u0441\\\\u0430\\\\u0434\\\\u043a\\\\u0430\\\\u0445 \\\\u0432 \\\\u041c\\\\u043e\\\\u0441\\\\u043a\\\\u0432\\\\u0435, \\\\u041c\\\\u043e\\\\u0441\\\\u043a\\\\u043e\\\\u0432\\\\u0441\\\\u043a\\\\u0430\\\\u044f \\\\u043e\\\\u0431\\\\u043b\\\\u0430\\\\u0441\\\\u0442\\\\u044c, \\\\u0420\\\\u043e\\\\u0441\\\\u0441\\\\u0438\\\\u044f - World-Weather.Ru\"}]', name='tavily_search_results_json', tool_call_id='58ea597a-c72e-43cd-bad1-1677b5e3d435')]}}\n",
      "----\n",
      "{'agent': {'messages': [AIMessage(content='Погода в Москве на 1 августа 2024 года, согласно данным с сайта weatherapi, следующая: температура воздуха составляет 19.9 градусов Цельсия, ощущается как 19.9 градусов, влажность 59%, облачность 70%. Также отмечается легкий моросящий дождь.', additional_kwargs={'functions_state_id': '1a4b99e5-de87-49cb-9f43-0f5d6caf6bc7'}, response_metadata={'token_usage': Usage(prompt_tokens=817, completion_tokens=74, total_tokens=891), 'model_name': 'GigaChat-Pro:1.0.26.8', 'finish_reason': 'stop'}, id='run-7f4803a0-d68c-4ea3-ae3d-f4d52eee2b8f-0')]}}\n",
      "----\n"
     ]
    }
   ],
   "source": [
    "for chunk in agent_executor.stream(\n",
    "    {\"messages\": [HumanMessage(content=\"Какая погода в Москве, узнай на weatherapi?\")]}\n",
    "):\n",
    "    print(chunk)\n",
    "    print(\"----\")"
   ]
  },
  {
   "cell_type": "markdown",
   "id": "c72b3043",
   "metadata": {
    "id": "c72b3043"
   },
   "source": [
    "## Потоковая передача токенов\n",
    "\n",
    "Кроме сообщений вы также можете использовать потоковую передачу токенов.\n",
    "Для этого используйте метод `.astream_events`.\n",
    "\n",
    ":::important\n",
    "\n",
    "Метод `.astream_events` работает в версиях Python 3.11 и выше.\n",
    "\n",
    ":::"
   ]
  },
  {
   "cell_type": "code",
   "execution_count": 46,
   "id": "a3fb262c",
   "metadata": {
    "colab": {
     "base_uri": "https://localhost:8080/"
    },
    "id": "a3fb262c",
    "outputId": "de623f38-4a25-44e7-956a-ef62c22f6abc"
   },
   "outputs": [
    {
     "name": "stdout",
     "output_type": "stream",
     "text": [
      "--\n",
      "Starting tool: tavily_search_results_json with inputs: {'query': 'Какая погода в Москве, узнай на weatherapi?'}\n",
      "Done tool: tavily_search_results_json\n",
      "Tool output was: [{'url': 'https://www.weatherapi.com/', 'content': \"{'location': {'name': 'Moscow', 'region': 'Moscow City', 'country': 'Russia', 'lat': 55.75, 'lon': 37.62, 'tz_id': 'Europe/Moscow', 'localtime_epoch': 1722511212, 'localtime': '2024-08-01 14:20'}, 'current': {'last_updated_epoch': 1722510900, 'last_updated': '2024-08-01 14:15', 'temp_c': 19.9, 'temp_f': 67.7, 'is_day': 1, 'condition': {'text': 'Patchy light drizzle', 'icon': '//cdn.weatherapi.com/weather/64x64/day/263.png', 'code': 1150}, 'wind_mph': 11.4, 'wind_kph': 18.4, 'wind_degree': 284, 'wind_dir': 'WNW', 'pressure_mb': 1001.0, 'pressure_in': 29.56, 'precip_mm': 0.51, 'precip_in': 0.02, 'humidity': 59, 'cloud': 70, 'feelslike_c': 19.9, 'feelslike_f': 67.7, 'windchill_c': 19.9, 'windchill_f': 67.7, 'heatindex_c': 19.9, 'heatindex_f': 67.7, 'dewpoint_c': 11.8, 'dewpoint_f': 53.2, 'vis_km': 5.0, 'vis_miles': 3.0, 'uv': 4.0, 'gust_mph': 13.3, 'gust_kph': 21.3}}\"}, {'url': 'https://world-weather.info/forecast/russia/moscow/january-2024/', 'content': 'Extended weather forecast in Moscow. Hourly Week 10 days 14 days 30 days Year. Detailed ⚡ Moscow Weather Forecast for January 2024 - day/night 🌡️ temperatures, precipitations - World-Weather.info.'}]\n",
      "--\n",
      "Погода в Москве, согласно данным weatherapi, следующая: температура составляет 19.9 градусов Цельсия, ощущается как 19.9 градусов, влажность 59%, облачность 70%. Также отмечается легкий моросящий дождь.|"
     ]
    }
   ],
   "source": [
    "async for event in agent_executor.astream_events(\n",
    "    {\"messages\": [HumanMessage(content=\"Какая погода в Москве, узнай на weatherapi?\")]},\n",
    "    version=\"v1\",\n",
    "):\n",
    "    kind = event[\"event\"]\n",
    "    if kind == \"on_chain_start\":\n",
    "        if (\n",
    "            event[\"name\"] == \"Agent\"\n",
    "        ):  # Назначается при создании агента с помощью метода `.with_config({\"run_name\": \"Agent\"})`\n",
    "            print(\n",
    "                f\"Starting agent: {event['name']} with input: {event['data'].get('input')}\"\n",
    "            )\n",
    "    elif kind == \"on_chain_end\":\n",
    "        if (\n",
    "            event[\"name\"] == \"Agent\"\n",
    "        ):  # Назначается при создании агента с помощью метода `.with_config({\"run_name\": \"Agent\"})`\n",
    "            print()\n",
    "            print(\"--\")\n",
    "            print(\n",
    "                f\"Done agent: {event['name']} with output: {event['data'].get('output')['output']}\"\n",
    "            )\n",
    "    if kind == \"on_chat_model_stream\":\n",
    "        content = event[\"data\"][\"chunk\"].content\n",
    "        if content:\n",
    "            print(content, end=\"|\")\n",
    "    elif kind == \"on_tool_start\":\n",
    "        print(\"--\")\n",
    "        print(\n",
    "            f\"Starting tool: {event['name']} with inputs: {event['data'].get('input')}\"\n",
    "        )\n",
    "    elif kind == \"on_tool_end\":\n",
    "        print(f\"Done tool: {event['name']}\")\n",
    "        print(f\"Tool output was: {event['data'].get('output')}\")\n",
    "        print(\"--\")"
   ]
  },
  {
   "cell_type": "markdown",
   "id": "022cbc8a",
   "metadata": {
    "id": "022cbc8a"
   },
   "source": [
    "## Добавление памяти\n",
    "\n",
    "Для добавления памяти нужно при вызове агента передать ему чекпойнтер и поле `thread_id`.\n",
    "С помощью этог поля агент сможет понять к какому разговору нужно вернуться."
   ]
  },
  {
   "cell_type": "code",
   "execution_count": 22,
   "id": "c4073e35",
   "metadata": {
    "id": "c4073e35"
   },
   "outputs": [],
   "source": [
    "from langgraph.checkpoint.sqlite import SqliteSaver\n",
    "\n",
    "memory = SqliteSaver.from_conn_string(\":memory:\")"
   ]
  },
  {
   "cell_type": "code",
   "execution_count": 23,
   "id": "e64a944e-f9ac-43cf-903c-d3d28d765377",
   "metadata": {
    "id": "e64a944e-f9ac-43cf-903c-d3d28d765377"
   },
   "outputs": [],
   "source": [
    "agent_executor = create_react_agent(model, tools, checkpointer=memory)\n",
    "\n",
    "config = {\"configurable\": {\"thread_id\": \"abc123\"}}"
   ]
  },
  {
   "cell_type": "code",
   "execution_count": 24,
   "id": "a13462d0-2d02-4474-921e-15a1ba1fa274",
   "metadata": {
    "colab": {
     "base_uri": "https://localhost:8080/"
    },
    "id": "a13462d0-2d02-4474-921e-15a1ba1fa274",
    "outputId": "b6b08caa-f515-44b7-cba8-12665c7f8a4d"
   },
   "outputs": [
    {
     "name": "stdout",
     "output_type": "stream",
     "text": [
      "{'agent': {'messages': [AIMessage(content='Здравствуйте, Вася! Рада познакомиться. Чем я могу вам помочь сегодня?', additional_kwargs={'functions_state_id': '48672f4f-dc4a-4370-be7e-ffce6d24c883'}, response_metadata={'token_usage': Usage(prompt_tokens=97, completion_tokens=25, total_tokens=122), 'model_name': 'GigaChat-Pro:1.0.26.8', 'finish_reason': 'stop'}, id='run-056a1f85-08a2-417f-b2f6-7117d369b30b-0')]}}\n",
      "----\n"
     ]
    }
   ],
   "source": [
    "for chunk in agent_executor.stream(\n",
    "    {\"messages\": [HumanMessage(content=\"Привет! Меня зовут Вася\")]}, config\n",
    "):\n",
    "    print(chunk)\n",
    "    print(\"----\")"
   ]
  },
  {
   "cell_type": "code",
   "execution_count": 25,
   "id": "56d8028b-5dbc-40b2-86f5-ed60631d86a3",
   "metadata": {
    "colab": {
     "base_uri": "https://localhost:8080/"
    },
    "id": "56d8028b-5dbc-40b2-86f5-ed60631d86a3",
    "outputId": "64609ce0-7e37-42b5-e34e-62f9d5e594dc"
   },
   "outputs": [
    {
     "name": "stdout",
     "output_type": "stream",
     "text": [
      "{'agent': {'messages': [AIMessage(content='Вас зовут Вася.', additional_kwargs={'functions_state_id': 'ae930f9b-0a69-46a9-9338-d65ff768f71e'}, response_metadata={'token_usage': Usage(prompt_tokens=148, completion_tokens=12, total_tokens=160), 'model_name': 'GigaChat-Pro:1.0.26.8', 'finish_reason': 'stop'}, id='run-be6d19fb-b89d-4e34-b5a7-6d82ed90b2e2-0')]}}\n",
      "----\n"
     ]
    }
   ],
   "source": [
    "for chunk in agent_executor.stream(\n",
    "    {\"messages\": [HumanMessage(content=\"Как меня зовут?\")]}, config\n",
    "):\n",
    "    print(chunk)\n",
    "    print(\"----\")"
   ]
  },
  {
   "cell_type": "markdown",
   "id": "bda99754-0a11-4447-b408-e8db8f2e3517",
   "metadata": {
    "id": "bda99754-0a11-4447-b408-e8db8f2e3517"
   },
   "source": [
    "<!--\n",
    "Example [LangSmith trace](https://smith.langchain.com/public/fa73960b-0f7d-4910-b73d-757a12f33b2b/r)\n",
    "-->"
   ]
  },
  {
   "cell_type": "markdown",
   "id": "ae908088",
   "metadata": {
    "id": "ae908088"
   },
   "source": [
    "Для начала нового разговора вам достаточно изменить значение `thread_id`."
   ]
  },
  {
   "cell_type": "code",
   "execution_count": 26,
   "id": "24460239",
   "metadata": {
    "colab": {
     "base_uri": "https://localhost:8080/"
    },
    "id": "24460239",
    "outputId": "fa915b7a-697e-497e-8c99-a07c67173005"
   },
   "outputs": [
    {
     "name": "stdout",
     "output_type": "stream",
     "text": [
      "{'agent': {'messages': [AIMessage(content='Извините, но я не имею возможности предоставить вам эту информацию. Моя система не хранит и не обрабатывает персональные данные пользователей.', additional_kwargs={'functions_state_id': '3ce4de5a-95b5-4f4a-b18e-40def1558c82'}, response_metadata={'token_usage': Usage(prompt_tokens=94, completion_tokens=35, total_tokens=129), 'model_name': 'GigaChat-Pro:1.0.26.8', 'finish_reason': 'stop'}, id='run-6a2131a0-1534-4292-b53b-dc40eb68f52d-0')]}}\n",
      "----\n"
     ]
    }
   ],
   "source": [
    "config = {\"configurable\": {\"thread_id\": \"xyz123\"}}\n",
    "for chunk in agent_executor.stream(\n",
    "    {\"messages\": [HumanMessage(content=\"Как меня зовут?\")]}, config\n",
    "):\n",
    "    print(chunk)\n",
    "    print(\"----\")"
   ]
  },
  {
   "cell_type": "markdown",
   "id": "c029798f",
   "metadata": {
    "id": "c029798f"
   },
   "source": [
    "## Смотрите также\n",
    "\n",
    "Более подробную информацию о разработке агентов ищите в документации [GigaGraph](/docs/concepts/#langgraph)."
   ]
  }
 ],
 "metadata": {
  "colab": {
   "provenance": []
  },
  "kernelspec": {
   "display_name": "Python 3 (ipykernel)",
   "language": "python",
   "name": "python3"
  },
  "language_info": {
   "codemirror_mode": {
    "name": "ipython",
    "version": 3
   },
   "file_extension": ".py",
   "mimetype": "text/x-python",
   "name": "python",
   "nbconvert_exporter": "python",
   "pygments_lexer": "ipython3",
   "version": "3.12.3"
  }
 },
 "nbformat": 4,
 "nbformat_minor": 5
}
