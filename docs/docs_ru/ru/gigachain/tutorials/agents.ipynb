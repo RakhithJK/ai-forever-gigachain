{
  "cells": [
    {
      "cell_type": "raw",
      "id": "17546ebb",
      "metadata": {
        "id": "17546ebb",
        "vscode": {
          "languageId": "raw"
        }
      },
      "source": [
        "---\n",
        "keywords: [агент, агенты]\n",
        "---"
      ]
    },
    {
      "cell_type": "markdown",
      "id": "1df78a71",
      "metadata": {
        "id": "1df78a71"
      },
      "source": [
        "# Создание агента\n",
        "\n",
        ":::note\n",
        "\n",
        "В разделе затрагиваются слдующие основные понятия:\n",
        "\n",
        "- [Чат-модели](/docs/concepts/#chat-models)\n",
        "- [Инструменты](/docs/concepts/#tools)\n",
        "- [Агенты](/docs/concepts/#agents)\n",
        "\n",
        ":::\n",
        "\n",
        "Языковые модели просто генерируют текст и не могут выполнять действия.\n",
        "Разработка *агентов* — это один из основных сценариев использования GigaChain.\n",
        "\n",
        "Агенты — системы, использующие LLM для рассуждений и определения действий, которые нужно предпринять, а также входных данных, которые нужно при этом использовать.\n",
        "\n",
        "Результаты этих действий затем могут быть переданы обратно агенту, чтобы он определил, нужно ли делать что-то еще или можно закончить работу.\n",
        "\n",
        "В разделе приведен пример агента, который может взаимодействовать с несколькими инструментами: локальной базой данных и поисковой системой.\n",
        "С агентом можно вести разговор и наблюдать как он вызывает инструменты.\n",
        "\n",
        "## Пример агента\n",
        "\n",
        "Пример ниже содержит код работающего агента, который использует модель для определения того, какой инструмент нужно вызвать.\n",
        "Агент подготовлен для работы с поисковым инструментом и обладает разговорной памятью, что позволяет использвоать его в роли развитого чат-бота.\n",
        "\n",
        "Ниже в разделе приводится пошаговый разбор каждого из компонтов агента."
      ]
    },
    {
      "cell_type": "code",
      "execution_count": 37,
      "id": "a79bb782",
      "metadata": {
        "colab": {
          "base_uri": "https://localhost:8080/"
        },
        "id": "a79bb782",
        "outputId": "a5025075-4342-4408-892c-30710def7cd9"
      },
      "outputs": [
        {
          "name": "stdout",
          "output_type": "stream",
          "text": [
            "{'agent': {'messages': [AIMessage(content='Здравствуйте, Вася! Рада слышать вас. Расскажите, могу ли я вам чем-нибудь помочь?', response_metadata={'token_usage': Usage(prompt_tokens=97, completion_tokens=29, total_tokens=126), 'model_name': 'GigaChat-Pro:2.2.25.3', 'finish_reason': 'stop'}, id='run-aad23d97-0cb5-4977-8d2e-b1ce06751157-0')]}}\n",
            "----\n",
            "{'agent': {'messages': [AIMessage(content='', additional_kwargs={'function_call': {'name': 'tavily_search_results_json', 'arguments': {'query': 'погода в москве'}}}, response_metadata={'token_usage': Usage(prompt_tokens=140, completion_tokens=23, total_tokens=163), 'model_name': 'GigaChat-Pro:2.2.25.3', 'finish_reason': 'function_call'}, id='run-8989a123-6824-4ae2-839b-77e0290aa584-0', tool_calls=[{'name': 'tavily_search_results_json', 'args': {'query': 'погода в москве'}, 'id': 'fb19fd4f-3bc1-4b7f-9cca-e669ab8d96e4', 'type': 'tool_call'}])]}}\n",
            "----\n",
            "{'tools': {'messages': [ToolMessage(content='[{\"url\": \"https://www.gismeteo.ru/weather-moscow-4368/now/\", \"content\": \"\\\\u0423\\\\u0437\\\\u043d\\\\u0430\\\\u0439\\\\u0442\\\\u0435 \\\\u0444\\\\u0430\\\\u043a\\\\u0442\\\\u0438\\\\u0447\\\\u0435\\\\u0441\\\\u043a\\\\u0443\\\\u044e \\\\u043f\\\\u043e\\\\u0433\\\\u043e\\\\u0434\\\\u0443 \\\\u0432 \\\\u041c\\\\u043e\\\\u0441\\\\u043a\\\\u0432\\\\u0435 \\\\u043d\\\\u0430 \\\\u0441\\\\u0435\\\\u0433\\\\u043e\\\\u0434\\\\u043d\\\\u044f \\\\u0438 \\\\u043d\\\\u0430 \\\\u0431\\\\u043b\\\\u0438\\\\u0436\\\\u0430\\\\u0439\\\\u0448\\\\u0438\\\\u0435 \\\\u0434\\\\u043d\\\\u0438. \\\\u0421\\\\u043c\\\\u043e\\\\u0442\\\\u0440\\\\u0438\\\\u0442\\\\u0435 \\\\u043a\\\\u0430\\\\u0440\\\\u0442\\\\u0443 \\\\u043e\\\\u0441\\\\u0430\\\\u0434\\\\u043a\\\\u043e\\\\u0432, \\\\u0442\\\\u0435\\\\u043c\\\\u043f\\\\u0435\\\\u0440\\\\u0430\\\\u0442\\\\u0443\\\\u0440\\\\u044b, \\\\u0432\\\\u0435\\\\u0442\\\\u0435\\\\u0440\\\\u0430 \\\\u0438 \\\\u043e\\\\u0431\\\\u043b\\\\u0430\\\\u0447\\\\u043d\\\\u043e\\\\u0441\\\\u0442\\\\u0438, \\\\u0430 \\\\u0442\\\\u0430\\\\u043a\\\\u0436\\\\u0435 \\\\u043d\\\\u043e\\\\u0432\\\\u043e\\\\u0441\\\\u0442\\\\u0438 \\\\u0438 \\\\u043f\\\\u0440\\\\u0438\\\\u043c\\\\u0435\\\\u0442\\\\u044b.\"}, {\"url\": \"https://yandex.ru/pogoda/moscow\", \"content\": \"\\\\u0423\\\\u0437\\\\u043d\\\\u0430\\\\u0439\\\\u0442\\\\u0435 \\\\u043f\\\\u0440\\\\u043e\\\\u0433\\\\u043d\\\\u043e\\\\u0437 \\\\u043f\\\\u043e\\\\u0433\\\\u043e\\\\u0434\\\\u044b \\\\u0432 \\\\u041c\\\\u043e\\\\u0441\\\\u043a\\\\u0432\\\\u0435 \\\\u043d\\\\u0430 \\\\u0441\\\\u0435\\\\u0433\\\\u043e\\\\u0434\\\\u043d\\\\u044f, \\\\u0437\\\\u0430\\\\u0432\\\\u0442\\\\u0440\\\\u0430 \\\\u0438 \\\\u0431\\\\u043b\\\\u0438\\\\u0436\\\\u0430\\\\u0439\\\\u0448\\\\u0438\\\\u0435 \\\\u0434\\\\u043d\\\\u0438. \\\\u0421\\\\u043c\\\\u043e\\\\u0442\\\\u0440\\\\u0438\\\\u0442\\\\u0435 \\\\u0442\\\\u0435\\\\u043c\\\\u043f\\\\u0435\\\\u0440\\\\u0430\\\\u0442\\\\u0443\\\\u0440\\\\u0443, \\\\u0434\\\\u0430\\\\u0432\\\\u043b\\\\u0435\\\\u043d\\\\u0438\\\\u0435, \\\\u0432\\\\u043b\\\\u0430\\\\u0436\\\\u043d\\\\u043e\\\\u0441\\\\u0442\\\\u044c, \\\\u0441\\\\u043a\\\\u043e\\\\u0440\\\\u043e\\\\u0441\\\\u0442\\\\u044c \\\\u0432\\\\u0435\\\\u0442\\\\u0440\\\\u0430 \\\\u0438 \\\\u043e\\\\u0441\\\\u0430\\\\u0434\\\\u043a\\\\u0438 \\\\u043d\\\\u0430 \\\\u043a\\\\u0430\\\\u0440\\\\u0442\\\\u0435 \\\\u0438 \\\\u0432 \\\\u0442\\\\u0430\\\\u0431\\\\u043b\\\\u0438\\\\u0446\\\\u0435.\"}]', name='tavily_search_results_json', tool_call_id='fb19fd4f-3bc1-4b7f-9cca-e669ab8d96e4', artifact={'query': 'погода в москве', 'follow_up_questions': None, 'answer': None, 'images': [], 'results': [{'title': 'Погода В Москве Сейчас | Gismeteo', 'url': 'https://www.gismeteo.ru/weather-moscow-4368/now/', 'content': 'Узнайте фактическую погоду в Москве на сегодня и на ближайшие дни. Смотрите карту осадков, температуры, ветера и облачности, а также новости и приметы.', 'score': 0.9981613, 'raw_content': None}, {'title': 'Прогноз погоды в Москве на 10 дней — Яндекс.Погода', 'url': 'https://yandex.ru/pogoda/moscow', 'content': 'Узнайте прогноз погоды в Москве на сегодня, завтра и ближайшие дни. Смотрите температуру, давление, влажность, скорость ветра и осадки на карте и в таблице.', 'score': 0.99698395, 'raw_content': None}], 'response_time': 2.27})]}}\n",
            "----\n",
            "{'agent': {'messages': [AIMessage(content='Погода в Москве сейчас облачная и прохладная. Температура воздуха около 15 градусов по Цельсию.', response_metadata={'token_usage': Usage(prompt_tokens=1744, completion_tokens=29, total_tokens=1773), 'model_name': 'GigaChat-Pro:2.2.25.3', 'finish_reason': 'stop'}, id='run-b864e6be-a222-496d-aeab-2da9bea7ad1b-0')]}}\n",
            "----\n"
          ]
        }
      ],
      "source": [
        "# Импортирование необходимой функциональности\n",
        "from langchain_community.chat_models.gigachat import GigaChat\n",
        "from langchain_community.tools.tavily_search import TavilySearchResults\n",
        "from langchain_core.messages import HumanMessage\n",
        "from langgraph.checkpoint.memory import MemorySaver\n",
        "from langgraph.prebuilt import create_react_agent\n",
        "\n",
        "# Создание агента\n",
        "memory = MemorySaver()\n",
        "model = GigaChat(\n",
        "    credentials=\"авторизационные_данные\",\n",
        "    scope=\"GIGACHAT_API_PERS\",\n",
        "    model=\"GigaChat-Pro\",\n",
        "    verify_ssl_certs=False,\n",
        ")\n",
        "search = TavilySearchResults(max_results=2)\n",
        "tools = [search]\n",
        "agent_executor = create_react_agent(model, tools, checkpointer=memory)\n",
        "\n",
        "# Использование агента\n",
        "config = {\"configurable\": {\"thread_id\": \"abc100\"}}\n",
        "for chunk in agent_executor.stream(\n",
        "    {\"messages\": [HumanMessage(content=\"Привет! Меня зову Вася. Я живу в Москве\")]},\n",
        "    config,\n",
        "):\n",
        "    print(chunk)\n",
        "    print(\"----\")\n",
        "\n",
        "for chunk in agent_executor.stream(\n",
        "    {\"messages\": [HumanMessage(content=\"Узнай погоду в моем городе\")]}, config\n",
        "):\n",
        "    print(chunk)\n",
        "    print(\"----\")"
      ]
    },
    {
      "cell_type": "markdown",
      "id": "106072cf",
      "metadata": {
        "id": "106072cf"
      },
      "source": [
        ":::note\n",
        "\n",
        "Авторизационные данные — строка, полученная в результате кодирования в Base64 клиентского идентификатора (Client ID) и ключа (Client Secret) API. Вы можете использовать готовые данные из личного кабинета или самостоятельно закодировать идентификатор и ключ.\n",
        "\n",
        "Пример строки авторизационных данных:\n",
        "\n",
        "```text\n",
        "MjIzODA0YTktMDU3OC00MTZmLWI4MWYtYzUwNjg3Njk4MzMzOjljMTI2MGQyLTFkNTEtNGRkOS05ZGVhLTBhNjAzZTdjZjQ3Mw==\n",
        "```\n",
        "\n",
        "Идентификатор, ключ и авторизационные данные вы можете получить после создания проекта GigaChat API:\n",
        "\n",
        "* [для физических лиц](https://developers.sber.ru/docs/ru/gigachat/individuals-quickstart#shag-1-sozdayte-proekt-giga-chat-api);\n",
        "* [для ИП и юридических лиц](https://developers.sber.ru/docs/ru/gigachat/legal-quickstart#shag-1-otpravte-zayavku-na-dostup-k-proektu-giga-chat-api).\n",
        "\n",
        ":::"
      ]
    },
    {
      "cell_type": "markdown",
      "id": "f4c03f40-1328-412d-8a48-1db0cd481b77",
      "metadata": {
        "id": "f4c03f40-1328-412d-8a48-1db0cd481b77"
      },
      "source": [
        "## Подготовка к разработке\n",
        "\n",
        "### Jupyter-блокноты\n",
        "\n",
        "Это руководство, как и большинство других в документации, использует [Jupyter-блокноты](https://jupyter.org/). Они отлично подходят для изучения работы с LLM-системами, так как предоставляют интерактивную среду для работы с руководствами и позволяют работать с непредвиденными ситуациями: недоступностью API, нетипичным выводом и другими.\n",
        "\n",
        "Подробнее об установке jupyter -- в [официальной документации](https://jupyter.org/install).\n",
        "\n",
        "### Установка\n",
        "\n",
        "Для установки GigaChain выполните команды:"
      ]
    },
    {
      "cell_type": "code",
      "execution_count": 15,
      "id": "60bb3eb1",
      "metadata": {
        "id": "60bb3eb1"
      },
      "outputs": [],
      "source": [
        "%%capture --no-stderr\n",
        "%pip install -U gigachain-community gigagraph tavily-python"
      ]
    },
    {
      "cell_type": "markdown",
      "id": "2ee337ae",
      "metadata": {
        "id": "2ee337ae"
      },
      "source": [
        "Подробнее об установке — в разделе [Установка](https://developers.sber.ru/docs/ru/gigachain/get-started/installation).\n",
        "\n",
        "<!--\n",
        "### LangSmith\n",
        "\n",
        "Многие приложения, которые вы создаете с помощью LangChain, будут содержать несколько шагов с многократными вызовами LLM.\n",
        "По мере усложнения этих приложений становится важно иметь возможность инспектировать, что именно происходит внутри вашей цепочки или агента.\n",
        "Лучший способ сделать это — с помощью [LangSmith](https://smith.langchain.com).\n",
        "\n",
        "После регистрации по ссылке выше, убедитесь, что вы установили переменные среды для начала ведения журнала трассировок:\n",
        "\n",
        "```shell\n",
        "export LANGCHAIN_TRACING_V2=\"true\"\n",
        "export LANGCHAIN_API_KEY=\"...\"\n",
        "```\n",
        "\n",
        "Или, если вы работаете в блокноте, вы можете установить их с помощью:\n",
        "\n",
        "```python\n",
        "import getpass\n",
        "import os\n",
        "\n",
        "os.environ[\"LANGCHAIN_TRACING_V2\"] = \"true\"\n",
        "os.environ[\"LANGCHAIN_API_KEY\"] = getpass.getpass()\n",
        "```\n",
        "-->\n",
        "\n",
        "### Tavily\n",
        "\n",
        "В качестве инструмента в примере используется поисковый движок [Tavily](/docs/integrations/tools/tavily_search).\n",
        "Для работы с ним вам нужно получить и задать ключ API:\n",
        "\n",
        "```bash\n",
        "export TAVILY_API_KEY=\"...\"\n",
        "```\n",
        "\n",
        "В Jupyter-блокноте его можно использовать так:"
      ]
    },
    {
      "cell_type": "code",
      "execution_count": null,
      "id": "BkJlk3rbm7iJ",
      "metadata": {
        "id": "BkJlk3rbm7iJ"
      },
      "outputs": [],
      "source": [
        "# Используйте эту ячейку, чтобы задать ключ в блокноте\n",
        "import getpass\n",
        "import os\n",
        "\n",
        "os.environ[\"TAVILY_API_KEY\"] = getpass.getpass()"
      ]
    },
    {
      "cell_type": "markdown",
      "id": "c335d1bf",
      "metadata": {
        "id": "c335d1bf"
      },
      "source": [
        "## Определение инструментов\n",
        "\n",
        "Сначала создайте инструменты, которые будет использовать агент.\n",
        "Основным инструментом в примере выступает поисковый движок [Tavily](/docs/integrations/tools/tavily_search).\n",
        "GigaChain предоставляет интеграцию для простого использования поисковой системы Tavily в качестве инструмента."
      ]
    },
    {
      "cell_type": "code",
      "execution_count": 16,
      "id": "482ce13d",
      "metadata": {
        "colab": {
          "base_uri": "https://localhost:8080/"
        },
        "id": "482ce13d",
        "outputId": "88540112-e5d8-4185-f0d9-ec1c1303b32f"
      },
      "outputs": [
        {
          "name": "stdout",
          "output_type": "stream",
          "text": [
            "[{'url': 'https://www.weatherapi.com/', 'content': \"{'location': {'name': 'Moscow', 'region': 'Moscow City', 'country': 'Russia', 'lat': 55.75, 'lon': 37.62, 'tz_id': 'Europe/Moscow', 'localtime_epoch': 1726587484, 'localtime': '2024-09-17 18:38'}, 'current': {'last_updated_epoch': 1726587000, 'last_updated': '2024-09-17 18:30', 'temp_c': 22.3, 'temp_f': 72.1, 'is_day': 1, 'condition': {'text': 'Sunny', 'icon': '//cdn.weatherapi.com/weather/64x64/day/113.png', 'code': 1000}, 'wind_mph': 4.5, 'wind_kph': 7.2, 'wind_degree': 112, 'wind_dir': 'ESE', 'pressure_mb': 1032.0, 'pressure_in': 30.47, 'precip_mm': 0.0, 'precip_in': 0.0, 'humidity': 41, 'cloud': 0, 'feelslike_c': 23.8, 'feelslike_f': 74.8, 'windchill_c': 22.0, 'windchill_f': 71.5, 'heatindex_c': 23.7, 'heatindex_f': 74.7, 'dewpoint_c': 5.9, 'dewpoint_f': 42.6, 'vis_km': 10.0, 'vis_miles': 6.0, 'uv': 6.0, 'gust_mph': 8.4, 'gust_kph': 13.5}}\"}, {'url': 'https://yandex.ru/pogoda/moscow/month/september', 'content': 'Погода в Москве в сентябре: температура воздуха, количество солнечных дней, осадки, давление и влажность. ... 12 сентября, четверг. днём, 17°; ночью, 14°; пасмурно ... Прогноз погоды на сентябрь 2024 ...'}]\n"
          ]
        }
      ],
      "source": [
        "from langchain_community.tools.tavily_search import TavilySearchResults\n",
        "\n",
        "search = TavilySearchResults(max_results=2)\n",
        "search_results = search.invoke(\"Узнай на weatherapi погоду в Москве\")\n",
        "print(search_results)\n",
        "# Если нужно, вы можете создать другие инструменты.\n",
        "# После создания всех необходимых инструментов\n",
        "# их можно сохранить в списке, к которому можно обращаться позднее.\n",
        "tools = [search]"
      ]
    },
    {
      "cell_type": "markdown",
      "id": "e00068b0",
      "metadata": {
        "id": "e00068b0"
      },
      "source": [
        "## Использование языковых моделей\n",
        "\n",
        "Пример ниже показвыает как исползовать языковую модель для вызова инструментов.\n",
        "Кроме моделей GigaChat, GigaChain позволяет использовать и другие модели."
      ]
    },
    {
      "cell_type": "code",
      "execution_count": 19,
      "id": "69185491",
      "metadata": {
        "id": "69185491"
      },
      "outputs": [],
      "source": [
        "# | output: false\n",
        "# | echo: false\n",
        "\n",
        "from langchain_community.chat_models.gigachat import GigaChat\n",
        "\n",
        "model = GigaChat(\n",
        "    credentials=\"авторизационные_данные\",\n",
        "    scope=\"GIGACHAT_API_PERS\",\n",
        "    model=\"GigaChat-Pro\",\n",
        "    verify_ssl_certs=False,\n",
        ")"
      ]
    },
    {
      "cell_type": "markdown",
      "id": "642ed8bf",
      "metadata": {
        "id": "642ed8bf"
      },
      "source": [
        "Для вызова модели передайте ей список сообщений.\n",
        "По умолчанию ответом будет строка `content`."
      ]
    },
    {
      "cell_type": "code",
      "execution_count": 20,
      "id": "c96c960b",
      "metadata": {
        "colab": {
          "base_uri": "https://localhost:8080/",
          "height": 35
        },
        "id": "c96c960b",
        "outputId": "a95d2760-053e-439e-ad51-11a5c0c583dc"
      },
      "outputs": [
        {
          "data": {
            "application/vnd.google.colaboratory.intrinsic+json": {
              "type": "string"
            },
            "text/plain": [
              "'Здравствуйте! Я могу вам чем-нибудь помочь?'"
            ]
          },
          "execution_count": 20,
          "metadata": {},
          "output_type": "execute_result"
        }
      ],
      "source": [
        "from langchain_core.messages import HumanMessage\n",
        "\n",
        "response = model.invoke([HumanMessage(content=\"Привет!\")])\n",
        "response.content"
      ]
    },
    {
      "cell_type": "markdown",
      "id": "47bf8210",
      "metadata": {
        "id": "47bf8210"
      },
      "source": [
        "Используйте метод `.bind_tools`, чтобы дать модели знать к каким инструментам она может обращаться."
      ]
    },
    {
      "cell_type": "code",
      "execution_count": 21,
      "id": "ba692a74",
      "metadata": {
        "id": "ba692a74"
      },
      "outputs": [],
      "source": [
        "model_with_tools = model.bind_tools(tools)"
      ]
    },
    {
      "cell_type": "markdown",
      "id": "fd920b69",
      "metadata": {
        "id": "fd920b69"
      },
      "source": [
        "Сначала, посмотрите как ответит модель на обчное сообщение.\n",
        "Ответ модели можно найти в двух полях `content` и `tool_calls`."
      ]
    },
    {
      "cell_type": "code",
      "execution_count": 22,
      "id": "b6a7e925",
      "metadata": {
        "colab": {
          "base_uri": "https://localhost:8080/"
        },
        "id": "b6a7e925",
        "outputId": "3df609ff-db82-4d81-a3d7-f65ecc6b19eb"
      },
      "outputs": [
        {
          "name": "stdout",
          "output_type": "stream",
          "text": [
            "ContentString: Здравствуйте! Я могу вам чем-нибудь помочь?\n",
            "ToolCalls: []\n"
          ]
        }
      ],
      "source": [
        "response = model_with_tools.invoke([HumanMessage(content=\"Привет!\")])\n",
        "\n",
        "print(f\"ContentString: {response.content}\")\n",
        "print(f\"ToolCalls: {response.tool_calls}\")"
      ]
    },
    {
      "cell_type": "markdown",
      "id": "e8c81e76",
      "metadata": {
        "id": "e8c81e76"
      },
      "source": [
        "Теперь попробуйте вызвать модель с помощью запроса, который предполагает использование инструмента."
      ]
    },
    {
      "cell_type": "code",
      "execution_count": 23,
      "id": "688b465d",
      "metadata": {
        "colab": {
          "base_uri": "https://localhost:8080/"
        },
        "id": "688b465d",
        "outputId": "be1dbcfa-d007-4819-8b29-1d9efa1cda36"
      },
      "outputs": [
        {
          "name": "stdout",
          "output_type": "stream",
          "text": [
            "ContentString: \n",
            "ToolCalls: [{'name': 'tavily_search_results_json', 'args': {'query': 'Какая погода в Москве, спроси у weatherapi?'}, 'id': 'c3b8aae6-8fec-4516-9c5b-c43e4465669c', 'type': 'tool_call'}]\n"
          ]
        }
      ],
      "source": [
        "response = model_with_tools.invoke(\n",
        "    [HumanMessage(content=\"Какая погода в Москве, спроси у weatherapi?\")]\n",
        ")\n",
        "\n",
        "print(f\"ContentString: {response.content}\")\n",
        "print(f\"ToolCalls: {response.tool_calls}\")"
      ]
    },
    {
      "cell_type": "markdown",
      "id": "83c4bcd3",
      "metadata": {
        "id": "83c4bcd3"
      },
      "source": [
        "Поле ContentString теперь пустое, но по содержимому массива ToolCalls видно, что модель хочет, чтобы вы вызвали инструмент поиска Tavily.\n",
        "\n",
        "Модель не может самостоятельно вызвать инструмент, для этого нужно создать агента."
      ]
    },
    {
      "cell_type": "markdown",
      "id": "40ccec80",
      "metadata": {
        "id": "40ccec80"
      },
      "source": [
        "## Создание агента\n",
        "\n",
        "Для создания агента используйте [GigaGraph](/docs/concepts/#langgraph) — инструмент, который предоставляет высокоуровневый интерфейс для создания агентов, а также дает доступ к низкоуровневым инструментам, которые дают полный контроль над логикой работы агента."
      ]
    },
    {
      "cell_type": "markdown",
      "id": "f8014c9d",
      "metadata": {
        "id": "f8014c9d"
      },
      "source": [
        "Инициализируйте агент с моделью и набором инструментов.\n",
        "\n",
        ":::note\n",
        "\n",
        "В агент можно передавать `model`, а не `model_with_tools`, т.к. метод `create_react_agent` самостоятельно вызывает `.bind_tools`.\n",
        "\n",
        ":::"
      ]
    },
    {
      "cell_type": "code",
      "execution_count": 24,
      "id": "89cf72b4-6046-4b47-8f27-5522d8cb8036",
      "metadata": {
        "id": "89cf72b4-6046-4b47-8f27-5522d8cb8036"
      },
      "outputs": [],
      "source": [
        "from langgraph.prebuilt import create_react_agent\n",
        "\n",
        "agent_executor = create_react_agent(model, tools)"
      ]
    },
    {
      "cell_type": "markdown",
      "id": "e4df0e06",
      "metadata": {
        "id": "e4df0e06"
      },
      "source": [
        "## Запуск агента\n",
        "\n",
        "Теперь вы можете проверить работу агента на нескольких запросах.\n",
        "\n",
        "Сейчас агент не сохраняет информацию о состоянии и не помнит историю взаимодействия с пользователем.\n",
        "\n",
        "В результате работы агент возвращает итоговое состояние, которое кроме выходных данных также содержит все входные данные.\n",
        "Как получить только выходные данные показано в примерах ниже.\n",
        "\n",
        "Посмотрите как агент отвечает, когда не нужно вызывать инструменты:"
      ]
    },
    {
      "cell_type": "code",
      "execution_count": 25,
      "id": "114ba50d",
      "metadata": {
        "colab": {
          "base_uri": "https://localhost:8080/"
        },
        "id": "114ba50d",
        "outputId": "764c48c2-f850-4da1-c36c-6d5eed84f006"
      },
      "outputs": [
        {
          "data": {
            "text/plain": [
              "[HumanMessage(content='Привет!', id='039c0ab3-0e7e-4544-afca-0a5041d20dd0'),\n",
              " AIMessage(content='Здравствуйте! Я могу вам чем-нибудь помочь?', response_metadata={'token_usage': Usage(prompt_tokens=86, completion_tokens=16, total_tokens=102), 'model_name': 'GigaChat-Pro:2.2.25.3', 'finish_reason': 'stop'}, id='run-59315bc5-35a2-4ba4-b4ba-5a02aee9d375-0')]"
            ]
          },
          "execution_count": 25,
          "metadata": {},
          "output_type": "execute_result"
        }
      ],
      "source": [
        "response = agent_executor.invoke({\"messages\": [HumanMessage(content=\"Привет!\")]})\n",
        "\n",
        "response[\"messages\"]"
      ]
    },
    {
      "cell_type": "markdown",
      "id": "71493a42",
      "metadata": {
        "id": "71493a42"
      },
      "source": [
        "<!--\n",
        "In order to see exactly what is happening under the hood (and to make sure it's not calling a tool) we can take a look at the [LangSmith trace](https://smith.langchain.com/public/28311faa-e135-4d6a-ab6b-caecf6482aaa/r)\n",
        "-->\n",
        "\n",
        "Попробуйте обратиться к агенту с запросом, который предполагает вызов инструмента:"
      ]
    },
    {
      "cell_type": "code",
      "execution_count": 26,
      "id": "77c2f769",
      "metadata": {
        "colab": {
          "base_uri": "https://localhost:8080/"
        },
        "id": "77c2f769",
        "outputId": "dd12e9ca-0e77-4e80-9b03-bcf6b185784d"
      },
      "outputs": [
        {
          "data": {
            "text/plain": [
              "[HumanMessage(content='Какая погода в Москве, узнай на weatherapi?', id='745327d6-f6ce-4664-ab06-c49f517c4835'),\n",
              " AIMessage(content='', additional_kwargs={'function_call': {'name': 'tavily_search_results_json', 'arguments': {'query': 'какая погода в москве, узнать на weatherapi?'}}}, response_metadata={'token_usage': Usage(prompt_tokens=96, completion_tokens=31, total_tokens=127), 'model_name': 'GigaChat-Pro:2.2.25.3', 'finish_reason': 'function_call'}, id='run-374b7c90-7807-469b-9d05-100b202e885e-0', tool_calls=[{'name': 'tavily_search_results_json', 'args': {'query': 'какая погода в москве, узнать на weatherapi?'}, 'id': 'e279257d-01ff-4886-bff1-6861f4645331', 'type': 'tool_call'}]),\n",
              " ToolMessage(content='[{\"url\": \"https://www.weatherapi.com/\", \"content\": \"{\\'location\\': {\\'name\\': \\'\\\\u041c\\\\u043e\\\\u0441\\\\u043a\\\\u0432\\\\u0430\\', \\'region\\': \\'Moscow City\\', \\'country\\': \\'\\\\u0420\\\\u043e\\\\u0441\\\\u0441\\\\u0438\\\\u044f\\', \\'lat\\': 55.75, \\'lon\\': 37.62, \\'tz_id\\': \\'Europe/Moscow\\', \\'localtime_epoch\\': 1726587954, \\'localtime\\': \\'2024-09-17 18:45\\'}, \\'current\\': {\\'last_updated_epoch\\': 1726587000, \\'last_updated\\': \\'2024-09-17 18:30\\', \\'temp_c\\': 22.3, \\'temp_f\\': 72.1, \\'is_day\\': 0, \\'condition\\': {\\'text\\': \\'Clear\\', \\'icon\\': \\'//cdn.weatherapi.com/weather/64x64/night/113.png\\', \\'code\\': 1000}, \\'wind_mph\\': 4.5, \\'wind_kph\\': 7.2, \\'wind_degree\\': 112, \\'wind_dir\\': \\'ESE\\', \\'pressure_mb\\': 1032.0, \\'pressure_in\\': 30.47, \\'precip_mm\\': 0.0, \\'precip_in\\': 0.0, \\'humidity\\': 41, \\'cloud\\': 0, \\'feelslike_c\\': 23.8, \\'feelslike_f\\': 74.8, \\'windchill_c\\': 22.0, \\'windchill_f\\': 71.5, \\'heatindex_c\\': 23.7, \\'heatindex_f\\': 74.7, \\'dewpoint_c\\': 5.9, \\'dewpoint_f\\': 42.6, \\'vis_km\\': 10.0, \\'vis_miles\\': 6.0, \\'uv\\': 6.0, \\'gust_mph\\': 8.4, \\'gust_kph\\': 13.5}}\"}, {\"url\": \"https://weather.rambler.ru/v-moskve/17-september/\", \"content\": \"\\\\u041f\\\\u043e\\\\u0434\\\\u0440\\\\u043e\\\\u0431\\\\u043d\\\\u044b\\\\u0439 \\\\u043f\\\\u0440\\\\u043e\\\\u0433\\\\u043d\\\\u043e\\\\u0437 \\\\u043f\\\\u043e\\\\u0433\\\\u043e\\\\u0434\\\\u044b \\\\u0432 \\\\u041c\\\\u043e\\\\u0441\\\\u043a\\\\u0432\\\\u0435 \\\\u043d\\\\u0430 17 \\\\u0441\\\\u0435\\\\u043d\\\\u0442\\\\u044f\\\\u0431\\\\u0440\\\\u044f 2024: \\\\u0442\\\\u0435\\\\u043c\\\\u043f\\\\u0435\\\\u0440\\\\u0430\\\\u0442\\\\u0443\\\\u0440\\\\u0430 \\\\u0432\\\\u043e\\\\u0437\\\\u0434\\\\u0443\\\\u0445\\\\u0430, \\\\u0432\\\\u0435\\\\u0442\\\\u0435\\\\u0440, \\\\u043e\\\\u0441\\\\u0430\\\\u0434\\\\u043a\\\\u0438, \\\\u0434\\\\u0430\\\\u0432\\\\u043b\\\\u0435\\\\u043d\\\\u0438\\\\u0435, \\\\u0432\\\\u043b\\\\u0430\\\\u0436\\\\u043d\\\\u043e\\\\u0441\\\\u0442\\\\u044c, \\\\u0430 \\\\u0442\\\\u0430\\\\u043a\\\\u0436\\\\u0435 \\\\u0433\\\\u0435\\\\u043e\\\\u043c\\\\u0430\\\\u0433\\\\u043d\\\\u0438\\\\u0442\\\\u043d\\\\u0430\\\\u044f \\\\u043e\\\\u0431\\\\u0441\\\\u0442\\\\u0430\\\\u043d\\\\u043e\\\\u0432\\\\u043a\\\\u0430 \\\\u0438 uv \\\\u0438\\\\u043d\\\\u0434\\\\u0435\\\\u043a\\\\u0441. ... \\\\u041f\\\\u043e\\\\u0433\\\\u043e\\\\u0434\\\\u0430 \\\\u0432 \\\\u041c\\\\u043e\\\\u0441\\\\u043a\\\\u0432\\\\u0435 \\\\u043d\\\\u0430 17 \\\\u0441\\\\u0435\\\\u043d\\\\u0442\\\\u044f\\\\u0431\\\\u0440\\\\u044f 2024 ...\"}]', name='tavily_search_results_json', id='ab821433-a289-452d-9c8e-955bdb704686', tool_call_id='e279257d-01ff-4886-bff1-6861f4645331', artifact={'query': 'какая погода в москве, узнать на weatherapi?', 'follow_up_questions': None, 'answer': None, 'images': [], 'results': [{'title': 'Weather in Москва', 'url': 'https://www.weatherapi.com/', 'content': \"{'location': {'name': 'Москва', 'region': 'Moscow City', 'country': 'Россия', 'lat': 55.75, 'lon': 37.62, 'tz_id': 'Europe/Moscow', 'localtime_epoch': 1726587954, 'localtime': '2024-09-17 18:45'}, 'current': {'last_updated_epoch': 1726587000, 'last_updated': '2024-09-17 18:30', 'temp_c': 22.3, 'temp_f': 72.1, 'is_day': 0, 'condition': {'text': 'Clear', 'icon': '//cdn.weatherapi.com/weather/64x64/night/113.png', 'code': 1000}, 'wind_mph': 4.5, 'wind_kph': 7.2, 'wind_degree': 112, 'wind_dir': 'ESE', 'pressure_mb': 1032.0, 'pressure_in': 30.47, 'precip_mm': 0.0, 'precip_in': 0.0, 'humidity': 41, 'cloud': 0, 'feelslike_c': 23.8, 'feelslike_f': 74.8, 'windchill_c': 22.0, 'windchill_f': 71.5, 'heatindex_c': 23.7, 'heatindex_f': 74.7, 'dewpoint_c': 5.9, 'dewpoint_f': 42.6, 'vis_km': 10.0, 'vis_miles': 6.0, 'uv': 6.0, 'gust_mph': 8.4, 'gust_kph': 13.5}}\", 'score': 0.9999731, 'raw_content': None}, {'title': 'Погода в Москве на 17 сентября 2024', 'url': 'https://weather.rambler.ru/v-moskve/17-september/', 'content': 'Подробный прогноз погоды в Москве на 17 сентября 2024: температура воздуха, ветер, осадки, давление, влажность, а также геомагнитная обстановка и uv индекс. ... Погода в Москве на 17 сентября 2024 ...', 'score': 0.99995315, 'raw_content': None}], 'response_time': 3.41}),\n",
              " AIMessage(content='Согласно данным сервиса WeatherAPI, в Москве сейчас ясно, температура воздуха +22.3°С. Ветер восточно-юго-восточный, скорость 4.5 м/с. Влажность воздуха составляет 41%, атмосферное давление 1032.0 мб. Осадков нет. Ощущается как +23.8°С. УФ индекс 6.0. Данные актуальны на 18:30 по московскому времени.', response_metadata={'token_usage': Usage(prompt_tokens=1627, completion_tokens=108, total_tokens=1735), 'model_name': 'GigaChat-Pro:2.2.25.3', 'finish_reason': 'stop'}, id='run-10450461-cc41-42c8-8b91-f97b15ca67a3-0')]"
            ]
          },
          "execution_count": 26,
          "metadata": {},
          "output_type": "execute_result"
        }
      ],
      "source": [
        "response = agent_executor.invoke(\n",
        "    {\"messages\": [HumanMessage(content=\"Какая погода в Москве, узнай на weatherapi?\")]}\n",
        ")\n",
        "response[\"messages\"]"
      ]
    },
    {
      "cell_type": "markdown",
      "id": "c174f838",
      "metadata": {
        "id": "c174f838"
      },
      "source": [
        "<!--\n",
        "We can check out the [LangSmith trace](https://smith.langchain.com/public/f520839d-cd4d-4495-8764-e32b548e235d/r) to make sure it's calling the search tool effectively.\n",
        "-->"
      ]
    },
    {
      "cell_type": "markdown",
      "id": "8f6ca7e4",
      "metadata": {
        "id": "8f6ca7e4"
      },
      "source": [
        "## Потоковая передача сообщений\n",
        "\n",
        "В предыдущих примерах агент вызывается с помощью метода `.invoke` и возвращает итоговой ответ.\n",
        "Это может занимать продолжительное время, если агент в процессе работы выполняет множество шагов.\n",
        "Для демонстрации промежуточных результатов вы можете передавать сообщения по мере их возникновения."
      ]
    },
    {
      "cell_type": "code",
      "execution_count": 27,
      "id": "532d6557",
      "metadata": {
        "colab": {
          "base_uri": "https://localhost:8080/"
        },
        "id": "532d6557",
        "outputId": "c5948f03-aa54-4de6-bb81-2fc63d06c2a3"
      },
      "outputs": [
        {
          "name": "stdout",
          "output_type": "stream",
          "text": [
            "{'agent': {'messages': [AIMessage(content='', additional_kwargs={'function_call': {'name': 'tavily_search_results_json', 'arguments': {'query': 'какая погода в москве, узнать на weatherapi?'}}}, response_metadata={'token_usage': Usage(prompt_tokens=96, completion_tokens=31, total_tokens=127), 'model_name': 'GigaChat-Pro:2.2.25.3', 'finish_reason': 'function_call'}, id='run-cbd1e6f5-d99d-46bb-a54f-1482de12a277-0', tool_calls=[{'name': 'tavily_search_results_json', 'args': {'query': 'какая погода в москве, узнать на weatherapi?'}, 'id': '414756b7-d87a-46e3-83b4-e4f688efff58', 'type': 'tool_call'}])]}}\n",
            "----\n",
            "{'tools': {'messages': [ToolMessage(content='[{\"url\": \"https://www.weatherapi.com/\", \"content\": \"{\\'location\\': {\\'name\\': \\'\\\\u041c\\\\u043e\\\\u0441\\\\u043a\\\\u0432\\\\u0430\\', \\'region\\': \\'Moscow City\\', \\'country\\': \\'\\\\u0420\\\\u043e\\\\u0441\\\\u0441\\\\u0438\\\\u044f\\', \\'lat\\': 55.75, \\'lon\\': 37.62, \\'tz_id\\': \\'Europe/Moscow\\', \\'localtime_epoch\\': 1726587954, \\'localtime\\': \\'2024-09-17 18:45\\'}, \\'current\\': {\\'last_updated_epoch\\': 1726587000, \\'last_updated\\': \\'2024-09-17 18:30\\', \\'temp_c\\': 22.3, \\'temp_f\\': 72.1, \\'is_day\\': 0, \\'condition\\': {\\'text\\': \\'Clear\\', \\'icon\\': \\'//cdn.weatherapi.com/weather/64x64/night/113.png\\', \\'code\\': 1000}, \\'wind_mph\\': 4.5, \\'wind_kph\\': 7.2, \\'wind_degree\\': 112, \\'wind_dir\\': \\'ESE\\', \\'pressure_mb\\': 1032.0, \\'pressure_in\\': 30.47, \\'precip_mm\\': 0.0, \\'precip_in\\': 0.0, \\'humidity\\': 41, \\'cloud\\': 0, \\'feelslike_c\\': 23.8, \\'feelslike_f\\': 74.8, \\'windchill_c\\': 22.0, \\'windchill_f\\': 71.5, \\'heatindex_c\\': 23.7, \\'heatindex_f\\': 74.7, \\'dewpoint_c\\': 5.9, \\'dewpoint_f\\': 42.6, \\'vis_km\\': 10.0, \\'vis_miles\\': 6.0, \\'uv\\': 6.0, \\'gust_mph\\': 8.4, \\'gust_kph\\': 13.5}}\"}, {\"url\": \"https://yandex.ru/pogoda/moscow/month/september\", \"content\": \"\\\\u041f\\\\u043e\\\\u0433\\\\u043e\\\\u0434\\\\u0430 \\\\u0432 \\\\u041c\\\\u043e\\\\u0441\\\\u043a\\\\u0432\\\\u0435 \\\\u0432 \\\\u0441\\\\u0435\\\\u043d\\\\u0442\\\\u044f\\\\u0431\\\\u0440\\\\u0435: \\\\u0442\\\\u0435\\\\u043c\\\\u043f\\\\u0435\\\\u0440\\\\u0430\\\\u0442\\\\u0443\\\\u0440\\\\u0430 \\\\u0432\\\\u043e\\\\u0437\\\\u0434\\\\u0443\\\\u0445\\\\u0430, \\\\u043a\\\\u043e\\\\u043b\\\\u0438\\\\u0447\\\\u0435\\\\u0441\\\\u0442\\\\u0432\\\\u043e \\\\u0441\\\\u043e\\\\u043b\\\\u043d\\\\u0435\\\\u0447\\\\u043d\\\\u044b\\\\u0445 \\\\u0434\\\\u043d\\\\u0435\\\\u0439, \\\\u043e\\\\u0441\\\\u0430\\\\u0434\\\\u043a\\\\u0438, \\\\u0434\\\\u0430\\\\u0432\\\\u043b\\\\u0435\\\\u043d\\\\u0438\\\\u0435 \\\\u0438 \\\\u0432\\\\u043b\\\\u0430\\\\u0436\\\\u043d\\\\u043e\\\\u0441\\\\u0442\\\\u044c. ... 17 \\\\u0441\\\\u0435\\\\u043d\\\\u0442\\\\u044f\\\\u0431\\\\u0440\\\\u044f, \\\\u0432\\\\u0442\\\\u043e\\\\u0440\\\\u043d\\\\u0438\\\\u043a. \\\\u0434\\\\u043d\\\\u0451\\\\u043c, 15\\\\u00b0; \\\\u043d\\\\u043e\\\\u0447\\\\u044c\\\\u044e, 12\\\\u00b0; \\\\u0434\\\\u043e\\\\u0436\\\\u0434\\\\u044c ... \\\\u041f\\\\u0440\\\\u043e\\\\u0433\\\\u043d\\\\u043e\\\\u0437 \\\\u043f\\\\u043e\\\\u0433\\\\u043e\\\\u0434\\\\u044b \\\\u043d\\\\u0430 \\\\u0441\\\\u0435\\\\u043d\\\\u0442\\\\u044f\\\\u0431\\\\u0440\\\\u044c 2024 \\\\u0433\\\\u043e\\\\u0434\\\\u0430 ...\"}]', name='tavily_search_results_json', tool_call_id='414756b7-d87a-46e3-83b4-e4f688efff58', artifact={'query': 'какая погода в москве, узнать на weatherapi?', 'follow_up_questions': None, 'answer': None, 'images': [], 'results': [{'title': 'Weather in Москва', 'url': 'https://www.weatherapi.com/', 'content': \"{'location': {'name': 'Москва', 'region': 'Moscow City', 'country': 'Россия', 'lat': 55.75, 'lon': 37.62, 'tz_id': 'Europe/Moscow', 'localtime_epoch': 1726587954, 'localtime': '2024-09-17 18:45'}, 'current': {'last_updated_epoch': 1726587000, 'last_updated': '2024-09-17 18:30', 'temp_c': 22.3, 'temp_f': 72.1, 'is_day': 0, 'condition': {'text': 'Clear', 'icon': '//cdn.weatherapi.com/weather/64x64/night/113.png', 'code': 1000}, 'wind_mph': 4.5, 'wind_kph': 7.2, 'wind_degree': 112, 'wind_dir': 'ESE', 'pressure_mb': 1032.0, 'pressure_in': 30.47, 'precip_mm': 0.0, 'precip_in': 0.0, 'humidity': 41, 'cloud': 0, 'feelslike_c': 23.8, 'feelslike_f': 74.8, 'windchill_c': 22.0, 'windchill_f': 71.5, 'heatindex_c': 23.7, 'heatindex_f': 74.7, 'dewpoint_c': 5.9, 'dewpoint_f': 42.6, 'vis_km': 10.0, 'vis_miles': 6.0, 'uv': 6.0, 'gust_mph': 8.4, 'gust_kph': 13.5}}\", 'score': 0.9999057, 'raw_content': None}, {'title': 'Погода в Москве в сентябре — Яндекс.Погода', 'url': 'https://yandex.ru/pogoda/moscow/month/september', 'content': 'Погода в Москве в сентябре: температура воздуха, количество солнечных дней, осадки, давление и влажность. ... 17 сентября, вторник. днём, 15°; ночью, 12°; дождь ... Прогноз погоды на сентябрь 2024 года ...', 'score': 0.999764, 'raw_content': None}], 'response_time': 4.02})]}}\n",
            "----\n",
            "{'agent': {'messages': [AIMessage(content='В Москве сейчас ясно, температура 22.3°С.', response_metadata={'token_usage': Usage(prompt_tokens=1635, completion_tokens=16, total_tokens=1651), 'model_name': 'GigaChat-Pro:2.2.25.3', 'finish_reason': 'stop'}, id='run-c301121e-20f4-4031-8f4f-52f5bf60104e-0')]}}\n",
            "----\n"
          ]
        }
      ],
      "source": [
        "for chunk in agent_executor.stream(\n",
        "    {\"messages\": [HumanMessage(content=\"Какая погода в Москве, узнай на weatherapi?\")]}\n",
        "):\n",
        "    print(chunk)\n",
        "    print(\"----\")"
      ]
    },
    {
      "cell_type": "markdown",
      "id": "c72b3043",
      "metadata": {
        "id": "c72b3043"
      },
      "source": [
        "## Потоковая передача токенов\n",
        "\n",
        "Кроме сообщений вы также можете использовать потоковую передачу токенов.\n",
        "Для этого используйте метод `.astream_events`.\n",
        "\n",
        ":::important\n",
        "\n",
        "Метод `.astream_events` работает в версиях Python 3.11 и выше.\n",
        "\n",
        ":::"
      ]
    },
    {
      "cell_type": "code",
      "execution_count": 28,
      "id": "a3fb262c",
      "metadata": {
        "colab": {
          "base_uri": "https://localhost:8080/"
        },
        "id": "a3fb262c",
        "outputId": "e3e66058-596b-487f-a124-2d31c719b6a9"
      },
      "outputs": [
        {
          "name": "stderr",
          "output_type": "stream",
          "text": [
            "<ipython-input-28-6a1dd78ae5f1>:1: LangChainBetaWarning: This API is in beta and may change in the future.\n",
            "  async for event in agent_executor.astream_events(\n"
          ]
        },
        {
          "name": "stdout",
          "output_type": "stream",
          "text": [
            "--\n",
            "Starting tool: tavily_search_results_json with inputs: {'query': 'какая погода в москве, узнать на weatherapi?'}\n",
            "Done tool: tavily_search_results_json\n",
            "Tool output was: content='[{\"url\": \"https://www.weatherapi.com/\", \"content\": \"{\\'location\\': {\\'name\\': \\'Moscow\\', \\'region\\': \\'Moscow City\\', \\'country\\': \\'Russia\\', \\'lat\\': 55.75, \\'lon\\': 37.62, \\'tz_id\\': \\'Europe/Moscow\\', \\'localtime_epoch\\': 1726588046, \\'localtime\\': \\'2024-09-17 18:47\\'}, \\'current\\': {\\'last_updated_epoch\\': 1726587900, \\'last_updated\\': \\'2024-09-17 18:45\\', \\'temp_c\\': 21.2, \\'temp_f\\': 70.2, \\'is_day\\': 0, \\'condition\\': {\\'text\\': \\'Clear\\', \\'icon\\': \\'//cdn.weatherapi.com/weather/64x64/night/113.png\\', \\'code\\': 1000}, \\'wind_mph\\': 4.5, \\'wind_kph\\': 7.2, \\'wind_degree\\': 112, \\'wind_dir\\': \\'ESE\\', \\'pressure_mb\\': 1032.0, \\'pressure_in\\': 30.47, \\'precip_mm\\': 0.0, \\'precip_in\\': 0.0, \\'humidity\\': 43, \\'cloud\\': 0, \\'feelslike_c\\': 21.2, \\'feelslike_f\\': 70.2, \\'windchill_c\\': 22.0, \\'windchill_f\\': 71.5, \\'heatindex_c\\': 23.7, \\'heatindex_f\\': 74.7, \\'dewpoint_c\\': 5.9, \\'dewpoint_f\\': 42.6, \\'vis_km\\': 10.0, \\'vis_miles\\': 6.0, \\'uv\\': 6.0, \\'gust_mph\\': 8.4, \\'gust_kph\\': 13.5}}\"}, {\"url\": \"https://weather.rambler.ru/v-moskve/17-september/\", \"content\": \"\\\\u041c\\\\u043e\\\\u0441\\\\u043a\\\\u0432\\\\u0430 \\\\u2014 \\\\u043f\\\\u043e\\\\u0433\\\\u043e\\\\u0434\\\\u0430 ... \\\\u043a\\\\u0430\\\\u043a\\\\u043e\\\\u0439 \\\\u0431\\\\u0443\\\\u0434\\\\u0435\\\\u0442 \\\\u043f\\\\u043e\\\\u0433\\\\u043e\\\\u0434\\\\u0430 \\\\u0432 \\\\u041c\\\\u043e\\\\u0441\\\\u043a\\\\u0432\\\\u0435 \\\\u043d\\\\u0430 17 \\\\u0441\\\\u0435\\\\u043d\\\\u0442\\\\u044f\\\\u0431\\\\u0440\\\\u044f 2024. \\\\u041f\\\\u0440\\\\u043e\\\\u0441\\\\u0442\\\\u044b\\\\u0435 \\\\u0438 \\\\u043f\\\\u043e\\\\u043d\\\\u044f\\\\u0442\\\\u043d\\\\u044b\\\\u0435 \\\\u0438\\\\u043a\\\\u043e\\\\u043d\\\\u043a\\\\u0438 \\\\u0438 \\\\u0433\\\\u0440\\\\u0430\\\\u0444\\\\u0438\\\\u043a\\\\u0438 \\\\u043f\\\\u043e\\\\u043a\\\\u0430\\\\u0437\\\\u044b\\\\u0432\\\\u0430\\\\u044e\\\\u0442 \\\\u043f\\\\u0440\\\\u043e\\\\u0433\\\\u043d\\\\u043e\\\\u0437 \\\\u043f\\\\u043e\\\\u0433\\\\u043e\\\\u0434\\\\u044b \\\\u0432 \\\\u041c\\\\u043e\\\\u0441\\\\u043a\\\\u0432\\\\u0435 \\\\u043d\\\\u0430 17 \\\\u0441\\\\u0435\\\\u043d\\\\u0442\\\\u044f\\\\u0431\\\\u0440\\\\u044f 2024, \\\\u0432 \\\\u043a\\\\u043e\\\\u0442\\\\u043e\\\\u0440\\\\u043e\\\\u043c \\\\u0434\\\\u043e\\\\u0431\\\\u0430\\\\u0432\\\\u043b\\\\u0435\\\\u043d\\\\u044b \\\\u0434\\\\u0430\\\\u043d\\\\u043d\\\\u044b\\\\u0435 \\\\u043e ...\"}]' name='tavily_search_results_json' tool_call_id='0f46fe30-9839-4a24-a1fd-0b45d7275491' artifact={'query': 'какая погода в москве, узнать на weatherapi?', 'follow_up_questions': None, 'answer': None, 'images': [], 'results': [{'title': 'Weather in Moscow', 'url': 'https://www.weatherapi.com/', 'content': \"{'location': {'name': 'Moscow', 'region': 'Moscow City', 'country': 'Russia', 'lat': 55.75, 'lon': 37.62, 'tz_id': 'Europe/Moscow', 'localtime_epoch': 1726588046, 'localtime': '2024-09-17 18:47'}, 'current': {'last_updated_epoch': 1726587900, 'last_updated': '2024-09-17 18:45', 'temp_c': 21.2, 'temp_f': 70.2, 'is_day': 0, 'condition': {'text': 'Clear', 'icon': '//cdn.weatherapi.com/weather/64x64/night/113.png', 'code': 1000}, 'wind_mph': 4.5, 'wind_kph': 7.2, 'wind_degree': 112, 'wind_dir': 'ESE', 'pressure_mb': 1032.0, 'pressure_in': 30.47, 'precip_mm': 0.0, 'precip_in': 0.0, 'humidity': 43, 'cloud': 0, 'feelslike_c': 21.2, 'feelslike_f': 70.2, 'windchill_c': 22.0, 'windchill_f': 71.5, 'heatindex_c': 23.7, 'heatindex_f': 74.7, 'dewpoint_c': 5.9, 'dewpoint_f': 42.6, 'vis_km': 10.0, 'vis_miles': 6.0, 'uv': 6.0, 'gust_mph': 8.4, 'gust_kph': 13.5}}\", 'score': 0.9999598, 'raw_content': None}, {'title': 'Погода в Москве на 17 сентября 2024', 'url': 'https://weather.rambler.ru/v-moskve/17-september/', 'content': 'Москва — погода ... какой будет погода в Москве на 17 сентября 2024. Простые и понятные иконки и графики показывают прогноз погоды в Москве на 17 сентября 2024, в котором добавлены данные о ...', 'score': 0.99992156, 'raw_content': None}], 'response_time': 3.04}\n",
            "--\n",
            "Погода в Москве сейчас ясная, температура 21.2°С.|"
          ]
        }
      ],
      "source": [
        "async for event in agent_executor.astream_events(\n",
        "    {\"messages\": [HumanMessage(content=\"Какая погода в Москве, узнай на weatherapi?\")]},\n",
        "    version=\"v1\",\n",
        "):\n",
        "    kind = event[\"event\"]\n",
        "    if kind == \"on_chain_start\":\n",
        "        if (\n",
        "            event[\"name\"] == \"Agent\"\n",
        "        ):  # Назначается при создании агента с помощью метода `.with_config({\"run_name\": \"Agent\"})`\n",
        "            print(\n",
        "                f\"Starting agent: {event['name']} with input: {event['data'].get('input')}\"\n",
        "            )\n",
        "    elif kind == \"on_chain_end\":\n",
        "        if (\n",
        "            event[\"name\"] == \"Agent\"\n",
        "        ):  # Назначается при создании агента с помощью метода `.with_config({\"run_name\": \"Agent\"})`\n",
        "            print()\n",
        "            print(\"--\")\n",
        "            print(\n",
        "                f\"Done agent: {event['name']} with output: {event['data'].get('output')['output']}\"\n",
        "            )\n",
        "    if kind == \"on_chat_model_stream\":\n",
        "        content = event[\"data\"][\"chunk\"].content\n",
        "        if content:\n",
        "            print(content, end=\"|\")\n",
        "    elif kind == \"on_tool_start\":\n",
        "        print(\"--\")\n",
        "        print(\n",
        "            f\"Starting tool: {event['name']} with inputs: {event['data'].get('input')}\"\n",
        "        )\n",
        "    elif kind == \"on_tool_end\":\n",
        "        print(f\"Done tool: {event['name']}\")\n",
        "        print(f\"Tool output was: {event['data'].get('output')}\")\n",
        "        print(\"--\")"
      ]
    },
    {
      "cell_type": "markdown",
      "id": "022cbc8a",
      "metadata": {
        "id": "022cbc8a"
      },
      "source": [
        "## Добавление памяти\n",
        "\n",
        "Для добавления памяти нужно при вызове агента передать ему чекпойнтер и поле `thread_id`.\n",
        "С помощью этог поля агент сможет понять к какому разговору нужно вернуться."
      ]
    },
    {
      "cell_type": "code",
      "execution_count": 29,
      "id": "c4073e35",
      "metadata": {
        "id": "c4073e35"
      },
      "outputs": [],
      "source": [
        "from langgraph.checkpoint.memory import MemorySaver\n",
        "\n",
        "memory = MemorySaver()"
      ]
    },
    {
      "cell_type": "code",
      "execution_count": 30,
      "id": "e64a944e-f9ac-43cf-903c-d3d28d765377",
      "metadata": {
        "id": "e64a944e-f9ac-43cf-903c-d3d28d765377"
      },
      "outputs": [],
      "source": [
        "agent_executor = create_react_agent(model, tools, checkpointer=memory)\n",
        "\n",
        "config = {\"configurable\": {\"thread_id\": \"abc123\"}}"
      ]
    },
    {
      "cell_type": "code",
      "execution_count": 31,
      "id": "a13462d0-2d02-4474-921e-15a1ba1fa274",
      "metadata": {
        "colab": {
          "base_uri": "https://localhost:8080/"
        },
        "id": "a13462d0-2d02-4474-921e-15a1ba1fa274",
        "outputId": "5dcebd8b-e40c-491f-9e6a-5412fcf753d3"
      },
      "outputs": [
        {
          "name": "stdout",
          "output_type": "stream",
          "text": [
            "{'agent': {'messages': [AIMessage(content='Здравствуйте, Вася! Рада слышать вас.', response_metadata={'token_usage': Usage(prompt_tokens=92, completion_tokens=17, total_tokens=109), 'model_name': 'GigaChat-Pro:2.2.25.3', 'finish_reason': 'stop'}, id='run-c2c24921-b788-4196-8311-4cf4ffdc0352-0')]}}\n",
            "----\n"
          ]
        }
      ],
      "source": [
        "for chunk in agent_executor.stream(\n",
        "    {\"messages\": [HumanMessage(content=\"Привет! Меня зовут Вася\")]}, config\n",
        "):\n",
        "    print(chunk)\n",
        "    print(\"----\")"
      ]
    },
    {
      "cell_type": "code",
      "execution_count": 32,
      "id": "56d8028b-5dbc-40b2-86f5-ed60631d86a3",
      "metadata": {
        "colab": {
          "base_uri": "https://localhost:8080/"
        },
        "id": "56d8028b-5dbc-40b2-86f5-ed60631d86a3",
        "outputId": "2294440a-2324-4f5d-e036-51839895760f"
      },
      "outputs": [
        {
          "name": "stdout",
          "output_type": "stream",
          "text": [
            "{'agent': {'messages': [AIMessage(content='Вас зовут Вася.', response_metadata={'token_usage': Usage(prompt_tokens=121, completion_tokens=9, total_tokens=130), 'model_name': 'GigaChat-Pro:2.2.25.3', 'finish_reason': 'stop'}, id='run-71dc1dce-8219-4c1d-b2ba-d9bcb008af11-0')]}}\n",
            "----\n"
          ]
        }
      ],
      "source": [
        "for chunk in agent_executor.stream(\n",
        "    {\"messages\": [HumanMessage(content=\"Как меня зовут?\")]}, config\n",
        "):\n",
        "    print(chunk)\n",
        "    print(\"----\")"
      ]
    },
    {
      "cell_type": "markdown",
      "id": "bda99754-0a11-4447-b408-e8db8f2e3517",
      "metadata": {
        "id": "bda99754-0a11-4447-b408-e8db8f2e3517"
      },
      "source": [
        "<!--\n",
        "Example [LangSmith trace](https://smith.langchain.com/public/fa73960b-0f7d-4910-b73d-757a12f33b2b/r)\n",
        "-->"
      ]
    },
    {
      "cell_type": "markdown",
      "id": "ae908088",
      "metadata": {
        "id": "ae908088"
      },
      "source": [
        "Для начала нового разговора вам достаточно изменить значение `thread_id`."
      ]
    },
    {
      "cell_type": "code",
      "execution_count": 33,
      "id": "24460239",
      "metadata": {
        "colab": {
          "base_uri": "https://localhost:8080/"
        },
        "id": "24460239",
        "outputId": "1f385761-c0b8-424c-d41c-3d93075e74ee"
      },
      "outputs": [
        {
          "name": "stdout",
          "output_type": "stream",
          "text": [
            "{'agent': {'messages': [AIMessage(content='Я генеративная языковая модель и не имею доступа к вашим персональным данным. Предполагаю, что вас зовут Иван. Правильно ли я предположила?', response_metadata={'token_usage': Usage(prompt_tokens=89, completion_tokens=39, total_tokens=128), 'model_name': 'GigaChat-Pro:2.2.25.3', 'finish_reason': 'stop'}, id='run-3695cc4f-4007-4fb5-9b25-c5cb5076aa6e-0')]}}\n",
            "----\n"
          ]
        }
      ],
      "source": [
        "config = {\"configurable\": {\"thread_id\": \"xyz123\"}}\n",
        "for chunk in agent_executor.stream(\n",
        "    {\"messages\": [HumanMessage(content=\"Как меня зовут?\")]}, config\n",
        "):\n",
        "    print(chunk)\n",
        "    print(\"----\")"
      ]
    },
    {
      "cell_type": "markdown",
      "id": "c029798f",
      "metadata": {
        "id": "c029798f"
      },
      "source": [
        "## Смотрите также\n",
        "\n",
        "Более подробную информацию о разработке агентов ищите в документации [GigaGraph](/docs/concepts/#langgraph)."
      ]
    }
  ],
  "metadata": {
    "colab": {
      "provenance": [],
      "toc_visible": true
    },
    "kernelspec": {
      "display_name": "Python 3 (ipykernel)",
      "language": "python",
      "name": "python3"
    },
    "language_info": {
      "codemirror_mode": {
        "name": "ipython",
        "version": 3
      },
      "file_extension": ".py",
      "mimetype": "text/x-python",
      "name": "python",
      "nbconvert_exporter": "python",
      "pygments_lexer": "ipython3",
      "version": "3.12.3"
    }
  },
  "nbformat": 4,
  "nbformat_minor": 5
}
