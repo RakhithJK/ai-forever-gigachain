{
    "cells": [
        {
            "cell_type": "markdown",
            "id": "bf37a837-7a6a-447b-8779-38f26c585887",
            "metadata": {},
            "source": [
                "# Векторные хранилища и ретриверы\n",
                "\n",
                "В этом разделе вы узнаете ознакомитесь с абстракциями векторных хранилищ и ретриверов в GigaChain.\n",
                "Эти абстракции предназначены для поддержки извлечения данных из векторных баз данных и других источников.\n",
                "Ретриверы и векторные хранилища важны для приложений, которые извлекают данные для рассуждений в рамках инференса модели, например, в случае генерации с дополнением извлечения данных или RAG (подробнее — в [разделе про RAG](/docs/tutorials/rag)).\n",
                "\n",
                "## Основные понятия\n",
                "\n",
                "В этом разделе основное внимание уделяется извлечению текстовых данных. Здесь рассмотрены такие понятия, как:\n",
                "\n",
                "- Документы;\n",
                "- Векторные хранилища;\n",
                "- Ретриверы.\n",
                "\n",
                "## Подготовка к разработке\n",
                "\n",
                "### Jupyter-блокноты\n",
                "\n",
                "Это руководство, как и большинство других в документации, использует [Jupyter-блокноты](https://jupyter.org/). Они отлично подходят для изучения работы с LLM-системами, так как предоставляют интерактивную среду для работы с руководствами и позволяют работать с непредвиденными ситуациями: недоступностью API, нетипичным выводом и другими.\n",
                "\n",
                "Подробнее об установке jupyter — в [официальной документации](https://jupyter.org/install).\n",
                "\n",
                "### Установка\n",
                "\n",
                "Для установки GigaChain выполните команды:\n",
                "\n",
                "```{=mdx}\n",
                "import Tabs from '@theme/Tabs';\n",
                "import TabItem from '@theme/TabItem';\n",
                "import CodeBlock from \"@theme/CodeBlock\";\n",
                "\n",
                "<Tabs>\n",
                "  <TabItem value=\"pip\" label=\"Pip\" default>\n",
                "    <CodeBlock language=\"bash\">pip install langchain</CodeBlock>\n",
                "  </TabItem>\n",
                "  <TabItem value=\"conda\" label=\"Conda\">\n",
                "    <CodeBlock language=\"bash\">conda install langchain -c conda-forge</CodeBlock>\n",
                "  </TabItem>\n",
                "</Tabs>\n",
                "```\n",
                "\n",
                "\n",
                "Подробнее об установке — в разделе [Установка](https://developers.sber.ru/docs/ru/gigachain/get-started/installation).\n",
                "\n",
                "<!--\n",
                "### LangSmith\n",
                "\n",
                "Многие приложения, которые вы создаете с помощью GigaChain, будут содержать несколько шагов с многократными вызовами LLM.\n",
                "По мере усложнения этих приложений становится важно иметь возможность инспектировать, что именно происходит внутри вашей цепочки или агента.\n",
                "Лучший способ сделать это — с помощью [LangSmith](https://smith.langchain.com).\n",
                "\n",
                "После регистрации по ссылке выше, убедитесь, что вы установили переменные среды для начала ведения журнала трассировок:\n",
                "\n",
                "```shell\n",
                "export LANGCHAIN_TRACING_V2=\"true\"\n",
                "export LANGCHAIN_API_KEY=\"...\"\n",
                "```\n",
                "\n",
                "Или, если вы работаете в блокноте, вы можете установить их с помощью:\n",
                "\n",
                "```python\n",
                "import getpass\n",
                "import os\n",
                "\n",
                "os.environ[\"LANGCHAIN_TRACING_V2\"] = \"true\"\n",
                "os.environ[\"LANGCHAIN_API_KEY\"] = getpass.getpass()\n",
                "```\n",
                "-->\n",
                "\n",
                "\n",
                "## Документы\n",
                "\n",
                "GigaChain реализует класс [Document](https://api.python.langchain.com/en/latest/documents/langchain_core.documents.base.Document.html), которая представляет единицу текста и связанных с ним метаданных.\n",
                "У этого класса есть два атрибута:\n",
                "\n",
                "- `page_content` — строка, представляющая содержимое;\n",
                "- `metadata` — словарь, содержащий произвольные метаданные.\n",
                "\n",
                "Атрибут `metadata` может содержать данные об источнике документа, его связи с другими документами и другую информацию.\n",
                "Отдельный объект `Document` часто представляет фрагмент более крупного документа.\n",
                "\n",
                "Создайте несколько примеров документов:"
            ]
        },
        {
            "cell_type": "code",
            "execution_count": 1,
            "id": "9f3dc151-7b2f-4d94-9558-7a84f7eab100",
            "metadata": {},
            "outputs": [],
            "source": [
                "from langchain_core.documents import Document\n",
                "\n",
                "documents = [\n",
                "    Document(\n",
                "        page_content=\"Dogs are great companions, known for their loyalty and friendliness.\",\n",
                "        metadata={\"source\": \"mammal-pets-doc\"},\n",
                "    ),\n",
                "    Document(\n",
                "        page_content=\"Cats are independent pets that often enjoy their own space.\",\n",
                "        metadata={\"source\": \"mammal-pets-doc\"},\n",
                "    ),\n",
                "    Document(\n",
                "        page_content=\"Goldfish are popular pets for beginners, requiring relatively simple care.\",\n",
                "        metadata={\"source\": \"fish-pets-doc\"},\n",
                "    ),\n",
                "    Document(\n",
                "        page_content=\"Parrots are intelligent birds capable of mimicking human speech.\",\n",
                "        metadata={\"source\": \"bird-pets-doc\"},\n",
                "    ),\n",
                "    Document(\n",
                "        page_content=\"Rabbits are social animals that need plenty of space to hop around.\",\n",
                "        metadata={\"source\": \"mammal-pets-doc\"},\n",
                "    ),\n",
                "]"
            ]
        },
        {
            "cell_type": "markdown",
            "id": "1cac19bd-27d1-40f1-9c27-7a586b685b4e",
            "metadata": {},
            "source": [
                "Пример выше содержит пять документов, которые содержат метаданные, указывающие на три различных источника (`source`).\n",
                "\n",
                "## Векторные хранилища\n",
                "\n",
                "Векторный поиск — это распространенный способ хранения и поиска по неструктурированным данным (например, неструктурированному тексту).\n",
                "Основной принцип заключается в хранении числовых векторов, которые ассоциированы с текстом.\n",
                "При запросе к хранилищу, вы можете [представить текст запроса в виде вектора](/docs/concepts#embedding-models) той же размерности и использовать метрики векторной схожести для поиска подходящих данных в хранилище.\n",
                "\n",
                "Объекты [`VectorStore`](https://api.python.langchain.com/en/latest/vectorstores/langchain_core.vectorstores.VectorStore.html) предоставляют методы для добавления текста и объектов `Document` в хранилище, а так же методы для поиска документов в хранилище с использованием различных метрик схожести.\n",
                "Как правило, хранилища инициализируются с использованием моделей, которые поддерживают [векторное представление текста](/docs/how_to/embed_text).\n",
                "Такие модели определяют, как текстовые данные переводятся в числовые векторы.\n",
                "\n",
                "GigaChain поддерживает набор [интеграций](/docs/integrations/vectorstores) с различными векторными хранилищам.\n",
                "Некоторые из них предоставляются на стороне других компаний (например, у различных облачных провайдеров) и требуют соответствующих учетных данных для использования.\n",
                "Некоторые (такие как [Postgres](/docs/integrations/vectorstores/pgvector)) работают в отдельной инфраструктуре, которую можно запускать локально или через сторонние сервисы.\n",
                "Какие-то могут работать в памяти и используются для легких нагрузок.\n",
                "В этом разделе показана работа объектов `VectorStore` с использованием [Chroma](/docs/integrations/vectorstores/chroma): векторным хранилищем, которое поддерживает работу в памяти.\n",
                "\n",
                "Как правило, для создания векторного хранилища нужно предоставить модель, которая будет отвечать за [векторное представление текста](/docs/how_to/embed_text).\n",
                "В примере ниже показана работа модели [OpenAI](/docs/integrations/text_embedding/openai/)."
            ]
        },
        {
            "cell_type": "code",
            "execution_count": 2,
            "id": "d48acc28-1a34-414b-8e08-fbdef3a2a60b",
            "metadata": {},
            "outputs": [],
            "source": [
                "from langchain_chroma import Chroma\n",
                "from langchain_openai import OpenAIEmbeddings\n",
                "\n",
                "vectorstore = Chroma.from_documents(\n",
                "    documents,\n",
                "    embedding=OpenAIEmbeddings(),\n",
                ")"
            ]
        },
        {
            "cell_type": "markdown",
            "id": "ff0f0b43-e5b8-4c79-b782-a02f17345487",
            "metadata": {},
            "source": [
                "Вызов метода `.from_documents` добавляет документы в векторное хранилище.\n",
                "Объект [`VectorStore`](https://api.python.langchain.com/en/latest/vectorstores/langchain_core.vectorstores.VectorStore.html) предоставляет методы для добавления документов, которые также можно вызвать после создания объекта.\n",
                "Большинство реализаций позволят вам подключиться к существующему векторному хранилищу, например, предоставив клиент, название индекса или другую информацию.\n",
                "Подробнее — в документации по [интеграции с выбранным векторным хранилищем](/docs/integrations/vectorstores).\n",
                "\n",
                "После создания `VectorStore`, содержащего документы, мы можем выполнять его запросы. Объект [VectorStore](https://api.python.langchain.com/en/latest/vectorstores/langchain_core.vectorstores.VectorStore.html) включает методы для выполнения запросов:\n",
                "- Синхронно и асинхронно;\n",
                "- По строковому запросу и по вектору;\n",
                "- С возвращением и без возвращения оценок схожести;\n",
                "- По схожести и [максимальной маржинальной релевантности](https://api.python.langchain.com/en/latest/vectorstores/langchain_core.vectorstores.VectorStore.html#langchain_core.vectorstores.VectorStore.max_marginal_relevance_search) (чтобы сбалансировать схожесть с разнообразием в извлеченных результатах).\n",
                "\n",
                "Методы обычно включают список объектов [Document](https://api.python.langchain.com/en/latest/documents/langchain_core.documents.base.Document.html#langchain_core.documents.base.Document) в своих выводах.\n",
                "\n",
                "### Примеры\n",
                "\n",
                "Возврат документов на основе схожести с текстовым запросом:"
            ]
        },
        {
            "cell_type": "code",
            "execution_count": 3,
            "id": "7e01ed91-1a98-4221-960a-bd7a2541a548",
            "metadata": {},
            "outputs": [
                {
                    "data": {
                        "text/plain": [
                            "[Document(page_content='Cats are independent pets that often enjoy their own space.', metadata={'source': 'mammal-pets-doc'}),\n",
                            " Document(page_content='Dogs are great companions, known for their loyalty and friendliness.', metadata={'source': 'mammal-pets-doc'}),\n",
                            " Document(page_content='Rabbits are social animals that need plenty of space to hop around.', metadata={'source': 'mammal-pets-doc'}),\n",
                            " Document(page_content='Parrots are intelligent birds capable of mimicking human speech.', metadata={'source': 'bird-pets-doc'})]"
                        ]
                    },
                    "execution_count": 3,
                    "metadata": {},
                    "output_type": "execute_result"
                }
            ],
            "source": [
                "vectorstore.similarity_search(\"cat\")"
            ]
        },
        {
            "cell_type": "markdown",
            "id": "4d4f9857-5a7d-4b5f-82b8-ff76539143c2",
            "metadata": {},
            "source": [
                "Асинхронный запрос:"
            ]
        },
        {
            "cell_type": "code",
            "execution_count": 4,
            "id": "618af196-6182-4a7d-8b09-07493fcdc868",
            "metadata": {},
            "outputs": [
                {
                    "data": {
                        "text/plain": [
                            "[Document(page_content='Cats are independent pets that often enjoy their own space.', metadata={'source': 'mammal-pets-doc'}),\n",
                            " Document(page_content='Dogs are great companions, known for their loyalty and friendliness.', metadata={'source': 'mammal-pets-doc'}),\n",
                            " Document(page_content='Rabbits are social animals that need plenty of space to hop around.', metadata={'source': 'mammal-pets-doc'}),\n",
                            " Document(page_content='Parrots are intelligent birds capable of mimicking human speech.', metadata={'source': 'bird-pets-doc'})]"
                        ]
                    },
                    "execution_count": 4,
                    "metadata": {},
                    "output_type": "execute_result"
                }
            ],
            "source": [
                "await vectorstore.asimilarity_search(\"cat\")"
            ]
        },
        {
            "cell_type": "markdown",
            "id": "d4172698-9ad7-4422-99b2-bdc268e99c75",
            "metadata": {},
            "source": [
                "Возврат оценок схожести:"
            ]
        },
        {
            "cell_type": "code",
            "execution_count": 5,
            "id": "4ed24af2-0d82-478c-949b-b389348d4e9f",
            "metadata": {},
            "outputs": [
                {
                    "data": {
                        "text/plain": [
                            "[(Document(page_content='Cats are independent pets that often enjoy their own space.', metadata={'source': 'mammal-pets-doc'}),\n",
                            "  0.3751849830150604),\n",
                            " (Document(page_content='Dogs are great companions, known for their loyalty and friendliness.', metadata={'source': 'mammal-pets-doc'}),\n",
                            "  0.48316916823387146),\n",
                            " (Document(page_content='Rabbits are social animals that need plenty of space to hop around.', metadata={'source': 'mammal-pets-doc'}),\n",
                            "  0.49601367115974426),\n",
                            " (Document(page_content='Parrots are intelligent birds capable of mimicking human speech.', metadata={'source': 'bird-pets-doc'}),\n",
                            "  0.4972994923591614)]"
                        ]
                    },
                    "execution_count": 5,
                    "metadata": {},
                    "output_type": "execute_result"
                }
            ],
            "source": [
                "# Обратите внимание, что оценка зависит от выбранного векторного хранилища.\n",
                "# Здесь Chroma возвращает метрику расстояния, которая должна варьироваться обратно пропорционально схожести.\n",
                "\n",
                "vectorstore.similarity_search_with_score(\"cat\")"
            ]
        },
        {
            "cell_type": "markdown",
            "id": "b4991642-7275-40a9-b11a-e3beccbf2614",
            "metadata": {},
            "source": [
                "Возврат документов на основе схожести с запросом, представленным в виде вектора:"
            ]
        },
        {
            "cell_type": "code",
            "execution_count": 6,
            "id": "b1a5eabb-a821-48cc-917e-cc27f03e4bcc",
            "metadata": {},
            "outputs": [
                {
                    "data": {
                        "text/plain": [
                            "[Document(page_content='Cats are independent pets that often enjoy their own space.', metadata={'source': 'mammal-pets-doc'}),\n",
                            " Document(page_content='Dogs are great companions, known for their loyalty and friendliness.', metadata={'source': 'mammal-pets-doc'}),\n",
                            " Document(page_content='Rabbits are social animals that need plenty of space to hop around.', metadata={'source': 'mammal-pets-doc'}),\n",
                            " Document(page_content='Parrots are intelligent birds capable of mimicking human speech.', metadata={'source': 'bird-pets-doc'})]"
                        ]
                    },
                    "execution_count": 6,
                    "metadata": {},
                    "output_type": "execute_result"
                }
            ],
            "source": [
                "embedding = OpenAIEmbeddings().embed_query(\"cat\")\n",
                "\n",
                "vectorstore.similarity_search_by_vector(embedding)"
            ]
        },
        {
            "cell_type": "markdown",
            "id": "168dbbec-ea97-4cc9-bb1a-75519c2d08af",
            "metadata": {},
            "source": [
                "Больше информации о векторных хранилищах:\n",
                "\n",
                "- [Справка API](https://api.python.langchain.com/en/latest/vectorstores/langchain_core.vectorstores.VectorStore.html)\n",
                "- [Работа с векторными хранилищами](/docs/how_to/vectorstores)\n",
                "- [Документация для интеграции с выбранным хранилищем](/docs/integrations/vectorstores)\n",
                "\n",
                "## Ретриверы\n",
                "\n",
                "Объекты `VectorStore` не являются подклассами [Runnable](https://api.python.langchain.com/en/latest/core_api_reference.html#module-langchain_core.runnables) и поэтому не могут быть напрямую интегрированы в [цепочки LangChain Expression Language](/docs/concepts/#langchain-expression-language-lcel).\n",
                "\n",
                "В то же время ретриверы GigaChain ([`Retrievers`](https://api.python.langchain.com/en/latest/core_api_reference.html#module-langchain_core.retrievers)) являются runnable-интерфейсами, поэтому они реализуют стандартный набор методов (например, синхронные и асинхронные операции `invoke` и `batch`) и предназначены для включения в цепочки LCEL.\n",
                "\n",
                "Вы можете самостоятельно создать ретривер, не прибегая к классу `Retriever`.\n",
                "Для этого нужно выбрать метод, который будет использоваться для извлечения документов, и создать runnable.\n",
                "Пример ниже показывает как создать ретривер, который использует метод `similarity_search`, на основе Runnable:"
            ]
        },
        {
            "cell_type": "code",
            "execution_count": 7,
            "id": "f1461582-e569-4326-bd95-510f72edf019",
            "metadata": {},
            "outputs": [
                {
                    "data": {
                        "text/plain": [
                            "[[Document(page_content='Cats are independent pets that often enjoy their own space.', metadata={'source': 'mammal-pets-doc'})],\n",
                            " [Document(page_content='Goldfish are popular pets for beginners, requiring relatively simple care.', metadata={'source': 'fish-pets-doc'})]]"
                        ]
                    },
                    "execution_count": 7,
                    "metadata": {},
                    "output_type": "execute_result"
                }
            ],
            "source": [
                "from typing import List\n",
                "\n",
                "from langchain_core.documents import Document\n",
                "from langchain_core.runnables import RunnableLambda\n",
                "\n",
                "retriever = RunnableLambda(vectorstore.similarity_search).bind(k=1)  # select top result\n",
                "\n",
                "retriever.batch([\"cat\", \"shark\"])"
            ]
        },
        {
            "cell_type": "markdown",
            "id": "a36d3f64-a8bc-4baa-b2ea-07e324a0143e",
            "metadata": {},
            "source": [
                "Векторные хранилища предоставляют метод `as_retriever`, который создаст экземпляр класса Retriever, а именно [VectorStoreRetriever](https://api.python.langchain.com/en/latest/vectorstores/langchain_core.vectorstores.VectorStoreRetriever.html).\n",
                "Эти ретриверы включают заданные атрибуты `search_type` и `search_kwargs`, которые определяют, какие методы базового векторного хранилища вызывать и как задавать их параметры.\n",
                "Так, вы можете повторить функциональность прошлого примера с помощью следующего кода:"
            ]
        },
        {
            "cell_type": "code",
            "execution_count": 8,
            "id": "4989fe5e-ac58-4751-bc35-f53ff885860c",
            "metadata": {},
            "outputs": [
                {
                    "data": {
                        "text/plain": [
                            "[[Document(page_content='Cats are independent pets that often enjoy their own space.', metadata={'source': 'mammal-pets-doc'})],\n",
                            " [Document(page_content='Goldfish are popular pets for beginners, requiring relatively simple care.', metadata={'source': 'fish-pets-doc'})]]"
                        ]
                    },
                    "execution_count": 8,
                    "metadata": {},
                    "output_type": "execute_result"
                }
            ],
            "source": [
                "retriever = vectorstore.as_retriever(\n",
                "    search_type=\"similarity\",\n",
                "    search_kwargs={\"k\": 1},\n",
                ")\n",
                "\n",
                "retriever.batch([\"cat\", \"shark\"])"
            ]
        },
        {
            "cell_type": "markdown",
            "id": "6b79ded3-39ed-4aeb-8b70-cd36795ae239",
            "metadata": {},
            "source": [
                "`VectorStoreRetriever` поддерживает типы поиска `\"similarity\"` (по умолчанию), `\"mmr\"` (maximum marginal relevance, описано выше) и `\"similarity_score_threshold\"`.\n",
                "Последний тип можно использовать для отсечки документов, выводимых ретривером, на основе оценки схожести.\n",
                "\n",
                "Ретриверы можно легко включить в более сложные RAG-приложения, которые объединяют заданный вопрос с извлеченным контекстом в промпт для LLM.\n",
                "Ниже показан базовый пример.\n",
                "\n",
                "```{=mdx}\n",
                "import ChatModelTabs from \"@theme/ChatModelTabs\";\n",
                "\n",
                "<ChatModelTabs customVarName=\"llm\" />\n",
                "```"
            ]
        },
        {
            "cell_type": "code",
            "execution_count": 9,
            "id": "c77b68bf-59f3-4416-9877-960f934c374d",
            "metadata": {},
            "outputs": [],
            "source": [
                "# | output: false\n",
                "# | echo: false\n",
                "\n",
                "from langchain_openai import ChatOpenAI\n",
                "\n",
                "llm = ChatOpenAI(model=\"gpt-3.5-turbo\", temperature=0)"
            ]
        },
        {
            "cell_type": "code",
            "execution_count": 10,
            "id": "6f1ae0d0-0b4b-4da0-80ce-f82913052a83",
            "metadata": {},
            "outputs": [],
            "source": [
                "from langchain_core.prompts import ChatPromptTemplate\n",
                "from langchain_core.runnables import RunnablePassthrough\n",
                "\n",
                "message = \"\"\"\n",
                "Answer this question using the provided context only.\n",
                "\n",
                "{question}\n",
                "\n",
                "Context:\n",
                "{context}\n",
                "\"\"\"\n",
                "\n",
                "prompt = ChatPromptTemplate.from_messages([(\"human\", message)])\n",
                "\n",
                "rag_chain = {\"context\": retriever, \"question\": RunnablePassthrough()} | prompt | llm"
            ]
        },
        {
            "cell_type": "code",
            "execution_count": 11,
            "id": "b3c0d625-61e0-492e-b3a6-c40d383fca03",
            "metadata": {},
            "outputs": [
                {
                    "name": "stdout",
                    "output_type": "stream",
                    "text": [
                        "Cats are independent pets that often enjoy their own space.\n"
                    ]
                }
            ],
            "source": [
                "response = rag_chain.invoke(\"tell me about cats\")\n",
                "\n",
                "print(response.content)"
            ]
        },
        {
            "cell_type": "markdown",
            "id": "3d9be7cb-2081-48a4-b6e4-d5e2d562ffd4",
            "metadata": {},
            "source": [
                "## Смотрите также\n",
                "\n",
                "Стратегии извлечения данных могут быть разнообразными и сложными. Например:\n",
                "\n",
                "- [Выведение жестких правила и фильтры](/docs/how_to/self_query/) из запроса. Например, \"использовать документы, опубликованные после 2020 года\";\n",
                "- [Возвращение документов, каким-то образом связанных с извлеченным контекстом](/docs/how_to/parent_document_retriever/). Например, через таксономию документов;\n",
                "- [Создание нескольких векторных представлений](/docs/how_to/multi_vector) для каждой единицы контекста;\n",
                "- [Объединение результаты](/docs/how_to/ensemble_retriever) от нескольких ретриверов;\n",
                "- [Управление весами документов](/docs/how_to/time_weighted_vectorstore/). Например, придание большего веса недавним документам.\n",
                "\n",
                "Раздел [Работа с ретриверами](/docs/how_to#retrievers) в руководствах по использованию охватывает эти и другие стратегии извлечения данных.\n",
                "\n",
                "Вы также можете расширить класс [BaseRetriever](https://api.python.langchain.com/en/latest/retrievers/langchain_core.retrievers.BaseRetriever.html) для реализации [собственных ретриверов](/docs/how_to/custom_retriever)."
            ]
        }
    ],
    "metadata": {
        "kernelspec": {
            "display_name": "Python 3 (ipykernel)",
            "language": "python",
            "name": "python3"
        },
        "language_info": {
            "codemirror_mode": {
                "name": "ipython",
                "version": 3
            },
            "file_extension": ".py",
            "mimetype": "text/x-python",
            "name": "python",
            "nbconvert_exporter": "python",
            "pygments_lexer": "ipython3",
            "version": "3.10.4"
        }
    },
    "nbformat": 4,
    "nbformat_minor": 5
}
