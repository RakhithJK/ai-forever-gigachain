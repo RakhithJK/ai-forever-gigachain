{
 "cells": [
  {
   "cell_type": "markdown",
   "id": "bf37a837-7a6a-447b-8779-38f26c585887",
   "metadata": {
    "id": "bf37a837-7a6a-447b-8779-38f26c585887"
   },
   "source": [
    "# Векторные хранилища и ретриверы\n",
    "\n",
    "В этом разделе вы узнаете как использовать GigaChain для работы с векторными хранилищам и ретриверами.\n",
    "Ретриверы и векторные хранилища важны для приложений, которые извлекают данные для рассуждений в рамках инференса модели, например, в случае генерации с дополнением извлечения данных или RAG (подробнее — в разделе [Создание RAG-приложения](/ru/gigachain/tutorials/rag)).\n",
    "\n",
    "## Основные понятия\n",
    "\n",
    "В этом разделе основное внимание уделяется извлечению текстовых данных.\n",
    "Здесь рассмотрены понятия:\n",
    "\n",
    "- документы;\n",
    "- векторные хранилища;\n",
    "- ретриверы.\n",
    "\n",
    "## Подготовка к разработке\n",
    "\n",
    "### Jupyter-блокноты\n",
    "\n",
    "Как и большинство других руководств в документации, этот раздел использует [Jupyter-блокнот](https://jupyter.org/).\n",
    "Блокноты отлично подходят для изучения работы с LLM-системами, так как предоставляют интерактивную среду для работы с руководствами и позволяют работать с непредвиденными ситуациями, например недоступностью API или нетипичным выводом.\n",
    "\n",
    "Подробнее об установке jupyter — в [официальной документации](https://jupyter.org/install).\n",
    "\n",
    "### Установка\n",
    "\n",
    "Установить пакеты, которые понадобятся для работы с примерами:"
   ]
  },
  {
   "cell_type": "code",
   "execution_count": null,
   "id": "4a11e987",
   "metadata": {
    "colab": {
     "base_uri": "https://localhost:8080/"
    },
    "id": "4a11e987",
    "outputId": "f988d410-c4b5-452c-ceb2-36d7e0911747",
    "vscode": {
     "languageId": "shellscript"
    }
   },
   "outputs": [],
   "source": [
    "pip install gigachain-community gigachain-chroma"
   ]
  },
  {
   "cell_type": "markdown",
   "id": "89e3eddd",
   "metadata": {
    "id": "89e3eddd"
   },
   "source": [
    "Подробнее об установке GigaChain — в разделе [Установка](https://developers.sber.ru/docs/ru/gigachain/get-started/installation).\n",
    "\n",
    "<!--\n",
    "### LangSmith\n",
    "\n",
    "Многие приложения, которые вы создаете с помощью GigaChain, будут содержать несколько шагов с многократными вызовами LLM.\n",
    "По мере усложнения этих приложений становится важно иметь возможность инспектировать, что именно происходит внутри вашей цепочки или агента.\n",
    "Лучший способ сделать это — с помощью [LangSmith](https://smith.langchain.com).\n",
    "\n",
    "После регистрации по ссылке выше, убедитесь, что вы установили переменные среды для начала ведения журнала трассировок:\n",
    "\n",
    "```shell\n",
    "export LANGCHAIN_TRACING_V2=\"true\"\n",
    "export LANGCHAIN_API_KEY=\"...\"\n",
    "```\n",
    "\n",
    "Или, если вы работаете в блокноте, вы можете установить их с помощью:\n",
    "\n",
    "```python\n",
    "import getpass\n",
    "import os\n",
    "\n",
    "os.environ[\"LANGCHAIN_TRACING_V2\"] = \"true\"\n",
    "os.environ[\"LANGCHAIN_API_KEY\"] = getpass.getpass()\n",
    "```\n",
    "-->\n",
    "\n",
    "\n",
    "## Документы\n",
    "\n",
    "GigaChain реализует класс [Document](https://api.python.langchain.com/en/latest/documents/langchain_core.documents.base.Document.html), который представляет единицу текста и связанные с ним метаданные.\n",
    "У этого класса есть два атрибута:\n",
    "\n",
    "- `page_content` — строка, представляющая содержимое;\n",
    "- `metadata` — словарь, содержащий произвольные метаданные.\n",
    "\n",
    "Атрибут `metadata` может содержать данные об источнике документа, его связи с другими документами и другую дополнительную информацию.\n",
    "Отдельный объект `Document` часто представляет фрагмент более крупного документа.\n",
    "\n",
    "Создайте несколько образцов документов:"
   ]
  },
  {
   "cell_type": "code",
   "execution_count": 2,
   "id": "9f3dc151-7b2f-4d94-9558-7a84f7eab100",
   "metadata": {
    "id": "9f3dc151-7b2f-4d94-9558-7a84f7eab100"
   },
   "outputs": [],
   "source": [
    "from langchain_core.documents import Document\n",
    "\n",
    "documents = [\n",
    "    Document(\n",
    "        page_content=\"Собаки — отличные компаньоны, которые известны своей преданностью и дружелюбием.\",\n",
    "        metadata={\"source\": \"mammal-pets-doc\"},\n",
    "    ),\n",
    "    Document(\n",
    "        page_content=\"Кошки — независимые животные, которым нужно собственное пространство.\",\n",
    "        metadata={\"source\": \"mammal-pets-doc\"},\n",
    "    ),\n",
    "    Document(\n",
    "        page_content=\"Золотые рыбки — отличные домашние животные для начинающих. За ними достаточно просто ухаживать.\",\n",
    "        metadata={\"source\": \"fish-pets-doc\"},\n",
    "    ),\n",
    "    Document(\n",
    "        page_content=\"Попугаи — умные птицы, которые способны имитировать человеческую речь.\",\n",
    "        metadata={\"source\": \"bird-pets-doc\"},\n",
    "    ),\n",
    "    Document(\n",
    "        page_content=\"Кролики — социальные животные, которым нужно много места, чтобы прыгать.\",\n",
    "        metadata={\"source\": \"mammal-pets-doc\"},\n",
    "    ),\n",
    "]"
   ]
  },
  {
   "cell_type": "markdown",
   "id": "1cac19bd-27d1-40f1-9c27-7a586b685b4e",
   "metadata": {
    "id": "1cac19bd-27d1-40f1-9c27-7a586b685b4e"
   },
   "source": [
    "В примере выше представленно пять документов с долполнительными данными, которые указывают на три различных источника (`source`).\n",
    "\n",
    "## Векторные хранилища\n",
    "\n",
    "Векторный поиск — это распространенный способ поиска по сохраненным неструктурированным данным, например, неструктурированному тексту.\n",
    "В основе поиска лежит работа с сохраненными числовыми векторами, которые ассоциированы с текстом.\n",
    "При запросе к хранилищу, вы можете [представить текст запроса в виде вектора](/docs/concepts#embedding-models) той же размерности и использовать метрики векторной схожести для поиска подходящих данных в хранилище.\n",
    "\n",
    "Объекты [`VectorStore`](https://api.python.langchain.com/en/latest/vectorstores/langchain_core.vectorstores.VectorStore.html) предоставляют методы для добавления текста и объектов `Document` в хранилище, а так же методы для поиска документов в хранилище с использованием различных метрик схожести.\n",
    "Как правило, хранилища инициализируются с использованием моделей, которые поддерживают [векторное представление текста](/ru/gigachain/how-to/embed_text).\n",
    "Такие модели определяют, как текстовые данные переводятся в числовые векторы.\n",
    "\n",
    "GigaChain предоставляет набор [интеграций](/docs/integrations/vectorstores) с различными векторными хранилищами.\n",
    "Некоторые из них могут требовать соответствующие учетные данные для использования.\n",
    "Другие, такие как [Postgres](/docs/integrations/vectorstores/pgvector), работают в отдельной инфраструктуре, которую можно запускать локально или через сторонние сервисы.\n",
    "Какие-то могут работать в памяти и используются для легких нагрузок.\n",
    "\n",
    "В этом разделе показана работа объектов `VectorStore` с использованием [Chroma](/docs/integrations/vectorstores/chroma) — векторным хранилищем, которое поддерживает работу в памяти.\n",
    "\n",
    "Как правило, для создания векторного хранилища нужно предоставить модель, которая будет отвечать за [векторное представление текста](/ru/gigachain/how-to/embed_text).\n",
    "\n",
    "Примере для создания векторного представления текста используется модель [GigaChat Embeddings](/ru/gigachat/models#model-dlya-vektornogo-predstavleniya-teksta)."
   ]
  },
  {
   "cell_type": "code",
   "execution_count": 3,
   "id": "d48acc28-1a34-414b-8e08-fbdef3a2a60b",
   "metadata": {
    "id": "d48acc28-1a34-414b-8e08-fbdef3a2a60b"
   },
   "outputs": [],
   "source": [
    "from langchain_chroma import Chroma\n",
    "from langchain_community.embeddings.gigachat import GigaChatEmbeddings\n",
    "\n",
    "vectorstore = Chroma.from_documents(\n",
    "    documents,\n",
    "    embedding=GigaChatEmbeddings(\n",
    "        credentials=\"<авторизационные_данные>\",\n",
    "        scope=\"GIGACHAT_API_PERS\",\n",
    "        verify_ssl_certs=False,\n",
    "    ),\n",
    ")"
   ]
  },
  {
   "cell_type": "markdown",
   "id": "ff0f0b43-e5b8-4c79-b782-a02f17345487",
   "metadata": {
    "id": "ff0f0b43-e5b8-4c79-b782-a02f17345487"
   },
   "source": [
    "Вызов метода `.from_documents` добавляет документы в векторное хранилище.\n",
    "Объект [`VectorStore`](https://api.python.langchain.com/en/latest/vectorstores/langchain_core.vectorstores.VectorStore.html) предоставляет методы для добавления документов, которые также можно вызвать после создания объекта.\n",
    "Большинство интеграций позволяет подключаться к существующему векторному хранилищу, например, предоставив клиент, название индекса или другую информацию.\n",
    "Подробнее — в документации по [интеграции с выбранным векторным хранилищем](/docs/integrations/vectorstores).\n",
    "\n",
    "После создания объекта `VectorStore` с необходимыми документами, вы можете выполнять поиск поним.\n",
    "Объект [VectorStore](https://api.python.langchain.com/en/latest/vectorstores/langchain_core.vectorstores.VectorStore.html) включает методы для выполнения запросов:\n",
    "- синхронно и асинхронно;\n",
    "- по текстовому запросу и по его вектору;\n",
    "- с возвращением и без возвращения оценок схожести;\n",
    "- по схожести и [максимальной маржинальной релевантности](https://api.python.langchain.com/en/latest/vectorstores/langchain_core.vectorstores.VectorStore.html#langchain_core.vectorstores.VectorStore.max_marginal_relevance_search), которая позволяет сбалансировать схожесть с разнообразием в извлеченных результатах.\n",
    "\n",
    "В общем случае, результат работы методов будет содержать объектов [Document](https://api.python.langchain.com/en/latest/documents/langchain_core.documents.base.Document.html#langchain_core.documents.base.Document).\n",
    "\n",
    "### Примеры\n",
    "\n",
    "Возврат документов на основе схожести с текстовым запросом:"
   ]
  },
  {
   "cell_type": "code",
   "execution_count": 4,
   "id": "7e01ed91-1a98-4221-960a-bd7a2541a548",
   "metadata": {
    "colab": {
     "base_uri": "https://localhost:8080/"
    },
    "id": "7e01ed91-1a98-4221-960a-bd7a2541a548",
    "outputId": "9fc3187c-1a2f-4879-dc9a-bb79c93ee898"
   },
   "outputs": [
    {
     "data": {
      "text/plain": [
       "[Document(page_content='Кошки — независимые животные, которым нужно собственное пространство.', metadata={'source': 'mammal-pets-doc'}),\n",
       " Document(page_content='Собаки — отличные компаньоны, которые известны своей преданностью и дружелюбием.', metadata={'source': 'mammal-pets-doc'}),\n",
       " Document(page_content='Кролики — социальные животные, которым нужно много места, чтобы прыгать.', metadata={'source': 'mammal-pets-doc'}),\n",
       " Document(page_content='Попугаи — умные птицы, которые способны имитировать человеческую речь.', metadata={'source': 'bird-pets-doc'})]"
      ]
     },
     "execution_count": 4,
     "metadata": {},
     "output_type": "execute_result"
    }
   ],
   "source": [
    "vectorstore.similarity_search(\"кошка\")"
   ]
  },
  {
   "cell_type": "markdown",
   "id": "4d4f9857-5a7d-4b5f-82b8-ff76539143c2",
   "metadata": {
    "id": "4d4f9857-5a7d-4b5f-82b8-ff76539143c2"
   },
   "source": [
    "Асинхронный запрос:"
   ]
  },
  {
   "cell_type": "code",
   "execution_count": 5,
   "id": "618af196-6182-4a7d-8b09-07493fcdc868",
   "metadata": {
    "colab": {
     "base_uri": "https://localhost:8080/"
    },
    "id": "618af196-6182-4a7d-8b09-07493fcdc868",
    "outputId": "6dc5cdbe-db9c-4fbf-e2ca-68b233db6063"
   },
   "outputs": [
    {
     "data": {
      "text/plain": [
       "[Document(page_content='Кошки — независимые животные, которым нужно собственное пространство.', metadata={'source': 'mammal-pets-doc'}),\n",
       " Document(page_content='Собаки — отличные компаньоны, которые известны своей преданностью и дружелюбием.', metadata={'source': 'mammal-pets-doc'}),\n",
       " Document(page_content='Кролики — социальные животные, которым нужно много места, чтобы прыгать.', metadata={'source': 'mammal-pets-doc'}),\n",
       " Document(page_content='Попугаи — умные птицы, которые способны имитировать человеческую речь.', metadata={'source': 'bird-pets-doc'})]"
      ]
     },
     "execution_count": 5,
     "metadata": {},
     "output_type": "execute_result"
    }
   ],
   "source": [
    "await vectorstore.asimilarity_search(\"кошка\")"
   ]
  },
  {
   "cell_type": "markdown",
   "id": "d4172698-9ad7-4422-99b2-bdc268e99c75",
   "metadata": {
    "id": "d4172698-9ad7-4422-99b2-bdc268e99c75"
   },
   "source": [
    "Оценка схожести запроса и содержимого хранилища:"
   ]
  },
  {
   "cell_type": "code",
   "execution_count": 6,
   "id": "4ed24af2-0d82-478c-949b-b389348d4e9f",
   "metadata": {
    "colab": {
     "base_uri": "https://localhost:8080/"
    },
    "id": "4ed24af2-0d82-478c-949b-b389348d4e9f",
    "outputId": "3fd249e0-5472-4496-c625-5657b5528b0d"
   },
   "outputs": [
    {
     "data": {
      "text/plain": [
       "[(Document(page_content='Кошки — независимые животные, которым нужно собственное пространство.', metadata={'source': 'mammal-pets-doc'}),\n",
       "  218.2356719970703),\n",
       " (Document(page_content='Собаки — отличные компаньоны, которые известны своей преданностью и дружелюбием.', metadata={'source': 'mammal-pets-doc'}),\n",
       "  319.75384521484375),\n",
       " (Document(page_content='Кролики — социальные животные, которым нужно много места, чтобы прыгать.', metadata={'source': 'mammal-pets-doc'}),\n",
       "  349.84930419921875),\n",
       " (Document(page_content='Попугаи — умные птицы, которые способны имитировать человеческую речь.', metadata={'source': 'bird-pets-doc'}),\n",
       "  352.6993103027344)]"
      ]
     },
     "execution_count": 6,
     "metadata": {},
     "output_type": "execute_result"
    }
   ],
   "source": [
    "# Оценка зависит от выбранного векторного хранилища.\n",
    "# Chroma возвращает метрику расстояния, которая должна варьироваться обратно пропорционально схожести.\n",
    "\n",
    "vectorstore.similarity_search_with_score(\"кошка\")"
   ]
  },
  {
   "cell_type": "markdown",
   "id": "b4991642-7275-40a9-b11a-e3beccbf2614",
   "metadata": {
    "id": "b4991642-7275-40a9-b11a-e3beccbf2614"
   },
   "source": [
    "Возврат документов на основе схожести с запросом, представленным в виде вектора:"
   ]
  },
  {
   "cell_type": "code",
   "execution_count": 9,
   "id": "b1a5eabb-a821-48cc-917e-cc27f03e4bcc",
   "metadata": {
    "colab": {
     "base_uri": "https://localhost:8080/"
    },
    "id": "b1a5eabb-a821-48cc-917e-cc27f03e4bcc",
    "outputId": "ccf8d301-3537-41e8-990e-ea6acc3de17c"
   },
   "outputs": [
    {
     "data": {
      "text/plain": [
       "[Document(page_content='Кошки — независимые животные, которым нужно собственное пространство.', metadata={'source': 'mammal-pets-doc'}),\n",
       " Document(page_content='Собаки — отличные компаньоны, которые известны своей преданностью и дружелюбием.', metadata={'source': 'mammal-pets-doc'}),\n",
       " Document(page_content='Кролики — социальные животные, которым нужно много места, чтобы прыгать.', metadata={'source': 'mammal-pets-doc'}),\n",
       " Document(page_content='Попугаи — умные птицы, которые способны имитировать человеческую речь.', metadata={'source': 'bird-pets-doc'})]"
      ]
     },
     "execution_count": 9,
     "metadata": {},
     "output_type": "execute_result"
    }
   ],
   "source": [
    "embedding = GigaChatEmbeddings(\n",
    "    credentials=\"<авторизационные_данные>\",\n",
    "    scope=\"GIGACHAT_API_PERS\",\n",
    "    verify_ssl_certs=False,\n",
    ").embed_query(\"кошка\")\n",
    "\n",
    "vectorstore.similarity_search_by_vector(embedding)"
   ]
  },
  {
   "cell_type": "markdown",
   "id": "168dbbec-ea97-4cc9-bb1a-75519c2d08af",
   "metadata": {
    "id": "168dbbec-ea97-4cc9-bb1a-75519c2d08af"
   },
   "source": [
    "Больше информации о векторных хранилищах:\n",
    "\n",
    "- [Справка API](https://api.python.langchain.com/en/latest/vectorstores/langchain_core.vectorstores.VectorStore.html)\n",
    "- [Работа с векторными хранилищами](/ru/gigachain/how-to/vectorstores)\n",
    "- [Документация для интеграции с выбранным хранилищем](/docs/integrations/vectorstores)\n",
    "\n",
    "## Ретриверы\n",
    "\n",
    "Объекты `VectorStore` не являются [Runnable-объектами](https://api.python.langchain.com/en/latest/core_api_reference.html#module-langchain_core.runnables) и поэтому их нельзя использовать в [LCEL-цепочках](/docs/concepts/#langchain-expression-language-lcel) напрямую.\n",
    "\n",
    "В то же время ретриверы GigaChain ([`Retrievers`](https://api.python.langchain.com/en/latest/core_api_reference.html#module-langchain_core.retrievers)) — являются экземплярами runnable, поэтому они реализуют стандартный набор методов (например, синхронные и асинхронные операции `invoke` и `batch`) и предназначены для включения в цепочки LCEL.\n",
    "\n",
    "Вы можете самостоятельно создать ретривер, не прибегая к классу `Retriever`.\n",
    "Для этого нужно выбрать метод, который будет использоваться для извлечения документов, и создать runnable.\n",
    "Пример ниже показывает как создать ретривер, который использует метод `similarity_search`, на основе Runnable:"
   ]
  },
  {
   "cell_type": "code",
   "execution_count": 10,
   "id": "f1461582-e569-4326-bd95-510f72edf019",
   "metadata": {
    "colab": {
     "base_uri": "https://localhost:8080/"
    },
    "id": "f1461582-e569-4326-bd95-510f72edf019",
    "outputId": "28bdd090-c0ee-4baa-dc55-09e70f0ac45b"
   },
   "outputs": [
    {
     "data": {
      "text/plain": [
       "[[Document(page_content='Кошки — независимые животные, которым нужно собственное пространство.', metadata={'source': 'mammal-pets-doc'})],\n",
       " [Document(page_content='Собаки — отличные компаньоны, которые известны своей преданностью и дружелюбием.', metadata={'source': 'mammal-pets-doc'})]]"
      ]
     },
     "execution_count": 10,
     "metadata": {},
     "output_type": "execute_result"
    }
   ],
   "source": [
    "from typing import List\n",
    "\n",
    "from langchain_core.documents import Document\n",
    "from langchain_core.runnables import RunnableLambda\n",
    "\n",
    "retriever = RunnableLambda(vectorstore.similarity_search).bind(\n",
    "    k=1\n",
    ")  # выбор наиболе подходящего результата\n",
    "\n",
    "retriever.batch([\"кошка\", \"акула\"])"
   ]
  },
  {
   "cell_type": "markdown",
   "id": "a36d3f64-a8bc-4baa-b2ea-07e324a0143e",
   "metadata": {
    "id": "a36d3f64-a8bc-4baa-b2ea-07e324a0143e"
   },
   "source": [
    "Векторные хранилища предоставляют метод `as_retriever`, который создаст экземпляр класса Retriever, а именно [VectorStoreRetriever](https://api.python.langchain.com/en/latest/vectorstores/langchain_core.vectorstores.VectorStoreRetriever.html).\n",
    "Эти ретриверы включают заданные атрибуты `search_type` и `search_kwargs`, которые определяют, какие методы базового векторного хранилища вызывать и как задавать их параметры.\n",
    "Так, вы можете повторить функциональность из примера выше с помощью следующего кода:"
   ]
  },
  {
   "cell_type": "code",
   "execution_count": 11,
   "id": "4989fe5e-ac58-4751-bc35-f53ff885860c",
   "metadata": {
    "colab": {
     "base_uri": "https://localhost:8080/"
    },
    "id": "4989fe5e-ac58-4751-bc35-f53ff885860c",
    "outputId": "75fd77ad-7892-4b89-dea9-3a08b25b5a83"
   },
   "outputs": [
    {
     "data": {
      "text/plain": [
       "[[Document(page_content='Кошки — независимые животные, которым нужно собственное пространство.', metadata={'source': 'mammal-pets-doc'})],\n",
       " [Document(page_content='Собаки — отличные компаньоны, которые известны своей преданностью и дружелюбием.', metadata={'source': 'mammal-pets-doc'})]]"
      ]
     },
     "execution_count": 11,
     "metadata": {},
     "output_type": "execute_result"
    }
   ],
   "source": [
    "retriever = vectorstore.as_retriever(\n",
    "    search_type=\"similarity\",\n",
    "    search_kwargs={\"k\": 1},\n",
    ")\n",
    "\n",
    "retriever.batch([\"кошка\", \"акула\"])"
   ]
  },
  {
   "cell_type": "markdown",
   "id": "6b79ded3-39ed-4aeb-8b70-cd36795ae239",
   "metadata": {
    "id": "6b79ded3-39ed-4aeb-8b70-cd36795ae239"
   },
   "source": [
    "`VectorStoreRetriever` поддерживает типы поиска `\"similarity\"` (по умолчанию), `\"mmr\"` (maximum marginal relevance, описано выше) и `\"similarity_score_threshold\"`.\n",
    "Последний тип можно использовать для отсечки документов, выводимых ретривером, на основе оценки схожести.\n",
    "\n",
    "Ретриверы можно легко включить в более сложные RAG-приложения, которые объединяют заданный вопрос с извлеченным контекстом в промпт для модели."
   ]
  },
  {
   "cell_type": "code",
   "execution_count": 12,
   "id": "c77b68bf-59f3-4416-9877-960f934c374d",
   "metadata": {
    "id": "c77b68bf-59f3-4416-9877-960f934c374d"
   },
   "outputs": [],
   "source": [
    "# | output: false\n",
    "# | echo: false\n",
    "\n",
    "from langchain_community.chat_models.gigachat import GigaChat\n",
    "\n",
    "model = GigaChat(\n",
    "    credentials=\"<авторизационные_данные>\",\n",
    "    scope=\"GIGACHAT_API_PERS\",\n",
    "    model=\"GigaChat-Pro\",\n",
    "    verify_ssl_certs=False,\n",
    ")"
   ]
  },
  {
   "cell_type": "code",
   "execution_count": 13,
   "id": "6f1ae0d0-0b4b-4da0-80ce-f82913052a83",
   "metadata": {
    "id": "6f1ae0d0-0b4b-4da0-80ce-f82913052a83"
   },
   "outputs": [],
   "source": [
    "from langchain_core.prompts import ChatPromptTemplate\n",
    "from langchain_core.runnables import RunnablePassthrough\n",
    "\n",
    "message = \"\"\"\n",
    "Отвечай на вопросы только с помощью полученного контекста.\n",
    "\n",
    "{question}\n",
    "\n",
    "Контекст:\n",
    "{context}\n",
    "\"\"\"\n",
    "\n",
    "prompt = ChatPromptTemplate.from_messages([(\"human\", message)])\n",
    "\n",
    "rag_chain = {\"context\": retriever, \"question\": RunnablePassthrough()} | prompt | model"
   ]
  },
  {
   "cell_type": "code",
   "execution_count": 14,
   "id": "b3c0d625-61e0-492e-b3a6-c40d383fca03",
   "metadata": {
    "colab": {
     "base_uri": "https://localhost:8080/"
    },
    "id": "b3c0d625-61e0-492e-b3a6-c40d383fca03",
    "outputId": "918779de-adc9-46f2-fd5f-2b989d5fcbc4"
   },
   "outputs": [
    {
     "name": "stdout",
     "output_type": "stream",
     "text": [
      "Кошки - это независимые животные, которые нуждаются в своем собственном пространстве.\n"
     ]
    }
   ],
   "source": [
    "response = rag_chain.invoke(\"Расскажи о кошках\")\n",
    "\n",
    "print(response.content)"
   ]
  },
  {
   "cell_type": "markdown",
   "id": "3d9be7cb-2081-48a4-b6e4-d5e2d562ffd4",
   "metadata": {
    "id": "3d9be7cb-2081-48a4-b6e4-d5e2d562ffd4"
   },
   "source": [
    "## Смотрите также\n",
    "\n",
    "Стратегии извлечения данных могут быть разнообразными и сложными. Например:\n",
    "\n",
    "- [Выведение жестких правила и фильтры](/ru/gigachain/how-to/self_query) из запроса. Например, «использовать документы, опубликованные после 2020 года»;\n",
    "- [Возвращение документов, каким-то образом связанных с извлеченным контекстом](/ru/gigachain/how-to/parent_document_retriever). Например, через таксономию документов;\n",
    "- [Создание нескольких векторных представлений](/ru/gigachain/how-to/multi_vector) для каждой единицы контекста;\n",
    "- [Объединение результаты](/ru/gigachain/how-to/ensemble_retriever) от нескольких ретриверов;\n",
    "- [Управление весами документов](/ru/gigachain/how-to/time_weighted_vectorstore). Например, придание большего веса недавним документам.\n",
    "\n",
    "Раздел [Работа с ретриверами](/docs/how_to#retrievers) в руководствах по использованию охватывает эти и другие стратегии извлечения данных.\n",
    "\n",
    "Вы также можете расширить класс [BaseRetriever](https://api.python.langchain.com/en/latest/retrievers/langchain_core.retrievers.BaseRetriever.html) для реализации [собственных ретриверов](/ru/gigachain/how-to/custom_retriever)."
   ]
  }
 ],
 "metadata": {
  "colab": {
   "provenance": []
  },
  "kernelspec": {
   "display_name": "Python 3 (ipykernel)",
   "language": "python",
   "name": "python3"
  },
  "language_info": {
   "codemirror_mode": {
    "name": "ipython",
    "version": 3
   },
   "file_extension": ".py",
   "mimetype": "text/x-python",
   "name": "python",
   "nbconvert_exporter": "python",
   "pygments_lexer": "ipython3",
   "version": "3.9.6"
  }
 },
 "nbformat": 4,
 "nbformat_minor": 5
}
