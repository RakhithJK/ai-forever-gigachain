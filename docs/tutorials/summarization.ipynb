{
 "cells": [
  {
   "cell_type": "raw",
   "id": "2aca8168-62ec-4bba-93f0-73da08cd1920",
   "metadata": {},
   "source": [
    "---\n",
    "title: Summarize Text\n",
    "sidebar_class_name: hidden\n",
    "---"
   ]
  },
  {
   "cell_type": "markdown",
   "id": "cf13f702",
   "metadata": {},
   "source": [
    "# Суммаризация текста\n",
    "\n",
    "Большие языковые модели отлично подходят для генерации краткого содержания различных документов: PDF-файлов, страниц Notion, HTML-документов и других.\n",
    "\n",
    "В контексте [генерации с RAG](/docs/tutorials/rag) суммаризация текста текста помогает выделить информацию из большого количества извлеченных документов, чтобы предоставить контекст для LLM.\n",
    "\n",
    "В этом разделе вы узнаете как использовать LLM для суммаризации содержимого нескольких документов."
   ]
  },
  {
   "cell_type": "markdown",
   "id": "8e233997",
   "metadata": {},
   "source": [
    "<Image img={require('../../static/img/summarization_use_case_1.png')} alt=\"Описание изображения\" />"
   ]
  },
  {
   "cell_type": "markdown",
   "id": "cc8c5f87-3239-44e1-8772-a97cb6138cc5",
   "metadata": {},
   "source": [
    "В разделе вы найдете информацию об:\n",
    "\n",
    "- использовании [языковых моделей](/docs/concepts/#chat-models).\n",
    "\n",
    "- использовании [загрузчиков документов](/docs/concepts/#document-loaders). В частности [WebBaseLoader](https://api.python.langchain.com/en/latest/document_loaders/langchain_community.document_loaders.web_base.WebBaseLoader.html) для загрузки содержимого HTML-страницы.\n",
    "\n",
    "- трех способах суммаризации или комбинирования документов:\n",
    "\n",
    "  - [Stuff](/docs/tutorials/summarization#stuff) — простое объединение документов в один промпт;\n",
    "  - [Map-reduce](/docs/tutorials/summarization#map-reduce) — разделение документов на группы, суммаризация документов и генерация краткого содержания результатов суммаризации;\n",
    "  - [Refine](/docs/tutorials/summarization#refine) — обновляет текущего результата суммаризации, по мере последовательной обработки документов.\n",
    "\n",
    "\n",
    "## Подготовка\n",
    "\n",
    "### Jupyter\n",
    "\n",
    "Как и многие другие руководства в документации GigaChain это руководство основано на [блокноте Jupyter](https://jupyter.org/).\n",
    "Блокноты предоставляют интерактивность, которая значительно упрощает изучение работы с LLM.\n",
    "\n",
    "Об установке Jupyter читайте в [официальной документации](https://jupyter.org/install).\n",
    "\n",
    "### Установка Зависимостей\n",
    "\n",
    "В примере используются модели GigaChat (чат-модель и эмбеддинги), а также векторное хранилище Chroma, но в своем приложении вы можете использовать любой из доступных компонентов.\n",
    "\n",
    "Для работы с примером нужно установить пакеты:\n",
    "\n",
    "```python\n",
    "%pip install --upgrade --quiet  gigachain langchainhub chromadb bs4\n",
    "```\n",
    "\n",
    "Подробнее об установке — в разделе [Установка GigaChain](/docs/how_to/installation)\n",
    "\n",
    "<!--\n",
    "### LangSmith\n",
    "\n",
    "Many of the applications you build with LangChain will contain multiple steps with multiple invocations of LLM calls.\n",
    "As these applications get more and more complex, it becomes crucial to be able to inspect what exactly is going on inside your chain or agent.\n",
    "The best way to do this is with [LangSmith](https://smith.langchain.com).\n",
    "\n",
    "After you sign up at the link above, make sure to set your environment variables to start logging traces:\n",
    "\n",
    "```shell\n",
    "export LANGCHAIN_TRACING_V2=\"true\"\n",
    "export LANGCHAIN_API_KEY=\"...\"\n",
    "```\n",
    "\n",
    "Or, if in a notebook, you can set them with:\n",
    "\n",
    "```python\n",
    "import getpass\n",
    "import os\n",
    "\n",
    "os.environ[\"LANGCHAIN_TRACING_V2\"] = \"true\"\n",
    "os.environ[\"LANGCHAIN_API_KEY\"] = getpass.getpass()\n",
    "```\n",
    "-->"
   ]
  },
  {
   "cell_type": "markdown",
   "id": "4715b4ff",
   "metadata": {},
   "source": [
    "## Обзор\n",
    "\n",
    "Главным вопросом вопрос при создании суммаризатора заключается в том, как передать документы в контекстное окно LLM.\n",
    "Для решения этой задачи существует три распространенных подхода:\n",
    "\n",
    "- `Stuff`. Просто поместите все свои документы в один промпт. Это самый простой подход. Для реализации этого способа используется конструктор `create_stuff_documents_chain`. Подробнее — в разделе [Встроенные цепочки](/docs/tutorials/rag#built-in-chains).\n",
    "\n",
    "- `Map-reduce`. Сначала суммируйте каждый документ по отдельности на этапе *map*, а затем создайте краткое содержание итогом суммаризации на этапе о *reduce*. Для реализации этого способа используется класс  [`MapReduceDocumentsChain`](https://api.python.langchain.com/en/latest/chains/langchain.chains.combine_documents.map_reduce.MapReduceDocumentsChain.html).\n",
    "\n",
    "- `Refine`. Обновляйте текущий результат суммаризации, последовательно обрабатывая документы."
   ]
  },
  {
   "cell_type": "markdown",
   "id": "08ec66bc",
   "metadata": {},
   "source": [
    "<Image img={require('../../static/img/summarization_use_case_2.png')} alt=\"Описание изображения\" />"
   ]
  },
  {
   "cell_type": "markdown",
   "id": "bea785ac",
   "metadata": {},
   "source": [
    "## Быстрый старт\n",
    "\n",
    "Любую из этих цепочек можно обернуть в один объект: `load_summarize_chain`.\n",
    "Это позволит получить общее представление об итоговом решении.\n",
    "\n",
    "Предположим, вы хотите получить краткое содержание записи в блоге.\n",
    "Это можно сделать в несколько строк кода.\n",
    "\n",
    "Установите переменные окружения и пакеты:"
   ]
  },
  {
   "cell_type": "code",
   "execution_count": null,
   "id": "928585ec-6f6f-4b67-b2c8-0fc87186342b",
   "metadata": {},
   "outputs": [],
   "source": [
    "%pip install --upgrade --quiet  langchain-openai tiktoken chromadb langchain\n",
    "\n",
    "# Установите переменную окружения OPENAI_API_KEY или загрузите из файла .env\n",
    "# import dotenv\n",
    "\n",
    "# dotenv.load_dotenv()"
   ]
  },
  {
   "cell_type": "markdown",
   "id": "36138740",
   "metadata": {},
   "source": [
    "Вы можете использовать `chain_type=\"stuff\"`, особенно при работе с моделями с большим контекстным окном:\n",
    "\n",
    "* 128k токенов OpenAI `gpt-4-turbo-2024-04-09` \n",
    "* 200k токенов Anthropic `claude-3-sonnet-20240229`\n",
    "\n",
    "Вы также можете использовать `chain_type=\"map_reduce\"` или `chain_type=\"refine\"`.\n",
    "\n",
    "Загрузите запись из блога с помощью загрузчика [WebBaseLoader](https://api.python.langchain.com/en/latest/document_loaders/langchain_community.document_loaders.web_base.WebBaseLoader.html):"
   ]
  },
  {
   "cell_type": "code",
   "execution_count": 2,
   "id": "d6276d52-d33f-4b6a-aae3-2682df9eb8a7",
   "metadata": {},
   "outputs": [],
   "source": [
    "import os\n",
    "\n",
    "os.environ[\"LANGCHAIN_TRACING_V2\"] = \"True\""
   ]
  },
  {
   "cell_type": "code",
   "execution_count": 1,
   "id": "23154e97-c4cb-4bcb-a742-f0c9d06639da",
   "metadata": {},
   "outputs": [
    {
     "name": "stdout",
     "output_type": "stream",
     "text": [
      "The article discusses the concept of LLM-powered autonomous agents, with a focus on the components of planning, memory, and tool use. It includes case studies and proof-of-concept examples, as well as challenges and references to related research. The author emphasizes the potential of LLMs in creating powerful problem-solving agents, while also highlighting limitations such as finite context length and reliability of natural language interfaces.\n"
     ]
    }
   ],
   "source": [
    "from langchain.chains.summarize import load_summarize_chain\n",
    "from langchain_community.document_loaders import WebBaseLoader\n",
    "from langchain_openai import ChatOpenAI\n",
    "\n",
    "loader = WebBaseLoader(\"https://lilianweng.github.io/posts/2023-06-23-agent/\")\n",
    "docs = loader.load()\n",
    "\n",
    "llm = ChatOpenAI(temperature=0, model_name=\"gpt-3.5-turbo-1106\")\n",
    "chain = load_summarize_chain(llm, chain_type=\"stuff\")\n",
    "\n",
    "result = chain.invoke(docs)\n",
    "\n",
    "print(result[\"output_text\"])"
   ]
  },
  {
   "cell_type": "markdown",
   "id": "615b36e1",
   "metadata": {},
   "source": [
    "## Первый способ — Stuff {#stuff}\n",
    "\n",
    "При работе `load_summarize_chain` с типом `chain_type=\"stuff\"`  используется класс [StuffDocumentsChain](https://api.python.langchain.com/en/latest/chains/langchain.chains.combine_documents.stuff.StuffDocumentsChain.html#langchain.chains.combine_documents.stuff.StuffDocumentsChain).\n",
    "\n",
    "Цепочка возьмет список документов, вставит их все в один промпт и передаст этот промпт LLM:"
   ]
  },
  {
   "cell_type": "code",
   "execution_count": 4,
   "id": "ef45585d",
   "metadata": {},
   "outputs": [
    {
     "name": "stdout",
     "output_type": "stream",
     "text": [
      "The article discusses the concept of building autonomous agents powered by large language models (LLMs). It explores the components of such agents, including planning, memory, and tool use. The article provides case studies and examples of proof-of-concept demos, highlighting the challenges and limitations of LLM-powered agents. It also includes references to related research papers and projects.\n"
     ]
    }
   ],
   "source": [
    "from langchain.chains.combine_documents.stuff import StuffDocumentsChain\n",
    "from langchain.chains.llm import LLMChain\n",
    "from langchain_core.prompts import PromptTemplate\n",
    "\n",
    "# Define prompt\n",
    "prompt_template = \"\"\"Write a concise summary of the following:\n",
    "\"{text}\"\n",
    "CONCISE SUMMARY:\"\"\"\n",
    "prompt = PromptTemplate.from_template(prompt_template)\n",
    "\n",
    "# Define LLM chain\n",
    "llm = ChatOpenAI(temperature=0, model_name=\"gpt-3.5-turbo-16k\")\n",
    "llm_chain = LLMChain(llm=llm, prompt=prompt)\n",
    "\n",
    "# Define StuffDocumentsChain\n",
    "stuff_chain = StuffDocumentsChain(llm_chain=llm_chain, document_variable_name=\"text\")\n",
    "\n",
    "docs = loader.load()\n",
    "print(stuff_chain.invoke(docs)[\"output_text\"])"
   ]
  },
  {
   "cell_type": "markdown",
   "id": "4e4e4a43",
   "metadata": {},
   "source": [
    "В примере выше получается такой же результат как и при использовании `load_summarize_chain`.\n",
    "\n",
    ":::tip\n",
    "\n",
    "* Вы можете легко изменять промпт.\n",
    "* С помощью параметра `llm` вы можете легко попробовать разные LLM, например, [Claude](/docs/integrations/chat/anthropic).\n",
    "\n",
    ":::"
   ]
  },
  {
   "cell_type": "markdown",
   "id": "ad6cabee",
   "metadata": {},
   "source": [
    "## Второй способ — Map-Reduce {#map-reduce}\n",
    "\n",
    "В этом способе вам сначала нужно с помощью `LLMChain` сопоставить каждый документ с результатами его суммаризации.\n",
    "После чего использовать `ReduceDocumentsChain`, чтобы объединить все результаты в одно общее резюме.\n",
    "\n",
    "Задайте цепочку LLMChain, которая будет сопоставлять каждый документ со своей суммаризацией:"
   ]
  },
  {
   "cell_type": "code",
   "execution_count": 5,
   "id": "a1e6773c",
   "metadata": {},
   "outputs": [],
   "source": [
    "from langchain.chains import MapReduceDocumentsChain, ReduceDocumentsChain\n",
    "from langchain_text_splitters import CharacterTextSplitter\n",
    "\n",
    "llm = ChatOpenAI(temperature=0)\n",
    "\n",
    "# Map\n",
    "map_template = \"\"\"The following is a set of documents\n",
    "{docs}\n",
    "Based on this list of docs, please identify the main themes \n",
    "Helpful Answer:\"\"\"\n",
    "map_prompt = PromptTemplate.from_template(map_template)\n",
    "map_chain = LLMChain(llm=llm, prompt=map_prompt)"
   ]
  },
  {
   "cell_type": "markdown",
   "id": "272ce8ce-919d-4ded-bbd5-a53a8a30bc66",
   "metadata": {},
   "source": [
    "<!--\n",
    "Мы также можем использовать Prompt Hub для хранения и получения промптов.\n",
    "\n",
    "\n",
    "Это будет работать с вашим [ключом API LangSmith](https://docs.smith.langchain.com/).\n",
    "\n",
    "Например, см. пример промпта map [здесь](https://smith.langchain.com/hub/rlm/map-prompt).\n",
    "-->"
   ]
  },
  {
   "cell_type": "code",
   "execution_count": 6,
   "id": "ce48b805-d98b-4e0f-8b9e-3b3e72cad3d3",
   "metadata": {},
   "outputs": [],
   "source": [
    "from langchain import hub\n",
    "\n",
    "map_prompt = hub.pull(\"rlm/map-prompt\")\n",
    "map_chain = LLMChain(llm=llm, prompt=map_prompt)"
   ]
  },
  {
   "cell_type": "markdown",
   "id": "bee3c331",
   "metadata": {},
   "source": [
    "Цепочка `ReduceDocumentsChain` обрабатывает результаты сопоставления документов и их краткого содержания до одного вывода.\n",
    "Она оборачивает стандартную цепочку `CombineDocumentsChain` (например, `StuffDocumentsChain`) и добавляет возможность свернуть документы перед передачей их в `CombineDocumentsChain`, если их суммарный размер превышает `token_max`.\n",
    "В этом примере вы сможете переиспользовать цепочку объединения документов `ReduceDocumentsChain`, чтобы также сворачивать их.\n",
    "\n",
    "Таким образом, если суммарное количество токенов в сопоставленных документах превышает 4000 токенов, вы будете рекурсивно передавать документы группами не более 4000 токенов в цепочку `StuffDocumentsChain` для создания для создания суммарзации каждой из групп.\n",
    "И как только результаты суммаризации каждой из групп в сумме будут меньше 4000 токенов, вы передадите их все в последний раз в `StuffDocumentsChain` для создания итогового краткого содержания."
   ]
  },
  {
   "cell_type": "code",
   "execution_count": 7,
   "id": "6a718890-99ab-439a-8f79-b9ae9c58ad24",
   "metadata": {},
   "outputs": [],
   "source": [
    "# Reduce\n",
    "reduce_template = \"\"\"The following is set of summaries:\n",
    "{docs}\n",
    "Take these and distill it into a final, consolidated summary of the main themes. \n",
    "Helpful Answer:\"\"\"\n",
    "reduce_prompt = PromptTemplate.from_template(reduce_template)"
   ]
  },
  {
   "cell_type": "code",
   "execution_count": 8,
   "id": "f189184a-673e-4530-8a6b-57b091045d87",
   "metadata": {},
   "outputs": [],
   "source": [
    "# Обратите внимание, что мы также можем получить это из Prompt Hub, как указано выше\n",
    "reduce_prompt = hub.pull(\"rlm/reduce-prompt\")"
   ]
  },
  {
   "cell_type": "code",
   "execution_count": 9,
   "id": "c9d1da97-d590-4a96-82b2-8002d27fd7f6",
   "metadata": {},
   "outputs": [
    {
     "data": {
      "text/plain": [
       "ChatPromptTemplate(input_variables=['docs'], metadata={'lc_hub_owner': 'rlm', 'lc_hub_repo': 'map-prompt', 'lc_hub_commit_hash': 'de4fba345f211a462584fc25b7077e69c1ba6cdcf4e21b7ec9abe457ddb16c87'}, messages=[HumanMessagePromptTemplate(prompt=PromptTemplate(input_variables=['docs'], template='The following is a set of documents:\\n{docs}\\nBased on this list of docs, please identify the main themes \\nHelpful Answer:'))])"
      ]
     },
     "execution_count": 9,
     "metadata": {},
     "output_type": "execute_result"
    }
   ],
   "source": [
    "reduce_prompt"
   ]
  },
  {
   "cell_type": "code",
   "execution_count": 11,
   "id": "1edb1b0d",
   "metadata": {},
   "outputs": [],
   "source": [
    "# Запуск цепочки\n",
    "reduce_chain = LLMChain(llm=llm, prompt=reduce_prompt)\n",
    "\n",
    "# Получение на вход списка документов\n",
    "# объединение их в одну строку\n",
    "# передача строки в цепочку LLMChain\n",
    "combine_documents_chain = StuffDocumentsChain(\n",
    "    llm_chain=reduce_chain, document_variable_name=\"docs\"\n",
    ")\n",
    "\n",
    "# Объединение и итеративное уменьшение сопоставленных документов\n",
    "reduce_documents_chain = ReduceDocumentsChain(\n",
    "    # Итоговая цепочка, которая\n",
    "    combine_documents_chain=combine_documents_chain,\n",
    "    # вызывается если документы превышают контекст `StuffDocumentsChain`\n",
    "    collapse_documents_chain=combine_documents_chain,\n",
    "    # Колчичество токенов, которое ограничивает размер группы документов.\n",
    "    token_max=4000,\n",
    ")"
   ]
  },
  {
   "cell_type": "markdown",
   "id": "fdb5ae1a",
   "metadata": {},
   "source": [
    "Объединение сопоставленных элементов и сокращение до одной цепочки."
   ]
  },
  {
   "cell_type": "code",
   "execution_count": 12,
   "id": "22f1cdc2",
   "metadata": {},
   "outputs": [
    {
     "name": "stderr",
     "output_type": "stream",
     "text": [
      "Created a chunk of size 1003, which is longer than the specified 1000\n"
     ]
    }
   ],
   "source": [
    "# Combining documents by mapping a chain over them, then combining results\n",
    "map_reduce_chain = MapReduceDocumentsChain(\n",
    "    # Map chain\n",
    "    llm_chain=map_chain,\n",
    "    # Reduce chain\n",
    "    reduce_documents_chain=reduce_documents_chain,\n",
    "    # The variable name in the llm_chain to put the documents in\n",
    "    document_variable_name=\"docs\",\n",
    "    # Return the results of the map steps in the output\n",
    "    return_intermediate_steps=False,\n",
    ")\n",
    "\n",
    "text_splitter = CharacterTextSplitter.from_tiktoken_encoder(\n",
    "    chunk_size=1000, chunk_overlap=0\n",
    ")\n",
    "split_docs = text_splitter.split_documents(docs)"
   ]
  },
  {
   "cell_type": "code",
   "execution_count": 16,
   "id": "d7e53f93-c5aa-456a-85f4-a6b3301a34ed",
   "metadata": {},
   "outputs": [
    {
     "name": "stdout",
     "output_type": "stream",
     "text": [
      "The main themes identified in the list of documents provided are related to large language models (LLMs), autonomous agents, prompting, steering language models, natural language processing (NLP), the use of tools to augment language models, reinforcement learning, reasoning, acting, self-reflection, and the integration of language models with external knowledge sources.\n"
     ]
    }
   ],
   "source": [
    "result = map_reduce_chain.invoke(split_docs)\n",
    "\n",
    "print(result[\"output_text\"])"
   ]
  },
  {
   "cell_type": "markdown",
   "id": "e62c21cf",
   "metadata": {},
   "source": [
    "<!--\n",
    "Если мы следуем по [Langsmith Trace](https://smith.langchain.com/public/3a1a6d51-68e5-4805-8d90-78920ce60a51/r), мы можем увидеть индивидуальные суммирования LLM, включая [финальный вызов](https://smith.langchain.com/public/69482813-f0b7-46b0-a99f-86d56fc9644a/r), который суммирует все резюме.\n",
    "\n",
    "### Углубимся\n",
    "\n",
    "**Кастомизация**\n",
    "\n",
    "* Как показано выше, вы можете настраивать LLM и промпты для этапов map и reduce.\n",
    "\n",
    "**Практическое применение**\n",
    "\n",
    "* См. [этот блог-пост](https://blog.langchain.dev/llms-to-improve-documentation/) с кейс-стади по анализу взаимодействий пользователей (вопросы о документации LangChain)!  \n",
    "* Блог-пост и связанный [репозиторий](https://github.com/mendableai/QA_clustering) также вводят кластеризацию как способ суммирования.\n",
    "* Это открывает еще один путь, помимо подходов `stuff` или `map-reduce`, который стоит рассмотреть.\n",
    "-->\n",
    "\n",
    "<Image img={require('../../static/img/summarization_use_case_3.png')} alt=\"Описание изображения\" />"
   ]
  },
  {
   "cell_type": "markdown",
   "id": "f08ff365",
   "metadata": {},
   "source": [
    "## Третий способ — Refine {#refine}\n",
    "\n",
    "Цепочка [RefineDocumentsChain](https://api.python.langchain.com/en/latest/chains/langchain.chains.combine_documents.refine.RefineDocumentsChain.html) похожа на способ map-reduce:\n",
    "\n",
    "Цепочка `refine documents` создает ответ, перебирая входные документы и итеративно обновляя созданный ответ.\n",
    "Для каждого документа она передает входные данные, текущий документ и последнее промежуточный ответ в цепочку LLM для получения нового ответа.\n",
    "\n",
    "Для этого укажите тип `chain_type=\"refine\"`."
   ]
  },
  {
   "cell_type": "code",
   "execution_count": 21,
   "id": "de1dc10e",
   "metadata": {},
   "outputs": [
    {
     "name": "stdout",
     "output_type": "stream",
     "text": [
      "The existing summary provides detailed instructions for implementing a project's architecture through code, focusing on creating core classes, functions, and methods in different files following best practices for the chosen language and framework. Assumptions about the model, view, and controller components are also outlined. The additional context highlights challenges in long-term planning and task decomposition, as well as the reliability issues with natural language interfaces in LLM-powered autonomous agents. These insights shed light on the limitations and potential pitfalls of using LLMs in agent systems, with references to recent research on LLM-powered autonomous agents and related technologies.\n"
     ]
    }
   ],
   "source": [
    "chain = load_summarize_chain(llm, chain_type=\"refine\")\n",
    "result = chain.invoke(split_docs)\n",
    "\n",
    "print(result[\"output_text\"])"
   ]
  },
  {
   "cell_type": "markdown",
   "id": "b5dc3052-5873-4ef2-b633-3709ede4131a",
   "metadata": {},
   "source": [
    "<!--\n",
    "Following the [Langsmith trace](https://smith.langchain.com/public/38017fa7-b190-4635-992c-e8554227a4bb/r), we can see the summaries iteratively updated with new information.\n",
    "-->"
   ]
  },
  {
   "cell_type": "markdown",
   "id": "5b46f44d",
   "metadata": {},
   "source": [
    "Вы также можете передать промпт и вернуть промежуточные шаги."
   ]
  },
  {
   "cell_type": "code",
   "execution_count": 22,
   "id": "cc931bde-8258-4d10-8479-f2d2d69f49f4",
   "metadata": {},
   "outputs": [
    {
     "name": "stderr",
     "output_type": "stream",
     "text": [
      "/Users/chestercurme/repos/langchain/libs/core/langchain_core/_api/deprecation.py:119: LangChainDeprecationWarning: The method `Chain.__call__` was deprecated in langchain 0.1.0 and will be removed in 0.2.0. Use invoke instead.\n",
      "  warn_deprecated(\n"
     ]
    }
   ],
   "source": [
    "prompt_template = \"\"\"Write a concise summary of the following:\n",
    "{text}\n",
    "CONCISE SUMMARY:\"\"\"\n",
    "prompt = PromptTemplate.from_template(prompt_template)\n",
    "\n",
    "refine_template = (\n",
    "    \"Your job is to produce a final summary\\n\"\n",
    "    \"We have provided an existing summary up to a certain point: {existing_answer}\\n\"\n",
    "    \"We have the opportunity to refine the existing summary\"\n",
    "    \"(only if needed) with some more context below.\\n\"\n",
    "    \"------------\\n\"\n",
    "    \"{text}\\n\"\n",
    "    \"------------\\n\"\n",
    "    \"Given the new context, refine the original summary in Italian\"\n",
    "    \"If the context isn't useful, return the original summary.\"\n",
    ")\n",
    "refine_prompt = PromptTemplate.from_template(refine_template)\n",
    "chain = load_summarize_chain(\n",
    "    llm=llm,\n",
    "    chain_type=\"refine\",\n",
    "    question_prompt=prompt,\n",
    "    refine_prompt=refine_prompt,\n",
    "    return_intermediate_steps=True,\n",
    "    input_key=\"input_documents\",\n",
    "    output_key=\"output_text\",\n",
    ")\n",
    "result = chain({\"input_documents\": split_docs}, return_only_outputs=True)"
   ]
  },
  {
   "cell_type": "code",
   "execution_count": 14,
   "id": "f86c8072",
   "metadata": {},
   "outputs": [],
   "source": [
    "prompt_template = \"\"\"Write a concise summary of the following:\n",
    "{text}\n",
    "CONCISE SUMMARY:\"\"\"\n",
    "prompt = PromptTemplate.from_template(prompt_template)\n",
    "\n",
    "refine_template = (\n",
    "    \"Your job is to produce a final summary\\n\"\n",
    "    \"We have provided an existing summary up to a certain point: {existing_answer}\\n\"\n",
    "    \"We have the opportunity to refine the existing summary\"\n",
    "    \"(only if needed) with some more context below.\\n\"\n",
    "    \"------------\\n\"\n",
    "    \"{text}\\n\"\n",
    "    \"------------\\n\"\n",
    "    \"Given the new context, refine the original summary in Italian\"\n",
    "    \"If the context isn't useful, return the original summary.\"\n",
    ")\n",
    "refine_prompt = PromptTemplate.from_template(refine_template)\n",
    "chain = load_summarize_chain(\n",
    "    llm=llm,\n",
    "    chain_type=\"refine\",\n",
    "    question_prompt=prompt,\n",
    "    refine_prompt=refine_prompt,\n",
    "    return_intermediate_steps=True,\n",
    "    input_key=\"input_documents\",\n",
    "    output_key=\"output_text\",\n",
    ")\n",
    "result = chain.invoke({\"input_documents\": split_docs}, return_only_outputs=True)"
   ]
  },
  {
   "cell_type": "code",
   "execution_count": 15,
   "id": "d9600b67-79d4-4f85-aba2-9fe81fa29f49",
   "metadata": {},
   "outputs": [
    {
     "name": "stdout",
     "output_type": "stream",
     "text": [
      "Il presente articolo discute il concetto di costruire agenti autonomi utilizzando LLM (large language model) come controller principale. Esplora i diversi componenti di un sistema di agenti alimentato da LLM, tra cui la pianificazione, la memoria e l'uso degli strumenti. Dimostrazioni di concetto come AutoGPT mostrano il potenziale di LLM come risolutore generale di problemi. Approcci come Chain of Thought, Tree of Thoughts, LLM+P, ReAct e Reflexion consentono agli agenti autonomi di pianificare, riflettere su se stessi e migliorarsi iterativamente. Tuttavia, ci sono sfide da affrontare, come la limitata capacità di contesto che limita l'inclusione di informazioni storiche dettagliate e la difficoltà di pianificazione a lungo termine e decomposizione delle attività. Inoltre, l'affidabilità dell'interfaccia di linguaggio naturale tra LLM e componenti esterni come la memoria e gli strumenti è incerta, poiché i LLM possono commettere errori di formattazione e mostrare comportamenti ribelli. Nonostante ciò, il sistema AutoGPT viene menzionato come esempio di dimostrazione di concetto che utilizza LLM come controller principale per agenti autonomi. Questo articolo fa riferimento a diverse fonti che esplorano approcci e applicazioni specifiche di LLM nell'ambito degli agenti autonomi.\n"
     ]
    }
   ],
   "source": [
    "print(result[\"output_text\"])"
   ]
  },
  {
   "cell_type": "code",
   "execution_count": 16,
   "id": "5f91a8eb-daa5-4191-ace4-01765801db3e",
   "metadata": {},
   "outputs": [
    {
     "name": "stdout",
     "output_type": "stream",
     "text": [
      "This article discusses the concept of building autonomous agents using LLM (large language model) as the core controller. The article explores the different components of an LLM-powered agent system, including planning, memory, and tool use. It also provides examples of proof-of-concept demos and highlights the potential of LLM as a general problem solver.\n",
      "\n",
      "Questo articolo discute del concetto di costruire agenti autonomi utilizzando LLM (large language model) come controller principale. L'articolo esplora i diversi componenti di un sistema di agenti alimentato da LLM, inclusa la pianificazione, la memoria e l'uso degli strumenti. Vengono forniti anche esempi di dimostrazioni di proof-of-concept e si evidenzia il potenziale di LLM come risolutore generale di problemi. Inoltre, vengono presentati approcci come Chain of Thought, Tree of Thoughts, LLM+P, ReAct e Reflexion che consentono agli agenti autonomi di pianificare, riflettere su se stessi e migliorare iterativamente.\n",
      "\n",
      "Questo articolo discute del concetto di costruire agenti autonomi utilizzando LLM (large language model) come controller principale. L'articolo esplora i diversi componenti di un sistema di agenti alimentato da LLM, inclusa la pianificazione, la memoria e l'uso degli strumenti. Vengono forniti anche esempi di dimostrazioni di proof-of-concept e si evidenzia il potenziale di LLM come risolutore generale di problemi. Inoltre, vengono presentati approcci come Chain of Thought, Tree of Thoughts, LLM+P, ReAct e Reflexion che consentono agli agenti autonomi di pianificare, riflettere su se stessi e migliorare iterativamente. Il nuovo contesto riguarda l'approccio Chain of Hindsight (CoH) che permette al modello di migliorare autonomamente i propri output attraverso un processo di apprendimento supervisionato. Viene anche presentato l'approccio Algorithm Distillation (AD) che applica lo stesso concetto alle traiettorie di apprendimento per compiti di reinforcement learning.\n"
     ]
    }
   ],
   "source": [
    "print(\"\\n\\n\".join(result[\"intermediate_steps\"][:3]))"
   ]
  },
  {
   "cell_type": "markdown",
   "id": "0d8a8398-a43c-4f14-933c-c0743ae6ec40",
   "metadata": {},
   "source": [
    "## Разделение и суммаризация в одной цепочке\n",
    "\n",
    "Для удобства вы можете обернуть разделение текста длинного документа и его уммаризацию в одной цепочке `AnalyzeDocumentsChain`."
   ]
  },
  {
   "cell_type": "code",
   "execution_count": null,
   "id": "0ddd522e-30dc-4f6a-b993-c4f97e656c4f",
   "metadata": {},
   "outputs": [],
   "source": [
    "from langchain.chains import AnalyzeDocumentChain\n",
    "\n",
    "summarize_document_chain = AnalyzeDocumentChain(\n",
    "    combine_docs_chain=chain, text_splitter=text_splitter\n",
    ")\n",
    "summarize_document_chain.invoke(docs[0].page_content)"
   ]
  },
  {
   "cell_type": "markdown",
   "id": "a41e4a81-3e26-4753-95bd-f80633620121",
   "metadata": {},
   "source": [
    "## Смотрите также\n",
    "\n",
    "- [Работа с загрузчиками документов](/docs/how_to/#document-loaders)\n",
    "- [Работа с разделителями текста](/docs/how_to/#text-splitters)\n",
    "- [Создание RAG-приложения](/docs/tutorials/rag/)\n",
    "- [Поиск в чат-боте](/docs/how_to/chatbots_retrieval/)"
   ]
  }
 ],
 "metadata": {
  "kernelspec": {
   "display_name": "Python 3 (ipykernel)",
   "language": "python",
   "name": "python3"
  },
  "language_info": {
   "codemirror_mode": {
    "name": "ipython",
    "version": 3
   },
   "file_extension": ".py",
   "mimetype": "text/x-python",
   "name": "python",
   "nbconvert_exporter": "python",
   "pygments_lexer": "ipython3",
   "version": "3.10.4"
  }
 },
 "nbformat": 4,
 "nbformat_minor": 5
}
